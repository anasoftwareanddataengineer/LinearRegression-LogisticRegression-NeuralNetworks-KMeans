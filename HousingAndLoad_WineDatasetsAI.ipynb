{
  "nbformat": 4,
  "nbformat_minor": 0,
  "metadata": {
    "colab": {
      "name": "AnaVesic2018230140AIFE.ipynb",
      "provenance": [],
      "collapsed_sections": []
    },
    "kernelspec": {
      "display_name": "Python 3",
      "name": "python3"
    }
  },
  "cells": [
    {
      "cell_type": "code",
      "metadata": {
        "id": "AFjUFQmn4OAA"
      },
      "source": [
        "import numpy as np\r\n",
        "import matplotlib.pyplot as plt\r\n",
        "%matplotlib inline\r\n",
        "import pandas as pd\r\n",
        "from sklearn.model_selection import train_test_split\r\n",
        "from sklearn.linear_model import LogisticRegression"
      ],
      "execution_count": 1,
      "outputs": []
    },
    {
      "cell_type": "markdown",
      "metadata": {
        "id": "RmmQLpnSz5kN"
      },
      "source": [
        "#Linear Regression - Single feature"
      ]
    },
    {
      "cell_type": "code",
      "metadata": {
        "id": "325M6oy74TEt"
      },
      "source": [
        "dataset = pd.read_csv(\"/content/drive/MyDrive/Colab Notebooks/housing.csv\")"
      ],
      "execution_count": null,
      "outputs": []
    },
    {
      "cell_type": "code",
      "metadata": {
        "colab": {
          "base_uri": "https://localhost:8080/",
          "height": 204
        },
        "id": "1aAYok-P6xh-",
        "outputId": "5562aad4-9c3a-4ba8-cb2e-070840d3d040"
      },
      "source": [
        "dataset.head()"
      ],
      "execution_count": null,
      "outputs": [
        {
          "output_type": "execute_result",
          "data": {
            "text/html": [
              "<div>\n",
              "<style scoped>\n",
              "    .dataframe tbody tr th:only-of-type {\n",
              "        vertical-align: middle;\n",
              "    }\n",
              "\n",
              "    .dataframe tbody tr th {\n",
              "        vertical-align: top;\n",
              "    }\n",
              "\n",
              "    .dataframe thead th {\n",
              "        text-align: right;\n",
              "    }\n",
              "</style>\n",
              "<table border=\"1\" class=\"dataframe\">\n",
              "  <thead>\n",
              "    <tr style=\"text-align: right;\">\n",
              "      <th></th>\n",
              "      <th>longitude</th>\n",
              "      <th>latitude</th>\n",
              "      <th>housing_median_age</th>\n",
              "      <th>total_rooms</th>\n",
              "      <th>total_bedrooms</th>\n",
              "      <th>population</th>\n",
              "      <th>households</th>\n",
              "      <th>median_income</th>\n",
              "      <th>median_house_value</th>\n",
              "      <th>ocean_proximity</th>\n",
              "    </tr>\n",
              "  </thead>\n",
              "  <tbody>\n",
              "    <tr>\n",
              "      <th>0</th>\n",
              "      <td>-122.23</td>\n",
              "      <td>37.88</td>\n",
              "      <td>41.0</td>\n",
              "      <td>880.0</td>\n",
              "      <td>129.0</td>\n",
              "      <td>322.0</td>\n",
              "      <td>126.0</td>\n",
              "      <td>8.3252</td>\n",
              "      <td>452600.0</td>\n",
              "      <td>NEAR BAY</td>\n",
              "    </tr>\n",
              "    <tr>\n",
              "      <th>1</th>\n",
              "      <td>-122.22</td>\n",
              "      <td>37.86</td>\n",
              "      <td>21.0</td>\n",
              "      <td>7099.0</td>\n",
              "      <td>1106.0</td>\n",
              "      <td>2401.0</td>\n",
              "      <td>1138.0</td>\n",
              "      <td>8.3014</td>\n",
              "      <td>358500.0</td>\n",
              "      <td>NEAR BAY</td>\n",
              "    </tr>\n",
              "    <tr>\n",
              "      <th>2</th>\n",
              "      <td>-122.24</td>\n",
              "      <td>37.85</td>\n",
              "      <td>52.0</td>\n",
              "      <td>1467.0</td>\n",
              "      <td>190.0</td>\n",
              "      <td>496.0</td>\n",
              "      <td>177.0</td>\n",
              "      <td>7.2574</td>\n",
              "      <td>352100.0</td>\n",
              "      <td>NEAR BAY</td>\n",
              "    </tr>\n",
              "    <tr>\n",
              "      <th>3</th>\n",
              "      <td>-122.25</td>\n",
              "      <td>37.85</td>\n",
              "      <td>52.0</td>\n",
              "      <td>1274.0</td>\n",
              "      <td>235.0</td>\n",
              "      <td>558.0</td>\n",
              "      <td>219.0</td>\n",
              "      <td>5.6431</td>\n",
              "      <td>341300.0</td>\n",
              "      <td>NEAR BAY</td>\n",
              "    </tr>\n",
              "    <tr>\n",
              "      <th>4</th>\n",
              "      <td>-122.25</td>\n",
              "      <td>37.85</td>\n",
              "      <td>52.0</td>\n",
              "      <td>1627.0</td>\n",
              "      <td>280.0</td>\n",
              "      <td>565.0</td>\n",
              "      <td>259.0</td>\n",
              "      <td>3.8462</td>\n",
              "      <td>342200.0</td>\n",
              "      <td>NEAR BAY</td>\n",
              "    </tr>\n",
              "  </tbody>\n",
              "</table>\n",
              "</div>"
            ],
            "text/plain": [
              "   longitude  latitude  ...  median_house_value  ocean_proximity\n",
              "0    -122.23     37.88  ...            452600.0         NEAR BAY\n",
              "1    -122.22     37.86  ...            358500.0         NEAR BAY\n",
              "2    -122.24     37.85  ...            352100.0         NEAR BAY\n",
              "3    -122.25     37.85  ...            341300.0         NEAR BAY\n",
              "4    -122.25     37.85  ...            342200.0         NEAR BAY\n",
              "\n",
              "[5 rows x 10 columns]"
            ]
          },
          "metadata": {
            "tags": []
          },
          "execution_count": 5
        }
      ]
    },
    {
      "cell_type": "code",
      "metadata": {
        "colab": {
          "base_uri": "https://localhost:8080/"
        },
        "id": "jhHJknX8VW63",
        "outputId": "fa0012ed-4d87-483f-9535-3d14a38b057e"
      },
      "source": [
        "from google.colab import drive\n",
        "drive.mount('/content/drive')"
      ],
      "execution_count": null,
      "outputs": [
        {
          "output_type": "stream",
          "text": [
            "Mounted at /content/drive\n"
          ],
          "name": "stdout"
        }
      ]
    },
    {
      "cell_type": "code",
      "metadata": {
        "colab": {
          "base_uri": "https://localhost:8080/",
          "height": 328
        },
        "id": "5G1MbSHJ-MYa",
        "outputId": "a28be5ae-fc59-416e-f272-215bac761710"
      },
      "source": [
        "dataset.corr() #analizing correlation between features"
      ],
      "execution_count": null,
      "outputs": [
        {
          "output_type": "execute_result",
          "data": {
            "text/html": [
              "<div>\n",
              "<style scoped>\n",
              "    .dataframe tbody tr th:only-of-type {\n",
              "        vertical-align: middle;\n",
              "    }\n",
              "\n",
              "    .dataframe tbody tr th {\n",
              "        vertical-align: top;\n",
              "    }\n",
              "\n",
              "    .dataframe thead th {\n",
              "        text-align: right;\n",
              "    }\n",
              "</style>\n",
              "<table border=\"1\" class=\"dataframe\">\n",
              "  <thead>\n",
              "    <tr style=\"text-align: right;\">\n",
              "      <th></th>\n",
              "      <th>longitude</th>\n",
              "      <th>latitude</th>\n",
              "      <th>housing_median_age</th>\n",
              "      <th>total_rooms</th>\n",
              "      <th>total_bedrooms</th>\n",
              "      <th>population</th>\n",
              "      <th>households</th>\n",
              "      <th>median_income</th>\n",
              "      <th>median_house_value</th>\n",
              "    </tr>\n",
              "  </thead>\n",
              "  <tbody>\n",
              "    <tr>\n",
              "      <th>longitude</th>\n",
              "      <td>1.000000</td>\n",
              "      <td>-0.924664</td>\n",
              "      <td>-0.108197</td>\n",
              "      <td>0.044568</td>\n",
              "      <td>0.069608</td>\n",
              "      <td>0.099773</td>\n",
              "      <td>0.055310</td>\n",
              "      <td>-0.015176</td>\n",
              "      <td>-0.045967</td>\n",
              "    </tr>\n",
              "    <tr>\n",
              "      <th>latitude</th>\n",
              "      <td>-0.924664</td>\n",
              "      <td>1.000000</td>\n",
              "      <td>0.011173</td>\n",
              "      <td>-0.036100</td>\n",
              "      <td>-0.066983</td>\n",
              "      <td>-0.108785</td>\n",
              "      <td>-0.071035</td>\n",
              "      <td>-0.079809</td>\n",
              "      <td>-0.144160</td>\n",
              "    </tr>\n",
              "    <tr>\n",
              "      <th>housing_median_age</th>\n",
              "      <td>-0.108197</td>\n",
              "      <td>0.011173</td>\n",
              "      <td>1.000000</td>\n",
              "      <td>-0.361262</td>\n",
              "      <td>-0.320451</td>\n",
              "      <td>-0.296244</td>\n",
              "      <td>-0.302916</td>\n",
              "      <td>-0.119034</td>\n",
              "      <td>0.105623</td>\n",
              "    </tr>\n",
              "    <tr>\n",
              "      <th>total_rooms</th>\n",
              "      <td>0.044568</td>\n",
              "      <td>-0.036100</td>\n",
              "      <td>-0.361262</td>\n",
              "      <td>1.000000</td>\n",
              "      <td>0.930380</td>\n",
              "      <td>0.857126</td>\n",
              "      <td>0.918484</td>\n",
              "      <td>0.198050</td>\n",
              "      <td>0.134153</td>\n",
              "    </tr>\n",
              "    <tr>\n",
              "      <th>total_bedrooms</th>\n",
              "      <td>0.069608</td>\n",
              "      <td>-0.066983</td>\n",
              "      <td>-0.320451</td>\n",
              "      <td>0.930380</td>\n",
              "      <td>1.000000</td>\n",
              "      <td>0.877747</td>\n",
              "      <td>0.979728</td>\n",
              "      <td>-0.007723</td>\n",
              "      <td>0.049686</td>\n",
              "    </tr>\n",
              "    <tr>\n",
              "      <th>population</th>\n",
              "      <td>0.099773</td>\n",
              "      <td>-0.108785</td>\n",
              "      <td>-0.296244</td>\n",
              "      <td>0.857126</td>\n",
              "      <td>0.877747</td>\n",
              "      <td>1.000000</td>\n",
              "      <td>0.907222</td>\n",
              "      <td>0.004834</td>\n",
              "      <td>-0.024650</td>\n",
              "    </tr>\n",
              "    <tr>\n",
              "      <th>households</th>\n",
              "      <td>0.055310</td>\n",
              "      <td>-0.071035</td>\n",
              "      <td>-0.302916</td>\n",
              "      <td>0.918484</td>\n",
              "      <td>0.979728</td>\n",
              "      <td>0.907222</td>\n",
              "      <td>1.000000</td>\n",
              "      <td>0.013033</td>\n",
              "      <td>0.065843</td>\n",
              "    </tr>\n",
              "    <tr>\n",
              "      <th>median_income</th>\n",
              "      <td>-0.015176</td>\n",
              "      <td>-0.079809</td>\n",
              "      <td>-0.119034</td>\n",
              "      <td>0.198050</td>\n",
              "      <td>-0.007723</td>\n",
              "      <td>0.004834</td>\n",
              "      <td>0.013033</td>\n",
              "      <td>1.000000</td>\n",
              "      <td>0.688075</td>\n",
              "    </tr>\n",
              "    <tr>\n",
              "      <th>median_house_value</th>\n",
              "      <td>-0.045967</td>\n",
              "      <td>-0.144160</td>\n",
              "      <td>0.105623</td>\n",
              "      <td>0.134153</td>\n",
              "      <td>0.049686</td>\n",
              "      <td>-0.024650</td>\n",
              "      <td>0.065843</td>\n",
              "      <td>0.688075</td>\n",
              "      <td>1.000000</td>\n",
              "    </tr>\n",
              "  </tbody>\n",
              "</table>\n",
              "</div>"
            ],
            "text/plain": [
              "                    longitude  latitude  ...  median_income  median_house_value\n",
              "longitude            1.000000 -0.924664  ...      -0.015176           -0.045967\n",
              "latitude            -0.924664  1.000000  ...      -0.079809           -0.144160\n",
              "housing_median_age  -0.108197  0.011173  ...      -0.119034            0.105623\n",
              "total_rooms          0.044568 -0.036100  ...       0.198050            0.134153\n",
              "total_bedrooms       0.069608 -0.066983  ...      -0.007723            0.049686\n",
              "population           0.099773 -0.108785  ...       0.004834           -0.024650\n",
              "households           0.055310 -0.071035  ...       0.013033            0.065843\n",
              "median_income       -0.015176 -0.079809  ...       1.000000            0.688075\n",
              "median_house_value  -0.045967 -0.144160  ...       0.688075            1.000000\n",
              "\n",
              "[9 rows x 9 columns]"
            ]
          },
          "metadata": {
            "tags": []
          },
          "execution_count": 4
        }
      ]
    },
    {
      "cell_type": "code",
      "metadata": {
        "id": "PwxKBc5p-PtJ"
      },
      "source": [
        "X=dataset['households'].values.reshape(-1,1) \r\n",
        "y=dataset['population'].values.reshape(-1,1) "
      ],
      "execution_count": null,
      "outputs": []
    },
    {
      "cell_type": "code",
      "metadata": {
        "colab": {
          "base_uri": "https://localhost:8080/"
        },
        "id": "3iSarsbfA93I",
        "outputId": "09eb2d75-3663-4a5b-80be-c13437bcb614"
      },
      "source": [
        "np.shape(X)"
      ],
      "execution_count": null,
      "outputs": [
        {
          "output_type": "execute_result",
          "data": {
            "text/plain": [
              "(20640, 1)"
            ]
          },
          "metadata": {
            "tags": []
          },
          "execution_count": 6
        }
      ]
    },
    {
      "cell_type": "code",
      "metadata": {
        "colab": {
          "base_uri": "https://localhost:8080/"
        },
        "id": "YTe5OsvbBDp6",
        "outputId": "63554f8e-b1cf-489f-e338-df54dce55179"
      },
      "source": [
        "np.shape(y)"
      ],
      "execution_count": null,
      "outputs": [
        {
          "output_type": "execute_result",
          "data": {
            "text/plain": [
              "(20640, 1)"
            ]
          },
          "metadata": {
            "tags": []
          },
          "execution_count": 7
        }
      ]
    },
    {
      "cell_type": "code",
      "metadata": {
        "colab": {
          "base_uri": "https://localhost:8080/",
          "height": 282
        },
        "id": "BUOvXy5JBFAC",
        "outputId": "2b1554d7-f182-4831-bf2d-c6cdce3dea8d"
      },
      "source": [
        "plt.scatter(X,y)"
      ],
      "execution_count": null,
      "outputs": [
        {
          "output_type": "execute_result",
          "data": {
            "text/plain": [
              "<matplotlib.collections.PathCollection at 0x7f9a69f77a20>"
            ]
          },
          "metadata": {
            "tags": []
          },
          "execution_count": 8
        },
        {
          "output_type": "display_data",
          "data": {
            "image/png": "[encoded data removed]",
            "text/plain": [
              "<Figure size 432x288 with 1 Axes>"
            ]
          },
          "metadata": {
            "tags": [],
            "needs_background": "light"
          }
        }
      ]
    },
    {
      "cell_type": "code",
      "metadata": {
        "colab": {
          "base_uri": "https://localhost:8080/",
          "height": 367
        },
        "id": "oZb8YGZfBHwK",
        "outputId": "0b2bea40-250e-4ba6-9eab-54af8b5b19a9"
      },
      "source": [
        "plt.hist(X) #histogram of households"
      ],
      "execution_count": null,
      "outputs": [
        {
          "output_type": "execute_result",
          "data": {
            "text/plain": [
              "(array([1.5581e+04, 4.1440e+03, 6.5000e+02, 1.5900e+02, 5.9000e+01,\n",
              "        2.3000e+01, 1.3000e+01, 6.0000e+00, 4.0000e+00, 1.0000e+00]),\n",
              " array([1.0000e+00, 6.0910e+02, 1.2172e+03, 1.8253e+03, 2.4334e+03,\n",
              "        3.0415e+03, 3.6496e+03, 4.2577e+03, 4.8658e+03, 5.4739e+03,\n",
              "        6.0820e+03]),\n",
              " <a list of 10 Patch objects>)"
            ]
          },
          "metadata": {
            "tags": []
          },
          "execution_count": 9
        },
        {
          "output_type": "display_data",
          "data": {
            "image/png": "[encoded data removed]",
            "text/plain": [
              "<Figure size 432x288 with 1 Axes>"
            ]
          },
          "metadata": {
            "tags": [],
            "needs_background": "light"
          }
        }
      ]
    },
    {
      "cell_type": "code",
      "metadata": {
        "colab": {
          "base_uri": "https://localhost:8080/"
        },
        "id": "DLcgz4crBJ8y",
        "outputId": "1dc8005d-aa5a-4f46-e57f-613027f8744f"
      },
      "source": [
        "X.min()"
      ],
      "execution_count": null,
      "outputs": [
        {
          "output_type": "execute_result",
          "data": {
            "text/plain": [
              "1.0"
            ]
          },
          "metadata": {
            "tags": []
          },
          "execution_count": 10
        }
      ]
    },
    {
      "cell_type": "code",
      "metadata": {
        "colab": {
          "base_uri": "https://localhost:8080/"
        },
        "id": "8mvLPejWBOTb",
        "outputId": "ea87da80-4fc0-4cd7-ab71-cc50f469b6f3"
      },
      "source": [
        "X.max()"
      ],
      "execution_count": null,
      "outputs": [
        {
          "output_type": "execute_result",
          "data": {
            "text/plain": [
              "6082.0"
            ]
          },
          "metadata": {
            "tags": []
          },
          "execution_count": 11
        }
      ]
    },
    {
      "cell_type": "code",
      "metadata": {
        "id": "_T-wo_U8BPTa"
      },
      "source": [
        "X=(X-X.mean())/X.std() #normalization"
      ],
      "execution_count": null,
      "outputs": []
    },
    {
      "cell_type": "code",
      "metadata": {
        "colab": {
          "base_uri": "https://localhost:8080/",
          "height": 367
        },
        "id": "5QfKdq8dBTty",
        "outputId": "2ee97f50-05b5-48fa-b8df-7b8301794eb0"
      },
      "source": [
        "plt.hist(X)"
      ],
      "execution_count": null,
      "outputs": [
        {
          "output_type": "execute_result",
          "data": {
            "text/plain": [
              "(array([1.5581e+04, 4.1440e+03, 6.5000e+02, 1.5900e+02, 5.9000e+01,\n",
              "        2.3000e+01, 1.3000e+01, 6.0000e+00, 4.0000e+00, 1.0000e+00]),\n",
              " array([-1.30398368,  0.2865667 ,  1.87711707,  3.46766745,  5.05821782,\n",
              "         6.64876819,  8.23931857,  9.82986894, 11.42041932, 13.01096969,\n",
              "        14.60152007]),\n",
              " <a list of 10 Patch objects>)"
            ]
          },
          "metadata": {
            "tags": []
          },
          "execution_count": 13
        },
        {
          "output_type": "display_data",
          "data": {
            "image/png": "[encoded data removed]",
            "text/plain": [
              "<Figure size 432x288 with 1 Axes>"
            ]
          },
          "metadata": {
            "tags": [],
            "needs_background": "light"
          }
        }
      ]
    },
    {
      "cell_type": "code",
      "metadata": {
        "id": "oxJAnzq6u9P5"
      },
      "source": [
        "X=(X-X.min())/(X.max()-X.min()) #Min-max normalization"
      ],
      "execution_count": null,
      "outputs": []
    },
    {
      "cell_type": "code",
      "metadata": {
        "colab": {
          "base_uri": "https://localhost:8080/",
          "height": 333
        },
        "id": "8qNgg6nivOrB",
        "outputId": "e4cbd2d6-a88c-4a96-9720-3569a30aeed4"
      },
      "source": [
        "plt.hist(X)"
      ],
      "execution_count": null,
      "outputs": [
        {
          "output_type": "execute_result",
          "data": {
            "text/plain": [
              "(array([1.5581e+04, 4.1440e+03, 6.5000e+02, 1.5900e+02, 5.9000e+01,\n",
              "        2.3000e+01, 1.3000e+01, 6.0000e+00, 4.0000e+00, 1.0000e+00]),\n",
              " array([0. , 0.1, 0.2, 0.3, 0.4, 0.5, 0.6, 0.7, 0.8, 0.9, 1. ]),\n",
              " <a list of 10 Patch objects>)"
            ]
          },
          "metadata": {
            "tags": []
          },
          "execution_count": 15
        },
        {
          "output_type": "display_data",
          "data": {
            "image/png": "[encoded data removed]",
            "text/plain": [
              "<Figure size 432x288 with 1 Axes>"
            ]
          },
          "metadata": {
            "tags": [],
            "needs_background": "light"
          }
        }
      ]
    },
    {
      "cell_type": "code",
      "metadata": {
        "id": "OC9xUp_NBXKi"
      },
      "source": [
        "theta0=0 #Intercept\r\n",
        "theta1=0 #Slope\r\n",
        "alpha=0.001 #learning rate\r\n",
        "epochs=10000 #iterations"
      ],
      "execution_count": null,
      "outputs": []
    },
    {
      "cell_type": "code",
      "metadata": {
        "id": "0Ddbb_10BqG6"
      },
      "source": [
        "m=X.shape[0] #number of samples; rows\r\n",
        "n=X.shape[1] #features; columns"
      ],
      "execution_count": null,
      "outputs": []
    },
    {
      "cell_type": "code",
      "metadata": {
        "colab": {
          "base_uri": "https://localhost:8080/"
        },
        "id": "-Cueh6imBuO6",
        "outputId": "c43138ca-eeff-4845-b01b-6c90bd277ac3"
      },
      "source": [
        "cost=np.ones(epochs) #initiazlization of cost\r\n",
        "cost"
      ],
      "execution_count": null,
      "outputs": [
        {
          "output_type": "execute_result",
          "data": {
            "text/plain": [
              "array([1., 1., 1., ..., 1., 1., 1.])"
            ]
          },
          "metadata": {
            "tags": []
          },
          "execution_count": 18
        }
      ]
    },
    {
      "cell_type": "code",
      "metadata": {
        "colab": {
          "base_uri": "https://localhost:8080/"
        },
        "id": "qqZn-egnBxlC",
        "outputId": "8f8539ba-dcf9-422c-ae12-92baddd437fd"
      },
      "source": [
        "#Gradient descent\r\n",
        "for i in range(epochs):\r\n",
        "  h=theta1*X + theta0 #hypothesis, atm predicted X\r\n",
        "  D_theta1=(-2/m)*sum(X*(y-h)) #derivative of ocst fn with respect to theta1\r\n",
        "  D_theta0=(-2/m)*sum(y-h) #-||- to theta0\r\n",
        "  theta1=theta1-alpha*D_theta1\r\n",
        "  theta0=theta0-alpha*D_theta0\r\n",
        "  cost[i]=(1/m)*0.5*sum(np.square(h-y)) #computing the cost fn\r\n",
        "print(theta1, theta0)\r\n",
        "print(cost)"
      ],
      "execution_count": null,
      "outputs": [
        {
          "output_type": "stream",
          "text": [
            "[1027.36996156] [1425.47674131]\n",
            "[1657196.13512597 1651027.36409117 1644883.24346542 ...  113459.63993057\n",
            "  113459.63993057  113459.63993057]\n"
          ],
          "name": "stdout"
        }
      ]
    },
    {
      "cell_type": "code",
      "metadata": {
        "colab": {
          "base_uri": "https://localhost:8080/",
          "height": 307
        },
        "id": "eMx7Lel-CfFS",
        "outputId": "20b8eabc-f679-45d2-be22-33f9b4860641"
      },
      "source": [
        "#plotting cost fn\r\n",
        "cost=list(cost)\r\n",
        "epochs=[x for x in range(1, epochs+1)]\r\n",
        "plt.plot(epochs, cost)\r\n",
        "plt.xlabel('epochs')\r\n",
        "plt.ylabel('cost')"
      ],
      "execution_count": null,
      "outputs": [
        {
          "output_type": "execute_result",
          "data": {
            "text/plain": [
              "Text(0, 0.5, 'cost')"
            ]
          },
          "metadata": {
            "tags": []
          },
          "execution_count": 20
        },
        {
          "output_type": "display_data",
          "data": {
            "image/png": "[encoded data removed]",
            "text/plain": [
              "<Figure size 432x288 with 1 Axes>"
            ]
          },
          "metadata": {
            "tags": []
          }
        }
      ]
    },
    {
      "cell_type": "code",
      "metadata": {
        "id": "d4_n2YuICvuQ"
      },
      "source": [
        "h=theta1*X+theta0 #updating hypothesis"
      ],
      "execution_count": null,
      "outputs": []
    },
    {
      "cell_type": "code",
      "metadata": {
        "colab": {
          "base_uri": "https://localhost:8080/",
          "height": 296
        },
        "id": "DBdaUW4zC0Jk",
        "outputId": "5bc30db7-4f8f-47b8-efb6-4693c9a7a0f2"
      },
      "source": [
        "#households relative to populaqtion\r\n",
        "plt.scatter(X,y)\r\n",
        "plt.plot(X,h,color='red')\r\n",
        "plt.xlabel('Households ')\r\n",
        "plt.ylabel('Population')"
      ],
      "execution_count": null,
      "outputs": [
        {
          "output_type": "execute_result",
          "data": {
            "text/plain": [
              "Text(0, 0.5, 'Population')"
            ]
          },
          "metadata": {
            "tags": []
          },
          "execution_count": 22
        },
        {
          "output_type": "display_data",
          "data": {
            "image/png": "[encoded data removed]",
            "text/plain": [
              "<Figure size 432x288 with 1 Axes>"
            ]
          },
          "metadata": {
            "tags": []
          }
        }
      ]
    },
    {
      "cell_type": "markdown",
      "metadata": {
        "id": "VYEmWHeP0Bmo"
      },
      "source": [
        "#Linear Regression - Multivariate"
      ]
    },
    {
      "cell_type": "code",
      "metadata": {
        "id": "vk6ZXbpDGYel"
      },
      "source": [
        "X=dataset.loc[:, dataset.columns != 'total_bedrooms']\r\n",
        "y=dataset.loc[:, dataset.columns == 'total_bedrooms']"
      ],
      "execution_count": null,
      "outputs": []
    },
    {
      "cell_type": "code",
      "metadata": {
        "id": "okZianCCHK_N"
      },
      "source": [
        "X=X.drop(columns=['longitude','latitude','ocean_proximity'])"
      ],
      "execution_count": null,
      "outputs": []
    },
    {
      "cell_type": "code",
      "metadata": {
        "colab": {
          "base_uri": "https://localhost:8080/",
          "height": 419
        },
        "id": "kagNKKS9aCm2",
        "outputId": "a38f17fd-c55f-474e-c0cf-01e12da9b7c7"
      },
      "source": [
        "X"
      ],
      "execution_count": null,
      "outputs": [
        {
          "output_type": "execute_result",
          "data": {
            "text/html": [
              "<div>\n",
              "<style scoped>\n",
              "    .dataframe tbody tr th:only-of-type {\n",
              "        vertical-align: middle;\n",
              "    }\n",
              "\n",
              "    .dataframe tbody tr th {\n",
              "        vertical-align: top;\n",
              "    }\n",
              "\n",
              "    .dataframe thead th {\n",
              "        text-align: right;\n",
              "    }\n",
              "</style>\n",
              "<table border=\"1\" class=\"dataframe\">\n",
              "  <thead>\n",
              "    <tr style=\"text-align: right;\">\n",
              "      <th></th>\n",
              "      <th>housing_median_age</th>\n",
              "      <th>total_rooms</th>\n",
              "      <th>population</th>\n",
              "      <th>households</th>\n",
              "      <th>median_income</th>\n",
              "      <th>median_house_value</th>\n",
              "    </tr>\n",
              "  </thead>\n",
              "  <tbody>\n",
              "    <tr>\n",
              "      <th>0</th>\n",
              "      <td>41.0</td>\n",
              "      <td>880.0</td>\n",
              "      <td>322.0</td>\n",
              "      <td>126.0</td>\n",
              "      <td>8.3252</td>\n",
              "      <td>452600.0</td>\n",
              "    </tr>\n",
              "    <tr>\n",
              "      <th>1</th>\n",
              "      <td>21.0</td>\n",
              "      <td>7099.0</td>\n",
              "      <td>2401.0</td>\n",
              "      <td>1138.0</td>\n",
              "      <td>8.3014</td>\n",
              "      <td>358500.0</td>\n",
              "    </tr>\n",
              "    <tr>\n",
              "      <th>2</th>\n",
              "      <td>52.0</td>\n",
              "      <td>1467.0</td>\n",
              "      <td>496.0</td>\n",
              "      <td>177.0</td>\n",
              "      <td>7.2574</td>\n",
              "      <td>352100.0</td>\n",
              "    </tr>\n",
              "    <tr>\n",
              "      <th>3</th>\n",
              "      <td>52.0</td>\n",
              "      <td>1274.0</td>\n",
              "      <td>558.0</td>\n",
              "      <td>219.0</td>\n",
              "      <td>5.6431</td>\n",
              "      <td>341300.0</td>\n",
              "    </tr>\n",
              "    <tr>\n",
              "      <th>4</th>\n",
              "      <td>52.0</td>\n",
              "      <td>1627.0</td>\n",
              "      <td>565.0</td>\n",
              "      <td>259.0</td>\n",
              "      <td>3.8462</td>\n",
              "      <td>342200.0</td>\n",
              "    </tr>\n",
              "    <tr>\n",
              "      <th>...</th>\n",
              "      <td>...</td>\n",
              "      <td>...</td>\n",
              "      <td>...</td>\n",
              "      <td>...</td>\n",
              "      <td>...</td>\n",
              "      <td>...</td>\n",
              "    </tr>\n",
              "    <tr>\n",
              "      <th>20635</th>\n",
              "      <td>25.0</td>\n",
              "      <td>1665.0</td>\n",
              "      <td>845.0</td>\n",
              "      <td>330.0</td>\n",
              "      <td>1.5603</td>\n",
              "      <td>78100.0</td>\n",
              "    </tr>\n",
              "    <tr>\n",
              "      <th>20636</th>\n",
              "      <td>18.0</td>\n",
              "      <td>697.0</td>\n",
              "      <td>356.0</td>\n",
              "      <td>114.0</td>\n",
              "      <td>2.5568</td>\n",
              "      <td>77100.0</td>\n",
              "    </tr>\n",
              "    <tr>\n",
              "      <th>20637</th>\n",
              "      <td>17.0</td>\n",
              "      <td>2254.0</td>\n",
              "      <td>1007.0</td>\n",
              "      <td>433.0</td>\n",
              "      <td>1.7000</td>\n",
              "      <td>92300.0</td>\n",
              "    </tr>\n",
              "    <tr>\n",
              "      <th>20638</th>\n",
              "      <td>18.0</td>\n",
              "      <td>1860.0</td>\n",
              "      <td>741.0</td>\n",
              "      <td>349.0</td>\n",
              "      <td>1.8672</td>\n",
              "      <td>84700.0</td>\n",
              "    </tr>\n",
              "    <tr>\n",
              "      <th>20639</th>\n",
              "      <td>16.0</td>\n",
              "      <td>2785.0</td>\n",
              "      <td>1387.0</td>\n",
              "      <td>530.0</td>\n",
              "      <td>2.3886</td>\n",
              "      <td>89400.0</td>\n",
              "    </tr>\n",
              "  </tbody>\n",
              "</table>\n",
              "<p>20640 rows × 6 columns</p>\n",
              "</div>"
            ],
            "text/plain": [
              "       housing_median_age  total_rooms  ...  median_income  median_house_value\n",
              "0                    41.0        880.0  ...         8.3252            452600.0\n",
              "1                    21.0       7099.0  ...         8.3014            358500.0\n",
              "2                    52.0       1467.0  ...         7.2574            352100.0\n",
              "3                    52.0       1274.0  ...         5.6431            341300.0\n",
              "4                    52.0       1627.0  ...         3.8462            342200.0\n",
              "...                   ...          ...  ...            ...                 ...\n",
              "20635                25.0       1665.0  ...         1.5603             78100.0\n",
              "20636                18.0        697.0  ...         2.5568             77100.0\n",
              "20637                17.0       2254.0  ...         1.7000             92300.0\n",
              "20638                18.0       1860.0  ...         1.8672             84700.0\n",
              "20639                16.0       2785.0  ...         2.3886             89400.0\n",
              "\n",
              "[20640 rows x 6 columns]"
            ]
          },
          "metadata": {
            "tags": []
          },
          "execution_count": 25
        }
      ]
    },
    {
      "cell_type": "code",
      "metadata": {
        "colab": {
          "base_uri": "https://localhost:8080/"
        },
        "id": "6J-zvr3_aDJo",
        "outputId": "f1fb5d0a-b5a6-447f-d1fd-3ce0b2fa8f39"
      },
      "source": [
        "np.shape(X)"
      ],
      "execution_count": null,
      "outputs": [
        {
          "output_type": "execute_result",
          "data": {
            "text/plain": [
              "(20640, 6)"
            ]
          },
          "metadata": {
            "tags": []
          },
          "execution_count": 26
        }
      ]
    },
    {
      "cell_type": "code",
      "metadata": {
        "colab": {
          "base_uri": "https://localhost:8080/"
        },
        "id": "IKcMlXxEaLQo",
        "outputId": "f1d4f772-65b4-41a5-d1a7-6876cd33b338"
      },
      "source": [
        "np.shape(y)"
      ],
      "execution_count": null,
      "outputs": [
        {
          "output_type": "execute_result",
          "data": {
            "text/plain": [
              "(20640, 1)"
            ]
          },
          "metadata": {
            "tags": []
          },
          "execution_count": 27
        }
      ]
    },
    {
      "cell_type": "code",
      "metadata": {
        "id": "be2UWAQZaM4Y"
      },
      "source": [
        "#pandas to numpy\r\n",
        "X=X.to_numpy(dtype=int)\r\n",
        "y=y.to_numpy(dtype=int)"
      ],
      "execution_count": null,
      "outputs": []
    },
    {
      "cell_type": "code",
      "metadata": {
        "colab": {
          "base_uri": "https://localhost:8080/"
        },
        "id": "tI0rBRBNaUgR",
        "outputId": "694355ec-20f3-4526-96d8-2a548813b6f7"
      },
      "source": [
        "X"
      ],
      "execution_count": null,
      "outputs": [
        {
          "output_type": "execute_result",
          "data": {
            "text/plain": [
              "array([[    41,    880,    322,    126,      8, 452600],\n",
              "       [    21,   7099,   2401,   1138,      8, 358500],\n",
              "       [    52,   1467,    496,    177,      7, 352100],\n",
              "       ...,\n",
              "       [    17,   2254,   1007,    433,      1,  92300],\n",
              "       [    18,   1860,    741,    349,      1,  84700],\n",
              "       [    16,   2785,   1387,    530,      2,  89400]])"
            ]
          },
          "metadata": {
            "tags": []
          },
          "execution_count": 29
        }
      ]
    },
    {
      "cell_type": "code",
      "metadata": {
        "id": "klLChLlCaVXg"
      },
      "source": [
        "m=X.shape[0]\r\n",
        "n=X.shape[1]"
      ],
      "execution_count": null,
      "outputs": []
    },
    {
      "cell_type": "code",
      "metadata": {
        "colab": {
          "base_uri": "https://localhost:8080/"
        },
        "id": "A56xGlDAabNI",
        "outputId": "32604201-33c3-4f17-939b-040e8765315a"
      },
      "source": [
        "print(m)\r\n",
        "print(n)"
      ],
      "execution_count": null,
      "outputs": [
        {
          "output_type": "stream",
          "text": [
            "20640\n",
            "6\n"
          ],
          "name": "stdout"
        }
      ]
    },
    {
      "cell_type": "code",
      "metadata": {
        "id": "nj9OCo82adZI"
      },
      "source": [
        "#multiplication of matrix and vector\r\n",
        "def dot(M,v):\r\n",
        "  u=[]\r\n",
        "  for i in range(len(M)):\r\n",
        "    temp=0.0\r\n",
        "    for j in range(len(M[0])):\r\n",
        "      temp=temp+(M[i][j]*v[j])\r\n",
        "    u.append(temp)\r\n",
        "  return u"
      ],
      "execution_count": null,
      "outputs": []
    },
    {
      "cell_type": "code",
      "metadata": {
        "id": "t2gXSDSwauHA"
      },
      "source": [
        "#transposition of matrix\r\n",
        "def transpose(M):\r\n",
        "  N=[]\r\n",
        "  for j in range(len(M[0])):\r\n",
        "    U=[]\r\n",
        "    for i in range(len(M)):\r\n",
        "      U.append(M[i][j])\r\n",
        "    N.append(U)\r\n",
        "  return np.array(N)"
      ],
      "execution_count": null,
      "outputs": []
    },
    {
      "cell_type": "code",
      "metadata": {
        "id": "zn15kTKJbEGI"
      },
      "source": [
        "#feature normalization\r\n",
        "mean=np.ones(n)\r\n",
        "std=np.ones(m)\r\n",
        "for i in range(n):\r\n",
        "  mean[i]=np.mean(transpose(X)[i])\r\n",
        "  std[i]=np.std(transpose(X)[i])\r\n",
        "  for j in range(0,m):\r\n",
        "    X[j][i]=(X[j][i]-mean[i])/std[i]"
      ],
      "execution_count": null,
      "outputs": []
    },
    {
      "cell_type": "code",
      "metadata": {
        "id": "-FZsT-febzLP"
      },
      "source": [
        "#compute hypothesis\r\n",
        "def hypothesis(theta,X,n,m):\r\n",
        "  h=np.ones((m,1))\r\n",
        "  theta=theta.reshape(1,n+1)\r\n",
        "  for i in range(0,m):\r\n",
        "    h[i]=dot(theta,X[i])\r\n",
        "  h=h.reshape(m)\r\n",
        "  return h"
      ],
      "execution_count": null,
      "outputs": []
    },
    {
      "cell_type": "code",
      "metadata": {
        "id": "ghqCbrPFcLTZ"
      },
      "source": [
        "#batch gradient descent\r\n",
        "def batchGradientDescent(theta,alpha,epochs,h,X,y,n,m):\r\n",
        "  cost=np.ones(epochs)\r\n",
        "  for i in range(0,epochs):\r\n",
        "    theta[0]=theta[0]-(alpha*(2/m))*np.sum(h-y) #calculating bias\r\n",
        "    for j in range(1,n+1):\r\n",
        "      theta[j]=theta[j]-(alpha*(2/m))*np.sum((h-y)*transpose(X)[j]) #calculating weights\r\n",
        "    h=hypothesis(theta,X,n,m) #update hypothesis\r\n",
        "    cost[i]=(1/m)*0.5*np.sum(np.square(h-y)) #update cost function\r\n",
        "  theta=theta.reshape(1,n+1)\r\n",
        "  return theta, cost"
      ],
      "execution_count": null,
      "outputs": []
    },
    {
      "cell_type": "code",
      "metadata": {
        "id": "sZbb7Rl8dEyC"
      },
      "source": [
        "#linear regression\r\n",
        "def linearRegression(X,y,alpha,epochs,n,m):\r\n",
        "  bias=np.ones((m,1)) #X0 (first column, bias)\r\n",
        "  X=np.concatenate((bias,X),axis=1) #merge feature X0 and other features\r\n",
        "  theta=np.zeros(n+1) #weight initialization\r\n",
        "  h=hypothesis(theta,X,n,m) #hypothesis init\r\n",
        "  theta,cost=batchGradientDescent(theta,alpha,epochs,h,X,y,n,m) #computing GD so I can update theta and cost\r\n",
        "  return theta,cost"
      ],
      "execution_count": null,
      "outputs": []
    },
    {
      "cell_type": "code",
      "metadata": {
        "id": "OEB3H2vRduop"
      },
      "source": [
        "alpha=0.00001\r\n",
        "epochs=1000"
      ],
      "execution_count": null,
      "outputs": []
    },
    {
      "cell_type": "code",
      "metadata": {
        "colab": {
          "background_save": true
        },
        "id": "skHgH5dRdzHA"
      },
      "source": [
        "theta,cost=linearRegression(X,y,alpha,epochs,n,m)"
      ],
      "execution_count": null,
      "outputs": []
    },
    {
      "cell_type": "code",
      "metadata": {
        "colab": {
          "background_save": true
        },
        "id": "2aMf8w5fd4mp",
        "outputId": "aaaa6ee8-0601-477d-920c-a4ccfc9b4d2e"
      },
      "source": [
        "#cost\r\n",
        "cost=list(cost)\r\n",
        "epochs=[x for x in range(1,epochs+1)]\r\n",
        "plt.plot(epochs, cost)\r\n",
        "plt.xlabel('epochs')\r\n",
        "plt.ylabel('cost')"
      ],
      "execution_count": null,
      "outputs": [
        {
          "output_type": "execute_result",
          "data": {
            "text/plain": [
              "Text(0, 0.5, 'cost')"
            ]
          },
          "metadata": {
            "tags": []
          },
          "execution_count": 0
        },
        {
          "output_type": "display_data",
          "data": {
            "image/png": "[encoded data removed]",
            "text/plain": [
              "<Figure size 432x288 with 1 Axes>"
            ]
          },
          "metadata": {
            "tags": []
          }
        }
      ]
    },
    {
      "cell_type": "markdown",
      "metadata": {
        "id": "-sXRr3jm0KHo"
      },
      "source": [
        "#Linear Regression - Normal Equation"
      ]
    },
    {
      "cell_type": "code",
      "metadata": {
        "id": "Co75ENPMey2_"
      },
      "source": [
        "#normal equation\r\n",
        "X=dataset['households'].values.reshape(-1,1) \r\n",
        "y=dataset['population'].values.reshape(-1,1) "
      ],
      "execution_count": null,
      "outputs": []
    },
    {
      "cell_type": "code",
      "metadata": {
        "id": "UOfA4iAVfAhx"
      },
      "source": [
        "X=(X-X.mean())/X.std()"
      ],
      "execution_count": null,
      "outputs": []
    },
    {
      "cell_type": "code",
      "metadata": {
        "colab": {
          "base_uri": "https://localhost:8080/",
          "height": 282
        },
        "id": "n9BwuAGUfGYH",
        "outputId": "f09a87fb-3fa5-4f09-ff54-4fa5721dcc45"
      },
      "source": [
        "plt.scatter(X,y)"
      ],
      "execution_count": null,
      "outputs": [
        {
          "output_type": "execute_result",
          "data": {
            "text/plain": [
              "<matplotlib.collections.PathCollection at 0x7fa4cdfb9ac8>"
            ]
          },
          "metadata": {
            "tags": []
          },
          "execution_count": 44
        },
        {
          "output_type": "display_data",
          "data": {
            "image/png": "[encoded data removed]",
            "text/plain": [
              "<Figure size 432x288 with 1 Axes>"
            ]
          },
          "metadata": {
            "tags": []
          }
        }
      ]
    },
    {
      "cell_type": "code",
      "metadata": {
        "colab": {
          "base_uri": "https://localhost:8080/"
        },
        "id": "UJrIBUJifJPR",
        "outputId": "35f9a9d6-5f25-4087-de76-fca607d0d77a"
      },
      "source": [
        "X_bias=np.ones((len(X),1)) #bias, column of ones\r\n",
        "np.shape(X_bias)"
      ],
      "execution_count": null,
      "outputs": [
        {
          "output_type": "execute_result",
          "data": {
            "text/plain": [
              "(20640, 1)"
            ]
          },
          "metadata": {
            "tags": []
          },
          "execution_count": 45
        }
      ]
    },
    {
      "cell_type": "code",
      "metadata": {
        "colab": {
          "base_uri": "https://localhost:8080/"
        },
        "id": "jGoAII67fPmF",
        "outputId": "45ed9c9b-6433-4778-f62a-fdb3cbbb1c6e"
      },
      "source": [
        "X=X.reshape(len(X),1) #reshape X\r\n",
        "np.shape(X)"
      ],
      "execution_count": null,
      "outputs": [
        {
          "output_type": "execute_result",
          "data": {
            "text/plain": [
              "(20640, 1)"
            ]
          },
          "metadata": {
            "tags": []
          },
          "execution_count": 46
        }
      ]
    },
    {
      "cell_type": "code",
      "metadata": {
        "colab": {
          "base_uri": "https://localhost:8080/"
        },
        "id": "xJFoBpQSfVXo",
        "outputId": "e81a0246-e1dd-430f-b03f-1c7d5a7c8514"
      },
      "source": [
        "X2=np.concatenate((X_bias,X),axis=1) #merging bias and X\r\n",
        "np.shape(X2)"
      ],
      "execution_count": null,
      "outputs": [
        {
          "output_type": "execute_result",
          "data": {
            "text/plain": [
              "(20640, 2)"
            ]
          },
          "metadata": {
            "tags": []
          },
          "execution_count": 47
        }
      ]
    },
    {
      "cell_type": "code",
      "metadata": {
        "colab": {
          "base_uri": "https://localhost:8080/"
        },
        "id": "IgmXcblCfi7L",
        "outputId": "584903fd-87d8-4cad-b04d-76f42b113a32"
      },
      "source": [
        "XT=np.transpose(X2)\r\n",
        "XT"
      ],
      "execution_count": null,
      "outputs": [
        {
          "output_type": "execute_result",
          "data": {
            "text/plain": [
              "array([[ 1.        ,  1.        ,  1.        , ...,  1.        ,\n",
              "         1.        ,  1.        ],\n",
              "       [-0.97703285,  1.66996103, -0.84363692, ..., -0.17404163,\n",
              "        -0.39375258,  0.07967221]])"
            ]
          },
          "metadata": {
            "tags": []
          },
          "execution_count": 48
        }
      ]
    },
    {
      "cell_type": "code",
      "metadata": {
        "colab": {
          "base_uri": "https://localhost:8080/"
        },
        "id": "8ega_GuWfnxu",
        "outputId": "d2cef422-0503-4e58-8017-dc04dc3aa88b"
      },
      "source": [
        "XT_dot_X=XT.dot(X2) #multiplication\r\n",
        "XT_dot_X"
      ],
      "execution_count": null,
      "outputs": [
        {
          "output_type": "execute_result",
          "data": {
            "text/plain": [
              "array([[2.06400000e+04, 1.93622895e-12],\n",
              "       [1.93622895e-12, 2.06400000e+04]])"
            ]
          },
          "metadata": {
            "tags": []
          },
          "execution_count": 49
        }
      ]
    },
    {
      "cell_type": "code",
      "metadata": {
        "colab": {
          "base_uri": "https://localhost:8080/"
        },
        "id": "HdJJ1RcBftH1",
        "outputId": "c3657a3f-87f0-4b3c-bb06-a72bb1898131"
      },
      "source": [
        "temp1 = np.linalg.inv(XT_dot_X)\r\n",
        "temp1"
      ],
      "execution_count": null,
      "outputs": [
        {
          "output_type": "execute_result",
          "data": {
            "text/plain": [
              "array([[ 4.84496124e-05, -4.54503597e-21],\n",
              "       [-4.54503597e-21,  4.84496124e-05]])"
            ]
          },
          "metadata": {
            "tags": []
          },
          "execution_count": 50
        }
      ]
    },
    {
      "cell_type": "code",
      "metadata": {
        "colab": {
          "base_uri": "https://localhost:8080/"
        },
        "id": "khpI9o2x2MYp",
        "outputId": "6d6fe343-876d-432d-9625-a3ef97097c37"
      },
      "source": [
        "temp2 = XT.dot(y)\r\n",
        "temp2"
      ],
      "execution_count": null,
      "outputs": [
        {
          "output_type": "execute_result",
          "data": {
            "text/plain": [
              "array([[29421840.        ],\n",
              "       [21204916.04938793]])"
            ]
          },
          "metadata": {
            "tags": []
          },
          "execution_count": 51
        }
      ]
    },
    {
      "cell_type": "code",
      "metadata": {
        "colab": {
          "base_uri": "https://localhost:8080/"
        },
        "id": "Ke8jcFjg2SC3",
        "outputId": "4e2253e0-6831-4e2c-b599-135c77639869"
      },
      "source": [
        "theta = temp1.dot(temp2)\r\n",
        "theta"
      ],
      "execution_count": null,
      "outputs": [
        {
          "output_type": "execute_result",
          "data": {
            "text/plain": [
              "array([[1425.47674419],\n",
              "       [1027.36996363]])"
            ]
          },
          "metadata": {
            "tags": []
          },
          "execution_count": 52
        }
      ]
    },
    {
      "cell_type": "code",
      "metadata": {
        "colab": {
          "base_uri": "https://localhost:8080/"
        },
        "id": "1ZSBLOnn2WFE",
        "outputId": "d84a3ea4-dc11-4955-d9ce-a9c40aa4e279"
      },
      "source": [
        "h=theta[0]+theta[1]*X2\r\n",
        "h"
      ],
      "execution_count": null,
      "outputs": [
        {
          "output_type": "execute_result",
          "data": {
            "text/plain": [
              "array([[2452.84670782,  421.70253675],\n",
              "       [2452.84670782, 3141.14454434],\n",
              "       [2452.84670782,  558.74951539],\n",
              "       ...,\n",
              "       [2452.84670782, 1246.67160427],\n",
              "       [2452.84670782, 1020.94716886],\n",
              "       [2452.84670782, 1507.32958326]])"
            ]
          },
          "metadata": {
            "tags": []
          },
          "execution_count": 53
        }
      ]
    },
    {
      "cell_type": "code",
      "metadata": {
        "colab": {
          "base_uri": "https://localhost:8080/",
          "height": 296
        },
        "id": "77OF6Nxr2yM8",
        "outputId": "3c5dacd3-3802-445d-ad89-124cf9700146"
      },
      "source": [
        "plt.scatter(X,y)\r\n",
        "plt.plot(X2,h,color='red')\r\n",
        "plt.xlabel('Households')\r\n",
        "plt.ylabel('Population')"
      ],
      "execution_count": null,
      "outputs": [
        {
          "output_type": "execute_result",
          "data": {
            "text/plain": [
              "Text(0, 0.5, 'Population')"
            ]
          },
          "metadata": {
            "tags": []
          },
          "execution_count": 55
        },
        {
          "output_type": "display_data",
          "data": {
            "image/png": "[encoded data removed]",
            "text/plain": [
              "<Figure size 432x288 with 1 Axes>"
            ]
          },
          "metadata": {
            "tags": []
          }
        }
      ]
    },
    {
      "cell_type": "markdown",
      "metadata": {
        "id": "7ygax1ey3Cvs"
      },
      "source": [
        "#Logistic Regression"
      ]
    },
    {
      "cell_type": "code",
      "metadata": {
        "id": "_XCekKqq0kqd"
      },
      "source": [
        "from sklearn.datasets import load_wine"
      ],
      "execution_count": 4,
      "outputs": []
    },
    {
      "cell_type": "markdown",
      "metadata": {
        "id": "0qZXXEzoZ7Mx"
      },
      "source": [
        " ['alcohol',\r\n",
        "                     'malic_acid',\r\n",
        "                     'ash',\r\n",
        "                     'alcalinity_of_ash',\r\n",
        "                     'magnesium',\r\n",
        "                     'total_phenols',\r\n",
        "                     'flavanoids',\r\n",
        "                     'nonflavanoid_phenols',\r\n",
        "                     'proanthocyanins',\r\n",
        "                     'color_intensity',\r\n",
        "                     'hue',\r\n",
        "                     'od280/od315_of_diluted_wines',\r\n",
        "                     'proline']"
      ]
    },
    {
      "cell_type": "code",
      "metadata": {
        "id": "vxFoFG4e0nZ4"
      },
      "source": [
        "wine=load_wine()\r\n",
        "X=wine.data\r\n",
        "y=wine.target"
      ],
      "execution_count": null,
      "outputs": []
    },
    {
      "cell_type": "code",
      "metadata": {
        "id": "EWtsa8sa41Ci",
        "colab": {
          "base_uri": "https://localhost:8080/"
        },
        "outputId": "7b2bb8fd-8e59-4993-ae92-48eb5ce1dec2"
      },
      "source": [
        "X=(X-X.min())/(X.max()-X.min()) #Min-max normalization\r\n",
        "X"
      ],
      "execution_count": null,
      "outputs": [
        {
          "output_type": "execute_result",
          "data": {
            "text/plain": [
              "array([[8.39350664e-03, 9.40548971e-04, 1.36915357e-03, ...,\n",
              "        5.41708585e-04, 2.25612696e-03, 6.33900242e-01],\n",
              "       [7.78036396e-03, 9.82218862e-04, 1.19652116e-03, ...,\n",
              "        5.47661426e-04, 1.94657920e-03, 6.24970980e-01],\n",
              "       [7.75655259e-03, 1.32748367e-03, 1.51202176e-03, ...,\n",
              "        5.35755743e-04, 1.80966384e-03, 7.05334341e-01],\n",
              "       ...,\n",
              "       [7.82203385e-03, 2.47042926e-03, 1.26795526e-03, ...,\n",
              "        2.73830713e-04, 8.51256347e-04, 4.96984886e-01],\n",
              "       [7.76250543e-03, 1.46439903e-03, 1.33343652e-03, ...,\n",
              "        2.79783555e-04, 8.86973397e-04, 4.99961307e-01],\n",
              "       [8.33397822e-03, 2.36327811e-03, 1.55369165e-03, ...,\n",
              "        2.85736396e-04, 8.75067714e-04, 3.33281742e-01]])"
            ]
          },
          "metadata": {
            "tags": []
          },
          "execution_count": 116
        }
      ]
    },
    {
      "cell_type": "code",
      "metadata": {
        "id": "cHODyv_y5axG"
      },
      "source": [
        "m=X.shape[0]\r\n",
        "n=X.shape[1]"
      ],
      "execution_count": null,
      "outputs": []
    },
    {
      "cell_type": "code",
      "metadata": {
        "colab": {
          "base_uri": "https://localhost:8080/"
        },
        "id": "AQ6HImCk5k7D",
        "outputId": "5dbf9b8a-ec21-4e17-ec2b-0d1ac4c09f80"
      },
      "source": [
        "print(m)\r\n",
        "print(n)"
      ],
      "execution_count": null,
      "outputs": [
        {
          "output_type": "stream",
          "text": [
            "123840\n",
            "1\n"
          ],
          "name": "stdout"
        }
      ]
    },
    {
      "cell_type": "code",
      "metadata": {
        "id": "7zf2Uzm_5nl4"
      },
      "source": [
        "#sigmoid activation function\r\n",
        "def sigmoid(z):\r\n",
        "  return 1. / (1+np.exp(-z))"
      ],
      "execution_count": null,
      "outputs": []
    },
    {
      "cell_type": "code",
      "metadata": {
        "id": "lb8epoD_5xCh"
      },
      "source": [
        "#initialization of theta and theta0(bias)\r\n",
        "def initTheta(n):\r\n",
        "  theta = np.zeros([n, 1])\r\n",
        "  theta0=0.0\r\n",
        "  return theta, theta0"
      ],
      "execution_count": null,
      "outputs": []
    },
    {
      "cell_type": "code",
      "metadata": {
        "id": "7L7iVF-26tcO"
      },
      "source": [
        "#frwd prop of logistic regression\r\n",
        "def frwdPropLR(theta, theta0, X_train, y_train, lambda_):\r\n",
        "  z=np.dot(np.transpose(theta), X_train) #hypothesis\r\n",
        "  h=sigmoid(z) #bounded hypothesis\r\n",
        "\r\n",
        "  reg = lambda_ * np.sum(theta**2) #regularization\r\n",
        "  cost = -y_train*np.log(h) - (1-y_train)*np.log(1-h) #cost function\r\n",
        "  cost = ((np.sum(cost)) + reg)/X_train.shape[1] \r\n",
        "\r\n",
        "  derivative_weight = ((np.dot(X_train, ((h-y_train).T))) / X_train.shape[1]) #derivative with respect to theta\r\n",
        "  derivative_bias = np.sum(h-y_train)/X_train.shape[1] \r\n",
        "\r\n",
        "  gradients={'derivative_weight': derivative_weight, 'derivative_bias': derivative_bias} #dict of derivatives\r\n",
        "\r\n",
        "  return cost, gradients\r\n"
      ],
      "execution_count": null,
      "outputs": []
    },
    {
      "cell_type": "code",
      "metadata": {
        "id": "MzC27WSR98MR"
      },
      "source": [
        "#updating parameters\r\n",
        "\r\n",
        "def updateParameters(theta, theta0, X_train, y_train, alpha, epochs, lambda_):\r\n",
        "  cost_list=[]\r\n",
        "  cost_list2=[]\r\n",
        "  index=[]\r\n",
        "\r\n",
        "  for i in range(epochs):\r\n",
        "    cost, gradients=frwdPropLR(theta, theta0, X_train, y_train, lambda_)\r\n",
        "    cost_list.append(cost)\r\n",
        "\r\n",
        "    theta=(theta * (1 - (alpha * lambda_)/m)) - (alpha * gradients['derivative_weight'] + ((lambda_) * np.sum(theta))/m) #updating theta(weight)\r\n",
        "    theta0=theta0 - alpha*gradients['derivative_bias'] #updating bias\r\n",
        "\r\n",
        "    if i%10==0: #every 10th cost input in new cost list\r\n",
        "      cost_list2.append(cost)\r\n",
        "      index.append(i)\r\n",
        "\r\n",
        "  parameters = {'weight': theta, 'bias': theta0} #dict of weight and bias\r\n",
        "  plt.plot(index, cost_list2)\r\n",
        "  plt.ylabel('cost')\r\n",
        "  plt.xlabel('epochs')\r\n",
        "  plt.title(\"Learning rate =\" + str(alpha))\r\n",
        "\r\n",
        "  return parameters, gradients, cost_list"
      ],
      "execution_count": null,
      "outputs": []
    },
    {
      "cell_type": "code",
      "metadata": {
        "id": "awqTpAoQ_wDK"
      },
      "source": [
        "#Logistic regression function with regularization\r\n",
        "\r\n",
        "def regulizedLRModel(X_train, y_train, alpha, epochs, lambda_):\r\n",
        "  theta, theta0 = initTheta(X_train.shape[1])\r\n",
        "  parameters, gradients, cost_list = updateParameters(theta0, theta, X_train, y_train, alpha, epochs, lambda_)\r\n",
        "  return parameters, gradients, cost_list"
      ],
      "execution_count": null,
      "outputs": []
    },
    {
      "cell_type": "code",
      "metadata": {
        "id": "Rm91WMBnAWE7"
      },
      "source": [
        "#prediction function\r\n",
        "\r\n",
        "def predict(theta, theta0, X_test):\r\n",
        "  z=sigmoid(np.dot(theta.T, X_test)) #hypothesis\r\n",
        "  y_predict = np.zeros((1, X_test.shape[1])) #size is number of samples of the test set, but X_test is transposed\r\n",
        "\r\n",
        "  for i in range(z.shape[1]):\r\n",
        "    if z[0, i] >= 0.5: #if probability is greater that 0.5 that y_predict is 1, otherwise 0\r\n",
        "      y_predict[0,i]=1\r\n",
        "    else:\r\n",
        "      y_predict[0,i]=0\r\n",
        "    return y_predict"
      ],
      "execution_count": null,
      "outputs": []
    },
    {
      "cell_type": "code",
      "metadata": {
        "id": "lzzDG6IhBQ6c"
      },
      "source": [
        "alpha=0.2\r\n",
        "epochs = 5000\r\n",
        "lambda_=0.0001 #regularization"
      ],
      "execution_count": null,
      "outputs": []
    },
    {
      "cell_type": "markdown",
      "metadata": {
        "id": "z1Wlj-30CASW"
      },
      "source": [
        "###zeroth class"
      ]
    },
    {
      "cell_type": "code",
      "metadata": {
        "id": "VELG45OsCC96"
      },
      "source": [
        "y0=(y != 0)*1 #other classes put to be 1"
      ],
      "execution_count": null,
      "outputs": []
    },
    {
      "cell_type": "code",
      "metadata": {
        "colab": {
          "base_uri": "https://localhost:8080/"
        },
        "id": "OtPDu5Z_CLzT",
        "outputId": "99befc88-018b-4969-cc20-18871ed09e09"
      },
      "source": [
        "y0"
      ],
      "execution_count": null,
      "outputs": [
        {
          "output_type": "execute_result",
          "data": {
            "text/plain": [
              "array([[1],\n",
              "       [1],\n",
              "       [1],\n",
              "       ...,\n",
              "       [1],\n",
              "       [1],\n",
              "       [1]])"
            ]
          },
          "metadata": {
            "tags": []
          },
          "execution_count": 33
        }
      ]
    },
    {
      "cell_type": "code",
      "metadata": {
        "id": "mkyS7GFyCMzm"
      },
      "source": [
        "X0_train, X0_test, y0_train, y0_test = train_test_split(X, y0, test_size=0.20, shuffle=True) #splitting the data into train and test"
      ],
      "execution_count": null,
      "outputs": []
    },
    {
      "cell_type": "code",
      "metadata": {
        "id": "J7XB0f8zCc7b"
      },
      "source": [
        "y0_train = y0_train.reshape(-1, 1)\r\n",
        "y0_test = y0_test.reshape(-1, 1)"
      ],
      "execution_count": null,
      "outputs": []
    },
    {
      "cell_type": "code",
      "metadata": {
        "id": "SnS_isinCl-8"
      },
      "source": [
        "X0_train = X0_train.T\r\n",
        "X0_test = X0_test.T\r\n",
        "y0_test = y0_test.T\r\n",
        "y0_train = y0_train.T"
      ],
      "execution_count": null,
      "outputs": []
    },
    {
      "cell_type": "code",
      "metadata": {
        "colab": {
          "base_uri": "https://localhost:8080/"
        },
        "id": "woQheFToC0Dj",
        "outputId": "34de9348-a805-4eb3-e438-d9e1ad303f74"
      },
      "source": [
        "print(X0_train.shape)\r\n",
        "print(X0_test.shape)\r\n",
        "print(y0_train.shape)\r\n",
        "print(y0_test.shape)"
      ],
      "execution_count": null,
      "outputs": [
        {
          "output_type": "stream",
          "text": [
            "(13, 142)\n",
            "(13, 36)\n",
            "(1, 142)\n",
            "(1, 36)\n"
          ],
          "name": "stdout"
        }
      ]
    },
    {
      "cell_type": "code",
      "metadata": {
        "colab": {
          "base_uri": "https://localhost:8080/",
          "height": 295
        },
        "id": "2_cxH2UXC-M4",
        "outputId": "fa3d71eb-5017-4201-ff23-7d285be834df"
      },
      "source": [
        "parameters0, gradients0, cost_list0 = regulizedLRModel(X0_train, y0_train, alpha, epochs, lambda_)"
      ],
      "execution_count": null,
      "outputs": [
        {
          "output_type": "display_data",
          "data": {
            "image/png": "[encoded data removed]",
            "text/plain": [
              "<Figure size 432x288 with 1 Axes>"
            ]
          },
          "metadata": {
            "tags": [],
            "needs_background": "light"
          }
        }
      ]
    },
    {
      "cell_type": "markdown",
      "metadata": {
        "id": "rCQMApB4DaKz"
      },
      "source": [
        "predict zeroth class"
      ]
    },
    {
      "cell_type": "code",
      "metadata": {
        "id": "5Qu-ilA9DZnr"
      },
      "source": [
        "#optimum bias and weight\r\n",
        "theta0 = parameters0['bias']\r\n",
        "theta = parameters0['weight']"
      ],
      "execution_count": null,
      "outputs": []
    },
    {
      "cell_type": "code",
      "metadata": {
        "colab": {
          "base_uri": "https://localhost:8080/"
        },
        "id": "1c7SEdwDDneA",
        "outputId": "e2c85159-cf92-418d-c9e4-776846ab721e"
      },
      "source": [
        "print(np.shape(theta0))\r\n",
        "print(np.shape(theta))"
      ],
      "execution_count": null,
      "outputs": [
        {
          "output_type": "stream",
          "text": [
            "(142, 1)\n",
            "(13, 13)\n"
          ],
          "name": "stdout"
        }
      ]
    },
    {
      "cell_type": "code",
      "metadata": {
        "id": "Z4gIg-glDuHm"
      },
      "source": [
        "y0_pred = predict(theta, theta0, X0_test)"
      ],
      "execution_count": null,
      "outputs": []
    },
    {
      "cell_type": "code",
      "metadata": {
        "id": "wdL-jaRlD05Q"
      },
      "source": [
        "y0_test = y0_test.reshape(-1,)\r\n",
        "y0_pred = y0_pred.reshape(-1,)"
      ],
      "execution_count": null,
      "outputs": []
    },
    {
      "cell_type": "code",
      "metadata": {
        "colab": {
          "base_uri": "https://localhost:8080/"
        },
        "id": "5XMD5a73D-MR",
        "outputId": "412c6e3d-82fa-4911-9fab-412c105072a5"
      },
      "source": [
        "print(np.shape(y0_test))\r\n",
        "print(np.shape(y0_pred))"
      ],
      "execution_count": null,
      "outputs": [
        {
          "output_type": "stream",
          "text": [
            "(36,)\n",
            "(36,)\n"
          ],
          "name": "stdout"
        }
      ]
    },
    {
      "cell_type": "code",
      "metadata": {
        "colab": {
          "base_uri": "https://localhost:8080/"
        },
        "id": "4LiP27fvEGrr",
        "outputId": "15ab40f0-572a-46cf-8c3a-4c74e439b465"
      },
      "source": [
        "print('Prediction of zeroth class: {:.2f}%'.format(sum(y0_pred == y0_test) / len(y0_test) * 100))"
      ],
      "execution_count": null,
      "outputs": [
        {
          "output_type": "stream",
          "text": [
            "Prediction of zeroth class: 30.56%\n"
          ],
          "name": "stdout"
        }
      ]
    },
    {
      "cell_type": "markdown",
      "metadata": {
        "id": "sHmpr16aEnF1"
      },
      "source": [
        "First class"
      ]
    },
    {
      "cell_type": "code",
      "metadata": {
        "colab": {
          "base_uri": "https://localhost:8080/"
        },
        "id": "aT0MYI5DEXKj",
        "outputId": "86f41f31-8793-44fc-efe1-366bab5f53d2"
      },
      "source": [
        "y1 = (y != 1) * 1\r\n",
        "y1"
      ],
      "execution_count": null,
      "outputs": [
        {
          "output_type": "execute_result",
          "data": {
            "text/plain": [
              "array([1, 1, 1, 1, 1, 1, 1, 1, 1, 1, 1, 1, 1, 1, 1, 1, 1, 1, 1, 1, 1, 1,\n",
              "       1, 1, 1, 1, 1, 1, 1, 1, 1, 1, 1, 1, 1, 1, 1, 1, 1, 1, 1, 1, 1, 1,\n",
              "       1, 1, 1, 1, 1, 1, 1, 1, 1, 1, 1, 1, 1, 1, 1, 0, 0, 0, 0, 0, 0, 0,\n",
              "       0, 0, 0, 0, 0, 0, 0, 0, 0, 0, 0, 0, 0, 0, 0, 0, 0, 0, 0, 0, 0, 0,\n",
              "       0, 0, 0, 0, 0, 0, 0, 0, 0, 0, 0, 0, 0, 0, 0, 0, 0, 0, 0, 0, 0, 0,\n",
              "       0, 0, 0, 0, 0, 0, 0, 0, 0, 0, 0, 0, 0, 0, 0, 0, 0, 0, 0, 0, 1, 1,\n",
              "       1, 1, 1, 1, 1, 1, 1, 1, 1, 1, 1, 1, 1, 1, 1, 1, 1, 1, 1, 1, 1, 1,\n",
              "       1, 1, 1, 1, 1, 1, 1, 1, 1, 1, 1, 1, 1, 1, 1, 1, 1, 1, 1, 1, 1, 1,\n",
              "       1, 1])"
            ]
          },
          "metadata": {
            "tags": []
          },
          "execution_count": 121
        }
      ]
    },
    {
      "cell_type": "code",
      "metadata": {
        "id": "MCP95pRhEtB8"
      },
      "source": [
        "X1_train, X1_test, y1_train, y1_test = train_test_split(X, y1, test_size=0.20, shuffle=True)"
      ],
      "execution_count": null,
      "outputs": []
    },
    {
      "cell_type": "code",
      "metadata": {
        "id": "1YhMjkmEE2zc"
      },
      "source": [
        "y1_train = y1_train.reshape(-1, 1)\r\n",
        "y1_test = y1_test.reshape(-1, 1)"
      ],
      "execution_count": null,
      "outputs": []
    },
    {
      "cell_type": "code",
      "metadata": {
        "id": "-UrUHuucE_S_"
      },
      "source": [
        "X1_train = X1_train.T\r\n",
        "X1_test = X1_test.T\r\n",
        "y1_test = y1_test.T\r\n",
        "y1_train = y1_train.T"
      ],
      "execution_count": null,
      "outputs": []
    },
    {
      "cell_type": "code",
      "metadata": {
        "colab": {
          "base_uri": "https://localhost:8080/"
        },
        "id": "BUFM2w8daGC_",
        "outputId": "e589b967-72cc-45a5-97ff-d7bc20393919"
      },
      "source": [
        "print(X1_train.shape)\r\n",
        "print(X1_test.shape)\r\n",
        "print(y1_train.shape)\r\n",
        "print(y1_test.shape)"
      ],
      "execution_count": null,
      "outputs": [
        {
          "output_type": "stream",
          "text": [
            "(13, 142)\n",
            "(13, 36)\n",
            "(1, 142)\n",
            "(1, 36)\n"
          ],
          "name": "stdout"
        }
      ]
    },
    {
      "cell_type": "code",
      "metadata": {
        "colab": {
          "base_uri": "https://localhost:8080/",
          "height": 295
        },
        "id": "krb0rISNaPH_",
        "outputId": "8478e542-21b0-4049-afcf-766fd5961b68"
      },
      "source": [
        "parameters1, gradients1, cost_list1 = regulizedLRModel(X1_train, y1_train, alpha, epochs, lambda_)"
      ],
      "execution_count": null,
      "outputs": [
        {
          "output_type": "display_data",
          "data": {
            "image/png": "[encoded data removed]",
            "text/plain": [
              "<Figure size 432x288 with 1 Axes>"
            ]
          },
          "metadata": {
            "tags": [],
            "needs_background": "light"
          }
        }
      ]
    },
    {
      "cell_type": "markdown",
      "metadata": {
        "id": "Xkk5w6o8aa64"
      },
      "source": [
        "Predict first class"
      ]
    },
    {
      "cell_type": "code",
      "metadata": {
        "id": "MLp78Df9adLa"
      },
      "source": [
        "theta0=parameters1['bias']\r\n",
        "theta = parameters1['weight']"
      ],
      "execution_count": null,
      "outputs": []
    },
    {
      "cell_type": "code",
      "metadata": {
        "colab": {
          "base_uri": "https://localhost:8080/"
        },
        "id": "PC2nM7xSakO3",
        "outputId": "52ec22af-8620-40d6-eee3-32c9bb81df1a"
      },
      "source": [
        "print(np.shape(theta0))\r\n",
        "print(np.shape(theta))"
      ],
      "execution_count": null,
      "outputs": [
        {
          "output_type": "stream",
          "text": [
            "(142, 1)\n",
            "(13, 13)\n"
          ],
          "name": "stdout"
        }
      ]
    },
    {
      "cell_type": "code",
      "metadata": {
        "id": "oirQ2jNXapZN"
      },
      "source": [
        "y1_pred = predict(theta, theta0, X1_test)"
      ],
      "execution_count": null,
      "outputs": []
    },
    {
      "cell_type": "code",
      "metadata": {
        "id": "97oB2pJBat9j"
      },
      "source": [
        "y1_test = y1_test.reshape(-1,)\r\n",
        "y1_pred = y1_pred.reshape(-1,)"
      ],
      "execution_count": null,
      "outputs": []
    },
    {
      "cell_type": "code",
      "metadata": {
        "colab": {
          "base_uri": "https://localhost:8080/"
        },
        "id": "8HTnR5_ga1Vo",
        "outputId": "24899fee-be06-4674-e9d6-e82c30c335f6"
      },
      "source": [
        "print(np.shape(y1_test))\r\n",
        "print(np.shape(y1_pred))"
      ],
      "execution_count": null,
      "outputs": [
        {
          "output_type": "stream",
          "text": [
            "(36,)\n",
            "(36,)\n"
          ],
          "name": "stdout"
        }
      ]
    },
    {
      "cell_type": "code",
      "metadata": {
        "colab": {
          "base_uri": "https://localhost:8080/"
        },
        "id": "9xUt1rG_a67J",
        "outputId": "d0f2c9fc-594d-4c56-e07e-99d70168e116"
      },
      "source": [
        "print('Prediction of first class: {:.2f}%'.format(sum(y1_pred==y1_test)/len(y1_test)* 100))"
      ],
      "execution_count": null,
      "outputs": [
        {
          "output_type": "stream",
          "text": [
            "Prediction of first class: 41.67%\n"
          ],
          "name": "stdout"
        }
      ]
    },
    {
      "cell_type": "markdown",
      "metadata": {
        "id": "t0VwRXCTbItN"
      },
      "source": [
        "second class"
      ]
    },
    {
      "cell_type": "code",
      "metadata": {
        "colab": {
          "base_uri": "https://localhost:8080/"
        },
        "id": "92iPk4wTbJix",
        "outputId": "b104fd87-032e-4ef1-8512-57a5d43f9792"
      },
      "source": [
        "y2 = (y != 2) * 1\r\n",
        "y2"
      ],
      "execution_count": null,
      "outputs": [
        {
          "output_type": "execute_result",
          "data": {
            "text/plain": [
              "array([1, 1, 1, 1, 1, 1, 1, 1, 1, 1, 1, 1, 1, 1, 1, 1, 1, 1, 1, 1, 1, 1,\n",
              "       1, 1, 1, 1, 1, 1, 1, 1, 1, 1, 1, 1, 1, 1, 1, 1, 1, 1, 1, 1, 1, 1,\n",
              "       1, 1, 1, 1, 1, 1, 1, 1, 1, 1, 1, 1, 1, 1, 1, 1, 1, 1, 1, 1, 1, 1,\n",
              "       1, 1, 1, 1, 1, 1, 1, 1, 1, 1, 1, 1, 1, 1, 1, 1, 1, 1, 1, 1, 1, 1,\n",
              "       1, 1, 1, 1, 1, 1, 1, 1, 1, 1, 1, 1, 1, 1, 1, 1, 1, 1, 1, 1, 1, 1,\n",
              "       1, 1, 1, 1, 1, 1, 1, 1, 1, 1, 1, 1, 1, 1, 1, 1, 1, 1, 1, 1, 0, 0,\n",
              "       0, 0, 0, 0, 0, 0, 0, 0, 0, 0, 0, 0, 0, 0, 0, 0, 0, 0, 0, 0, 0, 0,\n",
              "       0, 0, 0, 0, 0, 0, 0, 0, 0, 0, 0, 0, 0, 0, 0, 0, 0, 0, 0, 0, 0, 0,\n",
              "       0, 0])"
            ]
          },
          "metadata": {
            "tags": []
          },
          "execution_count": 133
        }
      ]
    },
    {
      "cell_type": "code",
      "metadata": {
        "id": "BXDExMalbPCx"
      },
      "source": [
        "X2_train, X2_test, y2_train, y2_test = train_test_split(X, y2, test_size=0.20, shuffle=True)"
      ],
      "execution_count": null,
      "outputs": []
    },
    {
      "cell_type": "code",
      "metadata": {
        "id": "CuFHVuKtbY57"
      },
      "source": [
        "y2_train = y2_train.reshape(-1, 1)\r\n",
        "y2_test = y2_test.reshape(-1, 1)"
      ],
      "execution_count": null,
      "outputs": []
    },
    {
      "cell_type": "code",
      "metadata": {
        "id": "INRPM25Xf2kL"
      },
      "source": [
        "X2_train = X2_train.T\r\n",
        "X2_test = X2_test.T\r\n",
        "y2_test = y2_test.T\r\n",
        "y2_train = y2_train.T"
      ],
      "execution_count": null,
      "outputs": []
    },
    {
      "cell_type": "code",
      "metadata": {
        "colab": {
          "base_uri": "https://localhost:8080/"
        },
        "id": "PiX9iKM1gKZQ",
        "outputId": "5be9daa7-cf30-4bfb-e70d-a299eb3acfbf"
      },
      "source": [
        "print(X2_train.shape)\r\n",
        "print(X2_test.shape)\r\n",
        "print(y2_train.shape)\r\n",
        "print(y2_test.shape)"
      ],
      "execution_count": null,
      "outputs": [
        {
          "output_type": "stream",
          "text": [
            "(13, 142)\n",
            "(13, 36)\n",
            "(1, 142)\n",
            "(1, 36)\n"
          ],
          "name": "stdout"
        }
      ]
    },
    {
      "cell_type": "code",
      "metadata": {
        "colab": {
          "base_uri": "https://localhost:8080/",
          "height": 295
        },
        "id": "Mz9SFKSzgUKD",
        "outputId": "765a285c-49df-4b96-982d-d76d11062cf2"
      },
      "source": [
        "parameters2, gradients2, cost_list2 = regulizedLRModel(X2_train, y2_train, alpha, epochs, lambda_)"
      ],
      "execution_count": null,
      "outputs": [
        {
          "output_type": "display_data",
          "data": {
            "image/png": "[encoded data removed]",
            "text/plain": [
              "<Figure size 432x288 with 1 Axes>"
            ]
          },
          "metadata": {
            "tags": [],
            "needs_background": "light"
          }
        }
      ]
    },
    {
      "cell_type": "markdown",
      "metadata": {
        "id": "2tfk81r4g6TG"
      },
      "source": [
        "Predict second class"
      ]
    },
    {
      "cell_type": "code",
      "metadata": {
        "id": "4-H7Npcwg9A5"
      },
      "source": [
        "theta0 = parameters2['bias']\r\n",
        "theta = parameters2['weight']"
      ],
      "execution_count": null,
      "outputs": []
    },
    {
      "cell_type": "code",
      "metadata": {
        "colab": {
          "base_uri": "https://localhost:8080/"
        },
        "id": "-NbEntixhCap",
        "outputId": "44165820-a142-475b-90d0-92409f12623f"
      },
      "source": [
        "print(np.shape(theta0))\r\n",
        "print(np.shape(theta))"
      ],
      "execution_count": null,
      "outputs": [
        {
          "output_type": "stream",
          "text": [
            "(142, 1)\n",
            "(13, 13)\n"
          ],
          "name": "stdout"
        }
      ]
    },
    {
      "cell_type": "code",
      "metadata": {
        "id": "kIDCTWGxhO04"
      },
      "source": [
        "y2_pred = predict(theta, theta0, X2_test)"
      ],
      "execution_count": null,
      "outputs": []
    },
    {
      "cell_type": "code",
      "metadata": {
        "id": "aOsfzQz4hVxL"
      },
      "source": [
        "y2_test = y2_test.reshape(-1,)\r\n",
        "y2_pred = y2_pred.reshape(-1,)"
      ],
      "execution_count": null,
      "outputs": []
    },
    {
      "cell_type": "code",
      "metadata": {
        "colab": {
          "base_uri": "https://localhost:8080/"
        },
        "id": "F7fPi9wFheyP",
        "outputId": "474eeb6d-8229-4e7a-93e2-ba41e96786cf"
      },
      "source": [
        "print(np.shape(y2_test))\r\n",
        "print(np.shape(y2_pred))"
      ],
      "execution_count": null,
      "outputs": [
        {
          "output_type": "stream",
          "text": [
            "(36,)\n",
            "(36,)\n"
          ],
          "name": "stdout"
        }
      ]
    },
    {
      "cell_type": "code",
      "metadata": {
        "colab": {
          "base_uri": "https://localhost:8080/"
        },
        "id": "1vWdyuwqhm3A",
        "outputId": "5de6afcf-2b83-4341-ca97-6c81977aa19f"
      },
      "source": [
        "print('Prediction of second class: {:.2f}%'.format(sum(y2_pred == y2_test) / len(y2_test) * 100))"
      ],
      "execution_count": null,
      "outputs": [
        {
          "output_type": "stream",
          "text": [
            "Prediction of second class: 27.78%\n"
          ],
          "name": "stdout"
        }
      ]
    },
    {
      "cell_type": "markdown",
      "metadata": {
        "id": "wCPEMOakja-t"
      },
      "source": [
        "Summarized:"
      ]
    },
    {
      "cell_type": "code",
      "metadata": {
        "colab": {
          "base_uri": "https://localhost:8080/"
        },
        "id": "HhQDiSDVjdY6",
        "outputId": "f8441996-9518-4989-c92b-9e9977d11684"
      },
      "source": [
        "print('Prediction of zeroth class: {:.2f}%'.format(sum(y0_pred == y0_test) / len(y0_test) * 100))\r\n",
        "print('Prediction of first class: {:.2f}%'.format(sum(y1_pred == y1_test) / len(y1_test) * 100))\r\n",
        "print('Prediction of second class: {:.2f}%'.format(sum(y2_pred == y2_test) / len(y2_test) * 100))"
      ],
      "execution_count": null,
      "outputs": [
        {
          "output_type": "stream",
          "text": [
            "Prediction of zeroth class: 30.56%\n",
            "Prediction of first class: 41.67%\n",
            "Prediction of second class: 27.78%\n"
          ],
          "name": "stdout"
        }
      ]
    },
    {
      "cell_type": "markdown",
      "metadata": {
        "id": "-Pg4XdhEjhd7"
      },
      "source": [
        "#sklearn prediction"
      ]
    },
    {
      "cell_type": "code",
      "metadata": {
        "id": "nEnwi5982w-p"
      },
      "source": [
        "from sklearn.linear_model import LogisticRegression"
      ],
      "execution_count": null,
      "outputs": []
    },
    {
      "cell_type": "code",
      "metadata": {
        "colab": {
          "base_uri": "https://localhost:8080/"
        },
        "id": "fIn-m_xmjj0g",
        "outputId": "f5203cbe-52bf-4ec6-9f42-c5955ae159f1"
      },
      "source": [
        "model0 = LogisticRegression().fit(X0_train.T, y0_train.T)"
      ],
      "execution_count": null,
      "outputs": [
        {
          "output_type": "stream",
          "text": [
            "/usr/local/lib/python3.6/dist-packages/sklearn/utils/validation.py:760: DataConversionWarning: A column-vector y was passed when a 1d array was expected. Please change the shape of y to (n_samples, ), for example using ravel().\n",
            "  y = column_or_1d(y, warn=True)\n"
          ],
          "name": "stderr"
        }
      ]
    },
    {
      "cell_type": "code",
      "metadata": {
        "colab": {
          "base_uri": "https://localhost:8080/"
        },
        "id": "zRu47s_pj3RB",
        "outputId": "eae8a5da-2c3b-46fa-d0dc-e37324a8c33a"
      },
      "source": [
        "model0.score(X0_train.T, y0_train.T)"
      ],
      "execution_count": null,
      "outputs": [
        {
          "output_type": "execute_result",
          "data": {
            "text/plain": [
              "0.9014084507042254"
            ]
          },
          "metadata": {
            "tags": []
          },
          "execution_count": 148
        }
      ]
    },
    {
      "cell_type": "code",
      "metadata": {
        "colab": {
          "base_uri": "https://localhost:8080/"
        },
        "id": "Fza9mAoLj8WW",
        "outputId": "478ae9e0-e3cb-4e33-d8dd-78d1f59d96e9"
      },
      "source": [
        "model1 = LogisticRegression().fit(X1_train.T, y1_train.T)"
      ],
      "execution_count": null,
      "outputs": [
        {
          "output_type": "stream",
          "text": [
            "/usr/local/lib/python3.6/dist-packages/sklearn/utils/validation.py:760: DataConversionWarning: A column-vector y was passed when a 1d array was expected. Please change the shape of y to (n_samples, ), for example using ravel().\n",
            "  y = column_or_1d(y, warn=True)\n"
          ],
          "name": "stderr"
        }
      ]
    },
    {
      "cell_type": "code",
      "metadata": {
        "colab": {
          "base_uri": "https://localhost:8080/"
        },
        "id": "GRUEp4iGkXDA",
        "outputId": "d7b4c543-757d-4aae-d4a1-cbb98750edeb"
      },
      "source": [
        "model1.score(X1_train.T, y1_train.T)"
      ],
      "execution_count": null,
      "outputs": [
        {
          "output_type": "execute_result",
          "data": {
            "text/plain": [
              "0.7605633802816901"
            ]
          },
          "metadata": {
            "tags": []
          },
          "execution_count": 150
        }
      ]
    },
    {
      "cell_type": "code",
      "metadata": {
        "colab": {
          "base_uri": "https://localhost:8080/"
        },
        "id": "0cgQB3kakbmx",
        "outputId": "f29d152f-5eb2-4192-cd6e-929b759e31b2"
      },
      "source": [
        "model2 = LogisticRegression().fit(X2_train.T, y2_train.T)"
      ],
      "execution_count": null,
      "outputs": [
        {
          "output_type": "stream",
          "text": [
            "/usr/local/lib/python3.6/dist-packages/sklearn/utils/validation.py:760: DataConversionWarning: A column-vector y was passed when a 1d array was expected. Please change the shape of y to (n_samples, ), for example using ravel().\n",
            "  y = column_or_1d(y, warn=True)\n"
          ],
          "name": "stderr"
        }
      ]
    },
    {
      "cell_type": "code",
      "metadata": {
        "colab": {
          "base_uri": "https://localhost:8080/"
        },
        "id": "gGS9DYH_oWs5",
        "outputId": "5a6a9aec-59fc-473d-9df7-9b3aa753aed2"
      },
      "source": [
        "model2.score(X2_train.T, y2_train.T)"
      ],
      "execution_count": null,
      "outputs": [
        {
          "output_type": "execute_result",
          "data": {
            "text/plain": [
              "0.7394366197183099"
            ]
          },
          "metadata": {
            "tags": []
          },
          "execution_count": 152
        }
      ]
    },
    {
      "cell_type": "markdown",
      "metadata": {
        "id": "fR8PsB9eovtv"
      },
      "source": [
        "#Neural Networks"
      ]
    },
    {
      "cell_type": "code",
      "metadata": {
        "id": "O2nXSRiQoxnc"
      },
      "source": [
        "from sklearn.datasets import load_boston\r\n",
        "from math import exp\r\n",
        "from random import seed\r\n",
        "from random import random"
      ],
      "execution_count": null,
      "outputs": []
    },
    {
      "cell_type": "code",
      "metadata": {
        "id": "oRqXxP_y4nTs"
      },
      "source": [
        "def initializeNetwork(inputNumber, hiddenNUmber, outputNumber):\r\n",
        "\tnetwork = list()\r\n",
        "\thiddenLayer = [{'weights':[random() for i in range(inputNumber + 1)]} for i in range(hiddenNUmber)] \r\n",
        "\tnetwork.append(hiddenLayer)\r\n",
        "\toutputLayer = [{'weights':[random() for i in range(hiddenNUmber + 1)]} for i in range(outputNumber)]\r\n",
        "\tnetwork.append(outputLayer)\r\n",
        "\treturn network"
      ],
      "execution_count": null,
      "outputs": []
    },
    {
      "cell_type": "code",
      "metadata": {
        "id": "vI8ED3r_4o_T"
      },
      "source": [
        "def sigmoid(z):\r\n",
        "\treturn 1.0 / (1.0 + exp(-z))\r\n",
        "def sigmoidDerivative(output):\r\n",
        "  return output*(1.0-output)\r\n",
        "def activate(weights, inputs):\r\n",
        "  z = weights[-1]\r\n",
        "  for i in range(len(weights)-1):\r\n",
        "    z += weights[i] * inputs[i]\r\n",
        "  return z"
      ],
      "execution_count": null,
      "outputs": []
    },
    {
      "cell_type": "code",
      "metadata": {
        "id": "ooGAVuk44qQj"
      },
      "source": [
        "def forwardPropagate(network, sample):\r\n",
        "\tinputs = sample\r\n",
        "\tfor layer in network:\r\n",
        "\t\tnewInputs = []\r\n",
        "\t\tfor neuron in layer:\r\n",
        "\t\t\tz = activate(neuron['weights'], inputs)\r\n",
        "\t\t\tneuron['output'] = sigmoid(z)\r\n",
        "\t\t\tnewInputs.append(neuron['output'])\r\n",
        "\t\tinputs = newInputs\r\n",
        "\treturn inputs"
      ],
      "execution_count": null,
      "outputs": []
    },
    {
      "cell_type": "code",
      "metadata": {
        "id": "iTcZ0pH04rgT"
      },
      "source": [
        "def backPropagateError(network,y):\r\n",
        "  for i in reversed(range(len(network))):\r\n",
        "    layer=network[i]\r\n",
        "    errors=list()\r\n",
        "    if i!=len(network)-1:\r\n",
        "      for j in range(len(layer)):\r\n",
        "        error=0.0\r\n",
        "        for neuron in network[i+1]:\r\n",
        "          error=error+neuron['weights'][j]*neuron['delta']\r\n",
        "          errors.append(error)\r\n",
        "    else:\r\n",
        "      for j in range(len(layer)):\r\n",
        "        neuron=layer[j]\r\n",
        "        errors.append(y[j]-neuron['output'])\r\n",
        "    for j in range(len(layer)):\r\n",
        "      neuron=layer[j]\r\n",
        "      neuron['delta']=errors[j]*sigmoidDerivative(neuron['output'])"
      ],
      "execution_count": null,
      "outputs": []
    },
    {
      "cell_type": "code",
      "metadata": {
        "id": "2GdcCJ0A4sr5"
      },
      "source": [
        "def updateWeights(network, sample, alpha):\r\n",
        "\tfor i in range(len(network)):\r\n",
        "\t\tinputs = sample[:-1]\r\n",
        "\t\tif i != 0:\r\n",
        "\t\t\tinputs = [neuron['output'] for neuron in network[i - 1]]\r\n",
        "\t\tfor neuron in network[i]:\r\n",
        "\t\t\tfor j in range(len(inputs)):\r\n",
        "\t\t\t\tneuron['weights'][j]=neuron['weights'][j]+alpha * neuron['delta'] * inputs[j]\r\n",
        "\t\t\tneuron['weights'][-1]=neuron['weights'][-1]+ alpha * neuron['delta']"
      ],
      "execution_count": null,
      "outputs": []
    },
    {
      "cell_type": "code",
      "metadata": {
        "id": "I-nHgZWW4uaJ"
      },
      "source": [
        "def trainNetwork(network, train, alpha, epochs, outputNumber):\r\n",
        "  for instance in range(epochs):\r\n",
        "    errorSum = 0\r\n",
        "    for sample in train:\r\n",
        "      outputs = forwardPropagate(network, sample)\r\n",
        "      y = [0 for i in range(outputNumber)]\r\n",
        "      y[int(sample[-1])] = 1\r\n",
        "      errorSum += sum([(y[i]-outputs[i])**2 for i in range(len(y))])\r\n",
        "      backPropagateError(network, y)\r\n",
        "      updateWeights(network, sample, alpha)\r\n",
        "    print('Instane:',instance,'Learning rate:',alpha,', error %.2f:'%errorSum)"
      ],
      "execution_count": null,
      "outputs": []
    },
    {
      "cell_type": "code",
      "metadata": {
        "id": "8EslJOHl4vgA"
      },
      "source": [
        "def predict(network,sample):\r\n",
        "  outputs=forwardPropagate(network,sample)\r\n",
        "  return outputs.index(max(outputs))"
      ],
      "execution_count": null,
      "outputs": []
    },
    {
      "cell_type": "code",
      "metadata": {
        "id": "Sign60Svw9qY"
      },
      "source": [
        "X=(X-X.min())/(X.max()-X.min()) #minmax normalization\r\n",
        "XTrain, XTest, yTrain, yTest = train_test_split( X, y, test_size = 0.15)"
      ],
      "execution_count": null,
      "outputs": []
    },
    {
      "cell_type": "code",
      "metadata": {
        "id": "MrqMIOKL1-sb"
      },
      "source": [
        "wine=load_wine()\r\n",
        "X=wine.data\r\n",
        "y=wine.target\r\n",
        "X=(X-X.min())/(X.max()-X.min()) #minmax normalization\r\n",
        "XTrain, XTest, yTrain, yTest = train_test_split( X, y, test_size = 0.15)"
      ],
      "execution_count": null,
      "outputs": []
    },
    {
      "cell_type": "code",
      "metadata": {
        "id": "d3A4KDLI4xvs"
      },
      "source": [
        "trainDataset=np.c_[XTrain,yTrain]\r\n",
        "testDataset=np.c_[XTest,yTest]"
      ],
      "execution_count": null,
      "outputs": []
    },
    {
      "cell_type": "code",
      "metadata": {
        "id": "Y2GqyHdQ4zcU"
      },
      "source": [
        "seed(1)\r\n",
        "inputNumber=len(trainDataset[0])-1\r\n",
        "outputNumber=len(set([sample[-1] for sample in trainDataset]))\r\n",
        "hiddenNumber=len(yTrain)//(5*(inputNumber-outputNumber))\r\n",
        "network=initializeNetwork(inputNumber, hiddenNumber, outputNumber)\r\n",
        "alpha=0.3\r\n",
        "epochs=10000"
      ],
      "execution_count": null,
      "outputs": []
    },
    {
      "cell_type": "code",
      "metadata": {
        "colab": {
          "base_uri": "https://localhost:8080/"
        },
        "id": "8HSa_Vug40Y8",
        "outputId": "5a2c1344-8680-471a-bdb1-e7a528fe5221"
      },
      "source": [
        "trainNetwork(network,trainDataset,alpha,epochs,outputNumber)\r\n",
        "for layer in network:\r\n",
        "  print(layer)"
      ],
      "execution_count": null,
      "outputs": [
        {
          "output_type": "stream",
          "text": [
            "\u001b[1;30;43mStreaming output truncated to the last 5000 lines.\u001b[0m\n",
            "Instane: 5002 Learning rate: 0.3 , error 48.98:\n",
            "Instane: 5003 Learning rate: 0.3 , error 48.98:\n",
            "Instane: 5004 Learning rate: 0.3 , error 48.98:\n",
            "Instane: 5005 Learning rate: 0.3 , error 48.98:\n",
            "Instane: 5006 Learning rate: 0.3 , error 48.98:\n",
            "Instane: 5007 Learning rate: 0.3 , error 48.98:\n",
            "Instane: 5008 Learning rate: 0.3 , error 48.98:\n",
            "Instane: 5009 Learning rate: 0.3 , error 48.98:\n",
            "Instane: 5010 Learning rate: 0.3 , error 48.98:\n",
            "Instane: 5011 Learning rate: 0.3 , error 48.98:\n",
            "Instane: 5012 Learning rate: 0.3 , error 48.98:\n",
            "Instane: 5013 Learning rate: 0.3 , error 48.98:\n",
            "Instane: 5014 Learning rate: 0.3 , error 48.98:\n",
            "Instane: 5015 Learning rate: 0.3 , error 48.98:\n",
            "Instane: 5016 Learning rate: 0.3 , error 48.98:\n",
            "Instane: 5017 Learning rate: 0.3 , error 48.98:\n",
            "Instane: 5018 Learning rate: 0.3 , error 48.98:\n",
            "Instane: 5019 Learning rate: 0.3 , error 48.98:\n",
            "Instane: 5020 Learning rate: 0.3 , error 48.98:\n",
            "Instane: 5021 Learning rate: 0.3 , error 48.98:\n",
            "Instane: 5022 Learning rate: 0.3 , error 48.98:\n",
            "Instane: 5023 Learning rate: 0.3 , error 48.98:\n",
            "Instane: 5024 Learning rate: 0.3 , error 48.98:\n",
            "Instane: 5025 Learning rate: 0.3 , error 48.98:\n",
            "Instane: 5026 Learning rate: 0.3 , error 48.98:\n",
            "Instane: 5027 Learning rate: 0.3 , error 48.98:\n",
            "Instane: 5028 Learning rate: 0.3 , error 48.98:\n",
            "Instane: 5029 Learning rate: 0.3 , error 48.98:\n",
            "Instane: 5030 Learning rate: 0.3 , error 48.98:\n",
            "Instane: 5031 Learning rate: 0.3 , error 48.98:\n",
            "Instane: 5032 Learning rate: 0.3 , error 48.98:\n",
            "Instane: 5033 Learning rate: 0.3 , error 48.98:\n",
            "Instane: 5034 Learning rate: 0.3 , error 48.98:\n",
            "Instane: 5035 Learning rate: 0.3 , error 48.98:\n",
            "Instane: 5036 Learning rate: 0.3 , error 48.98:\n",
            "Instane: 5037 Learning rate: 0.3 , error 48.98:\n",
            "Instane: 5038 Learning rate: 0.3 , error 48.98:\n",
            "Instane: 5039 Learning rate: 0.3 , error 48.98:\n",
            "Instane: 5040 Learning rate: 0.3 , error 48.98:\n",
            "Instane: 5041 Learning rate: 0.3 , error 48.98:\n",
            "Instane: 5042 Learning rate: 0.3 , error 48.98:\n",
            "Instane: 5043 Learning rate: 0.3 , error 48.98:\n",
            "Instane: 5044 Learning rate: 0.3 , error 48.98:\n",
            "Instane: 5045 Learning rate: 0.3 , error 48.98:\n",
            "Instane: 5046 Learning rate: 0.3 , error 48.98:\n",
            "Instane: 5047 Learning rate: 0.3 , error 48.98:\n",
            "Instane: 5048 Learning rate: 0.3 , error 48.98:\n",
            "Instane: 5049 Learning rate: 0.3 , error 48.98:\n",
            "Instane: 5050 Learning rate: 0.3 , error 48.98:\n",
            "Instane: 5051 Learning rate: 0.3 , error 48.98:\n",
            "Instane: 5052 Learning rate: 0.3 , error 48.98:\n",
            "Instane: 5053 Learning rate: 0.3 , error 48.98:\n",
            "Instane: 5054 Learning rate: 0.3 , error 48.98:\n",
            "Instane: 5055 Learning rate: 0.3 , error 48.98:\n",
            "Instane: 5056 Learning rate: 0.3 , error 48.98:\n",
            "Instane: 5057 Learning rate: 0.3 , error 48.98:\n",
            "Instane: 5058 Learning rate: 0.3 , error 48.98:\n",
            "Instane: 5059 Learning rate: 0.3 , error 48.98:\n",
            "Instane: 5060 Learning rate: 0.3 , error 48.98:\n",
            "Instane: 5061 Learning rate: 0.3 , error 48.98:\n",
            "Instane: 5062 Learning rate: 0.3 , error 48.98:\n",
            "Instane: 5063 Learning rate: 0.3 , error 48.98:\n",
            "Instane: 5064 Learning rate: 0.3 , error 48.98:\n",
            "Instane: 5065 Learning rate: 0.3 , error 48.98:\n",
            "Instane: 5066 Learning rate: 0.3 , error 48.98:\n",
            "Instane: 5067 Learning rate: 0.3 , error 48.98:\n",
            "Instane: 5068 Learning rate: 0.3 , error 48.98:\n",
            "Instane: 5069 Learning rate: 0.3 , error 48.98:\n",
            "Instane: 5070 Learning rate: 0.3 , error 48.98:\n",
            "Instane: 5071 Learning rate: 0.3 , error 48.98:\n",
            "Instane: 5072 Learning rate: 0.3 , error 48.98:\n",
            "Instane: 5073 Learning rate: 0.3 , error 48.98:\n",
            "Instane: 5074 Learning rate: 0.3 , error 48.98:\n",
            "Instane: 5075 Learning rate: 0.3 , error 48.98:\n",
            "Instane: 5076 Learning rate: 0.3 , error 48.98:\n",
            "Instane: 5077 Learning rate: 0.3 , error 48.98:\n",
            "Instane: 5078 Learning rate: 0.3 , error 48.98:\n",
            "Instane: 5079 Learning rate: 0.3 , error 48.98:\n",
            "Instane: 5080 Learning rate: 0.3 , error 48.98:\n",
            "Instane: 5081 Learning rate: 0.3 , error 48.98:\n",
            "Instane: 5082 Learning rate: 0.3 , error 48.98:\n",
            "Instane: 5083 Learning rate: 0.3 , error 48.98:\n",
            "Instane: 5084 Learning rate: 0.3 , error 48.98:\n",
            "Instane: 5085 Learning rate: 0.3 , error 48.98:\n",
            "Instane: 5086 Learning rate: 0.3 , error 48.98:\n",
            "Instane: 5087 Learning rate: 0.3 , error 48.98:\n",
            "Instane: 5088 Learning rate: 0.3 , error 48.98:\n",
            "Instane: 5089 Learning rate: 0.3 , error 48.98:\n",
            "Instane: 5090 Learning rate: 0.3 , error 48.98:\n",
            "Instane: 5091 Learning rate: 0.3 , error 48.98:\n",
            "Instane: 5092 Learning rate: 0.3 , error 48.98:\n",
            "Instane: 5093 Learning rate: 0.3 , error 48.98:\n",
            "Instane: 5094 Learning rate: 0.3 , error 48.98:\n",
            "Instane: 5095 Learning rate: 0.3 , error 48.98:\n",
            "Instane: 5096 Learning rate: 0.3 , error 48.98:\n",
            "Instane: 5097 Learning rate: 0.3 , error 48.97:\n",
            "Instane: 5098 Learning rate: 0.3 , error 48.97:\n",
            "Instane: 5099 Learning rate: 0.3 , error 48.97:\n",
            "Instane: 5100 Learning rate: 0.3 , error 48.97:\n",
            "Instane: 5101 Learning rate: 0.3 , error 48.97:\n",
            "Instane: 5102 Learning rate: 0.3 , error 48.97:\n",
            "Instane: 5103 Learning rate: 0.3 , error 48.97:\n",
            "Instane: 5104 Learning rate: 0.3 , error 48.97:\n",
            "Instane: 5105 Learning rate: 0.3 , error 48.97:\n",
            "Instane: 5106 Learning rate: 0.3 , error 48.97:\n",
            "Instane: 5107 Learning rate: 0.3 , error 48.97:\n",
            "Instane: 5108 Learning rate: 0.3 , error 48.97:\n",
            "Instane: 5109 Learning rate: 0.3 , error 48.97:\n",
            "Instane: 5110 Learning rate: 0.3 , error 48.97:\n",
            "Instane: 5111 Learning rate: 0.3 , error 48.97:\n",
            "Instane: 5112 Learning rate: 0.3 , error 48.97:\n",
            "Instane: 5113 Learning rate: 0.3 , error 48.97:\n",
            "Instane: 5114 Learning rate: 0.3 , error 48.97:\n",
            "Instane: 5115 Learning rate: 0.3 , error 48.97:\n",
            "Instane: 5116 Learning rate: 0.3 , error 48.97:\n",
            "Instane: 5117 Learning rate: 0.3 , error 48.97:\n",
            "Instane: 5118 Learning rate: 0.3 , error 48.97:\n",
            "Instane: 5119 Learning rate: 0.3 , error 48.97:\n",
            "Instane: 5120 Learning rate: 0.3 , error 48.97:\n",
            "Instane: 5121 Learning rate: 0.3 , error 48.97:\n",
            "Instane: 5122 Learning rate: 0.3 , error 48.97:\n",
            "Instane: 5123 Learning rate: 0.3 , error 48.97:\n",
            "Instane: 5124 Learning rate: 0.3 , error 48.97:\n",
            "Instane: 5125 Learning rate: 0.3 , error 48.97:\n",
            "Instane: 5126 Learning rate: 0.3 , error 48.97:\n",
            "Instane: 5127 Learning rate: 0.3 , error 48.97:\n",
            "Instane: 5128 Learning rate: 0.3 , error 48.97:\n",
            "Instane: 5129 Learning rate: 0.3 , error 48.97:\n",
            "Instane: 5130 Learning rate: 0.3 , error 48.97:\n",
            "Instane: 5131 Learning rate: 0.3 , error 48.97:\n",
            "Instane: 5132 Learning rate: 0.3 , error 48.97:\n",
            "Instane: 5133 Learning rate: 0.3 , error 48.97:\n",
            "Instane: 5134 Learning rate: 0.3 , error 48.97:\n",
            "Instane: 5135 Learning rate: 0.3 , error 48.97:\n",
            "Instane: 5136 Learning rate: 0.3 , error 48.97:\n",
            "Instane: 5137 Learning rate: 0.3 , error 48.97:\n",
            "Instane: 5138 Learning rate: 0.3 , error 48.97:\n",
            "Instane: 5139 Learning rate: 0.3 , error 48.97:\n",
            "Instane: 5140 Learning rate: 0.3 , error 48.97:\n",
            "Instane: 5141 Learning rate: 0.3 , error 48.97:\n",
            "Instane: 5142 Learning rate: 0.3 , error 48.97:\n",
            "Instane: 5143 Learning rate: 0.3 , error 48.97:\n",
            "Instane: 5144 Learning rate: 0.3 , error 48.97:\n",
            "Instane: 5145 Learning rate: 0.3 , error 48.97:\n",
            "Instane: 5146 Learning rate: 0.3 , error 48.97:\n",
            "Instane: 5147 Learning rate: 0.3 , error 48.97:\n",
            "Instane: 5148 Learning rate: 0.3 , error 48.97:\n",
            "Instane: 5149 Learning rate: 0.3 , error 48.97:\n",
            "Instane: 5150 Learning rate: 0.3 , error 48.97:\n",
            "Instane: 5151 Learning rate: 0.3 , error 48.97:\n",
            "Instane: 5152 Learning rate: 0.3 , error 48.97:\n",
            "Instane: 5153 Learning rate: 0.3 , error 48.97:\n",
            "Instane: 5154 Learning rate: 0.3 , error 48.97:\n",
            "Instane: 5155 Learning rate: 0.3 , error 48.97:\n",
            "Instane: 5156 Learning rate: 0.3 , error 48.97:\n",
            "Instane: 5157 Learning rate: 0.3 , error 48.97:\n",
            "Instane: 5158 Learning rate: 0.3 , error 48.97:\n",
            "Instane: 5159 Learning rate: 0.3 , error 48.97:\n",
            "Instane: 5160 Learning rate: 0.3 , error 48.97:\n",
            "Instane: 5161 Learning rate: 0.3 , error 48.97:\n",
            "Instane: 5162 Learning rate: 0.3 , error 48.97:\n",
            "Instane: 5163 Learning rate: 0.3 , error 48.97:\n",
            "Instane: 5164 Learning rate: 0.3 , error 48.97:\n",
            "Instane: 5165 Learning rate: 0.3 , error 48.97:\n",
            "Instane: 5166 Learning rate: 0.3 , error 48.97:\n",
            "Instane: 5167 Learning rate: 0.3 , error 48.97:\n",
            "Instane: 5168 Learning rate: 0.3 , error 48.97:\n",
            "Instane: 5169 Learning rate: 0.3 , error 48.97:\n",
            "Instane: 5170 Learning rate: 0.3 , error 48.97:\n",
            "Instane: 5171 Learning rate: 0.3 , error 48.97:\n",
            "Instane: 5172 Learning rate: 0.3 , error 48.97:\n",
            "Instane: 5173 Learning rate: 0.3 , error 48.97:\n",
            "Instane: 5174 Learning rate: 0.3 , error 48.97:\n",
            "Instane: 5175 Learning rate: 0.3 , error 48.97:\n",
            "Instane: 5176 Learning rate: 0.3 , error 48.97:\n",
            "Instane: 5177 Learning rate: 0.3 , error 48.97:\n",
            "Instane: 5178 Learning rate: 0.3 , error 48.97:\n",
            "Instane: 5179 Learning rate: 0.3 , error 48.97:\n",
            "Instane: 5180 Learning rate: 0.3 , error 48.97:\n",
            "Instane: 5181 Learning rate: 0.3 , error 48.97:\n",
            "Instane: 5182 Learning rate: 0.3 , error 48.97:\n",
            "Instane: 5183 Learning rate: 0.3 , error 48.97:\n",
            "Instane: 5184 Learning rate: 0.3 , error 48.97:\n",
            "Instane: 5185 Learning rate: 0.3 , error 48.97:\n",
            "Instane: 5186 Learning rate: 0.3 , error 48.97:\n",
            "Instane: 5187 Learning rate: 0.3 , error 48.97:\n",
            "Instane: 5188 Learning rate: 0.3 , error 48.97:\n",
            "Instane: 5189 Learning rate: 0.3 , error 48.97:\n",
            "Instane: 5190 Learning rate: 0.3 , error 48.97:\n",
            "Instane: 5191 Learning rate: 0.3 , error 48.97:\n",
            "Instane: 5192 Learning rate: 0.3 , error 48.97:\n",
            "Instane: 5193 Learning rate: 0.3 , error 48.97:\n",
            "Instane: 5194 Learning rate: 0.3 , error 48.97:\n",
            "Instane: 5195 Learning rate: 0.3 , error 48.97:\n",
            "Instane: 5196 Learning rate: 0.3 , error 48.97:\n",
            "Instane: 5197 Learning rate: 0.3 , error 48.97:\n",
            "Instane: 5198 Learning rate: 0.3 , error 48.97:\n",
            "Instane: 5199 Learning rate: 0.3 , error 48.97:\n",
            "Instane: 5200 Learning rate: 0.3 , error 48.97:\n",
            "Instane: 5201 Learning rate: 0.3 , error 48.97:\n",
            "Instane: 5202 Learning rate: 0.3 , error 48.97:\n",
            "Instane: 5203 Learning rate: 0.3 , error 48.97:\n",
            "Instane: 5204 Learning rate: 0.3 , error 48.97:\n",
            "Instane: 5205 Learning rate: 0.3 , error 48.97:\n",
            "Instane: 5206 Learning rate: 0.3 , error 48.97:\n",
            "Instane: 5207 Learning rate: 0.3 , error 48.97:\n",
            "Instane: 5208 Learning rate: 0.3 , error 48.97:\n",
            "Instane: 5209 Learning rate: 0.3 , error 48.97:\n",
            "Instane: 5210 Learning rate: 0.3 , error 48.97:\n",
            "Instane: 5211 Learning rate: 0.3 , error 48.97:\n",
            "Instane: 5212 Learning rate: 0.3 , error 48.97:\n",
            "Instane: 5213 Learning rate: 0.3 , error 48.97:\n",
            "Instane: 5214 Learning rate: 0.3 , error 48.97:\n",
            "Instane: 5215 Learning rate: 0.3 , error 48.97:\n",
            "Instane: 5216 Learning rate: 0.3 , error 48.97:\n",
            "Instane: 5217 Learning rate: 0.3 , error 48.97:\n",
            "Instane: 5218 Learning rate: 0.3 , error 48.97:\n",
            "Instane: 5219 Learning rate: 0.3 , error 48.97:\n",
            "Instane: 5220 Learning rate: 0.3 , error 48.97:\n",
            "Instane: 5221 Learning rate: 0.3 , error 48.97:\n",
            "Instane: 5222 Learning rate: 0.3 , error 48.97:\n",
            "Instane: 5223 Learning rate: 0.3 , error 48.97:\n",
            "Instane: 5224 Learning rate: 0.3 , error 48.97:\n",
            "Instane: 5225 Learning rate: 0.3 , error 48.97:\n",
            "Instane: 5226 Learning rate: 0.3 , error 48.97:\n",
            "Instane: 5227 Learning rate: 0.3 , error 48.97:\n",
            "Instane: 5228 Learning rate: 0.3 , error 48.97:\n",
            "Instane: 5229 Learning rate: 0.3 , error 48.97:\n",
            "Instane: 5230 Learning rate: 0.3 , error 48.96:\n",
            "Instane: 5231 Learning rate: 0.3 , error 48.96:\n",
            "Instane: 5232 Learning rate: 0.3 , error 48.96:\n",
            "Instane: 5233 Learning rate: 0.3 , error 48.96:\n",
            "Instane: 5234 Learning rate: 0.3 , error 48.96:\n",
            "Instane: 5235 Learning rate: 0.3 , error 48.96:\n",
            "Instane: 5236 Learning rate: 0.3 , error 48.96:\n",
            "Instane: 5237 Learning rate: 0.3 , error 48.96:\n",
            "Instane: 5238 Learning rate: 0.3 , error 48.96:\n",
            "Instane: 5239 Learning rate: 0.3 , error 48.96:\n",
            "Instane: 5240 Learning rate: 0.3 , error 48.96:\n",
            "Instane: 5241 Learning rate: 0.3 , error 48.96:\n",
            "Instane: 5242 Learning rate: 0.3 , error 48.96:\n",
            "Instane: 5243 Learning rate: 0.3 , error 48.96:\n",
            "Instane: 5244 Learning rate: 0.3 , error 48.96:\n",
            "Instane: 5245 Learning rate: 0.3 , error 48.96:\n",
            "Instane: 5246 Learning rate: 0.3 , error 48.96:\n",
            "Instane: 5247 Learning rate: 0.3 , error 48.96:\n",
            "Instane: 5248 Learning rate: 0.3 , error 48.96:\n",
            "Instane: 5249 Learning rate: 0.3 , error 48.96:\n",
            "Instane: 5250 Learning rate: 0.3 , error 48.96:\n",
            "Instane: 5251 Learning rate: 0.3 , error 48.96:\n",
            "Instane: 5252 Learning rate: 0.3 , error 48.96:\n",
            "Instane: 5253 Learning rate: 0.3 , error 48.96:\n",
            "Instane: 5254 Learning rate: 0.3 , error 48.96:\n",
            "Instane: 5255 Learning rate: 0.3 , error 48.96:\n",
            "Instane: 5256 Learning rate: 0.3 , error 48.96:\n",
            "Instane: 5257 Learning rate: 0.3 , error 48.96:\n",
            "Instane: 5258 Learning rate: 0.3 , error 48.96:\n",
            "Instane: 5259 Learning rate: 0.3 , error 48.96:\n",
            "Instane: 5260 Learning rate: 0.3 , error 48.96:\n",
            "Instane: 5261 Learning rate: 0.3 , error 48.96:\n",
            "Instane: 5262 Learning rate: 0.3 , error 48.96:\n",
            "Instane: 5263 Learning rate: 0.3 , error 48.96:\n",
            "Instane: 5264 Learning rate: 0.3 , error 48.96:\n",
            "Instane: 5265 Learning rate: 0.3 , error 48.96:\n",
            "Instane: 5266 Learning rate: 0.3 , error 48.96:\n",
            "Instane: 5267 Learning rate: 0.3 , error 48.96:\n",
            "Instane: 5268 Learning rate: 0.3 , error 48.96:\n",
            "Instane: 5269 Learning rate: 0.3 , error 48.96:\n",
            "Instane: 5270 Learning rate: 0.3 , error 48.96:\n",
            "Instane: 5271 Learning rate: 0.3 , error 48.96:\n",
            "Instane: 5272 Learning rate: 0.3 , error 48.96:\n",
            "Instane: 5273 Learning rate: 0.3 , error 48.96:\n",
            "Instane: 5274 Learning rate: 0.3 , error 48.96:\n",
            "Instane: 5275 Learning rate: 0.3 , error 48.96:\n",
            "Instane: 5276 Learning rate: 0.3 , error 48.96:\n",
            "Instane: 5277 Learning rate: 0.3 , error 48.96:\n",
            "Instane: 5278 Learning rate: 0.3 , error 48.96:\n",
            "Instane: 5279 Learning rate: 0.3 , error 48.96:\n",
            "Instane: 5280 Learning rate: 0.3 , error 48.96:\n",
            "Instane: 5281 Learning rate: 0.3 , error 48.96:\n",
            "Instane: 5282 Learning rate: 0.3 , error 48.96:\n",
            "Instane: 5283 Learning rate: 0.3 , error 48.96:\n",
            "Instane: 5284 Learning rate: 0.3 , error 48.96:\n",
            "Instane: 5285 Learning rate: 0.3 , error 48.96:\n",
            "Instane: 5286 Learning rate: 0.3 , error 48.96:\n",
            "Instane: 5287 Learning rate: 0.3 , error 48.96:\n",
            "Instane: 5288 Learning rate: 0.3 , error 48.96:\n",
            "Instane: 5289 Learning rate: 0.3 , error 48.96:\n",
            "Instane: 5290 Learning rate: 0.3 , error 48.96:\n",
            "Instane: 5291 Learning rate: 0.3 , error 48.96:\n",
            "Instane: 5292 Learning rate: 0.3 , error 48.96:\n",
            "Instane: 5293 Learning rate: 0.3 , error 48.96:\n",
            "Instane: 5294 Learning rate: 0.3 , error 48.96:\n",
            "Instane: 5295 Learning rate: 0.3 , error 48.96:\n",
            "Instane: 5296 Learning rate: 0.3 , error 48.96:\n",
            "Instane: 5297 Learning rate: 0.3 , error 48.96:\n",
            "Instane: 5298 Learning rate: 0.3 , error 48.96:\n",
            "Instane: 5299 Learning rate: 0.3 , error 48.96:\n",
            "Instane: 5300 Learning rate: 0.3 , error 48.96:\n",
            "Instane: 5301 Learning rate: 0.3 , error 48.96:\n",
            "Instane: 5302 Learning rate: 0.3 , error 48.96:\n",
            "Instane: 5303 Learning rate: 0.3 , error 48.96:\n",
            "Instane: 5304 Learning rate: 0.3 , error 48.96:\n",
            "Instane: 5305 Learning rate: 0.3 , error 48.96:\n",
            "Instane: 5306 Learning rate: 0.3 , error 48.96:\n",
            "Instane: 5307 Learning rate: 0.3 , error 48.96:\n",
            "Instane: 5308 Learning rate: 0.3 , error 48.96:\n",
            "Instane: 5309 Learning rate: 0.3 , error 48.96:\n",
            "Instane: 5310 Learning rate: 0.3 , error 48.96:\n",
            "Instane: 5311 Learning rate: 0.3 , error 48.96:\n",
            "Instane: 5312 Learning rate: 0.3 , error 48.96:\n",
            "Instane: 5313 Learning rate: 0.3 , error 48.96:\n",
            "Instane: 5314 Learning rate: 0.3 , error 48.96:\n",
            "Instane: 5315 Learning rate: 0.3 , error 48.96:\n",
            "Instane: 5316 Learning rate: 0.3 , error 48.96:\n",
            "Instane: 5317 Learning rate: 0.3 , error 48.96:\n",
            "Instane: 5318 Learning rate: 0.3 , error 48.96:\n",
            "Instane: 5319 Learning rate: 0.3 , error 48.96:\n",
            "Instane: 5320 Learning rate: 0.3 , error 48.96:\n",
            "Instane: 5321 Learning rate: 0.3 , error 48.96:\n",
            "Instane: 5322 Learning rate: 0.3 , error 48.96:\n",
            "Instane: 5323 Learning rate: 0.3 , error 48.96:\n",
            "Instane: 5324 Learning rate: 0.3 , error 48.96:\n",
            "Instane: 5325 Learning rate: 0.3 , error 48.96:\n",
            "Instane: 5326 Learning rate: 0.3 , error 48.96:\n",
            "Instane: 5327 Learning rate: 0.3 , error 48.96:\n",
            "Instane: 5328 Learning rate: 0.3 , error 48.96:\n",
            "Instane: 5329 Learning rate: 0.3 , error 48.96:\n",
            "Instane: 5330 Learning rate: 0.3 , error 48.96:\n",
            "Instane: 5331 Learning rate: 0.3 , error 48.96:\n",
            "Instane: 5332 Learning rate: 0.3 , error 48.96:\n",
            "Instane: 5333 Learning rate: 0.3 , error 48.96:\n",
            "Instane: 5334 Learning rate: 0.3 , error 48.96:\n",
            "Instane: 5335 Learning rate: 0.3 , error 48.96:\n",
            "Instane: 5336 Learning rate: 0.3 , error 48.96:\n",
            "Instane: 5337 Learning rate: 0.3 , error 48.96:\n",
            "Instane: 5338 Learning rate: 0.3 , error 48.96:\n",
            "Instane: 5339 Learning rate: 0.3 , error 48.96:\n",
            "Instane: 5340 Learning rate: 0.3 , error 48.96:\n",
            "Instane: 5341 Learning rate: 0.3 , error 48.96:\n",
            "Instane: 5342 Learning rate: 0.3 , error 48.96:\n",
            "Instane: 5343 Learning rate: 0.3 , error 48.96:\n",
            "Instane: 5344 Learning rate: 0.3 , error 48.96:\n",
            "Instane: 5345 Learning rate: 0.3 , error 48.96:\n",
            "Instane: 5346 Learning rate: 0.3 , error 48.96:\n",
            "Instane: 5347 Learning rate: 0.3 , error 48.96:\n",
            "Instane: 5348 Learning rate: 0.3 , error 48.96:\n",
            "Instane: 5349 Learning rate: 0.3 , error 48.96:\n",
            "Instane: 5350 Learning rate: 0.3 , error 48.96:\n",
            "Instane: 5351 Learning rate: 0.3 , error 48.96:\n",
            "Instane: 5352 Learning rate: 0.3 , error 48.96:\n",
            "Instane: 5353 Learning rate: 0.3 , error 48.96:\n",
            "Instane: 5354 Learning rate: 0.3 , error 48.96:\n",
            "Instane: 5355 Learning rate: 0.3 , error 48.96:\n",
            "Instane: 5356 Learning rate: 0.3 , error 48.96:\n",
            "Instane: 5357 Learning rate: 0.3 , error 48.96:\n",
            "Instane: 5358 Learning rate: 0.3 , error 48.96:\n",
            "Instane: 5359 Learning rate: 0.3 , error 48.96:\n",
            "Instane: 5360 Learning rate: 0.3 , error 48.96:\n",
            "Instane: 5361 Learning rate: 0.3 , error 48.96:\n",
            "Instane: 5362 Learning rate: 0.3 , error 48.96:\n",
            "Instane: 5363 Learning rate: 0.3 , error 48.96:\n",
            "Instane: 5364 Learning rate: 0.3 , error 48.96:\n",
            "Instane: 5365 Learning rate: 0.3 , error 48.96:\n",
            "Instane: 5366 Learning rate: 0.3 , error 48.96:\n",
            "Instane: 5367 Learning rate: 0.3 , error 48.96:\n",
            "Instane: 5368 Learning rate: 0.3 , error 48.96:\n",
            "Instane: 5369 Learning rate: 0.3 , error 48.96:\n",
            "Instane: 5370 Learning rate: 0.3 , error 48.96:\n",
            "Instane: 5371 Learning rate: 0.3 , error 48.95:\n",
            "Instane: 5372 Learning rate: 0.3 , error 48.95:\n",
            "Instane: 5373 Learning rate: 0.3 , error 48.95:\n",
            "Instane: 5374 Learning rate: 0.3 , error 48.95:\n",
            "Instane: 5375 Learning rate: 0.3 , error 48.95:\n",
            "Instane: 5376 Learning rate: 0.3 , error 48.95:\n",
            "Instane: 5377 Learning rate: 0.3 , error 48.95:\n",
            "Instane: 5378 Learning rate: 0.3 , error 48.95:\n",
            "Instane: 5379 Learning rate: 0.3 , error 48.95:\n",
            "Instane: 5380 Learning rate: 0.3 , error 48.95:\n",
            "Instane: 5381 Learning rate: 0.3 , error 48.95:\n",
            "Instane: 5382 Learning rate: 0.3 , error 48.95:\n",
            "Instane: 5383 Learning rate: 0.3 , error 48.95:\n",
            "Instane: 5384 Learning rate: 0.3 , error 48.95:\n",
            "Instane: 5385 Learning rate: 0.3 , error 48.95:\n",
            "Instane: 5386 Learning rate: 0.3 , error 48.95:\n",
            "Instane: 5387 Learning rate: 0.3 , error 48.95:\n",
            "Instane: 5388 Learning rate: 0.3 , error 48.95:\n",
            "Instane: 5389 Learning rate: 0.3 , error 48.95:\n",
            "Instane: 5390 Learning rate: 0.3 , error 48.95:\n",
            "Instane: 5391 Learning rate: 0.3 , error 48.95:\n",
            "Instane: 5392 Learning rate: 0.3 , error 48.95:\n",
            "Instane: 5393 Learning rate: 0.3 , error 48.95:\n",
            "Instane: 5394 Learning rate: 0.3 , error 48.95:\n",
            "Instane: 5395 Learning rate: 0.3 , error 48.95:\n",
            "Instane: 5396 Learning rate: 0.3 , error 48.95:\n",
            "Instane: 5397 Learning rate: 0.3 , error 48.95:\n",
            "Instane: 5398 Learning rate: 0.3 , error 48.95:\n",
            "Instane: 5399 Learning rate: 0.3 , error 48.95:\n",
            "Instane: 5400 Learning rate: 0.3 , error 48.95:\n",
            "Instane: 5401 Learning rate: 0.3 , error 48.95:\n",
            "Instane: 5402 Learning rate: 0.3 , error 48.95:\n",
            "Instane: 5403 Learning rate: 0.3 , error 48.95:\n",
            "Instane: 5404 Learning rate: 0.3 , error 48.95:\n",
            "Instane: 5405 Learning rate: 0.3 , error 48.95:\n",
            "Instane: 5406 Learning rate: 0.3 , error 48.95:\n",
            "Instane: 5407 Learning rate: 0.3 , error 48.95:\n",
            "Instane: 5408 Learning rate: 0.3 , error 48.95:\n",
            "Instane: 5409 Learning rate: 0.3 , error 48.95:\n",
            "Instane: 5410 Learning rate: 0.3 , error 48.95:\n",
            "Instane: 5411 Learning rate: 0.3 , error 48.95:\n",
            "Instane: 5412 Learning rate: 0.3 , error 48.95:\n",
            "Instane: 5413 Learning rate: 0.3 , error 48.95:\n",
            "Instane: 5414 Learning rate: 0.3 , error 48.95:\n",
            "Instane: 5415 Learning rate: 0.3 , error 48.95:\n",
            "Instane: 5416 Learning rate: 0.3 , error 48.95:\n",
            "Instane: 5417 Learning rate: 0.3 , error 48.95:\n",
            "Instane: 5418 Learning rate: 0.3 , error 48.95:\n",
            "Instane: 5419 Learning rate: 0.3 , error 48.95:\n",
            "Instane: 5420 Learning rate: 0.3 , error 48.95:\n",
            "Instane: 5421 Learning rate: 0.3 , error 48.95:\n",
            "Instane: 5422 Learning rate: 0.3 , error 48.95:\n",
            "Instane: 5423 Learning rate: 0.3 , error 48.95:\n",
            "Instane: 5424 Learning rate: 0.3 , error 48.95:\n",
            "Instane: 5425 Learning rate: 0.3 , error 48.95:\n",
            "Instane: 5426 Learning rate: 0.3 , error 48.95:\n",
            "Instane: 5427 Learning rate: 0.3 , error 48.95:\n",
            "Instane: 5428 Learning rate: 0.3 , error 48.95:\n",
            "Instane: 5429 Learning rate: 0.3 , error 48.95:\n",
            "Instane: 5430 Learning rate: 0.3 , error 48.95:\n",
            "Instane: 5431 Learning rate: 0.3 , error 48.95:\n",
            "Instane: 5432 Learning rate: 0.3 , error 48.95:\n",
            "Instane: 5433 Learning rate: 0.3 , error 48.95:\n",
            "Instane: 5434 Learning rate: 0.3 , error 48.95:\n",
            "Instane: 5435 Learning rate: 0.3 , error 48.95:\n",
            "Instane: 5436 Learning rate: 0.3 , error 48.95:\n",
            "Instane: 5437 Learning rate: 0.3 , error 48.95:\n",
            "Instane: 5438 Learning rate: 0.3 , error 48.95:\n",
            "Instane: 5439 Learning rate: 0.3 , error 48.95:\n",
            "Instane: 5440 Learning rate: 0.3 , error 48.95:\n",
            "Instane: 5441 Learning rate: 0.3 , error 48.95:\n",
            "Instane: 5442 Learning rate: 0.3 , error 48.95:\n",
            "Instane: 5443 Learning rate: 0.3 , error 48.95:\n",
            "Instane: 5444 Learning rate: 0.3 , error 48.95:\n",
            "Instane: 5445 Learning rate: 0.3 , error 48.95:\n",
            "Instane: 5446 Learning rate: 0.3 , error 48.95:\n",
            "Instane: 5447 Learning rate: 0.3 , error 48.95:\n",
            "Instane: 5448 Learning rate: 0.3 , error 48.95:\n",
            "Instane: 5449 Learning rate: 0.3 , error 48.95:\n",
            "Instane: 5450 Learning rate: 0.3 , error 48.95:\n",
            "Instane: 5451 Learning rate: 0.3 , error 48.95:\n",
            "Instane: 5452 Learning rate: 0.3 , error 48.95:\n",
            "Instane: 5453 Learning rate: 0.3 , error 48.95:\n",
            "Instane: 5454 Learning rate: 0.3 , error 48.95:\n",
            "Instane: 5455 Learning rate: 0.3 , error 48.95:\n",
            "Instane: 5456 Learning rate: 0.3 , error 48.95:\n",
            "Instane: 5457 Learning rate: 0.3 , error 48.95:\n",
            "Instane: 5458 Learning rate: 0.3 , error 48.95:\n",
            "Instane: 5459 Learning rate: 0.3 , error 48.95:\n",
            "Instane: 5460 Learning rate: 0.3 , error 48.95:\n",
            "Instane: 5461 Learning rate: 0.3 , error 48.95:\n",
            "Instane: 5462 Learning rate: 0.3 , error 48.95:\n",
            "Instane: 5463 Learning rate: 0.3 , error 48.95:\n",
            "Instane: 5464 Learning rate: 0.3 , error 48.95:\n",
            "Instane: 5465 Learning rate: 0.3 , error 48.95:\n",
            "Instane: 5466 Learning rate: 0.3 , error 48.95:\n",
            "Instane: 5467 Learning rate: 0.3 , error 48.95:\n",
            "Instane: 5468 Learning rate: 0.3 , error 48.95:\n",
            "Instane: 5469 Learning rate: 0.3 , error 48.95:\n",
            "Instane: 5470 Learning rate: 0.3 , error 48.95:\n",
            "Instane: 5471 Learning rate: 0.3 , error 48.95:\n",
            "Instane: 5472 Learning rate: 0.3 , error 48.95:\n",
            "Instane: 5473 Learning rate: 0.3 , error 48.95:\n",
            "Instane: 5474 Learning rate: 0.3 , error 48.95:\n",
            "Instane: 5475 Learning rate: 0.3 , error 48.95:\n",
            "Instane: 5476 Learning rate: 0.3 , error 48.95:\n",
            "Instane: 5477 Learning rate: 0.3 , error 48.95:\n",
            "Instane: 5478 Learning rate: 0.3 , error 48.95:\n",
            "Instane: 5479 Learning rate: 0.3 , error 48.95:\n",
            "Instane: 5480 Learning rate: 0.3 , error 48.95:\n",
            "Instane: 5481 Learning rate: 0.3 , error 48.95:\n",
            "Instane: 5482 Learning rate: 0.3 , error 48.95:\n",
            "Instane: 5483 Learning rate: 0.3 , error 48.95:\n",
            "Instane: 5484 Learning rate: 0.3 , error 48.95:\n",
            "Instane: 5485 Learning rate: 0.3 , error 48.95:\n",
            "Instane: 5486 Learning rate: 0.3 , error 48.95:\n",
            "Instane: 5487 Learning rate: 0.3 , error 48.95:\n",
            "Instane: 5488 Learning rate: 0.3 , error 48.95:\n",
            "Instane: 5489 Learning rate: 0.3 , error 48.95:\n",
            "Instane: 5490 Learning rate: 0.3 , error 48.95:\n",
            "Instane: 5491 Learning rate: 0.3 , error 48.95:\n",
            "Instane: 5492 Learning rate: 0.3 , error 48.95:\n",
            "Instane: 5493 Learning rate: 0.3 , error 48.95:\n",
            "Instane: 5494 Learning rate: 0.3 , error 48.95:\n",
            "Instane: 5495 Learning rate: 0.3 , error 48.95:\n",
            "Instane: 5496 Learning rate: 0.3 , error 48.95:\n",
            "Instane: 5497 Learning rate: 0.3 , error 48.95:\n",
            "Instane: 5498 Learning rate: 0.3 , error 48.95:\n",
            "Instane: 5499 Learning rate: 0.3 , error 48.95:\n",
            "Instane: 5500 Learning rate: 0.3 , error 48.95:\n",
            "Instane: 5501 Learning rate: 0.3 , error 48.95:\n",
            "Instane: 5502 Learning rate: 0.3 , error 48.95:\n",
            "Instane: 5503 Learning rate: 0.3 , error 48.95:\n",
            "Instane: 5504 Learning rate: 0.3 , error 48.95:\n",
            "Instane: 5505 Learning rate: 0.3 , error 48.95:\n",
            "Instane: 5506 Learning rate: 0.3 , error 48.95:\n",
            "Instane: 5507 Learning rate: 0.3 , error 48.95:\n",
            "Instane: 5508 Learning rate: 0.3 , error 48.95:\n",
            "Instane: 5509 Learning rate: 0.3 , error 48.95:\n",
            "Instane: 5510 Learning rate: 0.3 , error 48.95:\n",
            "Instane: 5511 Learning rate: 0.3 , error 48.95:\n",
            "Instane: 5512 Learning rate: 0.3 , error 48.95:\n",
            "Instane: 5513 Learning rate: 0.3 , error 48.95:\n",
            "Instane: 5514 Learning rate: 0.3 , error 48.95:\n",
            "Instane: 5515 Learning rate: 0.3 , error 48.95:\n",
            "Instane: 5516 Learning rate: 0.3 , error 48.95:\n",
            "Instane: 5517 Learning rate: 0.3 , error 48.95:\n",
            "Instane: 5518 Learning rate: 0.3 , error 48.95:\n",
            "Instane: 5519 Learning rate: 0.3 , error 48.95:\n",
            "Instane: 5520 Learning rate: 0.3 , error 48.95:\n",
            "Instane: 5521 Learning rate: 0.3 , error 48.95:\n",
            "Instane: 5522 Learning rate: 0.3 , error 48.95:\n",
            "Instane: 5523 Learning rate: 0.3 , error 48.94:\n",
            "Instane: 5524 Learning rate: 0.3 , error 48.94:\n",
            "Instane: 5525 Learning rate: 0.3 , error 48.94:\n",
            "Instane: 5526 Learning rate: 0.3 , error 48.94:\n",
            "Instane: 5527 Learning rate: 0.3 , error 48.94:\n",
            "Instane: 5528 Learning rate: 0.3 , error 48.94:\n",
            "Instane: 5529 Learning rate: 0.3 , error 48.94:\n",
            "Instane: 5530 Learning rate: 0.3 , error 48.94:\n",
            "Instane: 5531 Learning rate: 0.3 , error 48.94:\n",
            "Instane: 5532 Learning rate: 0.3 , error 48.94:\n",
            "Instane: 5533 Learning rate: 0.3 , error 48.94:\n",
            "Instane: 5534 Learning rate: 0.3 , error 48.94:\n",
            "Instane: 5535 Learning rate: 0.3 , error 48.94:\n",
            "Instane: 5536 Learning rate: 0.3 , error 48.94:\n",
            "Instane: 5537 Learning rate: 0.3 , error 48.94:\n",
            "Instane: 5538 Learning rate: 0.3 , error 48.94:\n",
            "Instane: 5539 Learning rate: 0.3 , error 48.94:\n",
            "Instane: 5540 Learning rate: 0.3 , error 48.94:\n",
            "Instane: 5541 Learning rate: 0.3 , error 48.94:\n",
            "Instane: 5542 Learning rate: 0.3 , error 48.94:\n",
            "Instane: 5543 Learning rate: 0.3 , error 48.94:\n",
            "Instane: 5544 Learning rate: 0.3 , error 48.94:\n",
            "Instane: 5545 Learning rate: 0.3 , error 48.94:\n",
            "Instane: 5546 Learning rate: 0.3 , error 48.94:\n",
            "Instane: 5547 Learning rate: 0.3 , error 48.94:\n",
            "Instane: 5548 Learning rate: 0.3 , error 48.94:\n",
            "Instane: 5549 Learning rate: 0.3 , error 48.94:\n",
            "Instane: 5550 Learning rate: 0.3 , error 48.94:\n",
            "Instane: 5551 Learning rate: 0.3 , error 48.94:\n",
            "Instane: 5552 Learning rate: 0.3 , error 48.94:\n",
            "Instane: 5553 Learning rate: 0.3 , error 48.94:\n",
            "Instane: 5554 Learning rate: 0.3 , error 48.94:\n",
            "Instane: 5555 Learning rate: 0.3 , error 48.94:\n",
            "Instane: 5556 Learning rate: 0.3 , error 48.94:\n",
            "Instane: 5557 Learning rate: 0.3 , error 48.94:\n",
            "Instane: 5558 Learning rate: 0.3 , error 48.94:\n",
            "Instane: 5559 Learning rate: 0.3 , error 48.94:\n",
            "Instane: 5560 Learning rate: 0.3 , error 48.94:\n",
            "Instane: 5561 Learning rate: 0.3 , error 48.94:\n",
            "Instane: 5562 Learning rate: 0.3 , error 48.94:\n",
            "Instane: 5563 Learning rate: 0.3 , error 48.94:\n",
            "Instane: 5564 Learning rate: 0.3 , error 48.94:\n",
            "Instane: 5565 Learning rate: 0.3 , error 48.94:\n",
            "Instane: 5566 Learning rate: 0.3 , error 48.94:\n",
            "Instane: 5567 Learning rate: 0.3 , error 48.94:\n",
            "Instane: 5568 Learning rate: 0.3 , error 48.94:\n",
            "Instane: 5569 Learning rate: 0.3 , error 48.94:\n",
            "Instane: 5570 Learning rate: 0.3 , error 48.94:\n",
            "Instane: 5571 Learning rate: 0.3 , error 48.94:\n",
            "Instane: 5572 Learning rate: 0.3 , error 48.94:\n",
            "Instane: 5573 Learning rate: 0.3 , error 48.94:\n",
            "Instane: 5574 Learning rate: 0.3 , error 48.94:\n",
            "Instane: 5575 Learning rate: 0.3 , error 48.94:\n",
            "Instane: 5576 Learning rate: 0.3 , error 48.94:\n",
            "Instane: 5577 Learning rate: 0.3 , error 48.94:\n",
            "Instane: 5578 Learning rate: 0.3 , error 48.94:\n",
            "Instane: 5579 Learning rate: 0.3 , error 48.94:\n",
            "Instane: 5580 Learning rate: 0.3 , error 48.94:\n",
            "Instane: 5581 Learning rate: 0.3 , error 48.94:\n",
            "Instane: 5582 Learning rate: 0.3 , error 48.94:\n",
            "Instane: 5583 Learning rate: 0.3 , error 48.94:\n",
            "Instane: 5584 Learning rate: 0.3 , error 48.94:\n",
            "Instane: 5585 Learning rate: 0.3 , error 48.94:\n",
            "Instane: 5586 Learning rate: 0.3 , error 48.94:\n",
            "Instane: 5587 Learning rate: 0.3 , error 48.94:\n",
            "Instane: 5588 Learning rate: 0.3 , error 48.94:\n",
            "Instane: 5589 Learning rate: 0.3 , error 48.94:\n",
            "Instane: 5590 Learning rate: 0.3 , error 48.94:\n",
            "Instane: 5591 Learning rate: 0.3 , error 48.94:\n",
            "Instane: 5592 Learning rate: 0.3 , error 48.94:\n",
            "Instane: 5593 Learning rate: 0.3 , error 48.94:\n",
            "Instane: 5594 Learning rate: 0.3 , error 48.94:\n",
            "Instane: 5595 Learning rate: 0.3 , error 48.94:\n",
            "Instane: 5596 Learning rate: 0.3 , error 48.94:\n",
            "Instane: 5597 Learning rate: 0.3 , error 48.94:\n",
            "Instane: 5598 Learning rate: 0.3 , error 48.94:\n",
            "Instane: 5599 Learning rate: 0.3 , error 48.94:\n",
            "Instane: 5600 Learning rate: 0.3 , error 48.94:\n",
            "Instane: 5601 Learning rate: 0.3 , error 48.94:\n",
            "Instane: 5602 Learning rate: 0.3 , error 48.94:\n",
            "Instane: 5603 Learning rate: 0.3 , error 48.94:\n",
            "Instane: 5604 Learning rate: 0.3 , error 48.94:\n",
            "Instane: 5605 Learning rate: 0.3 , error 48.94:\n",
            "Instane: 5606 Learning rate: 0.3 , error 48.94:\n",
            "Instane: 5607 Learning rate: 0.3 , error 48.94:\n",
            "Instane: 5608 Learning rate: 0.3 , error 48.94:\n",
            "Instane: 5609 Learning rate: 0.3 , error 48.94:\n",
            "Instane: 5610 Learning rate: 0.3 , error 48.94:\n",
            "Instane: 5611 Learning rate: 0.3 , error 48.94:\n",
            "Instane: 5612 Learning rate: 0.3 , error 48.94:\n",
            "Instane: 5613 Learning rate: 0.3 , error 48.94:\n",
            "Instane: 5614 Learning rate: 0.3 , error 48.94:\n",
            "Instane: 5615 Learning rate: 0.3 , error 48.94:\n",
            "Instane: 5616 Learning rate: 0.3 , error 48.94:\n",
            "Instane: 5617 Learning rate: 0.3 , error 48.94:\n",
            "Instane: 5618 Learning rate: 0.3 , error 48.94:\n",
            "Instane: 5619 Learning rate: 0.3 , error 48.94:\n",
            "Instane: 5620 Learning rate: 0.3 , error 48.94:\n",
            "Instane: 5621 Learning rate: 0.3 , error 48.94:\n",
            "Instane: 5622 Learning rate: 0.3 , error 48.94:\n",
            "Instane: 5623 Learning rate: 0.3 , error 48.94:\n",
            "Instane: 5624 Learning rate: 0.3 , error 48.94:\n",
            "Instane: 5625 Learning rate: 0.3 , error 48.94:\n",
            "Instane: 5626 Learning rate: 0.3 , error 48.94:\n",
            "Instane: 5627 Learning rate: 0.3 , error 48.94:\n",
            "Instane: 5628 Learning rate: 0.3 , error 48.94:\n",
            "Instane: 5629 Learning rate: 0.3 , error 48.94:\n",
            "Instane: 5630 Learning rate: 0.3 , error 48.94:\n",
            "Instane: 5631 Learning rate: 0.3 , error 48.94:\n",
            "Instane: 5632 Learning rate: 0.3 , error 48.94:\n",
            "Instane: 5633 Learning rate: 0.3 , error 48.94:\n",
            "Instane: 5634 Learning rate: 0.3 , error 48.94:\n",
            "Instane: 5635 Learning rate: 0.3 , error 48.94:\n",
            "Instane: 5636 Learning rate: 0.3 , error 48.94:\n",
            "Instane: 5637 Learning rate: 0.3 , error 48.94:\n",
            "Instane: 5638 Learning rate: 0.3 , error 48.94:\n",
            "Instane: 5639 Learning rate: 0.3 , error 48.94:\n",
            "Instane: 5640 Learning rate: 0.3 , error 48.94:\n",
            "Instane: 5641 Learning rate: 0.3 , error 48.94:\n",
            "Instane: 5642 Learning rate: 0.3 , error 48.94:\n",
            "Instane: 5643 Learning rate: 0.3 , error 48.94:\n",
            "Instane: 5644 Learning rate: 0.3 , error 48.94:\n",
            "Instane: 5645 Learning rate: 0.3 , error 48.94:\n",
            "Instane: 5646 Learning rate: 0.3 , error 48.94:\n",
            "Instane: 5647 Learning rate: 0.3 , error 48.94:\n",
            "Instane: 5648 Learning rate: 0.3 , error 48.94:\n",
            "Instane: 5649 Learning rate: 0.3 , error 48.94:\n",
            "Instane: 5650 Learning rate: 0.3 , error 48.94:\n",
            "Instane: 5651 Learning rate: 0.3 , error 48.94:\n",
            "Instane: 5652 Learning rate: 0.3 , error 48.94:\n",
            "Instane: 5653 Learning rate: 0.3 , error 48.94:\n",
            "Instane: 5654 Learning rate: 0.3 , error 48.94:\n",
            "Instane: 5655 Learning rate: 0.3 , error 48.94:\n",
            "Instane: 5656 Learning rate: 0.3 , error 48.94:\n",
            "Instane: 5657 Learning rate: 0.3 , error 48.94:\n",
            "Instane: 5658 Learning rate: 0.3 , error 48.94:\n",
            "Instane: 5659 Learning rate: 0.3 , error 48.94:\n",
            "Instane: 5660 Learning rate: 0.3 , error 48.94:\n",
            "Instane: 5661 Learning rate: 0.3 , error 48.94:\n",
            "Instane: 5662 Learning rate: 0.3 , error 48.94:\n",
            "Instane: 5663 Learning rate: 0.3 , error 48.94:\n",
            "Instane: 5664 Learning rate: 0.3 , error 48.94:\n",
            "Instane: 5665 Learning rate: 0.3 , error 48.94:\n",
            "Instane: 5666 Learning rate: 0.3 , error 48.94:\n",
            "Instane: 5667 Learning rate: 0.3 , error 48.94:\n",
            "Instane: 5668 Learning rate: 0.3 , error 48.94:\n",
            "Instane: 5669 Learning rate: 0.3 , error 48.94:\n",
            "Instane: 5670 Learning rate: 0.3 , error 48.94:\n",
            "Instane: 5671 Learning rate: 0.3 , error 48.94:\n",
            "Instane: 5672 Learning rate: 0.3 , error 48.94:\n",
            "Instane: 5673 Learning rate: 0.3 , error 48.94:\n",
            "Instane: 5674 Learning rate: 0.3 , error 48.94:\n",
            "Instane: 5675 Learning rate: 0.3 , error 48.94:\n",
            "Instane: 5676 Learning rate: 0.3 , error 48.94:\n",
            "Instane: 5677 Learning rate: 0.3 , error 48.94:\n",
            "Instane: 5678 Learning rate: 0.3 , error 48.94:\n",
            "Instane: 5679 Learning rate: 0.3 , error 48.94:\n",
            "Instane: 5680 Learning rate: 0.3 , error 48.94:\n",
            "Instane: 5681 Learning rate: 0.3 , error 48.94:\n",
            "Instane: 5682 Learning rate: 0.3 , error 48.94:\n",
            "Instane: 5683 Learning rate: 0.3 , error 48.94:\n",
            "Instane: 5684 Learning rate: 0.3 , error 48.94:\n",
            "Instane: 5685 Learning rate: 0.3 , error 48.94:\n",
            "Instane: 5686 Learning rate: 0.3 , error 48.94:\n",
            "Instane: 5687 Learning rate: 0.3 , error 48.94:\n",
            "Instane: 5688 Learning rate: 0.3 , error 48.93:\n",
            "Instane: 5689 Learning rate: 0.3 , error 48.93:\n",
            "Instane: 5690 Learning rate: 0.3 , error 48.93:\n",
            "Instane: 5691 Learning rate: 0.3 , error 48.93:\n",
            "Instane: 5692 Learning rate: 0.3 , error 48.93:\n",
            "Instane: 5693 Learning rate: 0.3 , error 48.93:\n",
            "Instane: 5694 Learning rate: 0.3 , error 48.93:\n",
            "Instane: 5695 Learning rate: 0.3 , error 48.93:\n",
            "Instane: 5696 Learning rate: 0.3 , error 48.93:\n",
            "Instane: 5697 Learning rate: 0.3 , error 48.93:\n",
            "Instane: 5698 Learning rate: 0.3 , error 48.93:\n",
            "Instane: 5699 Learning rate: 0.3 , error 48.93:\n",
            "Instane: 5700 Learning rate: 0.3 , error 48.93:\n",
            "Instane: 5701 Learning rate: 0.3 , error 48.93:\n",
            "Instane: 5702 Learning rate: 0.3 , error 48.93:\n",
            "Instane: 5703 Learning rate: 0.3 , error 48.93:\n",
            "Instane: 5704 Learning rate: 0.3 , error 48.93:\n",
            "Instane: 5705 Learning rate: 0.3 , error 48.93:\n",
            "Instane: 5706 Learning rate: 0.3 , error 48.93:\n",
            "Instane: 5707 Learning rate: 0.3 , error 48.93:\n",
            "Instane: 5708 Learning rate: 0.3 , error 48.93:\n",
            "Instane: 5709 Learning rate: 0.3 , error 48.93:\n",
            "Instane: 5710 Learning rate: 0.3 , error 48.93:\n",
            "Instane: 5711 Learning rate: 0.3 , error 48.93:\n",
            "Instane: 5712 Learning rate: 0.3 , error 48.93:\n",
            "Instane: 5713 Learning rate: 0.3 , error 48.93:\n",
            "Instane: 5714 Learning rate: 0.3 , error 48.93:\n",
            "Instane: 5715 Learning rate: 0.3 , error 48.93:\n",
            "Instane: 5716 Learning rate: 0.3 , error 48.93:\n",
            "Instane: 5717 Learning rate: 0.3 , error 48.93:\n",
            "Instane: 5718 Learning rate: 0.3 , error 48.93:\n",
            "Instane: 5719 Learning rate: 0.3 , error 48.93:\n",
            "Instane: 5720 Learning rate: 0.3 , error 48.93:\n",
            "Instane: 5721 Learning rate: 0.3 , error 48.93:\n",
            "Instane: 5722 Learning rate: 0.3 , error 48.93:\n",
            "Instane: 5723 Learning rate: 0.3 , error 48.93:\n",
            "Instane: 5724 Learning rate: 0.3 , error 48.93:\n",
            "Instane: 5725 Learning rate: 0.3 , error 48.93:\n",
            "Instane: 5726 Learning rate: 0.3 , error 48.93:\n",
            "Instane: 5727 Learning rate: 0.3 , error 48.93:\n",
            "Instane: 5728 Learning rate: 0.3 , error 48.93:\n",
            "Instane: 5729 Learning rate: 0.3 , error 48.93:\n",
            "Instane: 5730 Learning rate: 0.3 , error 48.93:\n",
            "Instane: 5731 Learning rate: 0.3 , error 48.93:\n",
            "Instane: 5732 Learning rate: 0.3 , error 48.93:\n",
            "Instane: 5733 Learning rate: 0.3 , error 48.93:\n",
            "Instane: 5734 Learning rate: 0.3 , error 48.93:\n",
            "Instane: 5735 Learning rate: 0.3 , error 48.93:\n",
            "Instane: 5736 Learning rate: 0.3 , error 48.93:\n",
            "Instane: 5737 Learning rate: 0.3 , error 48.93:\n",
            "Instane: 5738 Learning rate: 0.3 , error 48.93:\n",
            "Instane: 5739 Learning rate: 0.3 , error 48.93:\n",
            "Instane: 5740 Learning rate: 0.3 , error 48.93:\n",
            "Instane: 5741 Learning rate: 0.3 , error 48.93:\n",
            "Instane: 5742 Learning rate: 0.3 , error 48.93:\n",
            "Instane: 5743 Learning rate: 0.3 , error 48.93:\n",
            "Instane: 5744 Learning rate: 0.3 , error 48.93:\n",
            "Instane: 5745 Learning rate: 0.3 , error 48.93:\n",
            "Instane: 5746 Learning rate: 0.3 , error 48.93:\n",
            "Instane: 5747 Learning rate: 0.3 , error 48.93:\n",
            "Instane: 5748 Learning rate: 0.3 , error 48.93:\n",
            "Instane: 5749 Learning rate: 0.3 , error 48.93:\n",
            "Instane: 5750 Learning rate: 0.3 , error 48.93:\n",
            "Instane: 5751 Learning rate: 0.3 , error 48.93:\n",
            "Instane: 5752 Learning rate: 0.3 , error 48.93:\n",
            "Instane: 5753 Learning rate: 0.3 , error 48.93:\n",
            "Instane: 5754 Learning rate: 0.3 , error 48.93:\n",
            "Instane: 5755 Learning rate: 0.3 , error 48.93:\n",
            "Instane: 5756 Learning rate: 0.3 , error 48.93:\n",
            "Instane: 5757 Learning rate: 0.3 , error 48.93:\n",
            "Instane: 5758 Learning rate: 0.3 , error 48.93:\n",
            "Instane: 5759 Learning rate: 0.3 , error 48.93:\n",
            "Instane: 5760 Learning rate: 0.3 , error 48.93:\n",
            "Instane: 5761 Learning rate: 0.3 , error 48.93:\n",
            "Instane: 5762 Learning rate: 0.3 , error 48.93:\n",
            "Instane: 5763 Learning rate: 0.3 , error 48.93:\n",
            "Instane: 5764 Learning rate: 0.3 , error 48.93:\n",
            "Instane: 5765 Learning rate: 0.3 , error 48.93:\n",
            "Instane: 5766 Learning rate: 0.3 , error 48.93:\n",
            "Instane: 5767 Learning rate: 0.3 , error 48.93:\n",
            "Instane: 5768 Learning rate: 0.3 , error 48.93:\n",
            "Instane: 5769 Learning rate: 0.3 , error 48.93:\n",
            "Instane: 5770 Learning rate: 0.3 , error 48.93:\n",
            "Instane: 5771 Learning rate: 0.3 , error 48.93:\n",
            "Instane: 5772 Learning rate: 0.3 , error 48.93:\n",
            "Instane: 5773 Learning rate: 0.3 , error 48.93:\n",
            "Instane: 5774 Learning rate: 0.3 , error 48.93:\n",
            "Instane: 5775 Learning rate: 0.3 , error 48.93:\n",
            "Instane: 5776 Learning rate: 0.3 , error 48.93:\n",
            "Instane: 5777 Learning rate: 0.3 , error 48.93:\n",
            "Instane: 5778 Learning rate: 0.3 , error 48.93:\n",
            "Instane: 5779 Learning rate: 0.3 , error 48.93:\n",
            "Instane: 5780 Learning rate: 0.3 , error 48.93:\n",
            "Instane: 5781 Learning rate: 0.3 , error 48.93:\n",
            "Instane: 5782 Learning rate: 0.3 , error 48.93:\n",
            "Instane: 5783 Learning rate: 0.3 , error 48.93:\n",
            "Instane: 5784 Learning rate: 0.3 , error 48.93:\n",
            "Instane: 5785 Learning rate: 0.3 , error 48.93:\n",
            "Instane: 5786 Learning rate: 0.3 , error 48.93:\n",
            "Instane: 5787 Learning rate: 0.3 , error 48.93:\n",
            "Instane: 5788 Learning rate: 0.3 , error 48.93:\n",
            "Instane: 5789 Learning rate: 0.3 , error 48.93:\n",
            "Instane: 5790 Learning rate: 0.3 , error 48.93:\n",
            "Instane: 5791 Learning rate: 0.3 , error 48.93:\n",
            "Instane: 5792 Learning rate: 0.3 , error 48.93:\n",
            "Instane: 5793 Learning rate: 0.3 , error 48.93:\n",
            "Instane: 5794 Learning rate: 0.3 , error 48.93:\n",
            "Instane: 5795 Learning rate: 0.3 , error 48.93:\n",
            "Instane: 5796 Learning rate: 0.3 , error 48.93:\n",
            "Instane: 5797 Learning rate: 0.3 , error 48.93:\n",
            "Instane: 5798 Learning rate: 0.3 , error 48.93:\n",
            "Instane: 5799 Learning rate: 0.3 , error 48.93:\n",
            "Instane: 5800 Learning rate: 0.3 , error 48.93:\n",
            "Instane: 5801 Learning rate: 0.3 , error 48.93:\n",
            "Instane: 5802 Learning rate: 0.3 , error 48.93:\n",
            "Instane: 5803 Learning rate: 0.3 , error 48.93:\n",
            "Instane: 5804 Learning rate: 0.3 , error 48.93:\n",
            "Instane: 5805 Learning rate: 0.3 , error 48.93:\n",
            "Instane: 5806 Learning rate: 0.3 , error 48.93:\n",
            "Instane: 5807 Learning rate: 0.3 , error 48.93:\n",
            "Instane: 5808 Learning rate: 0.3 , error 48.93:\n",
            "Instane: 5809 Learning rate: 0.3 , error 48.93:\n",
            "Instane: 5810 Learning rate: 0.3 , error 48.93:\n",
            "Instane: 5811 Learning rate: 0.3 , error 48.93:\n",
            "Instane: 5812 Learning rate: 0.3 , error 48.93:\n",
            "Instane: 5813 Learning rate: 0.3 , error 48.93:\n",
            "Instane: 5814 Learning rate: 0.3 , error 48.93:\n",
            "Instane: 5815 Learning rate: 0.3 , error 48.93:\n",
            "Instane: 5816 Learning rate: 0.3 , error 48.93:\n",
            "Instane: 5817 Learning rate: 0.3 , error 48.93:\n",
            "Instane: 5818 Learning rate: 0.3 , error 48.93:\n",
            "Instane: 5819 Learning rate: 0.3 , error 48.93:\n",
            "Instane: 5820 Learning rate: 0.3 , error 48.93:\n",
            "Instane: 5821 Learning rate: 0.3 , error 48.93:\n",
            "Instane: 5822 Learning rate: 0.3 , error 48.93:\n",
            "Instane: 5823 Learning rate: 0.3 , error 48.93:\n",
            "Instane: 5824 Learning rate: 0.3 , error 48.93:\n",
            "Instane: 5825 Learning rate: 0.3 , error 48.93:\n",
            "Instane: 5826 Learning rate: 0.3 , error 48.93:\n",
            "Instane: 5827 Learning rate: 0.3 , error 48.93:\n",
            "Instane: 5828 Learning rate: 0.3 , error 48.93:\n",
            "Instane: 5829 Learning rate: 0.3 , error 48.93:\n",
            "Instane: 5830 Learning rate: 0.3 , error 48.93:\n",
            "Instane: 5831 Learning rate: 0.3 , error 48.93:\n",
            "Instane: 5832 Learning rate: 0.3 , error 48.93:\n",
            "Instane: 5833 Learning rate: 0.3 , error 48.93:\n",
            "Instane: 5834 Learning rate: 0.3 , error 48.93:\n",
            "Instane: 5835 Learning rate: 0.3 , error 48.93:\n",
            "Instane: 5836 Learning rate: 0.3 , error 48.93:\n",
            "Instane: 5837 Learning rate: 0.3 , error 48.93:\n",
            "Instane: 5838 Learning rate: 0.3 , error 48.93:\n",
            "Instane: 5839 Learning rate: 0.3 , error 48.93:\n",
            "Instane: 5840 Learning rate: 0.3 , error 48.93:\n",
            "Instane: 5841 Learning rate: 0.3 , error 48.93:\n",
            "Instane: 5842 Learning rate: 0.3 , error 48.93:\n",
            "Instane: 5843 Learning rate: 0.3 , error 48.93:\n",
            "Instane: 5844 Learning rate: 0.3 , error 48.93:\n",
            "Instane: 5845 Learning rate: 0.3 , error 48.93:\n",
            "Instane: 5846 Learning rate: 0.3 , error 48.93:\n",
            "Instane: 5847 Learning rate: 0.3 , error 48.93:\n",
            "Instane: 5848 Learning rate: 0.3 , error 48.93:\n",
            "Instane: 5849 Learning rate: 0.3 , error 48.93:\n",
            "Instane: 5850 Learning rate: 0.3 , error 48.93:\n",
            "Instane: 5851 Learning rate: 0.3 , error 48.93:\n",
            "Instane: 5852 Learning rate: 0.3 , error 48.93:\n",
            "Instane: 5853 Learning rate: 0.3 , error 48.93:\n",
            "Instane: 5854 Learning rate: 0.3 , error 48.93:\n",
            "Instane: 5855 Learning rate: 0.3 , error 48.93:\n",
            "Instane: 5856 Learning rate: 0.3 , error 48.93:\n",
            "Instane: 5857 Learning rate: 0.3 , error 48.93:\n",
            "Instane: 5858 Learning rate: 0.3 , error 48.93:\n",
            "Instane: 5859 Learning rate: 0.3 , error 48.93:\n",
            "Instane: 5860 Learning rate: 0.3 , error 48.93:\n",
            "Instane: 5861 Learning rate: 0.3 , error 48.93:\n",
            "Instane: 5862 Learning rate: 0.3 , error 48.93:\n",
            "Instane: 5863 Learning rate: 0.3 , error 48.93:\n",
            "Instane: 5864 Learning rate: 0.3 , error 48.93:\n",
            "Instane: 5865 Learning rate: 0.3 , error 48.93:\n",
            "Instane: 5866 Learning rate: 0.3 , error 48.93:\n",
            "Instane: 5867 Learning rate: 0.3 , error 48.93:\n",
            "Instane: 5868 Learning rate: 0.3 , error 48.93:\n",
            "Instane: 5869 Learning rate: 0.3 , error 48.93:\n",
            "Instane: 5870 Learning rate: 0.3 , error 48.93:\n",
            "Instane: 5871 Learning rate: 0.3 , error 48.93:\n",
            "Instane: 5872 Learning rate: 0.3 , error 48.92:\n",
            "Instane: 5873 Learning rate: 0.3 , error 48.92:\n",
            "Instane: 5874 Learning rate: 0.3 , error 48.92:\n",
            "Instane: 5875 Learning rate: 0.3 , error 48.92:\n",
            "Instane: 5876 Learning rate: 0.3 , error 48.92:\n",
            "Instane: 5877 Learning rate: 0.3 , error 48.92:\n",
            "Instane: 5878 Learning rate: 0.3 , error 48.92:\n",
            "Instane: 5879 Learning rate: 0.3 , error 48.92:\n",
            "Instane: 5880 Learning rate: 0.3 , error 48.92:\n",
            "Instane: 5881 Learning rate: 0.3 , error 48.92:\n",
            "Instane: 5882 Learning rate: 0.3 , error 48.92:\n",
            "Instane: 5883 Learning rate: 0.3 , error 48.92:\n",
            "Instane: 5884 Learning rate: 0.3 , error 48.92:\n",
            "Instane: 5885 Learning rate: 0.3 , error 48.92:\n",
            "Instane: 5886 Learning rate: 0.3 , error 48.92:\n",
            "Instane: 5887 Learning rate: 0.3 , error 48.92:\n",
            "Instane: 5888 Learning rate: 0.3 , error 48.92:\n",
            "Instane: 5889 Learning rate: 0.3 , error 48.92:\n",
            "Instane: 5890 Learning rate: 0.3 , error 48.92:\n",
            "Instane: 5891 Learning rate: 0.3 , error 48.92:\n",
            "Instane: 5892 Learning rate: 0.3 , error 48.92:\n",
            "Instane: 5893 Learning rate: 0.3 , error 48.92:\n",
            "Instane: 5894 Learning rate: 0.3 , error 48.92:\n",
            "Instane: 5895 Learning rate: 0.3 , error 48.92:\n",
            "Instane: 5896 Learning rate: 0.3 , error 48.92:\n",
            "Instane: 5897 Learning rate: 0.3 , error 48.92:\n",
            "Instane: 5898 Learning rate: 0.3 , error 48.92:\n",
            "Instane: 5899 Learning rate: 0.3 , error 48.92:\n",
            "Instane: 5900 Learning rate: 0.3 , error 48.92:\n",
            "Instane: 5901 Learning rate: 0.3 , error 48.92:\n",
            "Instane: 5902 Learning rate: 0.3 , error 48.92:\n",
            "Instane: 5903 Learning rate: 0.3 , error 48.92:\n",
            "Instane: 5904 Learning rate: 0.3 , error 48.92:\n",
            "Instane: 5905 Learning rate: 0.3 , error 48.92:\n",
            "Instane: 5906 Learning rate: 0.3 , error 48.92:\n",
            "Instane: 5907 Learning rate: 0.3 , error 48.92:\n",
            "Instane: 5908 Learning rate: 0.3 , error 48.92:\n",
            "Instane: 5909 Learning rate: 0.3 , error 48.92:\n",
            "Instane: 5910 Learning rate: 0.3 , error 48.92:\n",
            "Instane: 5911 Learning rate: 0.3 , error 48.92:\n",
            "Instane: 5912 Learning rate: 0.3 , error 48.92:\n",
            "Instane: 5913 Learning rate: 0.3 , error 48.92:\n",
            "Instane: 5914 Learning rate: 0.3 , error 48.92:\n",
            "Instane: 5915 Learning rate: 0.3 , error 48.92:\n",
            "Instane: 5916 Learning rate: 0.3 , error 48.92:\n",
            "Instane: 5917 Learning rate: 0.3 , error 48.92:\n",
            "Instane: 5918 Learning rate: 0.3 , error 48.92:\n",
            "Instane: 5919 Learning rate: 0.3 , error 48.92:\n",
            "Instane: 5920 Learning rate: 0.3 , error 48.92:\n",
            "Instane: 5921 Learning rate: 0.3 , error 48.92:\n",
            "Instane: 5922 Learning rate: 0.3 , error 48.92:\n",
            "Instane: 5923 Learning rate: 0.3 , error 48.92:\n",
            "Instane: 5924 Learning rate: 0.3 , error 48.92:\n",
            "Instane: 5925 Learning rate: 0.3 , error 48.92:\n",
            "Instane: 5926 Learning rate: 0.3 , error 48.92:\n",
            "Instane: 5927 Learning rate: 0.3 , error 48.92:\n",
            "Instane: 5928 Learning rate: 0.3 , error 48.92:\n",
            "Instane: 5929 Learning rate: 0.3 , error 48.92:\n",
            "Instane: 5930 Learning rate: 0.3 , error 48.92:\n",
            "Instane: 5931 Learning rate: 0.3 , error 48.92:\n",
            "Instane: 5932 Learning rate: 0.3 , error 48.92:\n",
            "Instane: 5933 Learning rate: 0.3 , error 48.92:\n",
            "Instane: 5934 Learning rate: 0.3 , error 48.92:\n",
            "Instane: 5935 Learning rate: 0.3 , error 48.92:\n",
            "Instane: 5936 Learning rate: 0.3 , error 48.92:\n",
            "Instane: 5937 Learning rate: 0.3 , error 48.92:\n",
            "Instane: 5938 Learning rate: 0.3 , error 48.92:\n",
            "Instane: 5939 Learning rate: 0.3 , error 48.92:\n",
            "Instane: 5940 Learning rate: 0.3 , error 48.92:\n",
            "Instane: 5941 Learning rate: 0.3 , error 48.92:\n",
            "Instane: 5942 Learning rate: 0.3 , error 48.92:\n",
            "Instane: 5943 Learning rate: 0.3 , error 48.92:\n",
            "Instane: 5944 Learning rate: 0.3 , error 48.92:\n",
            "Instane: 5945 Learning rate: 0.3 , error 48.92:\n",
            "Instane: 5946 Learning rate: 0.3 , error 48.92:\n",
            "Instane: 5947 Learning rate: 0.3 , error 48.92:\n",
            "Instane: 5948 Learning rate: 0.3 , error 48.92:\n",
            "Instane: 5949 Learning rate: 0.3 , error 48.92:\n",
            "Instane: 5950 Learning rate: 0.3 , error 48.92:\n",
            "Instane: 5951 Learning rate: 0.3 , error 48.92:\n",
            "Instane: 5952 Learning rate: 0.3 , error 48.92:\n",
            "Instane: 5953 Learning rate: 0.3 , error 48.92:\n",
            "Instane: 5954 Learning rate: 0.3 , error 48.92:\n",
            "Instane: 5955 Learning rate: 0.3 , error 48.92:\n",
            "Instane: 5956 Learning rate: 0.3 , error 48.92:\n",
            "Instane: 5957 Learning rate: 0.3 , error 48.92:\n",
            "Instane: 5958 Learning rate: 0.3 , error 48.92:\n",
            "Instane: 5959 Learning rate: 0.3 , error 48.92:\n",
            "Instane: 5960 Learning rate: 0.3 , error 48.92:\n",
            "Instane: 5961 Learning rate: 0.3 , error 48.92:\n",
            "Instane: 5962 Learning rate: 0.3 , error 48.92:\n",
            "Instane: 5963 Learning rate: 0.3 , error 48.92:\n",
            "Instane: 5964 Learning rate: 0.3 , error 48.92:\n",
            "Instane: 5965 Learning rate: 0.3 , error 48.92:\n",
            "Instane: 5966 Learning rate: 0.3 , error 48.92:\n",
            "Instane: 5967 Learning rate: 0.3 , error 48.92:\n",
            "Instane: 5968 Learning rate: 0.3 , error 48.92:\n",
            "Instane: 5969 Learning rate: 0.3 , error 48.92:\n",
            "Instane: 5970 Learning rate: 0.3 , error 48.92:\n",
            "Instane: 5971 Learning rate: 0.3 , error 48.92:\n",
            "Instane: 5972 Learning rate: 0.3 , error 48.92:\n",
            "Instane: 5973 Learning rate: 0.3 , error 48.92:\n",
            "Instane: 5974 Learning rate: 0.3 , error 48.92:\n",
            "Instane: 5975 Learning rate: 0.3 , error 48.92:\n",
            "Instane: 5976 Learning rate: 0.3 , error 48.92:\n",
            "Instane: 5977 Learning rate: 0.3 , error 48.92:\n",
            "Instane: 5978 Learning rate: 0.3 , error 48.92:\n",
            "Instane: 5979 Learning rate: 0.3 , error 48.92:\n",
            "Instane: 5980 Learning rate: 0.3 , error 48.92:\n",
            "Instane: 5981 Learning rate: 0.3 , error 48.92:\n",
            "Instane: 5982 Learning rate: 0.3 , error 48.92:\n",
            "Instane: 5983 Learning rate: 0.3 , error 48.92:\n",
            "Instane: 5984 Learning rate: 0.3 , error 48.92:\n",
            "Instane: 5985 Learning rate: 0.3 , error 48.92:\n",
            "Instane: 5986 Learning rate: 0.3 , error 48.92:\n",
            "Instane: 5987 Learning rate: 0.3 , error 48.92:\n",
            "Instane: 5988 Learning rate: 0.3 , error 48.92:\n",
            "Instane: 5989 Learning rate: 0.3 , error 48.92:\n",
            "Instane: 5990 Learning rate: 0.3 , error 48.92:\n",
            "Instane: 5991 Learning rate: 0.3 , error 48.92:\n",
            "Instane: 5992 Learning rate: 0.3 , error 48.92:\n",
            "Instane: 5993 Learning rate: 0.3 , error 48.92:\n",
            "Instane: 5994 Learning rate: 0.3 , error 48.92:\n",
            "Instane: 5995 Learning rate: 0.3 , error 48.92:\n",
            "Instane: 5996 Learning rate: 0.3 , error 48.92:\n",
            "Instane: 5997 Learning rate: 0.3 , error 48.92:\n",
            "Instane: 5998 Learning rate: 0.3 , error 48.92:\n",
            "Instane: 5999 Learning rate: 0.3 , error 48.92:\n",
            "Instane: 6000 Learning rate: 0.3 , error 48.92:\n",
            "Instane: 6001 Learning rate: 0.3 , error 48.92:\n",
            "Instane: 6002 Learning rate: 0.3 , error 48.92:\n",
            "Instane: 6003 Learning rate: 0.3 , error 48.92:\n",
            "Instane: 6004 Learning rate: 0.3 , error 48.92:\n",
            "Instane: 6005 Learning rate: 0.3 , error 48.92:\n",
            "Instane: 6006 Learning rate: 0.3 , error 48.92:\n",
            "Instane: 6007 Learning rate: 0.3 , error 48.92:\n",
            "Instane: 6008 Learning rate: 0.3 , error 48.92:\n",
            "Instane: 6009 Learning rate: 0.3 , error 48.92:\n",
            "Instane: 6010 Learning rate: 0.3 , error 48.92:\n",
            "Instane: 6011 Learning rate: 0.3 , error 48.92:\n",
            "Instane: 6012 Learning rate: 0.3 , error 48.92:\n",
            "Instane: 6013 Learning rate: 0.3 , error 48.92:\n",
            "Instane: 6014 Learning rate: 0.3 , error 48.92:\n",
            "Instane: 6015 Learning rate: 0.3 , error 48.92:\n",
            "Instane: 6016 Learning rate: 0.3 , error 48.92:\n",
            "Instane: 6017 Learning rate: 0.3 , error 48.92:\n",
            "Instane: 6018 Learning rate: 0.3 , error 48.92:\n",
            "Instane: 6019 Learning rate: 0.3 , error 48.92:\n",
            "Instane: 6020 Learning rate: 0.3 , error 48.92:\n",
            "Instane: 6021 Learning rate: 0.3 , error 48.92:\n",
            "Instane: 6022 Learning rate: 0.3 , error 48.92:\n",
            "Instane: 6023 Learning rate: 0.3 , error 48.92:\n",
            "Instane: 6024 Learning rate: 0.3 , error 48.92:\n",
            "Instane: 6025 Learning rate: 0.3 , error 48.92:\n",
            "Instane: 6026 Learning rate: 0.3 , error 48.92:\n",
            "Instane: 6027 Learning rate: 0.3 , error 48.92:\n",
            "Instane: 6028 Learning rate: 0.3 , error 48.92:\n",
            "Instane: 6029 Learning rate: 0.3 , error 48.92:\n",
            "Instane: 6030 Learning rate: 0.3 , error 48.92:\n",
            "Instane: 6031 Learning rate: 0.3 , error 48.92:\n",
            "Instane: 6032 Learning rate: 0.3 , error 48.92:\n",
            "Instane: 6033 Learning rate: 0.3 , error 48.92:\n",
            "Instane: 6034 Learning rate: 0.3 , error 48.92:\n",
            "Instane: 6035 Learning rate: 0.3 , error 48.92:\n",
            "Instane: 6036 Learning rate: 0.3 , error 48.92:\n",
            "Instane: 6037 Learning rate: 0.3 , error 48.92:\n",
            "Instane: 6038 Learning rate: 0.3 , error 48.92:\n",
            "Instane: 6039 Learning rate: 0.3 , error 48.92:\n",
            "Instane: 6040 Learning rate: 0.3 , error 48.92:\n",
            "Instane: 6041 Learning rate: 0.3 , error 48.92:\n",
            "Instane: 6042 Learning rate: 0.3 , error 48.92:\n",
            "Instane: 6043 Learning rate: 0.3 , error 48.92:\n",
            "Instane: 6044 Learning rate: 0.3 , error 48.92:\n",
            "Instane: 6045 Learning rate: 0.3 , error 48.92:\n",
            "Instane: 6046 Learning rate: 0.3 , error 48.92:\n",
            "Instane: 6047 Learning rate: 0.3 , error 48.92:\n",
            "Instane: 6048 Learning rate: 0.3 , error 48.92:\n",
            "Instane: 6049 Learning rate: 0.3 , error 48.92:\n",
            "Instane: 6050 Learning rate: 0.3 , error 48.92:\n",
            "Instane: 6051 Learning rate: 0.3 , error 48.92:\n",
            "Instane: 6052 Learning rate: 0.3 , error 48.92:\n",
            "Instane: 6053 Learning rate: 0.3 , error 48.92:\n",
            "Instane: 6054 Learning rate: 0.3 , error 48.92:\n",
            "Instane: 6055 Learning rate: 0.3 , error 48.92:\n",
            "Instane: 6056 Learning rate: 0.3 , error 48.92:\n",
            "Instane: 6057 Learning rate: 0.3 , error 48.92:\n",
            "Instane: 6058 Learning rate: 0.3 , error 48.92:\n",
            "Instane: 6059 Learning rate: 0.3 , error 48.92:\n",
            "Instane: 6060 Learning rate: 0.3 , error 48.92:\n",
            "Instane: 6061 Learning rate: 0.3 , error 48.92:\n",
            "Instane: 6062 Learning rate: 0.3 , error 48.92:\n",
            "Instane: 6063 Learning rate: 0.3 , error 48.92:\n",
            "Instane: 6064 Learning rate: 0.3 , error 48.92:\n",
            "Instane: 6065 Learning rate: 0.3 , error 48.92:\n",
            "Instane: 6066 Learning rate: 0.3 , error 48.92:\n",
            "Instane: 6067 Learning rate: 0.3 , error 48.92:\n",
            "Instane: 6068 Learning rate: 0.3 , error 48.92:\n",
            "Instane: 6069 Learning rate: 0.3 , error 48.92:\n",
            "Instane: 6070 Learning rate: 0.3 , error 48.92:\n",
            "Instane: 6071 Learning rate: 0.3 , error 48.92:\n",
            "Instane: 6072 Learning rate: 0.3 , error 48.92:\n",
            "Instane: 6073 Learning rate: 0.3 , error 48.92:\n",
            "Instane: 6074 Learning rate: 0.3 , error 48.92:\n",
            "Instane: 6075 Learning rate: 0.3 , error 48.92:\n",
            "Instane: 6076 Learning rate: 0.3 , error 48.92:\n",
            "Instane: 6077 Learning rate: 0.3 , error 48.92:\n",
            "Instane: 6078 Learning rate: 0.3 , error 48.92:\n",
            "Instane: 6079 Learning rate: 0.3 , error 48.92:\n",
            "Instane: 6080 Learning rate: 0.3 , error 48.92:\n",
            "Instane: 6081 Learning rate: 0.3 , error 48.92:\n",
            "Instane: 6082 Learning rate: 0.3 , error 48.92:\n",
            "Instane: 6083 Learning rate: 0.3 , error 48.92:\n",
            "Instane: 6084 Learning rate: 0.3 , error 48.92:\n",
            "Instane: 6085 Learning rate: 0.3 , error 48.92:\n",
            "Instane: 6086 Learning rate: 0.3 , error 48.92:\n",
            "Instane: 6087 Learning rate: 0.3 , error 48.91:\n",
            "Instane: 6088 Learning rate: 0.3 , error 48.91:\n",
            "Instane: 6089 Learning rate: 0.3 , error 48.91:\n",
            "Instane: 6090 Learning rate: 0.3 , error 48.91:\n",
            "Instane: 6091 Learning rate: 0.3 , error 48.91:\n",
            "Instane: 6092 Learning rate: 0.3 , error 48.91:\n",
            "Instane: 6093 Learning rate: 0.3 , error 48.91:\n",
            "Instane: 6094 Learning rate: 0.3 , error 48.91:\n",
            "Instane: 6095 Learning rate: 0.3 , error 48.91:\n",
            "Instane: 6096 Learning rate: 0.3 , error 48.91:\n",
            "Instane: 6097 Learning rate: 0.3 , error 48.91:\n",
            "Instane: 6098 Learning rate: 0.3 , error 48.91:\n",
            "Instane: 6099 Learning rate: 0.3 , error 48.91:\n",
            "Instane: 6100 Learning rate: 0.3 , error 48.91:\n",
            "Instane: 6101 Learning rate: 0.3 , error 48.91:\n",
            "Instane: 6102 Learning rate: 0.3 , error 48.91:\n",
            "Instane: 6103 Learning rate: 0.3 , error 48.91:\n",
            "Instane: 6104 Learning rate: 0.3 , error 48.91:\n",
            "Instane: 6105 Learning rate: 0.3 , error 48.91:\n",
            "Instane: 6106 Learning rate: 0.3 , error 48.91:\n",
            "Instane: 6107 Learning rate: 0.3 , error 48.91:\n",
            "Instane: 6108 Learning rate: 0.3 , error 48.91:\n",
            "Instane: 6109 Learning rate: 0.3 , error 48.91:\n",
            "Instane: 6110 Learning rate: 0.3 , error 48.91:\n",
            "Instane: 6111 Learning rate: 0.3 , error 48.91:\n",
            "Instane: 6112 Learning rate: 0.3 , error 48.91:\n",
            "Instane: 6113 Learning rate: 0.3 , error 48.91:\n",
            "Instane: 6114 Learning rate: 0.3 , error 48.91:\n",
            "Instane: 6115 Learning rate: 0.3 , error 48.91:\n",
            "Instane: 6116 Learning rate: 0.3 , error 48.91:\n",
            "Instane: 6117 Learning rate: 0.3 , error 48.91:\n",
            "Instane: 6118 Learning rate: 0.3 , error 48.91:\n",
            "Instane: 6119 Learning rate: 0.3 , error 48.91:\n",
            "Instane: 6120 Learning rate: 0.3 , error 48.91:\n",
            "Instane: 6121 Learning rate: 0.3 , error 48.91:\n",
            "Instane: 6122 Learning rate: 0.3 , error 48.91:\n",
            "Instane: 6123 Learning rate: 0.3 , error 48.91:\n",
            "Instane: 6124 Learning rate: 0.3 , error 48.91:\n",
            "Instane: 6125 Learning rate: 0.3 , error 48.91:\n",
            "Instane: 6126 Learning rate: 0.3 , error 48.91:\n",
            "Instane: 6127 Learning rate: 0.3 , error 48.91:\n",
            "Instane: 6128 Learning rate: 0.3 , error 48.91:\n",
            "Instane: 6129 Learning rate: 0.3 , error 48.91:\n",
            "Instane: 6130 Learning rate: 0.3 , error 48.91:\n",
            "Instane: 6131 Learning rate: 0.3 , error 48.91:\n",
            "Instane: 6132 Learning rate: 0.3 , error 48.91:\n",
            "Instane: 6133 Learning rate: 0.3 , error 48.91:\n",
            "Instane: 6134 Learning rate: 0.3 , error 48.91:\n",
            "Instane: 6135 Learning rate: 0.3 , error 48.91:\n",
            "Instane: 6136 Learning rate: 0.3 , error 48.91:\n",
            "Instane: 6137 Learning rate: 0.3 , error 48.91:\n",
            "Instane: 6138 Learning rate: 0.3 , error 48.91:\n",
            "Instane: 6139 Learning rate: 0.3 , error 48.91:\n",
            "Instane: 6140 Learning rate: 0.3 , error 48.91:\n",
            "Instane: 6141 Learning rate: 0.3 , error 48.91:\n",
            "Instane: 6142 Learning rate: 0.3 , error 48.91:\n",
            "Instane: 6143 Learning rate: 0.3 , error 48.91:\n",
            "Instane: 6144 Learning rate: 0.3 , error 48.91:\n",
            "Instane: 6145 Learning rate: 0.3 , error 48.91:\n",
            "Instane: 6146 Learning rate: 0.3 , error 48.91:\n",
            "Instane: 6147 Learning rate: 0.3 , error 48.91:\n",
            "Instane: 6148 Learning rate: 0.3 , error 48.91:\n",
            "Instane: 6149 Learning rate: 0.3 , error 48.91:\n",
            "Instane: 6150 Learning rate: 0.3 , error 48.91:\n",
            "Instane: 6151 Learning rate: 0.3 , error 48.91:\n",
            "Instane: 6152 Learning rate: 0.3 , error 48.91:\n",
            "Instane: 6153 Learning rate: 0.3 , error 48.91:\n",
            "Instane: 6154 Learning rate: 0.3 , error 48.91:\n",
            "Instane: 6155 Learning rate: 0.3 , error 48.91:\n",
            "Instane: 6156 Learning rate: 0.3 , error 48.91:\n",
            "Instane: 6157 Learning rate: 0.3 , error 48.91:\n",
            "Instane: 6158 Learning rate: 0.3 , error 48.91:\n",
            "Instane: 6159 Learning rate: 0.3 , error 48.91:\n",
            "Instane: 6160 Learning rate: 0.3 , error 48.91:\n",
            "Instane: 6161 Learning rate: 0.3 , error 48.91:\n",
            "Instane: 6162 Learning rate: 0.3 , error 48.91:\n",
            "Instane: 6163 Learning rate: 0.3 , error 48.91:\n",
            "Instane: 6164 Learning rate: 0.3 , error 48.91:\n",
            "Instane: 6165 Learning rate: 0.3 , error 48.91:\n",
            "Instane: 6166 Learning rate: 0.3 , error 48.91:\n",
            "Instane: 6167 Learning rate: 0.3 , error 48.91:\n",
            "Instane: 6168 Learning rate: 0.3 , error 48.91:\n",
            "Instane: 6169 Learning rate: 0.3 , error 48.91:\n",
            "Instane: 6170 Learning rate: 0.3 , error 48.91:\n",
            "Instane: 6171 Learning rate: 0.3 , error 48.91:\n",
            "Instane: 6172 Learning rate: 0.3 , error 48.91:\n",
            "Instane: 6173 Learning rate: 0.3 , error 48.91:\n",
            "Instane: 6174 Learning rate: 0.3 , error 48.91:\n",
            "Instane: 6175 Learning rate: 0.3 , error 48.91:\n",
            "Instane: 6176 Learning rate: 0.3 , error 48.91:\n",
            "Instane: 6177 Learning rate: 0.3 , error 48.91:\n",
            "Instane: 6178 Learning rate: 0.3 , error 48.91:\n",
            "Instane: 6179 Learning rate: 0.3 , error 48.91:\n",
            "Instane: 6180 Learning rate: 0.3 , error 48.91:\n",
            "Instane: 6181 Learning rate: 0.3 , error 48.91:\n",
            "Instane: 6182 Learning rate: 0.3 , error 48.91:\n",
            "Instane: 6183 Learning rate: 0.3 , error 48.91:\n",
            "Instane: 6184 Learning rate: 0.3 , error 48.91:\n",
            "Instane: 6185 Learning rate: 0.3 , error 48.91:\n",
            "Instane: 6186 Learning rate: 0.3 , error 48.91:\n",
            "Instane: 6187 Learning rate: 0.3 , error 48.91:\n",
            "Instane: 6188 Learning rate: 0.3 , error 48.91:\n",
            "Instane: 6189 Learning rate: 0.3 , error 48.91:\n",
            "Instane: 6190 Learning rate: 0.3 , error 48.91:\n",
            "Instane: 6191 Learning rate: 0.3 , error 48.91:\n",
            "Instane: 6192 Learning rate: 0.3 , error 48.91:\n",
            "Instane: 6193 Learning rate: 0.3 , error 48.91:\n",
            "Instane: 6194 Learning rate: 0.3 , error 48.91:\n",
            "Instane: 6195 Learning rate: 0.3 , error 48.91:\n",
            "Instane: 6196 Learning rate: 0.3 , error 48.91:\n",
            "Instane: 6197 Learning rate: 0.3 , error 48.91:\n",
            "Instane: 6198 Learning rate: 0.3 , error 48.91:\n",
            "Instane: 6199 Learning rate: 0.3 , error 48.91:\n",
            "Instane: 6200 Learning rate: 0.3 , error 48.91:\n",
            "Instane: 6201 Learning rate: 0.3 , error 48.91:\n",
            "Instane: 6202 Learning rate: 0.3 , error 48.91:\n",
            "Instane: 6203 Learning rate: 0.3 , error 48.91:\n",
            "Instane: 6204 Learning rate: 0.3 , error 48.91:\n",
            "Instane: 6205 Learning rate: 0.3 , error 48.91:\n",
            "Instane: 6206 Learning rate: 0.3 , error 48.91:\n",
            "Instane: 6207 Learning rate: 0.3 , error 48.91:\n",
            "Instane: 6208 Learning rate: 0.3 , error 48.91:\n",
            "Instane: 6209 Learning rate: 0.3 , error 48.91:\n",
            "Instane: 6210 Learning rate: 0.3 , error 48.91:\n",
            "Instane: 6211 Learning rate: 0.3 , error 48.91:\n",
            "Instane: 6212 Learning rate: 0.3 , error 48.91:\n",
            "Instane: 6213 Learning rate: 0.3 , error 48.91:\n",
            "Instane: 6214 Learning rate: 0.3 , error 48.91:\n",
            "Instane: 6215 Learning rate: 0.3 , error 48.91:\n",
            "Instane: 6216 Learning rate: 0.3 , error 48.91:\n",
            "Instane: 6217 Learning rate: 0.3 , error 48.91:\n",
            "Instane: 6218 Learning rate: 0.3 , error 48.91:\n",
            "Instane: 6219 Learning rate: 0.3 , error 48.91:\n",
            "Instane: 6220 Learning rate: 0.3 , error 48.91:\n",
            "Instane: 6221 Learning rate: 0.3 , error 48.91:\n",
            "Instane: 6222 Learning rate: 0.3 , error 48.91:\n",
            "Instane: 6223 Learning rate: 0.3 , error 48.91:\n",
            "Instane: 6224 Learning rate: 0.3 , error 48.91:\n",
            "Instane: 6225 Learning rate: 0.3 , error 48.91:\n",
            "Instane: 6226 Learning rate: 0.3 , error 48.91:\n",
            "Instane: 6227 Learning rate: 0.3 , error 48.91:\n",
            "Instane: 6228 Learning rate: 0.3 , error 48.91:\n",
            "Instane: 6229 Learning rate: 0.3 , error 48.91:\n",
            "Instane: 6230 Learning rate: 0.3 , error 48.91:\n",
            "Instane: 6231 Learning rate: 0.3 , error 48.91:\n",
            "Instane: 6232 Learning rate: 0.3 , error 48.91:\n",
            "Instane: 6233 Learning rate: 0.3 , error 48.91:\n",
            "Instane: 6234 Learning rate: 0.3 , error 48.91:\n",
            "Instane: 6235 Learning rate: 0.3 , error 48.91:\n",
            "Instane: 6236 Learning rate: 0.3 , error 48.91:\n",
            "Instane: 6237 Learning rate: 0.3 , error 48.91:\n",
            "Instane: 6238 Learning rate: 0.3 , error 48.91:\n",
            "Instane: 6239 Learning rate: 0.3 , error 48.91:\n",
            "Instane: 6240 Learning rate: 0.3 , error 48.91:\n",
            "Instane: 6241 Learning rate: 0.3 , error 48.91:\n",
            "Instane: 6242 Learning rate: 0.3 , error 48.91:\n",
            "Instane: 6243 Learning rate: 0.3 , error 48.91:\n",
            "Instane: 6244 Learning rate: 0.3 , error 48.91:\n",
            "Instane: 6245 Learning rate: 0.3 , error 48.91:\n",
            "Instane: 6246 Learning rate: 0.3 , error 48.91:\n",
            "Instane: 6247 Learning rate: 0.3 , error 48.91:\n",
            "Instane: 6248 Learning rate: 0.3 , error 48.91:\n",
            "Instane: 6249 Learning rate: 0.3 , error 48.91:\n",
            "Instane: 6250 Learning rate: 0.3 , error 48.91:\n",
            "Instane: 6251 Learning rate: 0.3 , error 48.91:\n",
            "Instane: 6252 Learning rate: 0.3 , error 48.91:\n",
            "Instane: 6253 Learning rate: 0.3 , error 48.91:\n",
            "Instane: 6254 Learning rate: 0.3 , error 48.91:\n",
            "Instane: 6255 Learning rate: 0.3 , error 48.91:\n",
            "Instane: 6256 Learning rate: 0.3 , error 48.91:\n",
            "Instane: 6257 Learning rate: 0.3 , error 48.91:\n",
            "Instane: 6258 Learning rate: 0.3 , error 48.91:\n",
            "Instane: 6259 Learning rate: 0.3 , error 48.91:\n",
            "Instane: 6260 Learning rate: 0.3 , error 48.91:\n",
            "Instane: 6261 Learning rate: 0.3 , error 48.91:\n",
            "Instane: 6262 Learning rate: 0.3 , error 48.91:\n",
            "Instane: 6263 Learning rate: 0.3 , error 48.91:\n",
            "Instane: 6264 Learning rate: 0.3 , error 48.91:\n",
            "Instane: 6265 Learning rate: 0.3 , error 48.91:\n",
            "Instane: 6266 Learning rate: 0.3 , error 48.91:\n",
            "Instane: 6267 Learning rate: 0.3 , error 48.91:\n",
            "Instane: 6268 Learning rate: 0.3 , error 48.91:\n",
            "Instane: 6269 Learning rate: 0.3 , error 48.91:\n",
            "Instane: 6270 Learning rate: 0.3 , error 48.91:\n",
            "Instane: 6271 Learning rate: 0.3 , error 48.91:\n",
            "Instane: 6272 Learning rate: 0.3 , error 48.91:\n",
            "Instane: 6273 Learning rate: 0.3 , error 48.91:\n",
            "Instane: 6274 Learning rate: 0.3 , error 48.91:\n",
            "Instane: 6275 Learning rate: 0.3 , error 48.91:\n",
            "Instane: 6276 Learning rate: 0.3 , error 48.91:\n",
            "Instane: 6277 Learning rate: 0.3 , error 48.91:\n",
            "Instane: 6278 Learning rate: 0.3 , error 48.91:\n",
            "Instane: 6279 Learning rate: 0.3 , error 48.91:\n",
            "Instane: 6280 Learning rate: 0.3 , error 48.91:\n",
            "Instane: 6281 Learning rate: 0.3 , error 48.91:\n",
            "Instane: 6282 Learning rate: 0.3 , error 48.91:\n",
            "Instane: 6283 Learning rate: 0.3 , error 48.91:\n",
            "Instane: 6284 Learning rate: 0.3 , error 48.91:\n",
            "Instane: 6285 Learning rate: 0.3 , error 48.91:\n",
            "Instane: 6286 Learning rate: 0.3 , error 48.91:\n",
            "Instane: 6287 Learning rate: 0.3 , error 48.91:\n",
            "Instane: 6288 Learning rate: 0.3 , error 48.91:\n",
            "Instane: 6289 Learning rate: 0.3 , error 48.91:\n",
            "Instane: 6290 Learning rate: 0.3 , error 48.91:\n",
            "Instane: 6291 Learning rate: 0.3 , error 48.91:\n",
            "Instane: 6292 Learning rate: 0.3 , error 48.91:\n",
            "Instane: 6293 Learning rate: 0.3 , error 48.91:\n",
            "Instane: 6294 Learning rate: 0.3 , error 48.91:\n",
            "Instane: 6295 Learning rate: 0.3 , error 48.91:\n",
            "Instane: 6296 Learning rate: 0.3 , error 48.91:\n",
            "Instane: 6297 Learning rate: 0.3 , error 48.91:\n",
            "Instane: 6298 Learning rate: 0.3 , error 48.91:\n",
            "Instane: 6299 Learning rate: 0.3 , error 48.91:\n",
            "Instane: 6300 Learning rate: 0.3 , error 48.91:\n",
            "Instane: 6301 Learning rate: 0.3 , error 48.91:\n",
            "Instane: 6302 Learning rate: 0.3 , error 48.91:\n",
            "Instane: 6303 Learning rate: 0.3 , error 48.91:\n",
            "Instane: 6304 Learning rate: 0.3 , error 48.91:\n",
            "Instane: 6305 Learning rate: 0.3 , error 48.91:\n",
            "Instane: 6306 Learning rate: 0.3 , error 48.91:\n",
            "Instane: 6307 Learning rate: 0.3 , error 48.91:\n",
            "Instane: 6308 Learning rate: 0.3 , error 48.91:\n",
            "Instane: 6309 Learning rate: 0.3 , error 48.91:\n",
            "Instane: 6310 Learning rate: 0.3 , error 48.91:\n",
            "Instane: 6311 Learning rate: 0.3 , error 48.91:\n",
            "Instane: 6312 Learning rate: 0.3 , error 48.91:\n",
            "Instane: 6313 Learning rate: 0.3 , error 48.91:\n",
            "Instane: 6314 Learning rate: 0.3 , error 48.91:\n",
            "Instane: 6315 Learning rate: 0.3 , error 48.91:\n",
            "Instane: 6316 Learning rate: 0.3 , error 48.91:\n",
            "Instane: 6317 Learning rate: 0.3 , error 48.91:\n",
            "Instane: 6318 Learning rate: 0.3 , error 48.91:\n",
            "Instane: 6319 Learning rate: 0.3 , error 48.91:\n",
            "Instane: 6320 Learning rate: 0.3 , error 48.91:\n",
            "Instane: 6321 Learning rate: 0.3 , error 48.91:\n",
            "Instane: 6322 Learning rate: 0.3 , error 48.91:\n",
            "Instane: 6323 Learning rate: 0.3 , error 48.91:\n",
            "Instane: 6324 Learning rate: 0.3 , error 48.91:\n",
            "Instane: 6325 Learning rate: 0.3 , error 48.91:\n",
            "Instane: 6326 Learning rate: 0.3 , error 48.91:\n",
            "Instane: 6327 Learning rate: 0.3 , error 48.91:\n",
            "Instane: 6328 Learning rate: 0.3 , error 48.91:\n",
            "Instane: 6329 Learning rate: 0.3 , error 48.91:\n",
            "Instane: 6330 Learning rate: 0.3 , error 48.91:\n",
            "Instane: 6331 Learning rate: 0.3 , error 48.91:\n",
            "Instane: 6332 Learning rate: 0.3 , error 48.91:\n",
            "Instane: 6333 Learning rate: 0.3 , error 48.91:\n",
            "Instane: 6334 Learning rate: 0.3 , error 48.91:\n",
            "Instane: 6335 Learning rate: 0.3 , error 48.91:\n",
            "Instane: 6336 Learning rate: 0.3 , error 48.91:\n",
            "Instane: 6337 Learning rate: 0.3 , error 48.91:\n",
            "Instane: 6338 Learning rate: 0.3 , error 48.91:\n",
            "Instane: 6339 Learning rate: 0.3 , error 48.91:\n",
            "Instane: 6340 Learning rate: 0.3 , error 48.91:\n",
            "Instane: 6341 Learning rate: 0.3 , error 48.91:\n",
            "Instane: 6342 Learning rate: 0.3 , error 48.91:\n",
            "Instane: 6343 Learning rate: 0.3 , error 48.91:\n",
            "Instane: 6344 Learning rate: 0.3 , error 48.91:\n",
            "Instane: 6345 Learning rate: 0.3 , error 48.91:\n",
            "Instane: 6346 Learning rate: 0.3 , error 48.91:\n",
            "Instane: 6347 Learning rate: 0.3 , error 48.91:\n",
            "Instane: 6348 Learning rate: 0.3 , error 48.91:\n",
            "Instane: 6349 Learning rate: 0.3 , error 48.91:\n",
            "Instane: 6350 Learning rate: 0.3 , error 48.91:\n",
            "Instane: 6351 Learning rate: 0.3 , error 48.91:\n",
            "Instane: 6352 Learning rate: 0.3 , error 48.91:\n",
            "Instane: 6353 Learning rate: 0.3 , error 48.91:\n",
            "Instane: 6354 Learning rate: 0.3 , error 48.91:\n",
            "Instane: 6355 Learning rate: 0.3 , error 48.91:\n",
            "Instane: 6356 Learning rate: 0.3 , error 48.91:\n",
            "Instane: 6357 Learning rate: 0.3 , error 48.91:\n",
            "Instane: 6358 Learning rate: 0.3 , error 48.91:\n",
            "Instane: 6359 Learning rate: 0.3 , error 48.91:\n",
            "Instane: 6360 Learning rate: 0.3 , error 48.91:\n",
            "Instane: 6361 Learning rate: 0.3 , error 48.91:\n",
            "Instane: 6362 Learning rate: 0.3 , error 48.91:\n",
            "Instane: 6363 Learning rate: 0.3 , error 48.90:\n",
            "Instane: 6364 Learning rate: 0.3 , error 48.90:\n",
            "Instane: 6365 Learning rate: 0.3 , error 48.90:\n",
            "Instane: 6366 Learning rate: 0.3 , error 48.90:\n",
            "Instane: 6367 Learning rate: 0.3 , error 48.90:\n",
            "Instane: 6368 Learning rate: 0.3 , error 48.90:\n",
            "Instane: 6369 Learning rate: 0.3 , error 48.90:\n",
            "Instane: 6370 Learning rate: 0.3 , error 48.90:\n",
            "Instane: 6371 Learning rate: 0.3 , error 48.90:\n",
            "Instane: 6372 Learning rate: 0.3 , error 48.90:\n",
            "Instane: 6373 Learning rate: 0.3 , error 48.90:\n",
            "Instane: 6374 Learning rate: 0.3 , error 48.90:\n",
            "Instane: 6375 Learning rate: 0.3 , error 48.90:\n",
            "Instane: 6376 Learning rate: 0.3 , error 48.90:\n",
            "Instane: 6377 Learning rate: 0.3 , error 48.90:\n",
            "Instane: 6378 Learning rate: 0.3 , error 48.90:\n",
            "Instane: 6379 Learning rate: 0.3 , error 48.90:\n",
            "Instane: 6380 Learning rate: 0.3 , error 48.90:\n",
            "Instane: 6381 Learning rate: 0.3 , error 48.90:\n",
            "Instane: 6382 Learning rate: 0.3 , error 48.90:\n",
            "Instane: 6383 Learning rate: 0.3 , error 48.90:\n",
            "Instane: 6384 Learning rate: 0.3 , error 48.90:\n",
            "Instane: 6385 Learning rate: 0.3 , error 48.90:\n",
            "Instane: 6386 Learning rate: 0.3 , error 48.90:\n",
            "Instane: 6387 Learning rate: 0.3 , error 48.90:\n",
            "Instane: 6388 Learning rate: 0.3 , error 48.90:\n",
            "Instane: 6389 Learning rate: 0.3 , error 48.90:\n",
            "Instane: 6390 Learning rate: 0.3 , error 48.90:\n",
            "Instane: 6391 Learning rate: 0.3 , error 48.90:\n",
            "Instane: 6392 Learning rate: 0.3 , error 48.90:\n",
            "Instane: 6393 Learning rate: 0.3 , error 48.90:\n",
            "Instane: 6394 Learning rate: 0.3 , error 48.90:\n",
            "Instane: 6395 Learning rate: 0.3 , error 48.90:\n",
            "Instane: 6396 Learning rate: 0.3 , error 48.90:\n",
            "Instane: 6397 Learning rate: 0.3 , error 48.90:\n",
            "Instane: 6398 Learning rate: 0.3 , error 48.90:\n",
            "Instane: 6399 Learning rate: 0.3 , error 48.90:\n",
            "Instane: 6400 Learning rate: 0.3 , error 48.90:\n",
            "Instane: 6401 Learning rate: 0.3 , error 48.90:\n",
            "Instane: 6402 Learning rate: 0.3 , error 48.90:\n",
            "Instane: 6403 Learning rate: 0.3 , error 48.90:\n",
            "Instane: 6404 Learning rate: 0.3 , error 48.90:\n",
            "Instane: 6405 Learning rate: 0.3 , error 48.90:\n",
            "Instane: 6406 Learning rate: 0.3 , error 48.90:\n",
            "Instane: 6407 Learning rate: 0.3 , error 48.90:\n",
            "Instane: 6408 Learning rate: 0.3 , error 48.90:\n",
            "Instane: 6409 Learning rate: 0.3 , error 48.90:\n",
            "Instane: 6410 Learning rate: 0.3 , error 48.90:\n",
            "Instane: 6411 Learning rate: 0.3 , error 48.90:\n",
            "Instane: 6412 Learning rate: 0.3 , error 48.90:\n",
            "Instane: 6413 Learning rate: 0.3 , error 48.90:\n",
            "Instane: 6414 Learning rate: 0.3 , error 48.90:\n",
            "Instane: 6415 Learning rate: 0.3 , error 48.90:\n",
            "Instane: 6416 Learning rate: 0.3 , error 48.90:\n",
            "Instane: 6417 Learning rate: 0.3 , error 48.90:\n",
            "Instane: 6418 Learning rate: 0.3 , error 48.90:\n",
            "Instane: 6419 Learning rate: 0.3 , error 48.90:\n",
            "Instane: 6420 Learning rate: 0.3 , error 48.90:\n",
            "Instane: 6421 Learning rate: 0.3 , error 48.90:\n",
            "Instane: 6422 Learning rate: 0.3 , error 48.90:\n",
            "Instane: 6423 Learning rate: 0.3 , error 48.90:\n",
            "Instane: 6424 Learning rate: 0.3 , error 48.90:\n",
            "Instane: 6425 Learning rate: 0.3 , error 48.90:\n",
            "Instane: 6426 Learning rate: 0.3 , error 48.90:\n",
            "Instane: 6427 Learning rate: 0.3 , error 48.90:\n",
            "Instane: 6428 Learning rate: 0.3 , error 48.90:\n",
            "Instane: 6429 Learning rate: 0.3 , error 48.90:\n",
            "Instane: 6430 Learning rate: 0.3 , error 48.90:\n",
            "Instane: 6431 Learning rate: 0.3 , error 48.90:\n",
            "Instane: 6432 Learning rate: 0.3 , error 48.90:\n",
            "Instane: 6433 Learning rate: 0.3 , error 48.90:\n",
            "Instane: 6434 Learning rate: 0.3 , error 48.90:\n",
            "Instane: 6435 Learning rate: 0.3 , error 48.90:\n",
            "Instane: 6436 Learning rate: 0.3 , error 48.90:\n",
            "Instane: 6437 Learning rate: 0.3 , error 48.90:\n",
            "Instane: 6438 Learning rate: 0.3 , error 48.90:\n",
            "Instane: 6439 Learning rate: 0.3 , error 48.90:\n",
            "Instane: 6440 Learning rate: 0.3 , error 48.90:\n",
            "Instane: 6441 Learning rate: 0.3 , error 48.90:\n",
            "Instane: 6442 Learning rate: 0.3 , error 48.90:\n",
            "Instane: 6443 Learning rate: 0.3 , error 48.90:\n",
            "Instane: 6444 Learning rate: 0.3 , error 48.90:\n",
            "Instane: 6445 Learning rate: 0.3 , error 48.90:\n",
            "Instane: 6446 Learning rate: 0.3 , error 48.90:\n",
            "Instane: 6447 Learning rate: 0.3 , error 48.90:\n",
            "Instane: 6448 Learning rate: 0.3 , error 48.90:\n",
            "Instane: 6449 Learning rate: 0.3 , error 48.90:\n",
            "Instane: 6450 Learning rate: 0.3 , error 48.90:\n",
            "Instane: 6451 Learning rate: 0.3 , error 48.90:\n",
            "Instane: 6452 Learning rate: 0.3 , error 48.90:\n",
            "Instane: 6453 Learning rate: 0.3 , error 48.90:\n",
            "Instane: 6454 Learning rate: 0.3 , error 48.90:\n",
            "Instane: 6455 Learning rate: 0.3 , error 48.90:\n",
            "Instane: 6456 Learning rate: 0.3 , error 48.90:\n",
            "Instane: 6457 Learning rate: 0.3 , error 48.90:\n",
            "Instane: 6458 Learning rate: 0.3 , error 48.90:\n",
            "Instane: 6459 Learning rate: 0.3 , error 48.90:\n",
            "Instane: 6460 Learning rate: 0.3 , error 48.90:\n",
            "Instane: 6461 Learning rate: 0.3 , error 48.90:\n",
            "Instane: 6462 Learning rate: 0.3 , error 48.90:\n",
            "Instane: 6463 Learning rate: 0.3 , error 48.90:\n",
            "Instane: 6464 Learning rate: 0.3 , error 48.90:\n",
            "Instane: 6465 Learning rate: 0.3 , error 48.90:\n",
            "Instane: 6466 Learning rate: 0.3 , error 48.90:\n",
            "Instane: 6467 Learning rate: 0.3 , error 48.90:\n",
            "Instane: 6468 Learning rate: 0.3 , error 48.90:\n",
            "Instane: 6469 Learning rate: 0.3 , error 48.90:\n",
            "Instane: 6470 Learning rate: 0.3 , error 48.90:\n",
            "Instane: 6471 Learning rate: 0.3 , error 48.90:\n",
            "Instane: 6472 Learning rate: 0.3 , error 48.90:\n",
            "Instane: 6473 Learning rate: 0.3 , error 48.90:\n",
            "Instane: 6474 Learning rate: 0.3 , error 48.90:\n",
            "Instane: 6475 Learning rate: 0.3 , error 48.90:\n",
            "Instane: 6476 Learning rate: 0.3 , error 48.90:\n",
            "Instane: 6477 Learning rate: 0.3 , error 48.90:\n",
            "Instane: 6478 Learning rate: 0.3 , error 48.90:\n",
            "Instane: 6479 Learning rate: 0.3 , error 48.90:\n",
            "Instane: 6480 Learning rate: 0.3 , error 48.90:\n",
            "Instane: 6481 Learning rate: 0.3 , error 48.90:\n",
            "Instane: 6482 Learning rate: 0.3 , error 48.90:\n",
            "Instane: 6483 Learning rate: 0.3 , error 48.90:\n",
            "Instane: 6484 Learning rate: 0.3 , error 48.90:\n",
            "Instane: 6485 Learning rate: 0.3 , error 48.90:\n",
            "Instane: 6486 Learning rate: 0.3 , error 48.90:\n",
            "Instane: 6487 Learning rate: 0.3 , error 48.90:\n",
            "Instane: 6488 Learning rate: 0.3 , error 48.90:\n",
            "Instane: 6489 Learning rate: 0.3 , error 48.90:\n",
            "Instane: 6490 Learning rate: 0.3 , error 48.90:\n",
            "Instane: 6491 Learning rate: 0.3 , error 48.90:\n",
            "Instane: 6492 Learning rate: 0.3 , error 48.90:\n",
            "Instane: 6493 Learning rate: 0.3 , error 48.90:\n",
            "Instane: 6494 Learning rate: 0.3 , error 48.90:\n",
            "Instane: 6495 Learning rate: 0.3 , error 48.90:\n",
            "Instane: 6496 Learning rate: 0.3 , error 48.90:\n",
            "Instane: 6497 Learning rate: 0.3 , error 48.90:\n",
            "Instane: 6498 Learning rate: 0.3 , error 48.90:\n",
            "Instane: 6499 Learning rate: 0.3 , error 48.90:\n",
            "Instane: 6500 Learning rate: 0.3 , error 48.90:\n",
            "Instane: 6501 Learning rate: 0.3 , error 48.90:\n",
            "Instane: 6502 Learning rate: 0.3 , error 48.90:\n",
            "Instane: 6503 Learning rate: 0.3 , error 48.90:\n",
            "Instane: 6504 Learning rate: 0.3 , error 48.90:\n",
            "Instane: 6505 Learning rate: 0.3 , error 48.90:\n",
            "Instane: 6506 Learning rate: 0.3 , error 48.90:\n",
            "Instane: 6507 Learning rate: 0.3 , error 48.90:\n",
            "Instane: 6508 Learning rate: 0.3 , error 48.90:\n",
            "Instane: 6509 Learning rate: 0.3 , error 48.90:\n",
            "Instane: 6510 Learning rate: 0.3 , error 48.90:\n",
            "Instane: 6511 Learning rate: 0.3 , error 48.90:\n",
            "Instane: 6512 Learning rate: 0.3 , error 48.90:\n",
            "Instane: 6513 Learning rate: 0.3 , error 48.90:\n",
            "Instane: 6514 Learning rate: 0.3 , error 48.90:\n",
            "Instane: 6515 Learning rate: 0.3 , error 48.90:\n",
            "Instane: 6516 Learning rate: 0.3 , error 48.90:\n",
            "Instane: 6517 Learning rate: 0.3 , error 48.90:\n",
            "Instane: 6518 Learning rate: 0.3 , error 48.90:\n",
            "Instane: 6519 Learning rate: 0.3 , error 48.90:\n",
            "Instane: 6520 Learning rate: 0.3 , error 48.90:\n",
            "Instane: 6521 Learning rate: 0.3 , error 48.90:\n",
            "Instane: 6522 Learning rate: 0.3 , error 48.90:\n",
            "Instane: 6523 Learning rate: 0.3 , error 48.90:\n",
            "Instane: 6524 Learning rate: 0.3 , error 48.90:\n",
            "Instane: 6525 Learning rate: 0.3 , error 48.90:\n",
            "Instane: 6526 Learning rate: 0.3 , error 48.90:\n",
            "Instane: 6527 Learning rate: 0.3 , error 48.90:\n",
            "Instane: 6528 Learning rate: 0.3 , error 48.90:\n",
            "Instane: 6529 Learning rate: 0.3 , error 48.90:\n",
            "Instane: 6530 Learning rate: 0.3 , error 48.90:\n",
            "Instane: 6531 Learning rate: 0.3 , error 48.90:\n",
            "Instane: 6532 Learning rate: 0.3 , error 48.90:\n",
            "Instane: 6533 Learning rate: 0.3 , error 48.90:\n",
            "Instane: 6534 Learning rate: 0.3 , error 48.90:\n",
            "Instane: 6535 Learning rate: 0.3 , error 48.90:\n",
            "Instane: 6536 Learning rate: 0.3 , error 48.90:\n",
            "Instane: 6537 Learning rate: 0.3 , error 48.90:\n",
            "Instane: 6538 Learning rate: 0.3 , error 48.90:\n",
            "Instane: 6539 Learning rate: 0.3 , error 48.90:\n",
            "Instane: 6540 Learning rate: 0.3 , error 48.90:\n",
            "Instane: 6541 Learning rate: 0.3 , error 48.90:\n",
            "Instane: 6542 Learning rate: 0.3 , error 48.90:\n",
            "Instane: 6543 Learning rate: 0.3 , error 48.90:\n",
            "Instane: 6544 Learning rate: 0.3 , error 48.90:\n",
            "Instane: 6545 Learning rate: 0.3 , error 48.90:\n",
            "Instane: 6546 Learning rate: 0.3 , error 48.90:\n",
            "Instane: 6547 Learning rate: 0.3 , error 48.90:\n",
            "Instane: 6548 Learning rate: 0.3 , error 48.90:\n",
            "Instane: 6549 Learning rate: 0.3 , error 48.90:\n",
            "Instane: 6550 Learning rate: 0.3 , error 48.90:\n",
            "Instane: 6551 Learning rate: 0.3 , error 48.90:\n",
            "Instane: 6552 Learning rate: 0.3 , error 48.90:\n",
            "Instane: 6553 Learning rate: 0.3 , error 48.90:\n",
            "Instane: 6554 Learning rate: 0.3 , error 48.90:\n",
            "Instane: 6555 Learning rate: 0.3 , error 48.90:\n",
            "Instane: 6556 Learning rate: 0.3 , error 48.90:\n",
            "Instane: 6557 Learning rate: 0.3 , error 48.90:\n",
            "Instane: 6558 Learning rate: 0.3 , error 48.90:\n",
            "Instane: 6559 Learning rate: 0.3 , error 48.90:\n",
            "Instane: 6560 Learning rate: 0.3 , error 48.90:\n",
            "Instane: 6561 Learning rate: 0.3 , error 48.90:\n",
            "Instane: 6562 Learning rate: 0.3 , error 48.90:\n",
            "Instane: 6563 Learning rate: 0.3 , error 48.90:\n",
            "Instane: 6564 Learning rate: 0.3 , error 48.90:\n",
            "Instane: 6565 Learning rate: 0.3 , error 48.90:\n",
            "Instane: 6566 Learning rate: 0.3 , error 48.90:\n",
            "Instane: 6567 Learning rate: 0.3 , error 48.90:\n",
            "Instane: 6568 Learning rate: 0.3 , error 48.90:\n",
            "Instane: 6569 Learning rate: 0.3 , error 48.90:\n",
            "Instane: 6570 Learning rate: 0.3 , error 48.90:\n",
            "Instane: 6571 Learning rate: 0.3 , error 48.90:\n",
            "Instane: 6572 Learning rate: 0.3 , error 48.90:\n",
            "Instane: 6573 Learning rate: 0.3 , error 48.90:\n",
            "Instane: 6574 Learning rate: 0.3 , error 48.90:\n",
            "Instane: 6575 Learning rate: 0.3 , error 48.90:\n",
            "Instane: 6576 Learning rate: 0.3 , error 48.90:\n",
            "Instane: 6577 Learning rate: 0.3 , error 48.90:\n",
            "Instane: 6578 Learning rate: 0.3 , error 48.90:\n",
            "Instane: 6579 Learning rate: 0.3 , error 48.90:\n",
            "Instane: 6580 Learning rate: 0.3 , error 48.90:\n",
            "Instane: 6581 Learning rate: 0.3 , error 48.90:\n",
            "Instane: 6582 Learning rate: 0.3 , error 48.90:\n",
            "Instane: 6583 Learning rate: 0.3 , error 48.90:\n",
            "Instane: 6584 Learning rate: 0.3 , error 48.90:\n",
            "Instane: 6585 Learning rate: 0.3 , error 48.90:\n",
            "Instane: 6586 Learning rate: 0.3 , error 48.90:\n",
            "Instane: 6587 Learning rate: 0.3 , error 48.90:\n",
            "Instane: 6588 Learning rate: 0.3 , error 48.90:\n",
            "Instane: 6589 Learning rate: 0.3 , error 48.90:\n",
            "Instane: 6590 Learning rate: 0.3 , error 48.90:\n",
            "Instane: 6591 Learning rate: 0.3 , error 48.90:\n",
            "Instane: 6592 Learning rate: 0.3 , error 48.90:\n",
            "Instane: 6593 Learning rate: 0.3 , error 48.90:\n",
            "Instane: 6594 Learning rate: 0.3 , error 48.90:\n",
            "Instane: 6595 Learning rate: 0.3 , error 48.90:\n",
            "Instane: 6596 Learning rate: 0.3 , error 48.90:\n",
            "Instane: 6597 Learning rate: 0.3 , error 48.90:\n",
            "Instane: 6598 Learning rate: 0.3 , error 48.90:\n",
            "Instane: 6599 Learning rate: 0.3 , error 48.90:\n",
            "Instane: 6600 Learning rate: 0.3 , error 48.90:\n",
            "Instane: 6601 Learning rate: 0.3 , error 48.90:\n",
            "Instane: 6602 Learning rate: 0.3 , error 48.90:\n",
            "Instane: 6603 Learning rate: 0.3 , error 48.90:\n",
            "Instane: 6604 Learning rate: 0.3 , error 48.90:\n",
            "Instane: 6605 Learning rate: 0.3 , error 48.90:\n",
            "Instane: 6606 Learning rate: 0.3 , error 48.90:\n",
            "Instane: 6607 Learning rate: 0.3 , error 48.90:\n",
            "Instane: 6608 Learning rate: 0.3 , error 48.90:\n",
            "Instane: 6609 Learning rate: 0.3 , error 48.90:\n",
            "Instane: 6610 Learning rate: 0.3 , error 48.90:\n",
            "Instane: 6611 Learning rate: 0.3 , error 48.90:\n",
            "Instane: 6612 Learning rate: 0.3 , error 48.90:\n",
            "Instane: 6613 Learning rate: 0.3 , error 48.90:\n",
            "Instane: 6614 Learning rate: 0.3 , error 48.90:\n",
            "Instane: 6615 Learning rate: 0.3 , error 48.90:\n",
            "Instane: 6616 Learning rate: 0.3 , error 48.90:\n",
            "Instane: 6617 Learning rate: 0.3 , error 48.90:\n",
            "Instane: 6618 Learning rate: 0.3 , error 48.90:\n",
            "Instane: 6619 Learning rate: 0.3 , error 48.90:\n",
            "Instane: 6620 Learning rate: 0.3 , error 48.90:\n",
            "Instane: 6621 Learning rate: 0.3 , error 48.90:\n",
            "Instane: 6622 Learning rate: 0.3 , error 48.90:\n",
            "Instane: 6623 Learning rate: 0.3 , error 48.90:\n",
            "Instane: 6624 Learning rate: 0.3 , error 48.90:\n",
            "Instane: 6625 Learning rate: 0.3 , error 48.90:\n",
            "Instane: 6626 Learning rate: 0.3 , error 48.90:\n",
            "Instane: 6627 Learning rate: 0.3 , error 48.90:\n",
            "Instane: 6628 Learning rate: 0.3 , error 48.90:\n",
            "Instane: 6629 Learning rate: 0.3 , error 48.90:\n",
            "Instane: 6630 Learning rate: 0.3 , error 48.90:\n",
            "Instane: 6631 Learning rate: 0.3 , error 48.90:\n",
            "Instane: 6632 Learning rate: 0.3 , error 48.90:\n",
            "Instane: 6633 Learning rate: 0.3 , error 48.90:\n",
            "Instane: 6634 Learning rate: 0.3 , error 48.90:\n",
            "Instane: 6635 Learning rate: 0.3 , error 48.90:\n",
            "Instane: 6636 Learning rate: 0.3 , error 48.90:\n",
            "Instane: 6637 Learning rate: 0.3 , error 48.90:\n",
            "Instane: 6638 Learning rate: 0.3 , error 48.90:\n",
            "Instane: 6639 Learning rate: 0.3 , error 48.90:\n",
            "Instane: 6640 Learning rate: 0.3 , error 48.90:\n",
            "Instane: 6641 Learning rate: 0.3 , error 48.90:\n",
            "Instane: 6642 Learning rate: 0.3 , error 48.90:\n",
            "Instane: 6643 Learning rate: 0.3 , error 48.90:\n",
            "Instane: 6644 Learning rate: 0.3 , error 48.90:\n",
            "Instane: 6645 Learning rate: 0.3 , error 48.90:\n",
            "Instane: 6646 Learning rate: 0.3 , error 48.90:\n",
            "Instane: 6647 Learning rate: 0.3 , error 48.90:\n",
            "Instane: 6648 Learning rate: 0.3 , error 48.90:\n",
            "Instane: 6649 Learning rate: 0.3 , error 48.90:\n",
            "Instane: 6650 Learning rate: 0.3 , error 48.90:\n",
            "Instane: 6651 Learning rate: 0.3 , error 48.90:\n",
            "Instane: 6652 Learning rate: 0.3 , error 48.90:\n",
            "Instane: 6653 Learning rate: 0.3 , error 48.90:\n",
            "Instane: 6654 Learning rate: 0.3 , error 48.90:\n",
            "Instane: 6655 Learning rate: 0.3 , error 48.90:\n",
            "Instane: 6656 Learning rate: 0.3 , error 48.90:\n",
            "Instane: 6657 Learning rate: 0.3 , error 48.90:\n",
            "Instane: 6658 Learning rate: 0.3 , error 48.90:\n",
            "Instane: 6659 Learning rate: 0.3 , error 48.90:\n",
            "Instane: 6660 Learning rate: 0.3 , error 48.90:\n",
            "Instane: 6661 Learning rate: 0.3 , error 48.90:\n",
            "Instane: 6662 Learning rate: 0.3 , error 48.90:\n",
            "Instane: 6663 Learning rate: 0.3 , error 48.90:\n",
            "Instane: 6664 Learning rate: 0.3 , error 48.90:\n",
            "Instane: 6665 Learning rate: 0.3 , error 48.90:\n",
            "Instane: 6666 Learning rate: 0.3 , error 48.90:\n",
            "Instane: 6667 Learning rate: 0.3 , error 48.90:\n",
            "Instane: 6668 Learning rate: 0.3 , error 48.90:\n",
            "Instane: 6669 Learning rate: 0.3 , error 48.90:\n",
            "Instane: 6670 Learning rate: 0.3 , error 48.90:\n",
            "Instane: 6671 Learning rate: 0.3 , error 48.90:\n",
            "Instane: 6672 Learning rate: 0.3 , error 48.90:\n",
            "Instane: 6673 Learning rate: 0.3 , error 48.90:\n",
            "Instane: 6674 Learning rate: 0.3 , error 48.90:\n",
            "Instane: 6675 Learning rate: 0.3 , error 48.90:\n",
            "Instane: 6676 Learning rate: 0.3 , error 48.90:\n",
            "Instane: 6677 Learning rate: 0.3 , error 48.90:\n",
            "Instane: 6678 Learning rate: 0.3 , error 48.90:\n",
            "Instane: 6679 Learning rate: 0.3 , error 48.90:\n",
            "Instane: 6680 Learning rate: 0.3 , error 48.90:\n",
            "Instane: 6681 Learning rate: 0.3 , error 48.90:\n",
            "Instane: 6682 Learning rate: 0.3 , error 48.90:\n",
            "Instane: 6683 Learning rate: 0.3 , error 48.90:\n",
            "Instane: 6684 Learning rate: 0.3 , error 48.90:\n",
            "Instane: 6685 Learning rate: 0.3 , error 48.90:\n",
            "Instane: 6686 Learning rate: 0.3 , error 48.90:\n",
            "Instane: 6687 Learning rate: 0.3 , error 48.90:\n",
            "Instane: 6688 Learning rate: 0.3 , error 48.90:\n",
            "Instane: 6689 Learning rate: 0.3 , error 48.90:\n",
            "Instane: 6690 Learning rate: 0.3 , error 48.90:\n",
            "Instane: 6691 Learning rate: 0.3 , error 48.90:\n",
            "Instane: 6692 Learning rate: 0.3 , error 48.90:\n",
            "Instane: 6693 Learning rate: 0.3 , error 48.90:\n",
            "Instane: 6694 Learning rate: 0.3 , error 48.90:\n",
            "Instane: 6695 Learning rate: 0.3 , error 48.90:\n",
            "Instane: 6696 Learning rate: 0.3 , error 48.90:\n",
            "Instane: 6697 Learning rate: 0.3 , error 48.90:\n",
            "Instane: 6698 Learning rate: 0.3 , error 48.90:\n",
            "Instane: 6699 Learning rate: 0.3 , error 48.90:\n",
            "Instane: 6700 Learning rate: 0.3 , error 48.90:\n",
            "Instane: 6701 Learning rate: 0.3 , error 48.90:\n",
            "Instane: 6702 Learning rate: 0.3 , error 48.90:\n",
            "Instane: 6703 Learning rate: 0.3 , error 48.90:\n",
            "Instane: 6704 Learning rate: 0.3 , error 48.90:\n",
            "Instane: 6705 Learning rate: 0.3 , error 48.90:\n",
            "Instane: 6706 Learning rate: 0.3 , error 48.90:\n",
            "Instane: 6707 Learning rate: 0.3 , error 48.90:\n",
            "Instane: 6708 Learning rate: 0.3 , error 48.90:\n",
            "Instane: 6709 Learning rate: 0.3 , error 48.90:\n",
            "Instane: 6710 Learning rate: 0.3 , error 48.90:\n",
            "Instane: 6711 Learning rate: 0.3 , error 48.90:\n",
            "Instane: 6712 Learning rate: 0.3 , error 48.90:\n",
            "Instane: 6713 Learning rate: 0.3 , error 48.90:\n",
            "Instane: 6714 Learning rate: 0.3 , error 48.90:\n",
            "Instane: 6715 Learning rate: 0.3 , error 48.90:\n",
            "Instane: 6716 Learning rate: 0.3 , error 48.90:\n",
            "Instane: 6717 Learning rate: 0.3 , error 48.90:\n",
            "Instane: 6718 Learning rate: 0.3 , error 48.90:\n",
            "Instane: 6719 Learning rate: 0.3 , error 48.90:\n",
            "Instane: 6720 Learning rate: 0.3 , error 48.90:\n",
            "Instane: 6721 Learning rate: 0.3 , error 48.90:\n",
            "Instane: 6722 Learning rate: 0.3 , error 48.90:\n",
            "Instane: 6723 Learning rate: 0.3 , error 48.90:\n",
            "Instane: 6724 Learning rate: 0.3 , error 48.90:\n",
            "Instane: 6725 Learning rate: 0.3 , error 48.90:\n",
            "Instane: 6726 Learning rate: 0.3 , error 48.90:\n",
            "Instane: 6727 Learning rate: 0.3 , error 48.90:\n",
            "Instane: 6728 Learning rate: 0.3 , error 48.90:\n",
            "Instane: 6729 Learning rate: 0.3 , error 48.90:\n",
            "Instane: 6730 Learning rate: 0.3 , error 48.90:\n",
            "Instane: 6731 Learning rate: 0.3 , error 48.90:\n",
            "Instane: 6732 Learning rate: 0.3 , error 48.90:\n",
            "Instane: 6733 Learning rate: 0.3 , error 48.90:\n",
            "Instane: 6734 Learning rate: 0.3 , error 48.90:\n",
            "Instane: 6735 Learning rate: 0.3 , error 48.90:\n",
            "Instane: 6736 Learning rate: 0.3 , error 48.90:\n",
            "Instane: 6737 Learning rate: 0.3 , error 48.90:\n",
            "Instane: 6738 Learning rate: 0.3 , error 48.90:\n",
            "Instane: 6739 Learning rate: 0.3 , error 48.90:\n",
            "Instane: 6740 Learning rate: 0.3 , error 48.90:\n",
            "Instane: 6741 Learning rate: 0.3 , error 48.90:\n",
            "Instane: 6742 Learning rate: 0.3 , error 48.90:\n",
            "Instane: 6743 Learning rate: 0.3 , error 48.90:\n",
            "Instane: 6744 Learning rate: 0.3 , error 48.90:\n",
            "Instane: 6745 Learning rate: 0.3 , error 48.90:\n",
            "Instane: 6746 Learning rate: 0.3 , error 48.90:\n",
            "Instane: 6747 Learning rate: 0.3 , error 48.90:\n",
            "Instane: 6748 Learning rate: 0.3 , error 48.90:\n",
            "Instane: 6749 Learning rate: 0.3 , error 48.90:\n",
            "Instane: 6750 Learning rate: 0.3 , error 48.90:\n",
            "Instane: 6751 Learning rate: 0.3 , error 48.90:\n",
            "Instane: 6752 Learning rate: 0.3 , error 48.90:\n",
            "Instane: 6753 Learning rate: 0.3 , error 48.90:\n",
            "Instane: 6754 Learning rate: 0.3 , error 48.90:\n",
            "Instane: 6755 Learning rate: 0.3 , error 48.90:\n",
            "Instane: 6756 Learning rate: 0.3 , error 48.90:\n",
            "Instane: 6757 Learning rate: 0.3 , error 48.90:\n",
            "Instane: 6758 Learning rate: 0.3 , error 48.90:\n",
            "Instane: 6759 Learning rate: 0.3 , error 48.90:\n",
            "Instane: 6760 Learning rate: 0.3 , error 48.90:\n",
            "Instane: 6761 Learning rate: 0.3 , error 48.90:\n",
            "Instane: 6762 Learning rate: 0.3 , error 48.90:\n",
            "Instane: 6763 Learning rate: 0.3 , error 48.90:\n",
            "Instane: 6764 Learning rate: 0.3 , error 48.90:\n",
            "Instane: 6765 Learning rate: 0.3 , error 48.90:\n",
            "Instane: 6766 Learning rate: 0.3 , error 48.90:\n",
            "Instane: 6767 Learning rate: 0.3 , error 48.90:\n",
            "Instane: 6768 Learning rate: 0.3 , error 48.90:\n",
            "Instane: 6769 Learning rate: 0.3 , error 48.90:\n",
            "Instane: 6770 Learning rate: 0.3 , error 48.90:\n",
            "Instane: 6771 Learning rate: 0.3 , error 48.90:\n",
            "Instane: 6772 Learning rate: 0.3 , error 48.90:\n",
            "Instane: 6773 Learning rate: 0.3 , error 48.90:\n",
            "Instane: 6774 Learning rate: 0.3 , error 48.90:\n",
            "Instane: 6775 Learning rate: 0.3 , error 48.90:\n",
            "Instane: 6776 Learning rate: 0.3 , error 48.90:\n",
            "Instane: 6777 Learning rate: 0.3 , error 48.90:\n",
            "Instane: 6778 Learning rate: 0.3 , error 48.90:\n",
            "Instane: 6779 Learning rate: 0.3 , error 48.90:\n",
            "Instane: 6780 Learning rate: 0.3 , error 48.90:\n",
            "Instane: 6781 Learning rate: 0.3 , error 48.90:\n",
            "Instane: 6782 Learning rate: 0.3 , error 48.90:\n",
            "Instane: 6783 Learning rate: 0.3 , error 48.90:\n",
            "Instane: 6784 Learning rate: 0.3 , error 48.90:\n",
            "Instane: 6785 Learning rate: 0.3 , error 48.90:\n",
            "Instane: 6786 Learning rate: 0.3 , error 48.90:\n",
            "Instane: 6787 Learning rate: 0.3 , error 48.90:\n",
            "Instane: 6788 Learning rate: 0.3 , error 48.90:\n",
            "Instane: 6789 Learning rate: 0.3 , error 48.90:\n",
            "Instane: 6790 Learning rate: 0.3 , error 48.90:\n",
            "Instane: 6791 Learning rate: 0.3 , error 48.90:\n",
            "Instane: 6792 Learning rate: 0.3 , error 48.90:\n",
            "Instane: 6793 Learning rate: 0.3 , error 48.90:\n",
            "Instane: 6794 Learning rate: 0.3 , error 48.90:\n",
            "Instane: 6795 Learning rate: 0.3 , error 48.90:\n",
            "Instane: 6796 Learning rate: 0.3 , error 48.90:\n",
            "Instane: 6797 Learning rate: 0.3 , error 48.90:\n",
            "Instane: 6798 Learning rate: 0.3 , error 48.90:\n",
            "Instane: 6799 Learning rate: 0.3 , error 48.90:\n",
            "Instane: 6800 Learning rate: 0.3 , error 48.90:\n",
            "Instane: 6801 Learning rate: 0.3 , error 48.90:\n",
            "Instane: 6802 Learning rate: 0.3 , error 48.90:\n",
            "Instane: 6803 Learning rate: 0.3 , error 48.90:\n",
            "Instane: 6804 Learning rate: 0.3 , error 48.90:\n",
            "Instane: 6805 Learning rate: 0.3 , error 48.90:\n",
            "Instane: 6806 Learning rate: 0.3 , error 48.90:\n",
            "Instane: 6807 Learning rate: 0.3 , error 48.90:\n",
            "Instane: 6808 Learning rate: 0.3 , error 48.90:\n",
            "Instane: 6809 Learning rate: 0.3 , error 48.90:\n",
            "Instane: 6810 Learning rate: 0.3 , error 48.90:\n",
            "Instane: 6811 Learning rate: 0.3 , error 48.90:\n",
            "Instane: 6812 Learning rate: 0.3 , error 48.90:\n",
            "Instane: 6813 Learning rate: 0.3 , error 48.90:\n",
            "Instane: 6814 Learning rate: 0.3 , error 48.90:\n",
            "Instane: 6815 Learning rate: 0.3 , error 48.90:\n",
            "Instane: 6816 Learning rate: 0.3 , error 48.90:\n",
            "Instane: 6817 Learning rate: 0.3 , error 48.90:\n",
            "Instane: 6818 Learning rate: 0.3 , error 48.90:\n",
            "Instane: 6819 Learning rate: 0.3 , error 48.90:\n",
            "Instane: 6820 Learning rate: 0.3 , error 48.90:\n",
            "Instane: 6821 Learning rate: 0.3 , error 48.90:\n",
            "Instane: 6822 Learning rate: 0.3 , error 48.90:\n",
            "Instane: 6823 Learning rate: 0.3 , error 48.90:\n",
            "Instane: 6824 Learning rate: 0.3 , error 48.90:\n",
            "Instane: 6825 Learning rate: 0.3 , error 48.90:\n",
            "Instane: 6826 Learning rate: 0.3 , error 48.90:\n",
            "Instane: 6827 Learning rate: 0.3 , error 48.90:\n",
            "Instane: 6828 Learning rate: 0.3 , error 48.90:\n",
            "Instane: 6829 Learning rate: 0.3 , error 48.90:\n",
            "Instane: 6830 Learning rate: 0.3 , error 48.90:\n",
            "Instane: 6831 Learning rate: 0.3 , error 48.90:\n",
            "Instane: 6832 Learning rate: 0.3 , error 48.90:\n",
            "Instane: 6833 Learning rate: 0.3 , error 48.90:\n",
            "Instane: 6834 Learning rate: 0.3 , error 48.90:\n",
            "Instane: 6835 Learning rate: 0.3 , error 48.90:\n",
            "Instane: 6836 Learning rate: 0.3 , error 48.90:\n",
            "Instane: 6837 Learning rate: 0.3 , error 48.90:\n",
            "Instane: 6838 Learning rate: 0.3 , error 48.90:\n",
            "Instane: 6839 Learning rate: 0.3 , error 48.90:\n",
            "Instane: 6840 Learning rate: 0.3 , error 48.90:\n",
            "Instane: 6841 Learning rate: 0.3 , error 48.90:\n",
            "Instane: 6842 Learning rate: 0.3 , error 48.90:\n",
            "Instane: 6843 Learning rate: 0.3 , error 48.90:\n",
            "Instane: 6844 Learning rate: 0.3 , error 48.90:\n",
            "Instane: 6845 Learning rate: 0.3 , error 48.90:\n",
            "Instane: 6846 Learning rate: 0.3 , error 48.90:\n",
            "Instane: 6847 Learning rate: 0.3 , error 48.90:\n",
            "Instane: 6848 Learning rate: 0.3 , error 48.90:\n",
            "Instane: 6849 Learning rate: 0.3 , error 48.90:\n",
            "Instane: 6850 Learning rate: 0.3 , error 48.90:\n",
            "Instane: 6851 Learning rate: 0.3 , error 48.90:\n",
            "Instane: 6852 Learning rate: 0.3 , error 48.90:\n",
            "Instane: 6853 Learning rate: 0.3 , error 48.90:\n",
            "Instane: 6854 Learning rate: 0.3 , error 48.90:\n",
            "Instane: 6855 Learning rate: 0.3 , error 48.90:\n",
            "Instane: 6856 Learning rate: 0.3 , error 48.90:\n",
            "Instane: 6857 Learning rate: 0.3 , error 48.90:\n",
            "Instane: 6858 Learning rate: 0.3 , error 48.90:\n",
            "Instane: 6859 Learning rate: 0.3 , error 48.90:\n",
            "Instane: 6860 Learning rate: 0.3 , error 48.90:\n",
            "Instane: 6861 Learning rate: 0.3 , error 48.90:\n",
            "Instane: 6862 Learning rate: 0.3 , error 48.90:\n",
            "Instane: 6863 Learning rate: 0.3 , error 48.90:\n",
            "Instane: 6864 Learning rate: 0.3 , error 48.90:\n",
            "Instane: 6865 Learning rate: 0.3 , error 48.90:\n",
            "Instane: 6866 Learning rate: 0.3 , error 48.90:\n",
            "Instane: 6867 Learning rate: 0.3 , error 48.90:\n",
            "Instane: 6868 Learning rate: 0.3 , error 48.90:\n",
            "Instane: 6869 Learning rate: 0.3 , error 48.90:\n",
            "Instane: 6870 Learning rate: 0.3 , error 48.90:\n",
            "Instane: 6871 Learning rate: 0.3 , error 48.90:\n",
            "Instane: 6872 Learning rate: 0.3 , error 48.90:\n",
            "Instane: 6873 Learning rate: 0.3 , error 48.90:\n",
            "Instane: 6874 Learning rate: 0.3 , error 48.90:\n",
            "Instane: 6875 Learning rate: 0.3 , error 48.90:\n",
            "Instane: 6876 Learning rate: 0.3 , error 48.90:\n",
            "Instane: 6877 Learning rate: 0.3 , error 48.90:\n",
            "Instane: 6878 Learning rate: 0.3 , error 48.90:\n",
            "Instane: 6879 Learning rate: 0.3 , error 48.90:\n",
            "Instane: 6880 Learning rate: 0.3 , error 48.90:\n",
            "Instane: 6881 Learning rate: 0.3 , error 48.90:\n",
            "Instane: 6882 Learning rate: 0.3 , error 48.90:\n",
            "Instane: 6883 Learning rate: 0.3 , error 48.90:\n",
            "Instane: 6884 Learning rate: 0.3 , error 48.90:\n",
            "Instane: 6885 Learning rate: 0.3 , error 48.90:\n",
            "Instane: 6886 Learning rate: 0.3 , error 48.90:\n",
            "Instane: 6887 Learning rate: 0.3 , error 48.90:\n",
            "Instane: 6888 Learning rate: 0.3 , error 48.90:\n",
            "Instane: 6889 Learning rate: 0.3 , error 48.90:\n",
            "Instane: 6890 Learning rate: 0.3 , error 48.90:\n",
            "Instane: 6891 Learning rate: 0.3 , error 48.90:\n",
            "Instane: 6892 Learning rate: 0.3 , error 48.90:\n",
            "Instane: 6893 Learning rate: 0.3 , error 48.90:\n",
            "Instane: 6894 Learning rate: 0.3 , error 48.90:\n",
            "Instane: 6895 Learning rate: 0.3 , error 48.90:\n",
            "Instane: 6896 Learning rate: 0.3 , error 48.90:\n",
            "Instane: 6897 Learning rate: 0.3 , error 48.90:\n",
            "Instane: 6898 Learning rate: 0.3 , error 48.90:\n",
            "Instane: 6899 Learning rate: 0.3 , error 48.90:\n",
            "Instane: 6900 Learning rate: 0.3 , error 48.90:\n",
            "Instane: 6901 Learning rate: 0.3 , error 48.90:\n",
            "Instane: 6902 Learning rate: 0.3 , error 48.90:\n",
            "Instane: 6903 Learning rate: 0.3 , error 48.90:\n",
            "Instane: 6904 Learning rate: 0.3 , error 48.90:\n",
            "Instane: 6905 Learning rate: 0.3 , error 48.90:\n",
            "Instane: 6906 Learning rate: 0.3 , error 48.90:\n",
            "Instane: 6907 Learning rate: 0.3 , error 48.90:\n",
            "Instane: 6908 Learning rate: 0.3 , error 48.90:\n",
            "Instane: 6909 Learning rate: 0.3 , error 48.90:\n",
            "Instane: 6910 Learning rate: 0.3 , error 48.90:\n",
            "Instane: 6911 Learning rate: 0.3 , error 48.90:\n",
            "Instane: 6912 Learning rate: 0.3 , error 48.90:\n",
            "Instane: 6913 Learning rate: 0.3 , error 48.90:\n",
            "Instane: 6914 Learning rate: 0.3 , error 48.90:\n",
            "Instane: 6915 Learning rate: 0.3 , error 48.90:\n",
            "Instane: 6916 Learning rate: 0.3 , error 48.90:\n",
            "Instane: 6917 Learning rate: 0.3 , error 48.90:\n",
            "Instane: 6918 Learning rate: 0.3 , error 48.90:\n",
            "Instane: 6919 Learning rate: 0.3 , error 48.90:\n",
            "Instane: 6920 Learning rate: 0.3 , error 48.90:\n",
            "Instane: 6921 Learning rate: 0.3 , error 48.90:\n",
            "Instane: 6922 Learning rate: 0.3 , error 48.90:\n",
            "Instane: 6923 Learning rate: 0.3 , error 48.90:\n",
            "Instane: 6924 Learning rate: 0.3 , error 48.90:\n",
            "Instane: 6925 Learning rate: 0.3 , error 48.90:\n",
            "Instane: 6926 Learning rate: 0.3 , error 48.90:\n",
            "Instane: 6927 Learning rate: 0.3 , error 48.90:\n",
            "Instane: 6928 Learning rate: 0.3 , error 48.90:\n",
            "Instane: 6929 Learning rate: 0.3 , error 48.90:\n",
            "Instane: 6930 Learning rate: 0.3 , error 48.90:\n",
            "Instane: 6931 Learning rate: 0.3 , error 48.90:\n",
            "Instane: 6932 Learning rate: 0.3 , error 48.90:\n",
            "Instane: 6933 Learning rate: 0.3 , error 48.90:\n",
            "Instane: 6934 Learning rate: 0.3 , error 48.90:\n",
            "Instane: 6935 Learning rate: 0.3 , error 48.90:\n",
            "Instane: 6936 Learning rate: 0.3 , error 48.90:\n",
            "Instane: 6937 Learning rate: 0.3 , error 48.90:\n",
            "Instane: 6938 Learning rate: 0.3 , error 48.90:\n",
            "Instane: 6939 Learning rate: 0.3 , error 48.90:\n",
            "Instane: 6940 Learning rate: 0.3 , error 48.90:\n",
            "Instane: 6941 Learning rate: 0.3 , error 48.90:\n",
            "Instane: 6942 Learning rate: 0.3 , error 48.90:\n",
            "Instane: 6943 Learning rate: 0.3 , error 48.90:\n",
            "Instane: 6944 Learning rate: 0.3 , error 48.90:\n",
            "Instane: 6945 Learning rate: 0.3 , error 48.90:\n",
            "Instane: 6946 Learning rate: 0.3 , error 48.90:\n",
            "Instane: 6947 Learning rate: 0.3 , error 48.90:\n",
            "Instane: 6948 Learning rate: 0.3 , error 48.90:\n",
            "Instane: 6949 Learning rate: 0.3 , error 48.90:\n",
            "Instane: 6950 Learning rate: 0.3 , error 48.90:\n",
            "Instane: 6951 Learning rate: 0.3 , error 48.90:\n",
            "Instane: 6952 Learning rate: 0.3 , error 48.90:\n",
            "Instane: 6953 Learning rate: 0.3 , error 48.90:\n",
            "Instane: 6954 Learning rate: 0.3 , error 48.90:\n",
            "Instane: 6955 Learning rate: 0.3 , error 48.90:\n",
            "Instane: 6956 Learning rate: 0.3 , error 48.90:\n",
            "Instane: 6957 Learning rate: 0.3 , error 48.90:\n",
            "Instane: 6958 Learning rate: 0.3 , error 48.90:\n",
            "Instane: 6959 Learning rate: 0.3 , error 48.90:\n",
            "Instane: 6960 Learning rate: 0.3 , error 48.90:\n",
            "Instane: 6961 Learning rate: 0.3 , error 48.90:\n",
            "Instane: 6962 Learning rate: 0.3 , error 48.90:\n",
            "Instane: 6963 Learning rate: 0.3 , error 48.90:\n",
            "Instane: 6964 Learning rate: 0.3 , error 48.90:\n",
            "Instane: 6965 Learning rate: 0.3 , error 48.90:\n",
            "Instane: 6966 Learning rate: 0.3 , error 48.90:\n",
            "Instane: 6967 Learning rate: 0.3 , error 48.90:\n",
            "Instane: 6968 Learning rate: 0.3 , error 48.90:\n",
            "Instane: 6969 Learning rate: 0.3 , error 48.90:\n",
            "Instane: 6970 Learning rate: 0.3 , error 48.90:\n",
            "Instane: 6971 Learning rate: 0.3 , error 48.90:\n",
            "Instane: 6972 Learning rate: 0.3 , error 48.90:\n",
            "Instane: 6973 Learning rate: 0.3 , error 48.90:\n",
            "Instane: 6974 Learning rate: 0.3 , error 48.90:\n",
            "Instane: 6975 Learning rate: 0.3 , error 48.90:\n",
            "Instane: 6976 Learning rate: 0.3 , error 48.90:\n",
            "Instane: 6977 Learning rate: 0.3 , error 48.90:\n",
            "Instane: 6978 Learning rate: 0.3 , error 48.90:\n",
            "Instane: 6979 Learning rate: 0.3 , error 48.90:\n",
            "Instane: 6980 Learning rate: 0.3 , error 48.90:\n",
            "Instane: 6981 Learning rate: 0.3 , error 48.90:\n",
            "Instane: 6982 Learning rate: 0.3 , error 48.90:\n",
            "Instane: 6983 Learning rate: 0.3 , error 48.90:\n",
            "Instane: 6984 Learning rate: 0.3 , error 48.90:\n",
            "Instane: 6985 Learning rate: 0.3 , error 48.90:\n",
            "Instane: 6986 Learning rate: 0.3 , error 48.90:\n",
            "Instane: 6987 Learning rate: 0.3 , error 48.90:\n",
            "Instane: 6988 Learning rate: 0.3 , error 48.90:\n",
            "Instane: 6989 Learning rate: 0.3 , error 48.90:\n",
            "Instane: 6990 Learning rate: 0.3 , error 48.90:\n",
            "Instane: 6991 Learning rate: 0.3 , error 48.90:\n",
            "Instane: 6992 Learning rate: 0.3 , error 48.90:\n",
            "Instane: 6993 Learning rate: 0.3 , error 48.90:\n",
            "Instane: 6994 Learning rate: 0.3 , error 48.90:\n",
            "Instane: 6995 Learning rate: 0.3 , error 48.90:\n",
            "Instane: 6996 Learning rate: 0.3 , error 48.90:\n",
            "Instane: 6997 Learning rate: 0.3 , error 48.90:\n",
            "Instane: 6998 Learning rate: 0.3 , error 48.90:\n",
            "Instane: 6999 Learning rate: 0.3 , error 48.90:\n",
            "Instane: 7000 Learning rate: 0.3 , error 48.90:\n",
            "Instane: 7001 Learning rate: 0.3 , error 48.90:\n",
            "Instane: 7002 Learning rate: 0.3 , error 48.90:\n",
            "Instane: 7003 Learning rate: 0.3 , error 48.90:\n",
            "Instane: 7004 Learning rate: 0.3 , error 48.90:\n",
            "Instane: 7005 Learning rate: 0.3 , error 48.90:\n",
            "Instane: 7006 Learning rate: 0.3 , error 48.90:\n",
            "Instane: 7007 Learning rate: 0.3 , error 48.90:\n",
            "Instane: 7008 Learning rate: 0.3 , error 48.90:\n",
            "Instane: 7009 Learning rate: 0.3 , error 48.90:\n",
            "Instane: 7010 Learning rate: 0.3 , error 48.90:\n",
            "Instane: 7011 Learning rate: 0.3 , error 48.90:\n",
            "Instane: 7012 Learning rate: 0.3 , error 48.90:\n",
            "Instane: 7013 Learning rate: 0.3 , error 48.90:\n",
            "Instane: 7014 Learning rate: 0.3 , error 48.90:\n",
            "Instane: 7015 Learning rate: 0.3 , error 48.90:\n",
            "Instane: 7016 Learning rate: 0.3 , error 48.90:\n",
            "Instane: 7017 Learning rate: 0.3 , error 48.90:\n",
            "Instane: 7018 Learning rate: 0.3 , error 48.90:\n",
            "Instane: 7019 Learning rate: 0.3 , error 48.90:\n",
            "Instane: 7020 Learning rate: 0.3 , error 48.90:\n",
            "Instane: 7021 Learning rate: 0.3 , error 48.90:\n",
            "Instane: 7022 Learning rate: 0.3 , error 48.90:\n",
            "Instane: 7023 Learning rate: 0.3 , error 48.90:\n",
            "Instane: 7024 Learning rate: 0.3 , error 48.90:\n",
            "Instane: 7025 Learning rate: 0.3 , error 48.90:\n",
            "Instane: 7026 Learning rate: 0.3 , error 48.90:\n",
            "Instane: 7027 Learning rate: 0.3 , error 48.90:\n",
            "Instane: 7028 Learning rate: 0.3 , error 48.90:\n",
            "Instane: 7029 Learning rate: 0.3 , error 48.90:\n",
            "Instane: 7030 Learning rate: 0.3 , error 48.90:\n",
            "Instane: 7031 Learning rate: 0.3 , error 48.90:\n",
            "Instane: 7032 Learning rate: 0.3 , error 48.90:\n",
            "Instane: 7033 Learning rate: 0.3 , error 48.90:\n",
            "Instane: 7034 Learning rate: 0.3 , error 48.90:\n",
            "Instane: 7035 Learning rate: 0.3 , error 48.90:\n",
            "Instane: 7036 Learning rate: 0.3 , error 48.90:\n",
            "Instane: 7037 Learning rate: 0.3 , error 48.90:\n",
            "Instane: 7038 Learning rate: 0.3 , error 48.90:\n",
            "Instane: 7039 Learning rate: 0.3 , error 48.90:\n",
            "Instane: 7040 Learning rate: 0.3 , error 48.90:\n",
            "Instane: 7041 Learning rate: 0.3 , error 48.90:\n",
            "Instane: 7042 Learning rate: 0.3 , error 48.90:\n",
            "Instane: 7043 Learning rate: 0.3 , error 48.90:\n",
            "Instane: 7044 Learning rate: 0.3 , error 48.90:\n",
            "Instane: 7045 Learning rate: 0.3 , error 48.90:\n",
            "Instane: 7046 Learning rate: 0.3 , error 48.90:\n",
            "Instane: 7047 Learning rate: 0.3 , error 48.90:\n",
            "Instane: 7048 Learning rate: 0.3 , error 48.90:\n",
            "Instane: 7049 Learning rate: 0.3 , error 48.90:\n",
            "Instane: 7050 Learning rate: 0.3 , error 48.90:\n",
            "Instane: 7051 Learning rate: 0.3 , error 48.90:\n",
            "Instane: 7052 Learning rate: 0.3 , error 48.90:\n",
            "Instane: 7053 Learning rate: 0.3 , error 48.90:\n",
            "Instane: 7054 Learning rate: 0.3 , error 48.90:\n",
            "Instane: 7055 Learning rate: 0.3 , error 48.90:\n",
            "Instane: 7056 Learning rate: 0.3 , error 48.90:\n",
            "Instane: 7057 Learning rate: 0.3 , error 48.90:\n",
            "Instane: 7058 Learning rate: 0.3 , error 48.90:\n",
            "Instane: 7059 Learning rate: 0.3 , error 48.90:\n",
            "Instane: 7060 Learning rate: 0.3 , error 48.90:\n",
            "Instane: 7061 Learning rate: 0.3 , error 48.90:\n",
            "Instane: 7062 Learning rate: 0.3 , error 48.90:\n",
            "Instane: 7063 Learning rate: 0.3 , error 48.90:\n",
            "Instane: 7064 Learning rate: 0.3 , error 48.90:\n",
            "Instane: 7065 Learning rate: 0.3 , error 48.90:\n",
            "Instane: 7066 Learning rate: 0.3 , error 48.90:\n",
            "Instane: 7067 Learning rate: 0.3 , error 48.90:\n",
            "Instane: 7068 Learning rate: 0.3 , error 48.90:\n",
            "Instane: 7069 Learning rate: 0.3 , error 48.90:\n",
            "Instane: 7070 Learning rate: 0.3 , error 48.90:\n",
            "Instane: 7071 Learning rate: 0.3 , error 48.90:\n",
            "Instane: 7072 Learning rate: 0.3 , error 48.90:\n",
            "Instane: 7073 Learning rate: 0.3 , error 48.90:\n",
            "Instane: 7074 Learning rate: 0.3 , error 48.90:\n",
            "Instane: 7075 Learning rate: 0.3 , error 48.90:\n",
            "Instane: 7076 Learning rate: 0.3 , error 48.90:\n",
            "Instane: 7077 Learning rate: 0.3 , error 48.90:\n",
            "Instane: 7078 Learning rate: 0.3 , error 48.90:\n",
            "Instane: 7079 Learning rate: 0.3 , error 48.90:\n",
            "Instane: 7080 Learning rate: 0.3 , error 48.90:\n",
            "Instane: 7081 Learning rate: 0.3 , error 48.90:\n",
            "Instane: 7082 Learning rate: 0.3 , error 48.90:\n",
            "Instane: 7083 Learning rate: 0.3 , error 48.90:\n",
            "Instane: 7084 Learning rate: 0.3 , error 48.90:\n",
            "Instane: 7085 Learning rate: 0.3 , error 48.90:\n",
            "Instane: 7086 Learning rate: 0.3 , error 48.90:\n",
            "Instane: 7087 Learning rate: 0.3 , error 48.90:\n",
            "Instane: 7088 Learning rate: 0.3 , error 48.90:\n",
            "Instane: 7089 Learning rate: 0.3 , error 48.90:\n",
            "Instane: 7090 Learning rate: 0.3 , error 48.90:\n",
            "Instane: 7091 Learning rate: 0.3 , error 48.90:\n",
            "Instane: 7092 Learning rate: 0.3 , error 48.90:\n",
            "Instane: 7093 Learning rate: 0.3 , error 48.90:\n",
            "Instane: 7094 Learning rate: 0.3 , error 48.90:\n",
            "Instane: 7095 Learning rate: 0.3 , error 48.90:\n",
            "Instane: 7096 Learning rate: 0.3 , error 48.90:\n",
            "Instane: 7097 Learning rate: 0.3 , error 48.90:\n",
            "Instane: 7098 Learning rate: 0.3 , error 48.90:\n",
            "Instane: 7099 Learning rate: 0.3 , error 48.90:\n",
            "Instane: 7100 Learning rate: 0.3 , error 48.90:\n",
            "Instane: 7101 Learning rate: 0.3 , error 48.90:\n",
            "Instane: 7102 Learning rate: 0.3 , error 48.90:\n",
            "Instane: 7103 Learning rate: 0.3 , error 48.90:\n",
            "Instane: 7104 Learning rate: 0.3 , error 48.90:\n",
            "Instane: 7105 Learning rate: 0.3 , error 48.90:\n",
            "Instane: 7106 Learning rate: 0.3 , error 48.90:\n",
            "Instane: 7107 Learning rate: 0.3 , error 48.90:\n",
            "Instane: 7108 Learning rate: 0.3 , error 48.90:\n",
            "Instane: 7109 Learning rate: 0.3 , error 48.90:\n",
            "Instane: 7110 Learning rate: 0.3 , error 48.90:\n",
            "Instane: 7111 Learning rate: 0.3 , error 48.90:\n",
            "Instane: 7112 Learning rate: 0.3 , error 48.90:\n",
            "Instane: 7113 Learning rate: 0.3 , error 48.90:\n",
            "Instane: 7114 Learning rate: 0.3 , error 48.90:\n",
            "Instane: 7115 Learning rate: 0.3 , error 48.90:\n",
            "Instane: 7116 Learning rate: 0.3 , error 48.90:\n",
            "Instane: 7117 Learning rate: 0.3 , error 48.90:\n",
            "Instane: 7118 Learning rate: 0.3 , error 48.90:\n",
            "Instane: 7119 Learning rate: 0.3 , error 48.90:\n",
            "Instane: 7120 Learning rate: 0.3 , error 48.90:\n",
            "Instane: 7121 Learning rate: 0.3 , error 48.90:\n",
            "Instane: 7122 Learning rate: 0.3 , error 48.90:\n",
            "Instane: 7123 Learning rate: 0.3 , error 48.90:\n",
            "Instane: 7124 Learning rate: 0.3 , error 48.90:\n",
            "Instane: 7125 Learning rate: 0.3 , error 48.90:\n",
            "Instane: 7126 Learning rate: 0.3 , error 48.90:\n",
            "Instane: 7127 Learning rate: 0.3 , error 48.90:\n",
            "Instane: 7128 Learning rate: 0.3 , error 48.90:\n",
            "Instane: 7129 Learning rate: 0.3 , error 48.90:\n",
            "Instane: 7130 Learning rate: 0.3 , error 48.90:\n",
            "Instane: 7131 Learning rate: 0.3 , error 48.90:\n",
            "Instane: 7132 Learning rate: 0.3 , error 48.90:\n",
            "Instane: 7133 Learning rate: 0.3 , error 48.90:\n",
            "Instane: 7134 Learning rate: 0.3 , error 48.90:\n",
            "Instane: 7135 Learning rate: 0.3 , error 48.90:\n",
            "Instane: 7136 Learning rate: 0.3 , error 48.90:\n",
            "Instane: 7137 Learning rate: 0.3 , error 48.90:\n",
            "Instane: 7138 Learning rate: 0.3 , error 48.90:\n",
            "Instane: 7139 Learning rate: 0.3 , error 48.90:\n",
            "Instane: 7140 Learning rate: 0.3 , error 48.90:\n",
            "Instane: 7141 Learning rate: 0.3 , error 48.90:\n",
            "Instane: 7142 Learning rate: 0.3 , error 48.90:\n",
            "Instane: 7143 Learning rate: 0.3 , error 48.90:\n",
            "Instane: 7144 Learning rate: 0.3 , error 48.90:\n",
            "Instane: 7145 Learning rate: 0.3 , error 48.90:\n",
            "Instane: 7146 Learning rate: 0.3 , error 48.90:\n",
            "Instane: 7147 Learning rate: 0.3 , error 48.90:\n",
            "Instane: 7148 Learning rate: 0.3 , error 48.90:\n",
            "Instane: 7149 Learning rate: 0.3 , error 48.90:\n",
            "Instane: 7150 Learning rate: 0.3 , error 48.90:\n",
            "Instane: 7151 Learning rate: 0.3 , error 48.90:\n",
            "Instane: 7152 Learning rate: 0.3 , error 48.90:\n",
            "Instane: 7153 Learning rate: 0.3 , error 48.90:\n",
            "Instane: 7154 Learning rate: 0.3 , error 48.90:\n",
            "Instane: 7155 Learning rate: 0.3 , error 48.90:\n",
            "Instane: 7156 Learning rate: 0.3 , error 48.90:\n",
            "Instane: 7157 Learning rate: 0.3 , error 48.90:\n",
            "Instane: 7158 Learning rate: 0.3 , error 48.90:\n",
            "Instane: 7159 Learning rate: 0.3 , error 48.90:\n",
            "Instane: 7160 Learning rate: 0.3 , error 48.90:\n",
            "Instane: 7161 Learning rate: 0.3 , error 48.90:\n",
            "Instane: 7162 Learning rate: 0.3 , error 48.90:\n",
            "Instane: 7163 Learning rate: 0.3 , error 48.90:\n",
            "Instane: 7164 Learning rate: 0.3 , error 48.90:\n",
            "Instane: 7165 Learning rate: 0.3 , error 48.90:\n",
            "Instane: 7166 Learning rate: 0.3 , error 48.90:\n",
            "Instane: 7167 Learning rate: 0.3 , error 48.90:\n",
            "Instane: 7168 Learning rate: 0.3 , error 48.90:\n",
            "Instane: 7169 Learning rate: 0.3 , error 48.90:\n",
            "Instane: 7170 Learning rate: 0.3 , error 48.90:\n",
            "Instane: 7171 Learning rate: 0.3 , error 48.90:\n",
            "Instane: 7172 Learning rate: 0.3 , error 48.90:\n",
            "Instane: 7173 Learning rate: 0.3 , error 48.90:\n",
            "Instane: 7174 Learning rate: 0.3 , error 48.90:\n",
            "Instane: 7175 Learning rate: 0.3 , error 48.90:\n",
            "Instane: 7176 Learning rate: 0.3 , error 48.90:\n",
            "Instane: 7177 Learning rate: 0.3 , error 48.90:\n",
            "Instane: 7178 Learning rate: 0.3 , error 48.90:\n",
            "Instane: 7179 Learning rate: 0.3 , error 48.90:\n",
            "Instane: 7180 Learning rate: 0.3 , error 48.90:\n",
            "Instane: 7181 Learning rate: 0.3 , error 48.90:\n",
            "Instane: 7182 Learning rate: 0.3 , error 48.90:\n",
            "Instane: 7183 Learning rate: 0.3 , error 48.90:\n",
            "Instane: 7184 Learning rate: 0.3 , error 48.90:\n",
            "Instane: 7185 Learning rate: 0.3 , error 48.90:\n",
            "Instane: 7186 Learning rate: 0.3 , error 48.90:\n",
            "Instane: 7187 Learning rate: 0.3 , error 48.90:\n",
            "Instane: 7188 Learning rate: 0.3 , error 48.90:\n",
            "Instane: 7189 Learning rate: 0.3 , error 48.90:\n",
            "Instane: 7190 Learning rate: 0.3 , error 48.90:\n",
            "Instane: 7191 Learning rate: 0.3 , error 48.90:\n",
            "Instane: 7192 Learning rate: 0.3 , error 48.90:\n",
            "Instane: 7193 Learning rate: 0.3 , error 48.90:\n",
            "Instane: 7194 Learning rate: 0.3 , error 48.90:\n",
            "Instane: 7195 Learning rate: 0.3 , error 48.90:\n",
            "Instane: 7196 Learning rate: 0.3 , error 48.90:\n",
            "Instane: 7197 Learning rate: 0.3 , error 48.90:\n",
            "Instane: 7198 Learning rate: 0.3 , error 48.90:\n",
            "Instane: 7199 Learning rate: 0.3 , error 48.90:\n",
            "Instane: 7200 Learning rate: 0.3 , error 48.90:\n",
            "Instane: 7201 Learning rate: 0.3 , error 48.90:\n",
            "Instane: 7202 Learning rate: 0.3 , error 48.90:\n",
            "Instane: 7203 Learning rate: 0.3 , error 48.90:\n",
            "Instane: 7204 Learning rate: 0.3 , error 48.90:\n",
            "Instane: 7205 Learning rate: 0.3 , error 48.90:\n",
            "Instane: 7206 Learning rate: 0.3 , error 48.90:\n",
            "Instane: 7207 Learning rate: 0.3 , error 48.90:\n",
            "Instane: 7208 Learning rate: 0.3 , error 48.90:\n",
            "Instane: 7209 Learning rate: 0.3 , error 48.90:\n",
            "Instane: 7210 Learning rate: 0.3 , error 48.90:\n",
            "Instane: 7211 Learning rate: 0.3 , error 48.90:\n",
            "Instane: 7212 Learning rate: 0.3 , error 48.90:\n",
            "Instane: 7213 Learning rate: 0.3 , error 48.90:\n",
            "Instane: 7214 Learning rate: 0.3 , error 48.90:\n",
            "Instane: 7215 Learning rate: 0.3 , error 48.90:\n",
            "Instane: 7216 Learning rate: 0.3 , error 48.90:\n",
            "Instane: 7217 Learning rate: 0.3 , error 48.90:\n",
            "Instane: 7218 Learning rate: 0.3 , error 48.90:\n",
            "Instane: 7219 Learning rate: 0.3 , error 48.90:\n",
            "Instane: 7220 Learning rate: 0.3 , error 48.90:\n",
            "Instane: 7221 Learning rate: 0.3 , error 48.90:\n",
            "Instane: 7222 Learning rate: 0.3 , error 48.90:\n",
            "Instane: 7223 Learning rate: 0.3 , error 48.90:\n",
            "Instane: 7224 Learning rate: 0.3 , error 48.90:\n",
            "Instane: 7225 Learning rate: 0.3 , error 48.90:\n",
            "Instane: 7226 Learning rate: 0.3 , error 48.90:\n",
            "Instane: 7227 Learning rate: 0.3 , error 48.90:\n",
            "Instane: 7228 Learning rate: 0.3 , error 48.90:\n",
            "Instane: 7229 Learning rate: 0.3 , error 48.90:\n",
            "Instane: 7230 Learning rate: 0.3 , error 48.90:\n",
            "Instane: 7231 Learning rate: 0.3 , error 48.90:\n",
            "Instane: 7232 Learning rate: 0.3 , error 48.90:\n",
            "Instane: 7233 Learning rate: 0.3 , error 48.90:\n",
            "Instane: 7234 Learning rate: 0.3 , error 48.90:\n",
            "Instane: 7235 Learning rate: 0.3 , error 48.90:\n",
            "Instane: 7236 Learning rate: 0.3 , error 48.90:\n",
            "Instane: 7237 Learning rate: 0.3 , error 48.90:\n",
            "Instane: 7238 Learning rate: 0.3 , error 48.90:\n",
            "Instane: 7239 Learning rate: 0.3 , error 48.90:\n",
            "Instane: 7240 Learning rate: 0.3 , error 48.90:\n",
            "Instane: 7241 Learning rate: 0.3 , error 48.90:\n",
            "Instane: 7242 Learning rate: 0.3 , error 48.90:\n",
            "Instane: 7243 Learning rate: 0.3 , error 48.90:\n",
            "Instane: 7244 Learning rate: 0.3 , error 48.90:\n",
            "Instane: 7245 Learning rate: 0.3 , error 48.90:\n",
            "Instane: 7246 Learning rate: 0.3 , error 48.90:\n",
            "Instane: 7247 Learning rate: 0.3 , error 48.90:\n",
            "Instane: 7248 Learning rate: 0.3 , error 48.90:\n",
            "Instane: 7249 Learning rate: 0.3 , error 48.90:\n",
            "Instane: 7250 Learning rate: 0.3 , error 48.90:\n",
            "Instane: 7251 Learning rate: 0.3 , error 48.90:\n",
            "Instane: 7252 Learning rate: 0.3 , error 48.90:\n",
            "Instane: 7253 Learning rate: 0.3 , error 48.90:\n",
            "Instane: 7254 Learning rate: 0.3 , error 48.90:\n",
            "Instane: 7255 Learning rate: 0.3 , error 48.90:\n",
            "Instane: 7256 Learning rate: 0.3 , error 48.90:\n",
            "Instane: 7257 Learning rate: 0.3 , error 48.90:\n",
            "Instane: 7258 Learning rate: 0.3 , error 48.90:\n",
            "Instane: 7259 Learning rate: 0.3 , error 48.90:\n",
            "Instane: 7260 Learning rate: 0.3 , error 48.90:\n",
            "Instane: 7261 Learning rate: 0.3 , error 48.90:\n",
            "Instane: 7262 Learning rate: 0.3 , error 48.90:\n",
            "Instane: 7263 Learning rate: 0.3 , error 48.90:\n",
            "Instane: 7264 Learning rate: 0.3 , error 48.90:\n",
            "Instane: 7265 Learning rate: 0.3 , error 48.90:\n",
            "Instane: 7266 Learning rate: 0.3 , error 48.90:\n",
            "Instane: 7267 Learning rate: 0.3 , error 48.90:\n",
            "Instane: 7268 Learning rate: 0.3 , error 48.90:\n",
            "Instane: 7269 Learning rate: 0.3 , error 48.90:\n",
            "Instane: 7270 Learning rate: 0.3 , error 48.90:\n",
            "Instane: 7271 Learning rate: 0.3 , error 48.90:\n",
            "Instane: 7272 Learning rate: 0.3 , error 48.90:\n",
            "Instane: 7273 Learning rate: 0.3 , error 48.90:\n",
            "Instane: 7274 Learning rate: 0.3 , error 48.90:\n",
            "Instane: 7275 Learning rate: 0.3 , error 48.90:\n",
            "Instane: 7276 Learning rate: 0.3 , error 48.90:\n",
            "Instane: 7277 Learning rate: 0.3 , error 48.90:\n",
            "Instane: 7278 Learning rate: 0.3 , error 48.90:\n",
            "Instane: 7279 Learning rate: 0.3 , error 48.90:\n",
            "Instane: 7280 Learning rate: 0.3 , error 48.90:\n",
            "Instane: 7281 Learning rate: 0.3 , error 48.90:\n",
            "Instane: 7282 Learning rate: 0.3 , error 48.90:\n",
            "Instane: 7283 Learning rate: 0.3 , error 48.90:\n",
            "Instane: 7284 Learning rate: 0.3 , error 48.90:\n",
            "Instane: 7285 Learning rate: 0.3 , error 48.90:\n",
            "Instane: 7286 Learning rate: 0.3 , error 48.90:\n",
            "Instane: 7287 Learning rate: 0.3 , error 48.90:\n",
            "Instane: 7288 Learning rate: 0.3 , error 48.90:\n",
            "Instane: 7289 Learning rate: 0.3 , error 48.90:\n",
            "Instane: 7290 Learning rate: 0.3 , error 48.90:\n",
            "Instane: 7291 Learning rate: 0.3 , error 48.90:\n",
            "Instane: 7292 Learning rate: 0.3 , error 48.90:\n",
            "Instane: 7293 Learning rate: 0.3 , error 48.90:\n",
            "Instane: 7294 Learning rate: 0.3 , error 48.90:\n",
            "Instane: 7295 Learning rate: 0.3 , error 48.90:\n",
            "Instane: 7296 Learning rate: 0.3 , error 48.90:\n",
            "Instane: 7297 Learning rate: 0.3 , error 48.90:\n",
            "Instane: 7298 Learning rate: 0.3 , error 48.90:\n",
            "Instane: 7299 Learning rate: 0.3 , error 48.90:\n",
            "Instane: 7300 Learning rate: 0.3 , error 48.90:\n",
            "Instane: 7301 Learning rate: 0.3 , error 48.90:\n",
            "Instane: 7302 Learning rate: 0.3 , error 48.90:\n",
            "Instane: 7303 Learning rate: 0.3 , error 48.90:\n",
            "Instane: 7304 Learning rate: 0.3 , error 48.90:\n",
            "Instane: 7305 Learning rate: 0.3 , error 48.90:\n",
            "Instane: 7306 Learning rate: 0.3 , error 48.90:\n",
            "Instane: 7307 Learning rate: 0.3 , error 48.90:\n",
            "Instane: 7308 Learning rate: 0.3 , error 48.90:\n",
            "Instane: 7309 Learning rate: 0.3 , error 48.90:\n",
            "Instane: 7310 Learning rate: 0.3 , error 48.90:\n",
            "Instane: 7311 Learning rate: 0.3 , error 48.90:\n",
            "Instane: 7312 Learning rate: 0.3 , error 48.90:\n",
            "Instane: 7313 Learning rate: 0.3 , error 48.90:\n",
            "Instane: 7314 Learning rate: 0.3 , error 48.90:\n",
            "Instane: 7315 Learning rate: 0.3 , error 48.90:\n",
            "Instane: 7316 Learning rate: 0.3 , error 48.90:\n",
            "Instane: 7317 Learning rate: 0.3 , error 48.90:\n",
            "Instane: 7318 Learning rate: 0.3 , error 48.90:\n",
            "Instane: 7319 Learning rate: 0.3 , error 48.90:\n",
            "Instane: 7320 Learning rate: 0.3 , error 48.90:\n",
            "Instane: 7321 Learning rate: 0.3 , error 48.90:\n",
            "Instane: 7322 Learning rate: 0.3 , error 48.90:\n",
            "Instane: 7323 Learning rate: 0.3 , error 48.90:\n",
            "Instane: 7324 Learning rate: 0.3 , error 48.90:\n",
            "Instane: 7325 Learning rate: 0.3 , error 48.90:\n",
            "Instane: 7326 Learning rate: 0.3 , error 48.90:\n",
            "Instane: 7327 Learning rate: 0.3 , error 48.90:\n",
            "Instane: 7328 Learning rate: 0.3 , error 48.90:\n",
            "Instane: 7329 Learning rate: 0.3 , error 48.90:\n",
            "Instane: 7330 Learning rate: 0.3 , error 48.90:\n",
            "Instane: 7331 Learning rate: 0.3 , error 48.90:\n",
            "Instane: 7332 Learning rate: 0.3 , error 48.90:\n",
            "Instane: 7333 Learning rate: 0.3 , error 48.90:\n",
            "Instane: 7334 Learning rate: 0.3 , error 48.90:\n",
            "Instane: 7335 Learning rate: 0.3 , error 48.90:\n",
            "Instane: 7336 Learning rate: 0.3 , error 48.90:\n",
            "Instane: 7337 Learning rate: 0.3 , error 48.90:\n",
            "Instane: 7338 Learning rate: 0.3 , error 48.90:\n",
            "Instane: 7339 Learning rate: 0.3 , error 48.90:\n",
            "Instane: 7340 Learning rate: 0.3 , error 48.90:\n",
            "Instane: 7341 Learning rate: 0.3 , error 48.90:\n",
            "Instane: 7342 Learning rate: 0.3 , error 48.90:\n",
            "Instane: 7343 Learning rate: 0.3 , error 48.91:\n",
            "Instane: 7344 Learning rate: 0.3 , error 48.91:\n",
            "Instane: 7345 Learning rate: 0.3 , error 48.91:\n",
            "Instane: 7346 Learning rate: 0.3 , error 48.91:\n",
            "Instane: 7347 Learning rate: 0.3 , error 48.91:\n",
            "Instane: 7348 Learning rate: 0.3 , error 48.91:\n",
            "Instane: 7349 Learning rate: 0.3 , error 48.91:\n",
            "Instane: 7350 Learning rate: 0.3 , error 48.91:\n",
            "Instane: 7351 Learning rate: 0.3 , error 48.91:\n",
            "Instane: 7352 Learning rate: 0.3 , error 48.91:\n",
            "Instane: 7353 Learning rate: 0.3 , error 48.91:\n",
            "Instane: 7354 Learning rate: 0.3 , error 48.91:\n",
            "Instane: 7355 Learning rate: 0.3 , error 48.91:\n",
            "Instane: 7356 Learning rate: 0.3 , error 48.91:\n",
            "Instane: 7357 Learning rate: 0.3 , error 48.91:\n",
            "Instane: 7358 Learning rate: 0.3 , error 48.91:\n",
            "Instane: 7359 Learning rate: 0.3 , error 48.91:\n",
            "Instane: 7360 Learning rate: 0.3 , error 48.91:\n",
            "Instane: 7361 Learning rate: 0.3 , error 48.91:\n",
            "Instane: 7362 Learning rate: 0.3 , error 48.91:\n",
            "Instane: 7363 Learning rate: 0.3 , error 48.91:\n",
            "Instane: 7364 Learning rate: 0.3 , error 48.91:\n",
            "Instane: 7365 Learning rate: 0.3 , error 48.91:\n",
            "Instane: 7366 Learning rate: 0.3 , error 48.91:\n",
            "Instane: 7367 Learning rate: 0.3 , error 48.91:\n",
            "Instane: 7368 Learning rate: 0.3 , error 48.91:\n",
            "Instane: 7369 Learning rate: 0.3 , error 48.91:\n",
            "Instane: 7370 Learning rate: 0.3 , error 48.91:\n",
            "Instane: 7371 Learning rate: 0.3 , error 48.91:\n",
            "Instane: 7372 Learning rate: 0.3 , error 48.91:\n",
            "Instane: 7373 Learning rate: 0.3 , error 48.91:\n",
            "Instane: 7374 Learning rate: 0.3 , error 48.91:\n",
            "Instane: 7375 Learning rate: 0.3 , error 48.91:\n",
            "Instane: 7376 Learning rate: 0.3 , error 48.91:\n",
            "Instane: 7377 Learning rate: 0.3 , error 48.91:\n",
            "Instane: 7378 Learning rate: 0.3 , error 48.91:\n",
            "Instane: 7379 Learning rate: 0.3 , error 48.91:\n",
            "Instane: 7380 Learning rate: 0.3 , error 48.91:\n",
            "Instane: 7381 Learning rate: 0.3 , error 48.91:\n",
            "Instane: 7382 Learning rate: 0.3 , error 48.91:\n",
            "Instane: 7383 Learning rate: 0.3 , error 48.91:\n",
            "Instane: 7384 Learning rate: 0.3 , error 48.91:\n",
            "Instane: 7385 Learning rate: 0.3 , error 48.91:\n",
            "Instane: 7386 Learning rate: 0.3 , error 48.91:\n",
            "Instane: 7387 Learning rate: 0.3 , error 48.91:\n",
            "Instane: 7388 Learning rate: 0.3 , error 48.91:\n",
            "Instane: 7389 Learning rate: 0.3 , error 48.91:\n",
            "Instane: 7390 Learning rate: 0.3 , error 48.91:\n",
            "Instane: 7391 Learning rate: 0.3 , error 48.91:\n",
            "Instane: 7392 Learning rate: 0.3 , error 48.91:\n",
            "Instane: 7393 Learning rate: 0.3 , error 48.91:\n",
            "Instane: 7394 Learning rate: 0.3 , error 48.91:\n",
            "Instane: 7395 Learning rate: 0.3 , error 48.91:\n",
            "Instane: 7396 Learning rate: 0.3 , error 48.91:\n",
            "Instane: 7397 Learning rate: 0.3 , error 48.91:\n",
            "Instane: 7398 Learning rate: 0.3 , error 48.91:\n",
            "Instane: 7399 Learning rate: 0.3 , error 48.91:\n",
            "Instane: 7400 Learning rate: 0.3 , error 48.91:\n",
            "Instane: 7401 Learning rate: 0.3 , error 48.91:\n",
            "Instane: 7402 Learning rate: 0.3 , error 48.91:\n",
            "Instane: 7403 Learning rate: 0.3 , error 48.91:\n",
            "Instane: 7404 Learning rate: 0.3 , error 48.91:\n",
            "Instane: 7405 Learning rate: 0.3 , error 48.91:\n",
            "Instane: 7406 Learning rate: 0.3 , error 48.91:\n",
            "Instane: 7407 Learning rate: 0.3 , error 48.91:\n",
            "Instane: 7408 Learning rate: 0.3 , error 48.91:\n",
            "Instane: 7409 Learning rate: 0.3 , error 48.91:\n",
            "Instane: 7410 Learning rate: 0.3 , error 48.91:\n",
            "Instane: 7411 Learning rate: 0.3 , error 48.91:\n",
            "Instane: 7412 Learning rate: 0.3 , error 48.91:\n",
            "Instane: 7413 Learning rate: 0.3 , error 48.91:\n",
            "Instane: 7414 Learning rate: 0.3 , error 48.91:\n",
            "Instane: 7415 Learning rate: 0.3 , error 48.91:\n",
            "Instane: 7416 Learning rate: 0.3 , error 48.91:\n",
            "Instane: 7417 Learning rate: 0.3 , error 48.91:\n",
            "Instane: 7418 Learning rate: 0.3 , error 48.91:\n",
            "Instane: 7419 Learning rate: 0.3 , error 48.91:\n",
            "Instane: 7420 Learning rate: 0.3 , error 48.91:\n",
            "Instane: 7421 Learning rate: 0.3 , error 48.91:\n",
            "Instane: 7422 Learning rate: 0.3 , error 48.91:\n",
            "Instane: 7423 Learning rate: 0.3 , error 48.91:\n",
            "Instane: 7424 Learning rate: 0.3 , error 48.91:\n",
            "Instane: 7425 Learning rate: 0.3 , error 48.91:\n",
            "Instane: 7426 Learning rate: 0.3 , error 48.91:\n",
            "Instane: 7427 Learning rate: 0.3 , error 48.91:\n",
            "Instane: 7428 Learning rate: 0.3 , error 48.91:\n",
            "Instane: 7429 Learning rate: 0.3 , error 48.91:\n",
            "Instane: 7430 Learning rate: 0.3 , error 48.91:\n",
            "Instane: 7431 Learning rate: 0.3 , error 48.91:\n",
            "Instane: 7432 Learning rate: 0.3 , error 48.91:\n",
            "Instane: 7433 Learning rate: 0.3 , error 48.91:\n",
            "Instane: 7434 Learning rate: 0.3 , error 48.91:\n",
            "Instane: 7435 Learning rate: 0.3 , error 48.91:\n",
            "Instane: 7436 Learning rate: 0.3 , error 48.91:\n",
            "Instane: 7437 Learning rate: 0.3 , error 48.91:\n",
            "Instane: 7438 Learning rate: 0.3 , error 48.91:\n",
            "Instane: 7439 Learning rate: 0.3 , error 48.91:\n",
            "Instane: 7440 Learning rate: 0.3 , error 48.91:\n",
            "Instane: 7441 Learning rate: 0.3 , error 48.91:\n",
            "Instane: 7442 Learning rate: 0.3 , error 48.91:\n",
            "Instane: 7443 Learning rate: 0.3 , error 48.91:\n",
            "Instane: 7444 Learning rate: 0.3 , error 48.91:\n",
            "Instane: 7445 Learning rate: 0.3 , error 48.91:\n",
            "Instane: 7446 Learning rate: 0.3 , error 48.91:\n",
            "Instane: 7447 Learning rate: 0.3 , error 48.91:\n",
            "Instane: 7448 Learning rate: 0.3 , error 48.91:\n",
            "Instane: 7449 Learning rate: 0.3 , error 48.91:\n",
            "Instane: 7450 Learning rate: 0.3 , error 48.91:\n",
            "Instane: 7451 Learning rate: 0.3 , error 48.91:\n",
            "Instane: 7452 Learning rate: 0.3 , error 48.91:\n",
            "Instane: 7453 Learning rate: 0.3 , error 48.91:\n",
            "Instane: 7454 Learning rate: 0.3 , error 48.91:\n",
            "Instane: 7455 Learning rate: 0.3 , error 48.91:\n",
            "Instane: 7456 Learning rate: 0.3 , error 48.91:\n",
            "Instane: 7457 Learning rate: 0.3 , error 48.91:\n",
            "Instane: 7458 Learning rate: 0.3 , error 48.91:\n",
            "Instane: 7459 Learning rate: 0.3 , error 48.91:\n",
            "Instane: 7460 Learning rate: 0.3 , error 48.91:\n",
            "Instane: 7461 Learning rate: 0.3 , error 48.91:\n",
            "Instane: 7462 Learning rate: 0.3 , error 48.91:\n",
            "Instane: 7463 Learning rate: 0.3 , error 48.91:\n",
            "Instane: 7464 Learning rate: 0.3 , error 48.91:\n",
            "Instane: 7465 Learning rate: 0.3 , error 48.91:\n",
            "Instane: 7466 Learning rate: 0.3 , error 48.91:\n",
            "Instane: 7467 Learning rate: 0.3 , error 48.91:\n",
            "Instane: 7468 Learning rate: 0.3 , error 48.91:\n",
            "Instane: 7469 Learning rate: 0.3 , error 48.91:\n",
            "Instane: 7470 Learning rate: 0.3 , error 48.91:\n",
            "Instane: 7471 Learning rate: 0.3 , error 48.91:\n",
            "Instane: 7472 Learning rate: 0.3 , error 48.91:\n",
            "Instane: 7473 Learning rate: 0.3 , error 48.91:\n",
            "Instane: 7474 Learning rate: 0.3 , error 48.91:\n",
            "Instane: 7475 Learning rate: 0.3 , error 48.91:\n",
            "Instane: 7476 Learning rate: 0.3 , error 48.91:\n",
            "Instane: 7477 Learning rate: 0.3 , error 48.91:\n",
            "Instane: 7478 Learning rate: 0.3 , error 48.91:\n",
            "Instane: 7479 Learning rate: 0.3 , error 48.91:\n",
            "Instane: 7480 Learning rate: 0.3 , error 48.91:\n",
            "Instane: 7481 Learning rate: 0.3 , error 48.91:\n",
            "Instane: 7482 Learning rate: 0.3 , error 48.91:\n",
            "Instane: 7483 Learning rate: 0.3 , error 48.91:\n",
            "Instane: 7484 Learning rate: 0.3 , error 48.91:\n",
            "Instane: 7485 Learning rate: 0.3 , error 48.91:\n",
            "Instane: 7486 Learning rate: 0.3 , error 48.91:\n",
            "Instane: 7487 Learning rate: 0.3 , error 48.91:\n",
            "Instane: 7488 Learning rate: 0.3 , error 48.91:\n",
            "Instane: 7489 Learning rate: 0.3 , error 48.91:\n",
            "Instane: 7490 Learning rate: 0.3 , error 48.91:\n",
            "Instane: 7491 Learning rate: 0.3 , error 48.91:\n",
            "Instane: 7492 Learning rate: 0.3 , error 48.91:\n",
            "Instane: 7493 Learning rate: 0.3 , error 48.91:\n",
            "Instane: 7494 Learning rate: 0.3 , error 48.91:\n",
            "Instane: 7495 Learning rate: 0.3 , error 48.91:\n",
            "Instane: 7496 Learning rate: 0.3 , error 48.91:\n",
            "Instane: 7497 Learning rate: 0.3 , error 48.91:\n",
            "Instane: 7498 Learning rate: 0.3 , error 48.91:\n",
            "Instane: 7499 Learning rate: 0.3 , error 48.91:\n",
            "Instane: 7500 Learning rate: 0.3 , error 48.91:\n",
            "Instane: 7501 Learning rate: 0.3 , error 48.91:\n",
            "Instane: 7502 Learning rate: 0.3 , error 48.91:\n",
            "Instane: 7503 Learning rate: 0.3 , error 48.91:\n",
            "Instane: 7504 Learning rate: 0.3 , error 48.91:\n",
            "Instane: 7505 Learning rate: 0.3 , error 48.91:\n",
            "Instane: 7506 Learning rate: 0.3 , error 48.91:\n",
            "Instane: 7507 Learning rate: 0.3 , error 48.91:\n",
            "Instane: 7508 Learning rate: 0.3 , error 48.91:\n",
            "Instane: 7509 Learning rate: 0.3 , error 48.91:\n",
            "Instane: 7510 Learning rate: 0.3 , error 48.91:\n",
            "Instane: 7511 Learning rate: 0.3 , error 48.91:\n",
            "Instane: 7512 Learning rate: 0.3 , error 48.91:\n",
            "Instane: 7513 Learning rate: 0.3 , error 48.91:\n",
            "Instane: 7514 Learning rate: 0.3 , error 48.91:\n",
            "Instane: 7515 Learning rate: 0.3 , error 48.91:\n",
            "Instane: 7516 Learning rate: 0.3 , error 48.91:\n",
            "Instane: 7517 Learning rate: 0.3 , error 48.91:\n",
            "Instane: 7518 Learning rate: 0.3 , error 48.91:\n",
            "Instane: 7519 Learning rate: 0.3 , error 48.91:\n",
            "Instane: 7520 Learning rate: 0.3 , error 48.91:\n",
            "Instane: 7521 Learning rate: 0.3 , error 48.91:\n",
            "Instane: 7522 Learning rate: 0.3 , error 48.91:\n",
            "Instane: 7523 Learning rate: 0.3 , error 48.91:\n",
            "Instane: 7524 Learning rate: 0.3 , error 48.91:\n",
            "Instane: 7525 Learning rate: 0.3 , error 48.91:\n",
            "Instane: 7526 Learning rate: 0.3 , error 48.91:\n",
            "Instane: 7527 Learning rate: 0.3 , error 48.91:\n",
            "Instane: 7528 Learning rate: 0.3 , error 48.91:\n",
            "Instane: 7529 Learning rate: 0.3 , error 48.91:\n",
            "Instane: 7530 Learning rate: 0.3 , error 48.91:\n",
            "Instane: 7531 Learning rate: 0.3 , error 48.91:\n",
            "Instane: 7532 Learning rate: 0.3 , error 48.91:\n",
            "Instane: 7533 Learning rate: 0.3 , error 48.91:\n",
            "Instane: 7534 Learning rate: 0.3 , error 48.91:\n",
            "Instane: 7535 Learning rate: 0.3 , error 48.91:\n",
            "Instane: 7536 Learning rate: 0.3 , error 48.91:\n",
            "Instane: 7537 Learning rate: 0.3 , error 48.91:\n",
            "Instane: 7538 Learning rate: 0.3 , error 48.91:\n",
            "Instane: 7539 Learning rate: 0.3 , error 48.91:\n",
            "Instane: 7540 Learning rate: 0.3 , error 48.91:\n",
            "Instane: 7541 Learning rate: 0.3 , error 48.92:\n",
            "Instane: 7542 Learning rate: 0.3 , error 48.92:\n",
            "Instane: 7543 Learning rate: 0.3 , error 48.92:\n",
            "Instane: 7544 Learning rate: 0.3 , error 48.92:\n",
            "Instane: 7545 Learning rate: 0.3 , error 48.92:\n",
            "Instane: 7546 Learning rate: 0.3 , error 48.92:\n",
            "Instane: 7547 Learning rate: 0.3 , error 48.92:\n",
            "Instane: 7548 Learning rate: 0.3 , error 48.92:\n",
            "Instane: 7549 Learning rate: 0.3 , error 48.92:\n",
            "Instane: 7550 Learning rate: 0.3 , error 48.92:\n",
            "Instane: 7551 Learning rate: 0.3 , error 48.92:\n",
            "Instane: 7552 Learning rate: 0.3 , error 48.92:\n",
            "Instane: 7553 Learning rate: 0.3 , error 48.92:\n",
            "Instane: 7554 Learning rate: 0.3 , error 48.92:\n",
            "Instane: 7555 Learning rate: 0.3 , error 48.92:\n",
            "Instane: 7556 Learning rate: 0.3 , error 48.92:\n",
            "Instane: 7557 Learning rate: 0.3 , error 48.92:\n",
            "Instane: 7558 Learning rate: 0.3 , error 48.92:\n",
            "Instane: 7559 Learning rate: 0.3 , error 48.92:\n",
            "Instane: 7560 Learning rate: 0.3 , error 48.92:\n",
            "Instane: 7561 Learning rate: 0.3 , error 48.92:\n",
            "Instane: 7562 Learning rate: 0.3 , error 48.92:\n",
            "Instane: 7563 Learning rate: 0.3 , error 48.92:\n",
            "Instane: 7564 Learning rate: 0.3 , error 48.92:\n",
            "Instane: 7565 Learning rate: 0.3 , error 48.92:\n",
            "Instane: 7566 Learning rate: 0.3 , error 48.92:\n",
            "Instane: 7567 Learning rate: 0.3 , error 48.92:\n",
            "Instane: 7568 Learning rate: 0.3 , error 48.92:\n",
            "Instane: 7569 Learning rate: 0.3 , error 48.92:\n",
            "Instane: 7570 Learning rate: 0.3 , error 48.92:\n",
            "Instane: 7571 Learning rate: 0.3 , error 48.92:\n",
            "Instane: 7572 Learning rate: 0.3 , error 48.92:\n",
            "Instane: 7573 Learning rate: 0.3 , error 48.92:\n",
            "Instane: 7574 Learning rate: 0.3 , error 48.92:\n",
            "Instane: 7575 Learning rate: 0.3 , error 48.92:\n",
            "Instane: 7576 Learning rate: 0.3 , error 48.92:\n",
            "Instane: 7577 Learning rate: 0.3 , error 48.92:\n",
            "Instane: 7578 Learning rate: 0.3 , error 48.92:\n",
            "Instane: 7579 Learning rate: 0.3 , error 48.92:\n",
            "Instane: 7580 Learning rate: 0.3 , error 48.92:\n",
            "Instane: 7581 Learning rate: 0.3 , error 48.92:\n",
            "Instane: 7582 Learning rate: 0.3 , error 48.92:\n",
            "Instane: 7583 Learning rate: 0.3 , error 48.92:\n",
            "Instane: 7584 Learning rate: 0.3 , error 48.92:\n",
            "Instane: 7585 Learning rate: 0.3 , error 48.92:\n",
            "Instane: 7586 Learning rate: 0.3 , error 48.92:\n",
            "Instane: 7587 Learning rate: 0.3 , error 48.92:\n",
            "Instane: 7588 Learning rate: 0.3 , error 48.92:\n",
            "Instane: 7589 Learning rate: 0.3 , error 48.92:\n",
            "Instane: 7590 Learning rate: 0.3 , error 48.92:\n",
            "Instane: 7591 Learning rate: 0.3 , error 48.92:\n",
            "Instane: 7592 Learning rate: 0.3 , error 48.92:\n",
            "Instane: 7593 Learning rate: 0.3 , error 48.92:\n",
            "Instane: 7594 Learning rate: 0.3 , error 48.92:\n",
            "Instane: 7595 Learning rate: 0.3 , error 48.92:\n",
            "Instane: 7596 Learning rate: 0.3 , error 48.92:\n",
            "Instane: 7597 Learning rate: 0.3 , error 48.92:\n",
            "Instane: 7598 Learning rate: 0.3 , error 48.92:\n",
            "Instane: 7599 Learning rate: 0.3 , error 48.92:\n",
            "Instane: 7600 Learning rate: 0.3 , error 48.92:\n",
            "Instane: 7601 Learning rate: 0.3 , error 48.92:\n",
            "Instane: 7602 Learning rate: 0.3 , error 48.92:\n",
            "Instane: 7603 Learning rate: 0.3 , error 48.92:\n",
            "Instane: 7604 Learning rate: 0.3 , error 48.92:\n",
            "Instane: 7605 Learning rate: 0.3 , error 48.92:\n",
            "Instane: 7606 Learning rate: 0.3 , error 48.92:\n",
            "Instane: 7607 Learning rate: 0.3 , error 48.92:\n",
            "Instane: 7608 Learning rate: 0.3 , error 48.92:\n",
            "Instane: 7609 Learning rate: 0.3 , error 48.92:\n",
            "Instane: 7610 Learning rate: 0.3 , error 48.92:\n",
            "Instane: 7611 Learning rate: 0.3 , error 48.92:\n",
            "Instane: 7612 Learning rate: 0.3 , error 48.92:\n",
            "Instane: 7613 Learning rate: 0.3 , error 48.92:\n",
            "Instane: 7614 Learning rate: 0.3 , error 48.92:\n",
            "Instane: 7615 Learning rate: 0.3 , error 48.92:\n",
            "Instane: 7616 Learning rate: 0.3 , error 48.92:\n",
            "Instane: 7617 Learning rate: 0.3 , error 48.92:\n",
            "Instane: 7618 Learning rate: 0.3 , error 48.92:\n",
            "Instane: 7619 Learning rate: 0.3 , error 48.92:\n",
            "Instane: 7620 Learning rate: 0.3 , error 48.92:\n",
            "Instane: 7621 Learning rate: 0.3 , error 48.92:\n",
            "Instane: 7622 Learning rate: 0.3 , error 48.92:\n",
            "Instane: 7623 Learning rate: 0.3 , error 48.92:\n",
            "Instane: 7624 Learning rate: 0.3 , error 48.92:\n",
            "Instane: 7625 Learning rate: 0.3 , error 48.92:\n",
            "Instane: 7626 Learning rate: 0.3 , error 48.92:\n",
            "Instane: 7627 Learning rate: 0.3 , error 48.92:\n",
            "Instane: 7628 Learning rate: 0.3 , error 48.92:\n",
            "Instane: 7629 Learning rate: 0.3 , error 48.92:\n",
            "Instane: 7630 Learning rate: 0.3 , error 48.92:\n",
            "Instane: 7631 Learning rate: 0.3 , error 48.92:\n",
            "Instane: 7632 Learning rate: 0.3 , error 48.92:\n",
            "Instane: 7633 Learning rate: 0.3 , error 48.92:\n",
            "Instane: 7634 Learning rate: 0.3 , error 48.92:\n",
            "Instane: 7635 Learning rate: 0.3 , error 48.92:\n",
            "Instane: 7636 Learning rate: 0.3 , error 48.92:\n",
            "Instane: 7637 Learning rate: 0.3 , error 48.92:\n",
            "Instane: 7638 Learning rate: 0.3 , error 48.92:\n",
            "Instane: 7639 Learning rate: 0.3 , error 48.92:\n",
            "Instane: 7640 Learning rate: 0.3 , error 48.92:\n",
            "Instane: 7641 Learning rate: 0.3 , error 48.92:\n",
            "Instane: 7642 Learning rate: 0.3 , error 48.92:\n",
            "Instane: 7643 Learning rate: 0.3 , error 48.92:\n",
            "Instane: 7644 Learning rate: 0.3 , error 48.92:\n",
            "Instane: 7645 Learning rate: 0.3 , error 48.92:\n",
            "Instane: 7646 Learning rate: 0.3 , error 48.92:\n",
            "Instane: 7647 Learning rate: 0.3 , error 48.92:\n",
            "Instane: 7648 Learning rate: 0.3 , error 48.92:\n",
            "Instane: 7649 Learning rate: 0.3 , error 48.92:\n",
            "Instane: 7650 Learning rate: 0.3 , error 48.92:\n",
            "Instane: 7651 Learning rate: 0.3 , error 48.92:\n",
            "Instane: 7652 Learning rate: 0.3 , error 48.92:\n",
            "Instane: 7653 Learning rate: 0.3 , error 48.92:\n",
            "Instane: 7654 Learning rate: 0.3 , error 48.92:\n",
            "Instane: 7655 Learning rate: 0.3 , error 48.92:\n",
            "Instane: 7656 Learning rate: 0.3 , error 48.92:\n",
            "Instane: 7657 Learning rate: 0.3 , error 48.92:\n",
            "Instane: 7658 Learning rate: 0.3 , error 48.92:\n",
            "Instane: 7659 Learning rate: 0.3 , error 48.92:\n",
            "Instane: 7660 Learning rate: 0.3 , error 48.92:\n",
            "Instane: 7661 Learning rate: 0.3 , error 48.92:\n",
            "Instane: 7662 Learning rate: 0.3 , error 48.92:\n",
            "Instane: 7663 Learning rate: 0.3 , error 48.92:\n",
            "Instane: 7664 Learning rate: 0.3 , error 48.92:\n",
            "Instane: 7665 Learning rate: 0.3 , error 48.92:\n",
            "Instane: 7666 Learning rate: 0.3 , error 48.92:\n",
            "Instane: 7667 Learning rate: 0.3 , error 48.92:\n",
            "Instane: 7668 Learning rate: 0.3 , error 48.92:\n",
            "Instane: 7669 Learning rate: 0.3 , error 48.92:\n",
            "Instane: 7670 Learning rate: 0.3 , error 48.92:\n",
            "Instane: 7671 Learning rate: 0.3 , error 48.92:\n",
            "Instane: 7672 Learning rate: 0.3 , error 48.92:\n",
            "Instane: 7673 Learning rate: 0.3 , error 48.92:\n",
            "Instane: 7674 Learning rate: 0.3 , error 48.92:\n",
            "Instane: 7675 Learning rate: 0.3 , error 48.92:\n",
            "Instane: 7676 Learning rate: 0.3 , error 48.92:\n",
            "Instane: 7677 Learning rate: 0.3 , error 48.92:\n",
            "Instane: 7678 Learning rate: 0.3 , error 48.92:\n",
            "Instane: 7679 Learning rate: 0.3 , error 48.93:\n",
            "Instane: 7680 Learning rate: 0.3 , error 48.93:\n",
            "Instane: 7681 Learning rate: 0.3 , error 48.93:\n",
            "Instane: 7682 Learning rate: 0.3 , error 48.93:\n",
            "Instane: 7683 Learning rate: 0.3 , error 48.93:\n",
            "Instane: 7684 Learning rate: 0.3 , error 48.93:\n",
            "Instane: 7685 Learning rate: 0.3 , error 48.93:\n",
            "Instane: 7686 Learning rate: 0.3 , error 48.93:\n",
            "Instane: 7687 Learning rate: 0.3 , error 48.93:\n",
            "Instane: 7688 Learning rate: 0.3 , error 48.93:\n",
            "Instane: 7689 Learning rate: 0.3 , error 48.93:\n",
            "Instane: 7690 Learning rate: 0.3 , error 48.93:\n",
            "Instane: 7691 Learning rate: 0.3 , error 48.93:\n",
            "Instane: 7692 Learning rate: 0.3 , error 48.93:\n",
            "Instane: 7693 Learning rate: 0.3 , error 48.93:\n",
            "Instane: 7694 Learning rate: 0.3 , error 48.93:\n",
            "Instane: 7695 Learning rate: 0.3 , error 48.93:\n",
            "Instane: 7696 Learning rate: 0.3 , error 48.93:\n",
            "Instane: 7697 Learning rate: 0.3 , error 48.93:\n",
            "Instane: 7698 Learning rate: 0.3 , error 48.93:\n",
            "Instane: 7699 Learning rate: 0.3 , error 48.93:\n",
            "Instane: 7700 Learning rate: 0.3 , error 48.93:\n",
            "Instane: 7701 Learning rate: 0.3 , error 48.93:\n",
            "Instane: 7702 Learning rate: 0.3 , error 48.93:\n",
            "Instane: 7703 Learning rate: 0.3 , error 48.93:\n",
            "Instane: 7704 Learning rate: 0.3 , error 48.93:\n",
            "Instane: 7705 Learning rate: 0.3 , error 48.93:\n",
            "Instane: 7706 Learning rate: 0.3 , error 48.93:\n",
            "Instane: 7707 Learning rate: 0.3 , error 48.93:\n",
            "Instane: 7708 Learning rate: 0.3 , error 48.93:\n",
            "Instane: 7709 Learning rate: 0.3 , error 48.93:\n",
            "Instane: 7710 Learning rate: 0.3 , error 48.93:\n",
            "Instane: 7711 Learning rate: 0.3 , error 48.93:\n",
            "Instane: 7712 Learning rate: 0.3 , error 48.93:\n",
            "Instane: 7713 Learning rate: 0.3 , error 48.93:\n",
            "Instane: 7714 Learning rate: 0.3 , error 48.93:\n",
            "Instane: 7715 Learning rate: 0.3 , error 48.93:\n",
            "Instane: 7716 Learning rate: 0.3 , error 48.93:\n",
            "Instane: 7717 Learning rate: 0.3 , error 48.93:\n",
            "Instane: 7718 Learning rate: 0.3 , error 48.93:\n",
            "Instane: 7719 Learning rate: 0.3 , error 48.93:\n",
            "Instane: 7720 Learning rate: 0.3 , error 48.93:\n",
            "Instane: 7721 Learning rate: 0.3 , error 48.93:\n",
            "Instane: 7722 Learning rate: 0.3 , error 48.93:\n",
            "Instane: 7723 Learning rate: 0.3 , error 48.93:\n",
            "Instane: 7724 Learning rate: 0.3 , error 48.93:\n",
            "Instane: 7725 Learning rate: 0.3 , error 48.93:\n",
            "Instane: 7726 Learning rate: 0.3 , error 48.93:\n",
            "Instane: 7727 Learning rate: 0.3 , error 48.93:\n",
            "Instane: 7728 Learning rate: 0.3 , error 48.93:\n",
            "Instane: 7729 Learning rate: 0.3 , error 48.93:\n",
            "Instane: 7730 Learning rate: 0.3 , error 48.93:\n",
            "Instane: 7731 Learning rate: 0.3 , error 48.93:\n",
            "Instane: 7732 Learning rate: 0.3 , error 48.93:\n",
            "Instane: 7733 Learning rate: 0.3 , error 48.93:\n",
            "Instane: 7734 Learning rate: 0.3 , error 48.93:\n",
            "Instane: 7735 Learning rate: 0.3 , error 48.93:\n",
            "Instane: 7736 Learning rate: 0.3 , error 48.93:\n",
            "Instane: 7737 Learning rate: 0.3 , error 48.93:\n",
            "Instane: 7738 Learning rate: 0.3 , error 48.93:\n",
            "Instane: 7739 Learning rate: 0.3 , error 48.93:\n",
            "Instane: 7740 Learning rate: 0.3 , error 48.93:\n",
            "Instane: 7741 Learning rate: 0.3 , error 48.93:\n",
            "Instane: 7742 Learning rate: 0.3 , error 48.93:\n",
            "Instane: 7743 Learning rate: 0.3 , error 48.93:\n",
            "Instane: 7744 Learning rate: 0.3 , error 48.93:\n",
            "Instane: 7745 Learning rate: 0.3 , error 48.93:\n",
            "Instane: 7746 Learning rate: 0.3 , error 48.93:\n",
            "Instane: 7747 Learning rate: 0.3 , error 48.93:\n",
            "Instane: 7748 Learning rate: 0.3 , error 48.93:\n",
            "Instane: 7749 Learning rate: 0.3 , error 48.93:\n",
            "Instane: 7750 Learning rate: 0.3 , error 48.93:\n",
            "Instane: 7751 Learning rate: 0.3 , error 48.93:\n",
            "Instane: 7752 Learning rate: 0.3 , error 48.93:\n",
            "Instane: 7753 Learning rate: 0.3 , error 48.93:\n",
            "Instane: 7754 Learning rate: 0.3 , error 48.93:\n",
            "Instane: 7755 Learning rate: 0.3 , error 48.93:\n",
            "Instane: 7756 Learning rate: 0.3 , error 48.93:\n",
            "Instane: 7757 Learning rate: 0.3 , error 48.93:\n",
            "Instane: 7758 Learning rate: 0.3 , error 48.93:\n",
            "Instane: 7759 Learning rate: 0.3 , error 48.93:\n",
            "Instane: 7760 Learning rate: 0.3 , error 48.93:\n",
            "Instane: 7761 Learning rate: 0.3 , error 48.93:\n",
            "Instane: 7762 Learning rate: 0.3 , error 48.93:\n",
            "Instane: 7763 Learning rate: 0.3 , error 48.93:\n",
            "Instane: 7764 Learning rate: 0.3 , error 48.93:\n",
            "Instane: 7765 Learning rate: 0.3 , error 48.93:\n",
            "Instane: 7766 Learning rate: 0.3 , error 48.93:\n",
            "Instane: 7767 Learning rate: 0.3 , error 48.93:\n",
            "Instane: 7768 Learning rate: 0.3 , error 48.93:\n",
            "Instane: 7769 Learning rate: 0.3 , error 48.93:\n",
            "Instane: 7770 Learning rate: 0.3 , error 48.93:\n",
            "Instane: 7771 Learning rate: 0.3 , error 48.93:\n",
            "Instane: 7772 Learning rate: 0.3 , error 48.93:\n",
            "Instane: 7773 Learning rate: 0.3 , error 48.93:\n",
            "Instane: 7774 Learning rate: 0.3 , error 48.93:\n",
            "Instane: 7775 Learning rate: 0.3 , error 48.93:\n",
            "Instane: 7776 Learning rate: 0.3 , error 48.93:\n",
            "Instane: 7777 Learning rate: 0.3 , error 48.93:\n",
            "Instane: 7778 Learning rate: 0.3 , error 48.93:\n",
            "Instane: 7779 Learning rate: 0.3 , error 48.93:\n",
            "Instane: 7780 Learning rate: 0.3 , error 48.93:\n",
            "Instane: 7781 Learning rate: 0.3 , error 48.93:\n",
            "Instane: 7782 Learning rate: 0.3 , error 48.93:\n",
            "Instane: 7783 Learning rate: 0.3 , error 48.93:\n",
            "Instane: 7784 Learning rate: 0.3 , error 48.93:\n",
            "Instane: 7785 Learning rate: 0.3 , error 48.93:\n",
            "Instane: 7786 Learning rate: 0.3 , error 48.93:\n",
            "Instane: 7787 Learning rate: 0.3 , error 48.93:\n",
            "Instane: 7788 Learning rate: 0.3 , error 48.94:\n",
            "Instane: 7789 Learning rate: 0.3 , error 48.94:\n",
            "Instane: 7790 Learning rate: 0.3 , error 48.94:\n",
            "Instane: 7791 Learning rate: 0.3 , error 48.94:\n",
            "Instane: 7792 Learning rate: 0.3 , error 48.94:\n",
            "Instane: 7793 Learning rate: 0.3 , error 48.94:\n",
            "Instane: 7794 Learning rate: 0.3 , error 48.94:\n",
            "Instane: 7795 Learning rate: 0.3 , error 48.94:\n",
            "Instane: 7796 Learning rate: 0.3 , error 48.94:\n",
            "Instane: 7797 Learning rate: 0.3 , error 48.94:\n",
            "Instane: 7798 Learning rate: 0.3 , error 48.94:\n",
            "Instane: 7799 Learning rate: 0.3 , error 48.94:\n",
            "Instane: 7800 Learning rate: 0.3 , error 48.94:\n",
            "Instane: 7801 Learning rate: 0.3 , error 48.94:\n",
            "Instane: 7802 Learning rate: 0.3 , error 48.94:\n",
            "Instane: 7803 Learning rate: 0.3 , error 48.94:\n",
            "Instane: 7804 Learning rate: 0.3 , error 48.94:\n",
            "Instane: 7805 Learning rate: 0.3 , error 48.94:\n",
            "Instane: 7806 Learning rate: 0.3 , error 48.94:\n",
            "Instane: 7807 Learning rate: 0.3 , error 48.94:\n",
            "Instane: 7808 Learning rate: 0.3 , error 48.94:\n",
            "Instane: 7809 Learning rate: 0.3 , error 48.94:\n",
            "Instane: 7810 Learning rate: 0.3 , error 48.94:\n",
            "Instane: 7811 Learning rate: 0.3 , error 48.94:\n",
            "Instane: 7812 Learning rate: 0.3 , error 48.94:\n",
            "Instane: 7813 Learning rate: 0.3 , error 48.94:\n",
            "Instane: 7814 Learning rate: 0.3 , error 48.94:\n",
            "Instane: 7815 Learning rate: 0.3 , error 48.94:\n",
            "Instane: 7816 Learning rate: 0.3 , error 48.94:\n",
            "Instane: 7817 Learning rate: 0.3 , error 48.94:\n",
            "Instane: 7818 Learning rate: 0.3 , error 48.94:\n",
            "Instane: 7819 Learning rate: 0.3 , error 48.94:\n",
            "Instane: 7820 Learning rate: 0.3 , error 48.94:\n",
            "Instane: 7821 Learning rate: 0.3 , error 48.94:\n",
            "Instane: 7822 Learning rate: 0.3 , error 48.94:\n",
            "Instane: 7823 Learning rate: 0.3 , error 48.94:\n",
            "Instane: 7824 Learning rate: 0.3 , error 48.94:\n",
            "Instane: 7825 Learning rate: 0.3 , error 48.94:\n",
            "Instane: 7826 Learning rate: 0.3 , error 48.94:\n",
            "Instane: 7827 Learning rate: 0.3 , error 48.94:\n",
            "Instane: 7828 Learning rate: 0.3 , error 48.94:\n",
            "Instane: 7829 Learning rate: 0.3 , error 48.94:\n",
            "Instane: 7830 Learning rate: 0.3 , error 48.94:\n",
            "Instane: 7831 Learning rate: 0.3 , error 48.94:\n",
            "Instane: 7832 Learning rate: 0.3 , error 48.94:\n",
            "Instane: 7833 Learning rate: 0.3 , error 48.94:\n",
            "Instane: 7834 Learning rate: 0.3 , error 48.94:\n",
            "Instane: 7835 Learning rate: 0.3 , error 48.94:\n",
            "Instane: 7836 Learning rate: 0.3 , error 48.94:\n",
            "Instane: 7837 Learning rate: 0.3 , error 48.94:\n",
            "Instane: 7838 Learning rate: 0.3 , error 48.94:\n",
            "Instane: 7839 Learning rate: 0.3 , error 48.94:\n",
            "Instane: 7840 Learning rate: 0.3 , error 48.94:\n",
            "Instane: 7841 Learning rate: 0.3 , error 48.94:\n",
            "Instane: 7842 Learning rate: 0.3 , error 48.94:\n",
            "Instane: 7843 Learning rate: 0.3 , error 48.94:\n",
            "Instane: 7844 Learning rate: 0.3 , error 48.94:\n",
            "Instane: 7845 Learning rate: 0.3 , error 48.94:\n",
            "Instane: 7846 Learning rate: 0.3 , error 48.94:\n",
            "Instane: 7847 Learning rate: 0.3 , error 48.94:\n",
            "Instane: 7848 Learning rate: 0.3 , error 48.94:\n",
            "Instane: 7849 Learning rate: 0.3 , error 48.94:\n",
            "Instane: 7850 Learning rate: 0.3 , error 48.94:\n",
            "Instane: 7851 Learning rate: 0.3 , error 48.94:\n",
            "Instane: 7852 Learning rate: 0.3 , error 48.94:\n",
            "Instane: 7853 Learning rate: 0.3 , error 48.94:\n",
            "Instane: 7854 Learning rate: 0.3 , error 48.94:\n",
            "Instane: 7855 Learning rate: 0.3 , error 48.94:\n",
            "Instane: 7856 Learning rate: 0.3 , error 48.94:\n",
            "Instane: 7857 Learning rate: 0.3 , error 48.94:\n",
            "Instane: 7858 Learning rate: 0.3 , error 48.94:\n",
            "Instane: 7859 Learning rate: 0.3 , error 48.94:\n",
            "Instane: 7860 Learning rate: 0.3 , error 48.94:\n",
            "Instane: 7861 Learning rate: 0.3 , error 48.94:\n",
            "Instane: 7862 Learning rate: 0.3 , error 48.94:\n",
            "Instane: 7863 Learning rate: 0.3 , error 48.94:\n",
            "Instane: 7864 Learning rate: 0.3 , error 48.94:\n",
            "Instane: 7865 Learning rate: 0.3 , error 48.94:\n",
            "Instane: 7866 Learning rate: 0.3 , error 48.94:\n",
            "Instane: 7867 Learning rate: 0.3 , error 48.94:\n",
            "Instane: 7868 Learning rate: 0.3 , error 48.94:\n",
            "Instane: 7869 Learning rate: 0.3 , error 48.94:\n",
            "Instane: 7870 Learning rate: 0.3 , error 48.94:\n",
            "Instane: 7871 Learning rate: 0.3 , error 48.94:\n",
            "Instane: 7872 Learning rate: 0.3 , error 48.94:\n",
            "Instane: 7873 Learning rate: 0.3 , error 48.94:\n",
            "Instane: 7874 Learning rate: 0.3 , error 48.94:\n",
            "Instane: 7875 Learning rate: 0.3 , error 48.94:\n",
            "Instane: 7876 Learning rate: 0.3 , error 48.94:\n",
            "Instane: 7877 Learning rate: 0.3 , error 48.94:\n",
            "Instane: 7878 Learning rate: 0.3 , error 48.94:\n",
            "Instane: 7879 Learning rate: 0.3 , error 48.95:\n",
            "Instane: 7880 Learning rate: 0.3 , error 48.95:\n",
            "Instane: 7881 Learning rate: 0.3 , error 48.95:\n",
            "Instane: 7882 Learning rate: 0.3 , error 48.95:\n",
            "Instane: 7883 Learning rate: 0.3 , error 48.95:\n",
            "Instane: 7884 Learning rate: 0.3 , error 48.95:\n",
            "Instane: 7885 Learning rate: 0.3 , error 48.95:\n",
            "Instane: 7886 Learning rate: 0.3 , error 48.95:\n",
            "Instane: 7887 Learning rate: 0.3 , error 48.95:\n",
            "Instane: 7888 Learning rate: 0.3 , error 48.95:\n",
            "Instane: 7889 Learning rate: 0.3 , error 48.95:\n",
            "Instane: 7890 Learning rate: 0.3 , error 48.95:\n",
            "Instane: 7891 Learning rate: 0.3 , error 48.95:\n",
            "Instane: 7892 Learning rate: 0.3 , error 48.95:\n",
            "Instane: 7893 Learning rate: 0.3 , error 48.95:\n",
            "Instane: 7894 Learning rate: 0.3 , error 48.95:\n",
            "Instane: 7895 Learning rate: 0.3 , error 48.95:\n",
            "Instane: 7896 Learning rate: 0.3 , error 48.95:\n",
            "Instane: 7897 Learning rate: 0.3 , error 48.95:\n",
            "Instane: 7898 Learning rate: 0.3 , error 48.95:\n",
            "Instane: 7899 Learning rate: 0.3 , error 48.95:\n",
            "Instane: 7900 Learning rate: 0.3 , error 48.95:\n",
            "Instane: 7901 Learning rate: 0.3 , error 48.95:\n",
            "Instane: 7902 Learning rate: 0.3 , error 48.95:\n",
            "Instane: 7903 Learning rate: 0.3 , error 48.95:\n",
            "Instane: 7904 Learning rate: 0.3 , error 48.95:\n",
            "Instane: 7905 Learning rate: 0.3 , error 48.95:\n",
            "Instane: 7906 Learning rate: 0.3 , error 48.95:\n",
            "Instane: 7907 Learning rate: 0.3 , error 48.95:\n",
            "Instane: 7908 Learning rate: 0.3 , error 48.95:\n",
            "Instane: 7909 Learning rate: 0.3 , error 48.95:\n",
            "Instane: 7910 Learning rate: 0.3 , error 48.95:\n",
            "Instane: 7911 Learning rate: 0.3 , error 48.95:\n",
            "Instane: 7912 Learning rate: 0.3 , error 48.95:\n",
            "Instane: 7913 Learning rate: 0.3 , error 48.95:\n",
            "Instane: 7914 Learning rate: 0.3 , error 48.95:\n",
            "Instane: 7915 Learning rate: 0.3 , error 48.95:\n",
            "Instane: 7916 Learning rate: 0.3 , error 48.95:\n",
            "Instane: 7917 Learning rate: 0.3 , error 48.95:\n",
            "Instane: 7918 Learning rate: 0.3 , error 48.95:\n",
            "Instane: 7919 Learning rate: 0.3 , error 48.95:\n",
            "Instane: 7920 Learning rate: 0.3 , error 48.95:\n",
            "Instane: 7921 Learning rate: 0.3 , error 48.95:\n",
            "Instane: 7922 Learning rate: 0.3 , error 48.95:\n",
            "Instane: 7923 Learning rate: 0.3 , error 48.95:\n",
            "Instane: 7924 Learning rate: 0.3 , error 48.95:\n",
            "Instane: 7925 Learning rate: 0.3 , error 48.95:\n",
            "Instane: 7926 Learning rate: 0.3 , error 48.95:\n",
            "Instane: 7927 Learning rate: 0.3 , error 48.95:\n",
            "Instane: 7928 Learning rate: 0.3 , error 48.95:\n",
            "Instane: 7929 Learning rate: 0.3 , error 48.95:\n",
            "Instane: 7930 Learning rate: 0.3 , error 48.95:\n",
            "Instane: 7931 Learning rate: 0.3 , error 48.95:\n",
            "Instane: 7932 Learning rate: 0.3 , error 48.95:\n",
            "Instane: 7933 Learning rate: 0.3 , error 48.95:\n",
            "Instane: 7934 Learning rate: 0.3 , error 48.95:\n",
            "Instane: 7935 Learning rate: 0.3 , error 48.95:\n",
            "Instane: 7936 Learning rate: 0.3 , error 48.95:\n",
            "Instane: 7937 Learning rate: 0.3 , error 48.95:\n",
            "Instane: 7938 Learning rate: 0.3 , error 48.95:\n",
            "Instane: 7939 Learning rate: 0.3 , error 48.95:\n",
            "Instane: 7940 Learning rate: 0.3 , error 48.95:\n",
            "Instane: 7941 Learning rate: 0.3 , error 48.95:\n",
            "Instane: 7942 Learning rate: 0.3 , error 48.95:\n",
            "Instane: 7943 Learning rate: 0.3 , error 48.95:\n",
            "Instane: 7944 Learning rate: 0.3 , error 48.95:\n",
            "Instane: 7945 Learning rate: 0.3 , error 48.95:\n",
            "Instane: 7946 Learning rate: 0.3 , error 48.95:\n",
            "Instane: 7947 Learning rate: 0.3 , error 48.95:\n",
            "Instane: 7948 Learning rate: 0.3 , error 48.95:\n",
            "Instane: 7949 Learning rate: 0.3 , error 48.95:\n",
            "Instane: 7950 Learning rate: 0.3 , error 48.95:\n",
            "Instane: 7951 Learning rate: 0.3 , error 48.95:\n",
            "Instane: 7952 Learning rate: 0.3 , error 48.95:\n",
            "Instane: 7953 Learning rate: 0.3 , error 48.95:\n",
            "Instane: 7954 Learning rate: 0.3 , error 48.95:\n",
            "Instane: 7955 Learning rate: 0.3 , error 48.95:\n",
            "Instane: 7956 Learning rate: 0.3 , error 48.95:\n",
            "Instane: 7957 Learning rate: 0.3 , error 48.95:\n",
            "Instane: 7958 Learning rate: 0.3 , error 48.96:\n",
            "Instane: 7959 Learning rate: 0.3 , error 48.96:\n",
            "Instane: 7960 Learning rate: 0.3 , error 48.96:\n",
            "Instane: 7961 Learning rate: 0.3 , error 48.96:\n",
            "Instane: 7962 Learning rate: 0.3 , error 48.96:\n",
            "Instane: 7963 Learning rate: 0.3 , error 48.96:\n",
            "Instane: 7964 Learning rate: 0.3 , error 48.96:\n",
            "Instane: 7965 Learning rate: 0.3 , error 48.96:\n",
            "Instane: 7966 Learning rate: 0.3 , error 48.96:\n",
            "Instane: 7967 Learning rate: 0.3 , error 48.96:\n",
            "Instane: 7968 Learning rate: 0.3 , error 48.96:\n",
            "Instane: 7969 Learning rate: 0.3 , error 48.96:\n",
            "Instane: 7970 Learning rate: 0.3 , error 48.96:\n",
            "Instane: 7971 Learning rate: 0.3 , error 48.96:\n",
            "Instane: 7972 Learning rate: 0.3 , error 48.96:\n",
            "Instane: 7973 Learning rate: 0.3 , error 48.96:\n",
            "Instane: 7974 Learning rate: 0.3 , error 48.96:\n",
            "Instane: 7975 Learning rate: 0.3 , error 48.96:\n",
            "Instane: 7976 Learning rate: 0.3 , error 48.96:\n",
            "Instane: 7977 Learning rate: 0.3 , error 48.96:\n",
            "Instane: 7978 Learning rate: 0.3 , error 48.96:\n",
            "Instane: 7979 Learning rate: 0.3 , error 48.96:\n",
            "Instane: 7980 Learning rate: 0.3 , error 48.96:\n",
            "Instane: 7981 Learning rate: 0.3 , error 48.96:\n",
            "Instane: 7982 Learning rate: 0.3 , error 48.96:\n",
            "Instane: 7983 Learning rate: 0.3 , error 48.96:\n",
            "Instane: 7984 Learning rate: 0.3 , error 48.96:\n",
            "Instane: 7985 Learning rate: 0.3 , error 48.96:\n",
            "Instane: 7986 Learning rate: 0.3 , error 48.96:\n",
            "Instane: 7987 Learning rate: 0.3 , error 48.96:\n",
            "Instane: 7988 Learning rate: 0.3 , error 48.96:\n",
            "Instane: 7989 Learning rate: 0.3 , error 48.96:\n",
            "Instane: 7990 Learning rate: 0.3 , error 48.96:\n",
            "Instane: 7991 Learning rate: 0.3 , error 48.96:\n",
            "Instane: 7992 Learning rate: 0.3 , error 48.96:\n",
            "Instane: 7993 Learning rate: 0.3 , error 48.96:\n",
            "Instane: 7994 Learning rate: 0.3 , error 48.96:\n",
            "Instane: 7995 Learning rate: 0.3 , error 48.96:\n",
            "Instane: 7996 Learning rate: 0.3 , error 48.96:\n",
            "Instane: 7997 Learning rate: 0.3 , error 48.96:\n",
            "Instane: 7998 Learning rate: 0.3 , error 48.96:\n",
            "Instane: 7999 Learning rate: 0.3 , error 48.96:\n",
            "Instane: 8000 Learning rate: 0.3 , error 48.96:\n",
            "Instane: 8001 Learning rate: 0.3 , error 48.96:\n",
            "Instane: 8002 Learning rate: 0.3 , error 48.96:\n",
            "Instane: 8003 Learning rate: 0.3 , error 48.96:\n",
            "Instane: 8004 Learning rate: 0.3 , error 48.96:\n",
            "Instane: 8005 Learning rate: 0.3 , error 48.96:\n",
            "Instane: 8006 Learning rate: 0.3 , error 48.96:\n",
            "Instane: 8007 Learning rate: 0.3 , error 48.96:\n",
            "Instane: 8008 Learning rate: 0.3 , error 48.96:\n",
            "Instane: 8009 Learning rate: 0.3 , error 48.96:\n",
            "Instane: 8010 Learning rate: 0.3 , error 48.96:\n",
            "Instane: 8011 Learning rate: 0.3 , error 48.96:\n",
            "Instane: 8012 Learning rate: 0.3 , error 48.96:\n",
            "Instane: 8013 Learning rate: 0.3 , error 48.96:\n",
            "Instane: 8014 Learning rate: 0.3 , error 48.96:\n",
            "Instane: 8015 Learning rate: 0.3 , error 48.96:\n",
            "Instane: 8016 Learning rate: 0.3 , error 48.96:\n",
            "Instane: 8017 Learning rate: 0.3 , error 48.96:\n",
            "Instane: 8018 Learning rate: 0.3 , error 48.96:\n",
            "Instane: 8019 Learning rate: 0.3 , error 48.96:\n",
            "Instane: 8020 Learning rate: 0.3 , error 48.96:\n",
            "Instane: 8021 Learning rate: 0.3 , error 48.96:\n",
            "Instane: 8022 Learning rate: 0.3 , error 48.96:\n",
            "Instane: 8023 Learning rate: 0.3 , error 48.96:\n",
            "Instane: 8024 Learning rate: 0.3 , error 48.96:\n",
            "Instane: 8025 Learning rate: 0.3 , error 48.96:\n",
            "Instane: 8026 Learning rate: 0.3 , error 48.96:\n",
            "Instane: 8027 Learning rate: 0.3 , error 48.96:\n",
            "Instane: 8028 Learning rate: 0.3 , error 48.97:\n",
            "Instane: 8029 Learning rate: 0.3 , error 48.97:\n",
            "Instane: 8030 Learning rate: 0.3 , error 48.97:\n",
            "Instane: 8031 Learning rate: 0.3 , error 48.97:\n",
            "Instane: 8032 Learning rate: 0.3 , error 48.97:\n",
            "Instane: 8033 Learning rate: 0.3 , error 48.97:\n",
            "Instane: 8034 Learning rate: 0.3 , error 48.97:\n",
            "Instane: 8035 Learning rate: 0.3 , error 48.97:\n",
            "Instane: 8036 Learning rate: 0.3 , error 48.97:\n",
            "Instane: 8037 Learning rate: 0.3 , error 48.97:\n",
            "Instane: 8038 Learning rate: 0.3 , error 48.97:\n",
            "Instane: 8039 Learning rate: 0.3 , error 48.97:\n",
            "Instane: 8040 Learning rate: 0.3 , error 48.97:\n",
            "Instane: 8041 Learning rate: 0.3 , error 48.97:\n",
            "Instane: 8042 Learning rate: 0.3 , error 48.97:\n",
            "Instane: 8043 Learning rate: 0.3 , error 48.97:\n",
            "Instane: 8044 Learning rate: 0.3 , error 48.97:\n",
            "Instane: 8045 Learning rate: 0.3 , error 48.97:\n",
            "Instane: 8046 Learning rate: 0.3 , error 48.97:\n",
            "Instane: 8047 Learning rate: 0.3 , error 48.97:\n",
            "Instane: 8048 Learning rate: 0.3 , error 48.97:\n",
            "Instane: 8049 Learning rate: 0.3 , error 48.97:\n",
            "Instane: 8050 Learning rate: 0.3 , error 48.97:\n",
            "Instane: 8051 Learning rate: 0.3 , error 48.97:\n",
            "Instane: 8052 Learning rate: 0.3 , error 48.97:\n",
            "Instane: 8053 Learning rate: 0.3 , error 48.97:\n",
            "Instane: 8054 Learning rate: 0.3 , error 48.97:\n",
            "Instane: 8055 Learning rate: 0.3 , error 48.97:\n",
            "Instane: 8056 Learning rate: 0.3 , error 48.97:\n",
            "Instane: 8057 Learning rate: 0.3 , error 48.97:\n",
            "Instane: 8058 Learning rate: 0.3 , error 48.97:\n",
            "Instane: 8059 Learning rate: 0.3 , error 48.97:\n",
            "Instane: 8060 Learning rate: 0.3 , error 48.97:\n",
            "Instane: 8061 Learning rate: 0.3 , error 48.97:\n",
            "Instane: 8062 Learning rate: 0.3 , error 48.97:\n",
            "Instane: 8063 Learning rate: 0.3 , error 48.97:\n",
            "Instane: 8064 Learning rate: 0.3 , error 48.97:\n",
            "Instane: 8065 Learning rate: 0.3 , error 48.97:\n",
            "Instane: 8066 Learning rate: 0.3 , error 48.97:\n",
            "Instane: 8067 Learning rate: 0.3 , error 48.97:\n",
            "Instane: 8068 Learning rate: 0.3 , error 48.97:\n",
            "Instane: 8069 Learning rate: 0.3 , error 48.97:\n",
            "Instane: 8070 Learning rate: 0.3 , error 48.97:\n",
            "Instane: 8071 Learning rate: 0.3 , error 48.97:\n",
            "Instane: 8072 Learning rate: 0.3 , error 48.97:\n",
            "Instane: 8073 Learning rate: 0.3 , error 48.97:\n",
            "Instane: 8074 Learning rate: 0.3 , error 48.97:\n",
            "Instane: 8075 Learning rate: 0.3 , error 48.97:\n",
            "Instane: 8076 Learning rate: 0.3 , error 48.97:\n",
            "Instane: 8077 Learning rate: 0.3 , error 48.97:\n",
            "Instane: 8078 Learning rate: 0.3 , error 48.97:\n",
            "Instane: 8079 Learning rate: 0.3 , error 48.97:\n",
            "Instane: 8080 Learning rate: 0.3 , error 48.97:\n",
            "Instane: 8081 Learning rate: 0.3 , error 48.97:\n",
            "Instane: 8082 Learning rate: 0.3 , error 48.97:\n",
            "Instane: 8083 Learning rate: 0.3 , error 48.97:\n",
            "Instane: 8084 Learning rate: 0.3 , error 48.97:\n",
            "Instane: 8085 Learning rate: 0.3 , error 48.97:\n",
            "Instane: 8086 Learning rate: 0.3 , error 48.97:\n",
            "Instane: 8087 Learning rate: 0.3 , error 48.97:\n",
            "Instane: 8088 Learning rate: 0.3 , error 48.97:\n",
            "Instane: 8089 Learning rate: 0.3 , error 48.97:\n",
            "Instane: 8090 Learning rate: 0.3 , error 48.97:\n",
            "Instane: 8091 Learning rate: 0.3 , error 48.98:\n",
            "Instane: 8092 Learning rate: 0.3 , error 48.98:\n",
            "Instane: 8093 Learning rate: 0.3 , error 48.98:\n",
            "Instane: 8094 Learning rate: 0.3 , error 48.98:\n",
            "Instane: 8095 Learning rate: 0.3 , error 48.98:\n",
            "Instane: 8096 Learning rate: 0.3 , error 48.98:\n",
            "Instane: 8097 Learning rate: 0.3 , error 48.98:\n",
            "Instane: 8098 Learning rate: 0.3 , error 48.98:\n",
            "Instane: 8099 Learning rate: 0.3 , error 48.98:\n",
            "Instane: 8100 Learning rate: 0.3 , error 48.98:\n",
            "Instane: 8101 Learning rate: 0.3 , error 48.98:\n",
            "Instane: 8102 Learning rate: 0.3 , error 48.98:\n",
            "Instane: 8103 Learning rate: 0.3 , error 48.98:\n",
            "Instane: 8104 Learning rate: 0.3 , error 48.98:\n",
            "Instane: 8105 Learning rate: 0.3 , error 48.98:\n",
            "Instane: 8106 Learning rate: 0.3 , error 48.98:\n",
            "Instane: 8107 Learning rate: 0.3 , error 48.98:\n",
            "Instane: 8108 Learning rate: 0.3 , error 48.98:\n",
            "Instane: 8109 Learning rate: 0.3 , error 48.98:\n",
            "Instane: 8110 Learning rate: 0.3 , error 48.98:\n",
            "Instane: 8111 Learning rate: 0.3 , error 48.98:\n",
            "Instane: 8112 Learning rate: 0.3 , error 48.98:\n",
            "Instane: 8113 Learning rate: 0.3 , error 48.98:\n",
            "Instane: 8114 Learning rate: 0.3 , error 48.98:\n",
            "Instane: 8115 Learning rate: 0.3 , error 48.98:\n",
            "Instane: 8116 Learning rate: 0.3 , error 48.98:\n",
            "Instane: 8117 Learning rate: 0.3 , error 48.98:\n",
            "Instane: 8118 Learning rate: 0.3 , error 48.98:\n",
            "Instane: 8119 Learning rate: 0.3 , error 48.98:\n",
            "Instane: 8120 Learning rate: 0.3 , error 48.98:\n",
            "Instane: 8121 Learning rate: 0.3 , error 48.98:\n",
            "Instane: 8122 Learning rate: 0.3 , error 48.98:\n",
            "Instane: 8123 Learning rate: 0.3 , error 48.98:\n",
            "Instane: 8124 Learning rate: 0.3 , error 48.98:\n",
            "Instane: 8125 Learning rate: 0.3 , error 48.98:\n",
            "Instane: 8126 Learning rate: 0.3 , error 48.98:\n",
            "Instane: 8127 Learning rate: 0.3 , error 48.98:\n",
            "Instane: 8128 Learning rate: 0.3 , error 48.98:\n",
            "Instane: 8129 Learning rate: 0.3 , error 48.98:\n",
            "Instane: 8130 Learning rate: 0.3 , error 48.98:\n",
            "Instane: 8131 Learning rate: 0.3 , error 48.98:\n",
            "Instane: 8132 Learning rate: 0.3 , error 48.98:\n",
            "Instane: 8133 Learning rate: 0.3 , error 48.98:\n",
            "Instane: 8134 Learning rate: 0.3 , error 48.98:\n",
            "Instane: 8135 Learning rate: 0.3 , error 48.98:\n",
            "Instane: 8136 Learning rate: 0.3 , error 48.98:\n",
            "Instane: 8137 Learning rate: 0.3 , error 48.98:\n",
            "Instane: 8138 Learning rate: 0.3 , error 48.98:\n",
            "Instane: 8139 Learning rate: 0.3 , error 48.98:\n",
            "Instane: 8140 Learning rate: 0.3 , error 48.98:\n",
            "Instane: 8141 Learning rate: 0.3 , error 48.98:\n",
            "Instane: 8142 Learning rate: 0.3 , error 48.98:\n",
            "Instane: 8143 Learning rate: 0.3 , error 48.98:\n",
            "Instane: 8144 Learning rate: 0.3 , error 48.98:\n",
            "Instane: 8145 Learning rate: 0.3 , error 48.98:\n",
            "Instane: 8146 Learning rate: 0.3 , error 48.98:\n",
            "Instane: 8147 Learning rate: 0.3 , error 48.98:\n",
            "Instane: 8148 Learning rate: 0.3 , error 48.98:\n",
            "Instane: 8149 Learning rate: 0.3 , error 48.99:\n",
            "Instane: 8150 Learning rate: 0.3 , error 48.99:\n",
            "Instane: 8151 Learning rate: 0.3 , error 48.99:\n",
            "Instane: 8152 Learning rate: 0.3 , error 48.99:\n",
            "Instane: 8153 Learning rate: 0.3 , error 48.99:\n",
            "Instane: 8154 Learning rate: 0.3 , error 48.99:\n",
            "Instane: 8155 Learning rate: 0.3 , error 48.99:\n",
            "Instane: 8156 Learning rate: 0.3 , error 48.99:\n",
            "Instane: 8157 Learning rate: 0.3 , error 48.99:\n",
            "Instane: 8158 Learning rate: 0.3 , error 48.99:\n",
            "Instane: 8159 Learning rate: 0.3 , error 48.99:\n",
            "Instane: 8160 Learning rate: 0.3 , error 48.99:\n",
            "Instane: 8161 Learning rate: 0.3 , error 48.99:\n",
            "Instane: 8162 Learning rate: 0.3 , error 48.99:\n",
            "Instane: 8163 Learning rate: 0.3 , error 48.99:\n",
            "Instane: 8164 Learning rate: 0.3 , error 48.99:\n",
            "Instane: 8165 Learning rate: 0.3 , error 48.99:\n",
            "Instane: 8166 Learning rate: 0.3 , error 48.99:\n",
            "Instane: 8167 Learning rate: 0.3 , error 48.99:\n",
            "Instane: 8168 Learning rate: 0.3 , error 48.99:\n",
            "Instane: 8169 Learning rate: 0.3 , error 48.99:\n",
            "Instane: 8170 Learning rate: 0.3 , error 48.99:\n",
            "Instane: 8171 Learning rate: 0.3 , error 48.99:\n",
            "Instane: 8172 Learning rate: 0.3 , error 48.99:\n",
            "Instane: 8173 Learning rate: 0.3 , error 48.99:\n",
            "Instane: 8174 Learning rate: 0.3 , error 48.99:\n",
            "Instane: 8175 Learning rate: 0.3 , error 48.99:\n",
            "Instane: 8176 Learning rate: 0.3 , error 48.99:\n",
            "Instane: 8177 Learning rate: 0.3 , error 48.99:\n",
            "Instane: 8178 Learning rate: 0.3 , error 48.99:\n",
            "Instane: 8179 Learning rate: 0.3 , error 48.99:\n",
            "Instane: 8180 Learning rate: 0.3 , error 48.99:\n",
            "Instane: 8181 Learning rate: 0.3 , error 48.99:\n",
            "Instane: 8182 Learning rate: 0.3 , error 48.99:\n",
            "Instane: 8183 Learning rate: 0.3 , error 48.99:\n",
            "Instane: 8184 Learning rate: 0.3 , error 48.99:\n",
            "Instane: 8185 Learning rate: 0.3 , error 48.99:\n",
            "Instane: 8186 Learning rate: 0.3 , error 48.99:\n",
            "Instane: 8187 Learning rate: 0.3 , error 48.99:\n",
            "Instane: 8188 Learning rate: 0.3 , error 48.99:\n",
            "Instane: 8189 Learning rate: 0.3 , error 48.99:\n",
            "Instane: 8190 Learning rate: 0.3 , error 48.99:\n",
            "Instane: 8191 Learning rate: 0.3 , error 48.99:\n",
            "Instane: 8192 Learning rate: 0.3 , error 48.99:\n",
            "Instane: 8193 Learning rate: 0.3 , error 48.99:\n",
            "Instane: 8194 Learning rate: 0.3 , error 48.99:\n",
            "Instane: 8195 Learning rate: 0.3 , error 48.99:\n",
            "Instane: 8196 Learning rate: 0.3 , error 48.99:\n",
            "Instane: 8197 Learning rate: 0.3 , error 48.99:\n",
            "Instane: 8198 Learning rate: 0.3 , error 48.99:\n",
            "Instane: 8199 Learning rate: 0.3 , error 48.99:\n",
            "Instane: 8200 Learning rate: 0.3 , error 48.99:\n",
            "Instane: 8201 Learning rate: 0.3 , error 48.99:\n",
            "Instane: 8202 Learning rate: 0.3 , error 49.00:\n",
            "Instane: 8203 Learning rate: 0.3 , error 49.00:\n",
            "Instane: 8204 Learning rate: 0.3 , error 49.00:\n",
            "Instane: 8205 Learning rate: 0.3 , error 49.00:\n",
            "Instane: 8206 Learning rate: 0.3 , error 49.00:\n",
            "Instane: 8207 Learning rate: 0.3 , error 49.00:\n",
            "Instane: 8208 Learning rate: 0.3 , error 49.00:\n",
            "Instane: 8209 Learning rate: 0.3 , error 49.00:\n",
            "Instane: 8210 Learning rate: 0.3 , error 49.00:\n",
            "Instane: 8211 Learning rate: 0.3 , error 49.00:\n",
            "Instane: 8212 Learning rate: 0.3 , error 49.00:\n",
            "Instane: 8213 Learning rate: 0.3 , error 49.00:\n",
            "Instane: 8214 Learning rate: 0.3 , error 49.00:\n",
            "Instane: 8215 Learning rate: 0.3 , error 49.00:\n",
            "Instane: 8216 Learning rate: 0.3 , error 49.00:\n",
            "Instane: 8217 Learning rate: 0.3 , error 49.00:\n",
            "Instane: 8218 Learning rate: 0.3 , error 49.00:\n",
            "Instane: 8219 Learning rate: 0.3 , error 49.00:\n",
            "Instane: 8220 Learning rate: 0.3 , error 49.00:\n",
            "Instane: 8221 Learning rate: 0.3 , error 49.00:\n",
            "Instane: 8222 Learning rate: 0.3 , error 49.00:\n",
            "Instane: 8223 Learning rate: 0.3 , error 49.00:\n",
            "Instane: 8224 Learning rate: 0.3 , error 49.00:\n",
            "Instane: 8225 Learning rate: 0.3 , error 49.00:\n",
            "Instane: 8226 Learning rate: 0.3 , error 49.00:\n",
            "Instane: 8227 Learning rate: 0.3 , error 49.00:\n",
            "Instane: 8228 Learning rate: 0.3 , error 49.00:\n",
            "Instane: 8229 Learning rate: 0.3 , error 49.00:\n",
            "Instane: 8230 Learning rate: 0.3 , error 49.00:\n",
            "Instane: 8231 Learning rate: 0.3 , error 49.00:\n",
            "Instane: 8232 Learning rate: 0.3 , error 49.00:\n",
            "Instane: 8233 Learning rate: 0.3 , error 49.00:\n",
            "Instane: 8234 Learning rate: 0.3 , error 49.00:\n",
            "Instane: 8235 Learning rate: 0.3 , error 49.00:\n",
            "Instane: 8236 Learning rate: 0.3 , error 49.00:\n",
            "Instane: 8237 Learning rate: 0.3 , error 49.00:\n",
            "Instane: 8238 Learning rate: 0.3 , error 49.00:\n",
            "Instane: 8239 Learning rate: 0.3 , error 49.00:\n",
            "Instane: 8240 Learning rate: 0.3 , error 49.00:\n",
            "Instane: 8241 Learning rate: 0.3 , error 49.00:\n",
            "Instane: 8242 Learning rate: 0.3 , error 49.00:\n",
            "Instane: 8243 Learning rate: 0.3 , error 49.00:\n",
            "Instane: 8244 Learning rate: 0.3 , error 49.00:\n",
            "Instane: 8245 Learning rate: 0.3 , error 49.00:\n",
            "Instane: 8246 Learning rate: 0.3 , error 49.00:\n",
            "Instane: 8247 Learning rate: 0.3 , error 49.00:\n",
            "Instane: 8248 Learning rate: 0.3 , error 49.00:\n",
            "Instane: 8249 Learning rate: 0.3 , error 49.00:\n",
            "Instane: 8250 Learning rate: 0.3 , error 49.01:\n",
            "Instane: 8251 Learning rate: 0.3 , error 49.01:\n",
            "Instane: 8252 Learning rate: 0.3 , error 49.01:\n",
            "Instane: 8253 Learning rate: 0.3 , error 49.01:\n",
            "Instane: 8254 Learning rate: 0.3 , error 49.01:\n",
            "Instane: 8255 Learning rate: 0.3 , error 49.01:\n",
            "Instane: 8256 Learning rate: 0.3 , error 49.01:\n",
            "Instane: 8257 Learning rate: 0.3 , error 49.01:\n",
            "Instane: 8258 Learning rate: 0.3 , error 49.01:\n",
            "Instane: 8259 Learning rate: 0.3 , error 49.01:\n",
            "Instane: 8260 Learning rate: 0.3 , error 49.01:\n",
            "Instane: 8261 Learning rate: 0.3 , error 49.01:\n",
            "Instane: 8262 Learning rate: 0.3 , error 49.01:\n",
            "Instane: 8263 Learning rate: 0.3 , error 49.01:\n",
            "Instane: 8264 Learning rate: 0.3 , error 49.01:\n",
            "Instane: 8265 Learning rate: 0.3 , error 49.01:\n",
            "Instane: 8266 Learning rate: 0.3 , error 49.01:\n",
            "Instane: 8267 Learning rate: 0.3 , error 49.01:\n",
            "Instane: 8268 Learning rate: 0.3 , error 49.01:\n",
            "Instane: 8269 Learning rate: 0.3 , error 49.01:\n",
            "Instane: 8270 Learning rate: 0.3 , error 49.01:\n",
            "Instane: 8271 Learning rate: 0.3 , error 49.01:\n",
            "Instane: 8272 Learning rate: 0.3 , error 49.01:\n",
            "Instane: 8273 Learning rate: 0.3 , error 49.01:\n",
            "Instane: 8274 Learning rate: 0.3 , error 49.01:\n",
            "Instane: 8275 Learning rate: 0.3 , error 49.01:\n",
            "Instane: 8276 Learning rate: 0.3 , error 49.01:\n",
            "Instane: 8277 Learning rate: 0.3 , error 49.01:\n",
            "Instane: 8278 Learning rate: 0.3 , error 49.01:\n",
            "Instane: 8279 Learning rate: 0.3 , error 49.01:\n",
            "Instane: 8280 Learning rate: 0.3 , error 49.01:\n",
            "Instane: 8281 Learning rate: 0.3 , error 49.01:\n",
            "Instane: 8282 Learning rate: 0.3 , error 49.01:\n",
            "Instane: 8283 Learning rate: 0.3 , error 49.01:\n",
            "Instane: 8284 Learning rate: 0.3 , error 49.01:\n",
            "Instane: 8285 Learning rate: 0.3 , error 49.01:\n",
            "Instane: 8286 Learning rate: 0.3 , error 49.01:\n",
            "Instane: 8287 Learning rate: 0.3 , error 49.01:\n",
            "Instane: 8288 Learning rate: 0.3 , error 49.01:\n",
            "Instane: 8289 Learning rate: 0.3 , error 49.01:\n",
            "Instane: 8290 Learning rate: 0.3 , error 49.01:\n",
            "Instane: 8291 Learning rate: 0.3 , error 49.01:\n",
            "Instane: 8292 Learning rate: 0.3 , error 49.01:\n",
            "Instane: 8293 Learning rate: 0.3 , error 49.01:\n",
            "Instane: 8294 Learning rate: 0.3 , error 49.01:\n",
            "Instane: 8295 Learning rate: 0.3 , error 49.01:\n",
            "Instane: 8296 Learning rate: 0.3 , error 49.02:\n",
            "Instane: 8297 Learning rate: 0.3 , error 49.02:\n",
            "Instane: 8298 Learning rate: 0.3 , error 49.02:\n",
            "Instane: 8299 Learning rate: 0.3 , error 49.02:\n",
            "Instane: 8300 Learning rate: 0.3 , error 49.02:\n",
            "Instane: 8301 Learning rate: 0.3 , error 49.02:\n",
            "Instane: 8302 Learning rate: 0.3 , error 49.02:\n",
            "Instane: 8303 Learning rate: 0.3 , error 49.02:\n",
            "Instane: 8304 Learning rate: 0.3 , error 49.02:\n",
            "Instane: 8305 Learning rate: 0.3 , error 49.02:\n",
            "Instane: 8306 Learning rate: 0.3 , error 49.02:\n",
            "Instane: 8307 Learning rate: 0.3 , error 49.02:\n",
            "Instane: 8308 Learning rate: 0.3 , error 49.02:\n",
            "Instane: 8309 Learning rate: 0.3 , error 49.02:\n",
            "Instane: 8310 Learning rate: 0.3 , error 49.02:\n",
            "Instane: 8311 Learning rate: 0.3 , error 49.02:\n",
            "Instane: 8312 Learning rate: 0.3 , error 49.02:\n",
            "Instane: 8313 Learning rate: 0.3 , error 49.02:\n",
            "Instane: 8314 Learning rate: 0.3 , error 49.02:\n",
            "Instane: 8315 Learning rate: 0.3 , error 49.02:\n",
            "Instane: 8316 Learning rate: 0.3 , error 49.02:\n",
            "Instane: 8317 Learning rate: 0.3 , error 49.02:\n",
            "Instane: 8318 Learning rate: 0.3 , error 49.02:\n",
            "Instane: 8319 Learning rate: 0.3 , error 49.02:\n",
            "Instane: 8320 Learning rate: 0.3 , error 49.02:\n",
            "Instane: 8321 Learning rate: 0.3 , error 49.02:\n",
            "Instane: 8322 Learning rate: 0.3 , error 49.02:\n",
            "Instane: 8323 Learning rate: 0.3 , error 49.02:\n",
            "Instane: 8324 Learning rate: 0.3 , error 49.02:\n",
            "Instane: 8325 Learning rate: 0.3 , error 49.02:\n",
            "Instane: 8326 Learning rate: 0.3 , error 49.02:\n",
            "Instane: 8327 Learning rate: 0.3 , error 49.02:\n",
            "Instane: 8328 Learning rate: 0.3 , error 49.02:\n",
            "Instane: 8329 Learning rate: 0.3 , error 49.02:\n",
            "Instane: 8330 Learning rate: 0.3 , error 49.02:\n",
            "Instane: 8331 Learning rate: 0.3 , error 49.02:\n",
            "Instane: 8332 Learning rate: 0.3 , error 49.02:\n",
            "Instane: 8333 Learning rate: 0.3 , error 49.02:\n",
            "Instane: 8334 Learning rate: 0.3 , error 49.02:\n",
            "Instane: 8335 Learning rate: 0.3 , error 49.02:\n",
            "Instane: 8336 Learning rate: 0.3 , error 49.02:\n",
            "Instane: 8337 Learning rate: 0.3 , error 49.02:\n",
            "Instane: 8338 Learning rate: 0.3 , error 49.03:\n",
            "Instane: 8339 Learning rate: 0.3 , error 49.03:\n",
            "Instane: 8340 Learning rate: 0.3 , error 49.03:\n",
            "Instane: 8341 Learning rate: 0.3 , error 49.03:\n",
            "Instane: 8342 Learning rate: 0.3 , error 49.03:\n",
            "Instane: 8343 Learning rate: 0.3 , error 49.03:\n",
            "Instane: 8344 Learning rate: 0.3 , error 49.03:\n",
            "Instane: 8345 Learning rate: 0.3 , error 49.03:\n",
            "Instane: 8346 Learning rate: 0.3 , error 49.03:\n",
            "Instane: 8347 Learning rate: 0.3 , error 49.03:\n",
            "Instane: 8348 Learning rate: 0.3 , error 49.03:\n",
            "Instane: 8349 Learning rate: 0.3 , error 49.03:\n",
            "Instane: 8350 Learning rate: 0.3 , error 49.03:\n",
            "Instane: 8351 Learning rate: 0.3 , error 49.03:\n",
            "Instane: 8352 Learning rate: 0.3 , error 49.03:\n",
            "Instane: 8353 Learning rate: 0.3 , error 49.03:\n",
            "Instane: 8354 Learning rate: 0.3 , error 49.03:\n",
            "Instane: 8355 Learning rate: 0.3 , error 49.03:\n",
            "Instane: 8356 Learning rate: 0.3 , error 49.03:\n",
            "Instane: 8357 Learning rate: 0.3 , error 49.03:\n",
            "Instane: 8358 Learning rate: 0.3 , error 49.03:\n",
            "Instane: 8359 Learning rate: 0.3 , error 49.03:\n",
            "Instane: 8360 Learning rate: 0.3 , error 49.03:\n",
            "Instane: 8361 Learning rate: 0.3 , error 49.03:\n",
            "Instane: 8362 Learning rate: 0.3 , error 49.03:\n",
            "Instane: 8363 Learning rate: 0.3 , error 49.03:\n",
            "Instane: 8364 Learning rate: 0.3 , error 49.03:\n",
            "Instane: 8365 Learning rate: 0.3 , error 49.03:\n",
            "Instane: 8366 Learning rate: 0.3 , error 49.03:\n",
            "Instane: 8367 Learning rate: 0.3 , error 49.03:\n",
            "Instane: 8368 Learning rate: 0.3 , error 49.03:\n",
            "Instane: 8369 Learning rate: 0.3 , error 49.03:\n",
            "Instane: 8370 Learning rate: 0.3 , error 49.03:\n",
            "Instane: 8371 Learning rate: 0.3 , error 49.03:\n",
            "Instane: 8372 Learning rate: 0.3 , error 49.03:\n",
            "Instane: 8373 Learning rate: 0.3 , error 49.03:\n",
            "Instane: 8374 Learning rate: 0.3 , error 49.03:\n",
            "Instane: 8375 Learning rate: 0.3 , error 49.03:\n",
            "Instane: 8376 Learning rate: 0.3 , error 49.03:\n",
            "Instane: 8377 Learning rate: 0.3 , error 49.03:\n",
            "Instane: 8378 Learning rate: 0.3 , error 49.04:\n",
            "Instane: 8379 Learning rate: 0.3 , error 49.04:\n",
            "Instane: 8380 Learning rate: 0.3 , error 49.04:\n",
            "Instane: 8381 Learning rate: 0.3 , error 49.04:\n",
            "Instane: 8382 Learning rate: 0.3 , error 49.04:\n",
            "Instane: 8383 Learning rate: 0.3 , error 49.04:\n",
            "Instane: 8384 Learning rate: 0.3 , error 49.04:\n",
            "Instane: 8385 Learning rate: 0.3 , error 49.04:\n",
            "Instane: 8386 Learning rate: 0.3 , error 49.04:\n",
            "Instane: 8387 Learning rate: 0.3 , error 49.04:\n",
            "Instane: 8388 Learning rate: 0.3 , error 49.04:\n",
            "Instane: 8389 Learning rate: 0.3 , error 49.04:\n",
            "Instane: 8390 Learning rate: 0.3 , error 49.04:\n",
            "Instane: 8391 Learning rate: 0.3 , error 49.04:\n",
            "Instane: 8392 Learning rate: 0.3 , error 49.04:\n",
            "Instane: 8393 Learning rate: 0.3 , error 49.04:\n",
            "Instane: 8394 Learning rate: 0.3 , error 49.04:\n",
            "Instane: 8395 Learning rate: 0.3 , error 49.04:\n",
            "Instane: 8396 Learning rate: 0.3 , error 49.04:\n",
            "Instane: 8397 Learning rate: 0.3 , error 49.04:\n",
            "Instane: 8398 Learning rate: 0.3 , error 49.04:\n",
            "Instane: 8399 Learning rate: 0.3 , error 49.04:\n",
            "Instane: 8400 Learning rate: 0.3 , error 49.04:\n",
            "Instane: 8401 Learning rate: 0.3 , error 49.04:\n",
            "Instane: 8402 Learning rate: 0.3 , error 49.04:\n",
            "Instane: 8403 Learning rate: 0.3 , error 49.04:\n",
            "Instane: 8404 Learning rate: 0.3 , error 49.04:\n",
            "Instane: 8405 Learning rate: 0.3 , error 49.04:\n",
            "Instane: 8406 Learning rate: 0.3 , error 49.04:\n",
            "Instane: 8407 Learning rate: 0.3 , error 49.04:\n",
            "Instane: 8408 Learning rate: 0.3 , error 49.04:\n",
            "Instane: 8409 Learning rate: 0.3 , error 49.04:\n",
            "Instane: 8410 Learning rate: 0.3 , error 49.04:\n",
            "Instane: 8411 Learning rate: 0.3 , error 49.04:\n",
            "Instane: 8412 Learning rate: 0.3 , error 49.04:\n",
            "Instane: 8413 Learning rate: 0.3 , error 49.04:\n",
            "Instane: 8414 Learning rate: 0.3 , error 49.04:\n",
            "Instane: 8415 Learning rate: 0.3 , error 49.04:\n",
            "Instane: 8416 Learning rate: 0.3 , error 49.05:\n",
            "Instane: 8417 Learning rate: 0.3 , error 49.05:\n",
            "Instane: 8418 Learning rate: 0.3 , error 49.05:\n",
            "Instane: 8419 Learning rate: 0.3 , error 49.05:\n",
            "Instane: 8420 Learning rate: 0.3 , error 49.05:\n",
            "Instane: 8421 Learning rate: 0.3 , error 49.05:\n",
            "Instane: 8422 Learning rate: 0.3 , error 49.05:\n",
            "Instane: 8423 Learning rate: 0.3 , error 49.05:\n",
            "Instane: 8424 Learning rate: 0.3 , error 49.05:\n",
            "Instane: 8425 Learning rate: 0.3 , error 49.05:\n",
            "Instane: 8426 Learning rate: 0.3 , error 49.05:\n",
            "Instane: 8427 Learning rate: 0.3 , error 49.05:\n",
            "Instane: 8428 Learning rate: 0.3 , error 49.05:\n",
            "Instane: 8429 Learning rate: 0.3 , error 49.05:\n",
            "Instane: 8430 Learning rate: 0.3 , error 49.05:\n",
            "Instane: 8431 Learning rate: 0.3 , error 49.05:\n",
            "Instane: 8432 Learning rate: 0.3 , error 49.05:\n",
            "Instane: 8433 Learning rate: 0.3 , error 49.05:\n",
            "Instane: 8434 Learning rate: 0.3 , error 49.05:\n",
            "Instane: 8435 Learning rate: 0.3 , error 49.05:\n",
            "Instane: 8436 Learning rate: 0.3 , error 49.05:\n",
            "Instane: 8437 Learning rate: 0.3 , error 49.05:\n",
            "Instane: 8438 Learning rate: 0.3 , error 49.05:\n",
            "Instane: 8439 Learning rate: 0.3 , error 49.05:\n",
            "Instane: 8440 Learning rate: 0.3 , error 49.05:\n",
            "Instane: 8441 Learning rate: 0.3 , error 49.05:\n",
            "Instane: 8442 Learning rate: 0.3 , error 49.05:\n",
            "Instane: 8443 Learning rate: 0.3 , error 49.05:\n",
            "Instane: 8444 Learning rate: 0.3 , error 49.05:\n",
            "Instane: 8445 Learning rate: 0.3 , error 49.05:\n",
            "Instane: 8446 Learning rate: 0.3 , error 49.05:\n",
            "Instane: 8447 Learning rate: 0.3 , error 49.05:\n",
            "Instane: 8448 Learning rate: 0.3 , error 49.05:\n",
            "Instane: 8449 Learning rate: 0.3 , error 49.05:\n",
            "Instane: 8450 Learning rate: 0.3 , error 49.05:\n",
            "Instane: 8451 Learning rate: 0.3 , error 49.05:\n",
            "Instane: 8452 Learning rate: 0.3 , error 49.06:\n",
            "Instane: 8453 Learning rate: 0.3 , error 49.06:\n",
            "Instane: 8454 Learning rate: 0.3 , error 49.06:\n",
            "Instane: 8455 Learning rate: 0.3 , error 49.06:\n",
            "Instane: 8456 Learning rate: 0.3 , error 49.06:\n",
            "Instane: 8457 Learning rate: 0.3 , error 49.06:\n",
            "Instane: 8458 Learning rate: 0.3 , error 49.06:\n",
            "Instane: 8459 Learning rate: 0.3 , error 49.06:\n",
            "Instane: 8460 Learning rate: 0.3 , error 49.06:\n",
            "Instane: 8461 Learning rate: 0.3 , error 49.06:\n",
            "Instane: 8462 Learning rate: 0.3 , error 49.06:\n",
            "Instane: 8463 Learning rate: 0.3 , error 49.06:\n",
            "Instane: 8464 Learning rate: 0.3 , error 49.06:\n",
            "Instane: 8465 Learning rate: 0.3 , error 49.06:\n",
            "Instane: 8466 Learning rate: 0.3 , error 49.06:\n",
            "Instane: 8467 Learning rate: 0.3 , error 49.06:\n",
            "Instane: 8468 Learning rate: 0.3 , error 49.06:\n",
            "Instane: 8469 Learning rate: 0.3 , error 49.06:\n",
            "Instane: 8470 Learning rate: 0.3 , error 49.06:\n",
            "Instane: 8471 Learning rate: 0.3 , error 49.06:\n",
            "Instane: 8472 Learning rate: 0.3 , error 49.06:\n",
            "Instane: 8473 Learning rate: 0.3 , error 49.06:\n",
            "Instane: 8474 Learning rate: 0.3 , error 49.06:\n",
            "Instane: 8475 Learning rate: 0.3 , error 49.06:\n",
            "Instane: 8476 Learning rate: 0.3 , error 49.06:\n",
            "Instane: 8477 Learning rate: 0.3 , error 49.06:\n",
            "Instane: 8478 Learning rate: 0.3 , error 49.06:\n",
            "Instane: 8479 Learning rate: 0.3 , error 49.06:\n",
            "Instane: 8480 Learning rate: 0.3 , error 49.06:\n",
            "Instane: 8481 Learning rate: 0.3 , error 49.06:\n",
            "Instane: 8482 Learning rate: 0.3 , error 49.06:\n",
            "Instane: 8483 Learning rate: 0.3 , error 49.06:\n",
            "Instane: 8484 Learning rate: 0.3 , error 49.06:\n",
            "Instane: 8485 Learning rate: 0.3 , error 49.06:\n",
            "Instane: 8486 Learning rate: 0.3 , error 49.07:\n",
            "Instane: 8487 Learning rate: 0.3 , error 49.07:\n",
            "Instane: 8488 Learning rate: 0.3 , error 49.07:\n",
            "Instane: 8489 Learning rate: 0.3 , error 49.07:\n",
            "Instane: 8490 Learning rate: 0.3 , error 49.07:\n",
            "Instane: 8491 Learning rate: 0.3 , error 49.07:\n",
            "Instane: 8492 Learning rate: 0.3 , error 49.07:\n",
            "Instane: 8493 Learning rate: 0.3 , error 49.07:\n",
            "Instane: 8494 Learning rate: 0.3 , error 49.07:\n",
            "Instane: 8495 Learning rate: 0.3 , error 49.07:\n",
            "Instane: 8496 Learning rate: 0.3 , error 49.07:\n",
            "Instane: 8497 Learning rate: 0.3 , error 49.07:\n",
            "Instane: 8498 Learning rate: 0.3 , error 49.07:\n",
            "Instane: 8499 Learning rate: 0.3 , error 49.07:\n",
            "Instane: 8500 Learning rate: 0.3 , error 49.07:\n",
            "Instane: 8501 Learning rate: 0.3 , error 49.07:\n",
            "Instane: 8502 Learning rate: 0.3 , error 49.07:\n",
            "Instane: 8503 Learning rate: 0.3 , error 49.07:\n",
            "Instane: 8504 Learning rate: 0.3 , error 49.07:\n",
            "Instane: 8505 Learning rate: 0.3 , error 49.07:\n",
            "Instane: 8506 Learning rate: 0.3 , error 49.07:\n",
            "Instane: 8507 Learning rate: 0.3 , error 49.07:\n",
            "Instane: 8508 Learning rate: 0.3 , error 49.07:\n",
            "Instane: 8509 Learning rate: 0.3 , error 49.07:\n",
            "Instane: 8510 Learning rate: 0.3 , error 49.07:\n",
            "Instane: 8511 Learning rate: 0.3 , error 49.07:\n",
            "Instane: 8512 Learning rate: 0.3 , error 49.07:\n",
            "Instane: 8513 Learning rate: 0.3 , error 49.07:\n",
            "Instane: 8514 Learning rate: 0.3 , error 49.07:\n",
            "Instane: 8515 Learning rate: 0.3 , error 49.07:\n",
            "Instane: 8516 Learning rate: 0.3 , error 49.07:\n",
            "Instane: 8517 Learning rate: 0.3 , error 49.07:\n",
            "Instane: 8518 Learning rate: 0.3 , error 49.08:\n",
            "Instane: 8519 Learning rate: 0.3 , error 49.08:\n",
            "Instane: 8520 Learning rate: 0.3 , error 49.08:\n",
            "Instane: 8521 Learning rate: 0.3 , error 49.08:\n",
            "Instane: 8522 Learning rate: 0.3 , error 49.08:\n",
            "Instane: 8523 Learning rate: 0.3 , error 49.08:\n",
            "Instane: 8524 Learning rate: 0.3 , error 49.08:\n",
            "Instane: 8525 Learning rate: 0.3 , error 49.08:\n",
            "Instane: 8526 Learning rate: 0.3 , error 49.08:\n",
            "Instane: 8527 Learning rate: 0.3 , error 49.08:\n",
            "Instane: 8528 Learning rate: 0.3 , error 49.08:\n",
            "Instane: 8529 Learning rate: 0.3 , error 49.08:\n",
            "Instane: 8530 Learning rate: 0.3 , error 49.08:\n",
            "Instane: 8531 Learning rate: 0.3 , error 49.08:\n",
            "Instane: 8532 Learning rate: 0.3 , error 49.08:\n",
            "Instane: 8533 Learning rate: 0.3 , error 49.08:\n",
            "Instane: 8534 Learning rate: 0.3 , error 49.08:\n",
            "Instane: 8535 Learning rate: 0.3 , error 49.08:\n",
            "Instane: 8536 Learning rate: 0.3 , error 49.08:\n",
            "Instane: 8537 Learning rate: 0.3 , error 49.08:\n",
            "Instane: 8538 Learning rate: 0.3 , error 49.08:\n",
            "Instane: 8539 Learning rate: 0.3 , error 49.08:\n",
            "Instane: 8540 Learning rate: 0.3 , error 49.08:\n",
            "Instane: 8541 Learning rate: 0.3 , error 49.08:\n",
            "Instane: 8542 Learning rate: 0.3 , error 49.08:\n",
            "Instane: 8543 Learning rate: 0.3 , error 49.08:\n",
            "Instane: 8544 Learning rate: 0.3 , error 49.08:\n",
            "Instane: 8545 Learning rate: 0.3 , error 49.08:\n",
            "Instane: 8546 Learning rate: 0.3 , error 49.08:\n",
            "Instane: 8547 Learning rate: 0.3 , error 49.08:\n",
            "Instane: 8548 Learning rate: 0.3 , error 49.08:\n",
            "Instane: 8549 Learning rate: 0.3 , error 49.09:\n",
            "Instane: 8550 Learning rate: 0.3 , error 49.09:\n",
            "Instane: 8551 Learning rate: 0.3 , error 49.09:\n",
            "Instane: 8552 Learning rate: 0.3 , error 49.09:\n",
            "Instane: 8553 Learning rate: 0.3 , error 49.09:\n",
            "Instane: 8554 Learning rate: 0.3 , error 49.09:\n",
            "Instane: 8555 Learning rate: 0.3 , error 49.09:\n",
            "Instane: 8556 Learning rate: 0.3 , error 49.09:\n",
            "Instane: 8557 Learning rate: 0.3 , error 49.09:\n",
            "Instane: 8558 Learning rate: 0.3 , error 49.09:\n",
            "Instane: 8559 Learning rate: 0.3 , error 49.09:\n",
            "Instane: 8560 Learning rate: 0.3 , error 49.09:\n",
            "Instane: 8561 Learning rate: 0.3 , error 49.09:\n",
            "Instane: 8562 Learning rate: 0.3 , error 49.09:\n",
            "Instane: 8563 Learning rate: 0.3 , error 49.09:\n",
            "Instane: 8564 Learning rate: 0.3 , error 49.09:\n",
            "Instane: 8565 Learning rate: 0.3 , error 49.09:\n",
            "Instane: 8566 Learning rate: 0.3 , error 49.09:\n",
            "Instane: 8567 Learning rate: 0.3 , error 49.09:\n",
            "Instane: 8568 Learning rate: 0.3 , error 49.09:\n",
            "Instane: 8569 Learning rate: 0.3 , error 49.09:\n",
            "Instane: 8570 Learning rate: 0.3 , error 49.09:\n",
            "Instane: 8571 Learning rate: 0.3 , error 49.09:\n",
            "Instane: 8572 Learning rate: 0.3 , error 49.09:\n",
            "Instane: 8573 Learning rate: 0.3 , error 49.09:\n",
            "Instane: 8574 Learning rate: 0.3 , error 49.09:\n",
            "Instane: 8575 Learning rate: 0.3 , error 49.09:\n",
            "Instane: 8576 Learning rate: 0.3 , error 49.09:\n",
            "Instane: 8577 Learning rate: 0.3 , error 49.09:\n",
            "Instane: 8578 Learning rate: 0.3 , error 49.09:\n",
            "Instane: 8579 Learning rate: 0.3 , error 49.10:\n",
            "Instane: 8580 Learning rate: 0.3 , error 49.10:\n",
            "Instane: 8581 Learning rate: 0.3 , error 49.10:\n",
            "Instane: 8582 Learning rate: 0.3 , error 49.10:\n",
            "Instane: 8583 Learning rate: 0.3 , error 49.10:\n",
            "Instane: 8584 Learning rate: 0.3 , error 49.10:\n",
            "Instane: 8585 Learning rate: 0.3 , error 49.10:\n",
            "Instane: 8586 Learning rate: 0.3 , error 49.10:\n",
            "Instane: 8587 Learning rate: 0.3 , error 49.10:\n",
            "Instane: 8588 Learning rate: 0.3 , error 49.10:\n",
            "Instane: 8589 Learning rate: 0.3 , error 49.10:\n",
            "Instane: 8590 Learning rate: 0.3 , error 49.10:\n",
            "Instane: 8591 Learning rate: 0.3 , error 49.10:\n",
            "Instane: 8592 Learning rate: 0.3 , error 49.10:\n",
            "Instane: 8593 Learning rate: 0.3 , error 49.10:\n",
            "Instane: 8594 Learning rate: 0.3 , error 49.10:\n",
            "Instane: 8595 Learning rate: 0.3 , error 49.10:\n",
            "Instane: 8596 Learning rate: 0.3 , error 49.10:\n",
            "Instane: 8597 Learning rate: 0.3 , error 49.10:\n",
            "Instane: 8598 Learning rate: 0.3 , error 49.10:\n",
            "Instane: 8599 Learning rate: 0.3 , error 49.10:\n",
            "Instane: 8600 Learning rate: 0.3 , error 49.10:\n",
            "Instane: 8601 Learning rate: 0.3 , error 49.10:\n",
            "Instane: 8602 Learning rate: 0.3 , error 49.10:\n",
            "Instane: 8603 Learning rate: 0.3 , error 49.10:\n",
            "Instane: 8604 Learning rate: 0.3 , error 49.10:\n",
            "Instane: 8605 Learning rate: 0.3 , error 49.10:\n",
            "Instane: 8606 Learning rate: 0.3 , error 49.10:\n",
            "Instane: 8607 Learning rate: 0.3 , error 49.11:\n",
            "Instane: 8608 Learning rate: 0.3 , error 49.11:\n",
            "Instane: 8609 Learning rate: 0.3 , error 49.11:\n",
            "Instane: 8610 Learning rate: 0.3 , error 49.11:\n",
            "Instane: 8611 Learning rate: 0.3 , error 49.11:\n",
            "Instane: 8612 Learning rate: 0.3 , error 49.11:\n",
            "Instane: 8613 Learning rate: 0.3 , error 49.11:\n",
            "Instane: 8614 Learning rate: 0.3 , error 49.11:\n",
            "Instane: 8615 Learning rate: 0.3 , error 49.11:\n",
            "Instane: 8616 Learning rate: 0.3 , error 49.11:\n",
            "Instane: 8617 Learning rate: 0.3 , error 49.11:\n",
            "Instane: 8618 Learning rate: 0.3 , error 49.11:\n",
            "Instane: 8619 Learning rate: 0.3 , error 49.11:\n",
            "Instane: 8620 Learning rate: 0.3 , error 49.11:\n",
            "Instane: 8621 Learning rate: 0.3 , error 49.11:\n",
            "Instane: 8622 Learning rate: 0.3 , error 49.11:\n",
            "Instane: 8623 Learning rate: 0.3 , error 49.11:\n",
            "Instane: 8624 Learning rate: 0.3 , error 49.11:\n",
            "Instane: 8625 Learning rate: 0.3 , error 49.11:\n",
            "Instane: 8626 Learning rate: 0.3 , error 49.11:\n",
            "Instane: 8627 Learning rate: 0.3 , error 49.11:\n",
            "Instane: 8628 Learning rate: 0.3 , error 49.11:\n",
            "Instane: 8629 Learning rate: 0.3 , error 49.11:\n",
            "Instane: 8630 Learning rate: 0.3 , error 49.11:\n",
            "Instane: 8631 Learning rate: 0.3 , error 49.11:\n",
            "Instane: 8632 Learning rate: 0.3 , error 49.11:\n",
            "Instane: 8633 Learning rate: 0.3 , error 49.11:\n",
            "Instane: 8634 Learning rate: 0.3 , error 49.12:\n",
            "Instane: 8635 Learning rate: 0.3 , error 49.12:\n",
            "Instane: 8636 Learning rate: 0.3 , error 49.12:\n",
            "Instane: 8637 Learning rate: 0.3 , error 49.12:\n",
            "Instane: 8638 Learning rate: 0.3 , error 49.12:\n",
            "Instane: 8639 Learning rate: 0.3 , error 49.12:\n",
            "Instane: 8640 Learning rate: 0.3 , error 49.12:\n",
            "Instane: 8641 Learning rate: 0.3 , error 49.12:\n",
            "Instane: 8642 Learning rate: 0.3 , error 49.12:\n",
            "Instane: 8643 Learning rate: 0.3 , error 49.12:\n",
            "Instane: 8644 Learning rate: 0.3 , error 49.12:\n",
            "Instane: 8645 Learning rate: 0.3 , error 49.12:\n",
            "Instane: 8646 Learning rate: 0.3 , error 49.12:\n",
            "Instane: 8647 Learning rate: 0.3 , error 49.12:\n",
            "Instane: 8648 Learning rate: 0.3 , error 49.12:\n",
            "Instane: 8649 Learning rate: 0.3 , error 49.12:\n",
            "Instane: 8650 Learning rate: 0.3 , error 49.12:\n",
            "Instane: 8651 Learning rate: 0.3 , error 49.12:\n",
            "Instane: 8652 Learning rate: 0.3 , error 49.12:\n",
            "Instane: 8653 Learning rate: 0.3 , error 49.12:\n",
            "Instane: 8654 Learning rate: 0.3 , error 49.12:\n",
            "Instane: 8655 Learning rate: 0.3 , error 49.12:\n",
            "Instane: 8656 Learning rate: 0.3 , error 49.12:\n",
            "Instane: 8657 Learning rate: 0.3 , error 49.12:\n",
            "Instane: 8658 Learning rate: 0.3 , error 49.12:\n",
            "Instane: 8659 Learning rate: 0.3 , error 49.12:\n",
            "Instane: 8660 Learning rate: 0.3 , error 49.12:\n",
            "Instane: 8661 Learning rate: 0.3 , error 49.13:\n",
            "Instane: 8662 Learning rate: 0.3 , error 49.13:\n",
            "Instane: 8663 Learning rate: 0.3 , error 49.13:\n",
            "Instane: 8664 Learning rate: 0.3 , error 49.13:\n",
            "Instane: 8665 Learning rate: 0.3 , error 49.13:\n",
            "Instane: 8666 Learning rate: 0.3 , error 49.13:\n",
            "Instane: 8667 Learning rate: 0.3 , error 49.13:\n",
            "Instane: 8668 Learning rate: 0.3 , error 49.13:\n",
            "Instane: 8669 Learning rate: 0.3 , error 49.13:\n",
            "Instane: 8670 Learning rate: 0.3 , error 49.13:\n",
            "Instane: 8671 Learning rate: 0.3 , error 49.13:\n",
            "Instane: 8672 Learning rate: 0.3 , error 49.13:\n",
            "Instane: 8673 Learning rate: 0.3 , error 49.13:\n",
            "Instane: 8674 Learning rate: 0.3 , error 49.13:\n",
            "Instane: 8675 Learning rate: 0.3 , error 49.13:\n",
            "Instane: 8676 Learning rate: 0.3 , error 49.13:\n",
            "Instane: 8677 Learning rate: 0.3 , error 49.13:\n",
            "Instane: 8678 Learning rate: 0.3 , error 49.13:\n",
            "Instane: 8679 Learning rate: 0.3 , error 49.13:\n",
            "Instane: 8680 Learning rate: 0.3 , error 49.13:\n",
            "Instane: 8681 Learning rate: 0.3 , error 49.13:\n",
            "Instane: 8682 Learning rate: 0.3 , error 49.13:\n",
            "Instane: 8683 Learning rate: 0.3 , error 49.13:\n",
            "Instane: 8684 Learning rate: 0.3 , error 49.13:\n",
            "Instane: 8685 Learning rate: 0.3 , error 49.13:\n",
            "Instane: 8686 Learning rate: 0.3 , error 49.14:\n",
            "Instane: 8687 Learning rate: 0.3 , error 49.14:\n",
            "Instane: 8688 Learning rate: 0.3 , error 49.14:\n",
            "Instane: 8689 Learning rate: 0.3 , error 49.14:\n",
            "Instane: 8690 Learning rate: 0.3 , error 49.14:\n",
            "Instane: 8691 Learning rate: 0.3 , error 49.14:\n",
            "Instane: 8692 Learning rate: 0.3 , error 49.14:\n",
            "Instane: 8693 Learning rate: 0.3 , error 49.14:\n",
            "Instane: 8694 Learning rate: 0.3 , error 49.14:\n",
            "Instane: 8695 Learning rate: 0.3 , error 49.14:\n",
            "Instane: 8696 Learning rate: 0.3 , error 49.14:\n",
            "Instane: 8697 Learning rate: 0.3 , error 49.14:\n",
            "Instane: 8698 Learning rate: 0.3 , error 49.14:\n",
            "Instane: 8699 Learning rate: 0.3 , error 49.14:\n",
            "Instane: 8700 Learning rate: 0.3 , error 49.14:\n",
            "Instane: 8701 Learning rate: 0.3 , error 49.14:\n",
            "Instane: 8702 Learning rate: 0.3 , error 49.14:\n",
            "Instane: 8703 Learning rate: 0.3 , error 49.14:\n",
            "Instane: 8704 Learning rate: 0.3 , error 49.14:\n",
            "Instane: 8705 Learning rate: 0.3 , error 49.14:\n",
            "Instane: 8706 Learning rate: 0.3 , error 49.14:\n",
            "Instane: 8707 Learning rate: 0.3 , error 49.14:\n",
            "Instane: 8708 Learning rate: 0.3 , error 49.14:\n",
            "Instane: 8709 Learning rate: 0.3 , error 49.14:\n",
            "Instane: 8710 Learning rate: 0.3 , error 49.14:\n",
            "Instane: 8711 Learning rate: 0.3 , error 49.15:\n",
            "Instane: 8712 Learning rate: 0.3 , error 49.15:\n",
            "Instane: 8713 Learning rate: 0.3 , error 49.15:\n",
            "Instane: 8714 Learning rate: 0.3 , error 49.15:\n",
            "Instane: 8715 Learning rate: 0.3 , error 49.15:\n",
            "Instane: 8716 Learning rate: 0.3 , error 49.15:\n",
            "Instane: 8717 Learning rate: 0.3 , error 49.15:\n",
            "Instane: 8718 Learning rate: 0.3 , error 49.15:\n",
            "Instane: 8719 Learning rate: 0.3 , error 49.15:\n",
            "Instane: 8720 Learning rate: 0.3 , error 49.15:\n",
            "Instane: 8721 Learning rate: 0.3 , error 49.15:\n",
            "Instane: 8722 Learning rate: 0.3 , error 49.15:\n",
            "Instane: 8723 Learning rate: 0.3 , error 49.15:\n",
            "Instane: 8724 Learning rate: 0.3 , error 49.15:\n",
            "Instane: 8725 Learning rate: 0.3 , error 49.15:\n",
            "Instane: 8726 Learning rate: 0.3 , error 49.15:\n",
            "Instane: 8727 Learning rate: 0.3 , error 49.15:\n",
            "Instane: 8728 Learning rate: 0.3 , error 49.15:\n",
            "Instane: 8729 Learning rate: 0.3 , error 49.15:\n",
            "Instane: 8730 Learning rate: 0.3 , error 49.15:\n",
            "Instane: 8731 Learning rate: 0.3 , error 49.15:\n",
            "Instane: 8732 Learning rate: 0.3 , error 49.15:\n",
            "Instane: 8733 Learning rate: 0.3 , error 49.15:\n",
            "Instane: 8734 Learning rate: 0.3 , error 49.16:\n",
            "Instane: 8735 Learning rate: 0.3 , error 49.16:\n",
            "Instane: 8736 Learning rate: 0.3 , error 49.16:\n",
            "Instane: 8737 Learning rate: 0.3 , error 49.16:\n",
            "Instane: 8738 Learning rate: 0.3 , error 49.16:\n",
            "Instane: 8739 Learning rate: 0.3 , error 49.16:\n",
            "Instane: 8740 Learning rate: 0.3 , error 49.16:\n",
            "Instane: 8741 Learning rate: 0.3 , error 49.16:\n",
            "Instane: 8742 Learning rate: 0.3 , error 49.16:\n",
            "Instane: 8743 Learning rate: 0.3 , error 49.16:\n",
            "Instane: 8744 Learning rate: 0.3 , error 49.16:\n",
            "Instane: 8745 Learning rate: 0.3 , error 49.16:\n",
            "Instane: 8746 Learning rate: 0.3 , error 49.16:\n",
            "Instane: 8747 Learning rate: 0.3 , error 49.16:\n",
            "Instane: 8748 Learning rate: 0.3 , error 49.16:\n",
            "Instane: 8749 Learning rate: 0.3 , error 49.16:\n",
            "Instane: 8750 Learning rate: 0.3 , error 49.16:\n",
            "Instane: 8751 Learning rate: 0.3 , error 49.16:\n",
            "Instane: 8752 Learning rate: 0.3 , error 49.16:\n",
            "Instane: 8753 Learning rate: 0.3 , error 49.16:\n",
            "Instane: 8754 Learning rate: 0.3 , error 49.16:\n",
            "Instane: 8755 Learning rate: 0.3 , error 49.16:\n",
            "Instane: 8756 Learning rate: 0.3 , error 49.16:\n",
            "Instane: 8757 Learning rate: 0.3 , error 49.17:\n",
            "Instane: 8758 Learning rate: 0.3 , error 49.17:\n",
            "Instane: 8759 Learning rate: 0.3 , error 49.17:\n",
            "Instane: 8760 Learning rate: 0.3 , error 49.17:\n",
            "Instane: 8761 Learning rate: 0.3 , error 49.17:\n",
            "Instane: 8762 Learning rate: 0.3 , error 49.17:\n",
            "Instane: 8763 Learning rate: 0.3 , error 49.17:\n",
            "Instane: 8764 Learning rate: 0.3 , error 49.17:\n",
            "Instane: 8765 Learning rate: 0.3 , error 49.17:\n",
            "Instane: 8766 Learning rate: 0.3 , error 49.17:\n",
            "Instane: 8767 Learning rate: 0.3 , error 49.17:\n",
            "Instane: 8768 Learning rate: 0.3 , error 49.17:\n",
            "Instane: 8769 Learning rate: 0.3 , error 49.17:\n",
            "Instane: 8770 Learning rate: 0.3 , error 49.17:\n",
            "Instane: 8771 Learning rate: 0.3 , error 49.17:\n",
            "Instane: 8772 Learning rate: 0.3 , error 49.17:\n",
            "Instane: 8773 Learning rate: 0.3 , error 49.17:\n",
            "Instane: 8774 Learning rate: 0.3 , error 49.17:\n",
            "Instane: 8775 Learning rate: 0.3 , error 49.17:\n",
            "Instane: 8776 Learning rate: 0.3 , error 49.17:\n",
            "Instane: 8777 Learning rate: 0.3 , error 49.17:\n",
            "Instane: 8778 Learning rate: 0.3 , error 49.17:\n",
            "Instane: 8779 Learning rate: 0.3 , error 49.18:\n",
            "Instane: 8780 Learning rate: 0.3 , error 49.18:\n",
            "Instane: 8781 Learning rate: 0.3 , error 49.18:\n",
            "Instane: 8782 Learning rate: 0.3 , error 49.18:\n",
            "Instane: 8783 Learning rate: 0.3 , error 49.18:\n",
            "Instane: 8784 Learning rate: 0.3 , error 49.18:\n",
            "Instane: 8785 Learning rate: 0.3 , error 49.18:\n",
            "Instane: 8786 Learning rate: 0.3 , error 49.18:\n",
            "Instane: 8787 Learning rate: 0.3 , error 49.18:\n",
            "Instane: 8788 Learning rate: 0.3 , error 49.18:\n",
            "Instane: 8789 Learning rate: 0.3 , error 49.18:\n",
            "Instane: 8790 Learning rate: 0.3 , error 49.18:\n",
            "Instane: 8791 Learning rate: 0.3 , error 49.18:\n",
            "Instane: 8792 Learning rate: 0.3 , error 49.18:\n",
            "Instane: 8793 Learning rate: 0.3 , error 49.18:\n",
            "Instane: 8794 Learning rate: 0.3 , error 49.18:\n",
            "Instane: 8795 Learning rate: 0.3 , error 49.18:\n",
            "Instane: 8796 Learning rate: 0.3 , error 49.18:\n",
            "Instane: 8797 Learning rate: 0.3 , error 49.18:\n",
            "Instane: 8798 Learning rate: 0.3 , error 49.18:\n",
            "Instane: 8799 Learning rate: 0.3 , error 49.18:\n",
            "Instane: 8800 Learning rate: 0.3 , error 49.18:\n",
            "Instane: 8801 Learning rate: 0.3 , error 49.19:\n",
            "Instane: 8802 Learning rate: 0.3 , error 49.19:\n",
            "Instane: 8803 Learning rate: 0.3 , error 49.19:\n",
            "Instane: 8804 Learning rate: 0.3 , error 49.19:\n",
            "Instane: 8805 Learning rate: 0.3 , error 49.19:\n",
            "Instane: 8806 Learning rate: 0.3 , error 49.19:\n",
            "Instane: 8807 Learning rate: 0.3 , error 49.19:\n",
            "Instane: 8808 Learning rate: 0.3 , error 49.19:\n",
            "Instane: 8809 Learning rate: 0.3 , error 49.19:\n",
            "Instane: 8810 Learning rate: 0.3 , error 49.19:\n",
            "Instane: 8811 Learning rate: 0.3 , error 49.19:\n",
            "Instane: 8812 Learning rate: 0.3 , error 49.19:\n",
            "Instane: 8813 Learning rate: 0.3 , error 49.19:\n",
            "Instane: 8814 Learning rate: 0.3 , error 49.19:\n",
            "Instane: 8815 Learning rate: 0.3 , error 49.19:\n",
            "Instane: 8816 Learning rate: 0.3 , error 49.19:\n",
            "Instane: 8817 Learning rate: 0.3 , error 49.19:\n",
            "Instane: 8818 Learning rate: 0.3 , error 49.19:\n",
            "Instane: 8819 Learning rate: 0.3 , error 49.19:\n",
            "Instane: 8820 Learning rate: 0.3 , error 49.19:\n",
            "Instane: 8821 Learning rate: 0.3 , error 49.19:\n",
            "Instane: 8822 Learning rate: 0.3 , error 49.20:\n",
            "Instane: 8823 Learning rate: 0.3 , error 49.20:\n",
            "Instane: 8824 Learning rate: 0.3 , error 49.20:\n",
            "Instane: 8825 Learning rate: 0.3 , error 49.20:\n",
            "Instane: 8826 Learning rate: 0.3 , error 49.20:\n",
            "Instane: 8827 Learning rate: 0.3 , error 49.20:\n",
            "Instane: 8828 Learning rate: 0.3 , error 49.20:\n",
            "Instane: 8829 Learning rate: 0.3 , error 49.20:\n",
            "Instane: 8830 Learning rate: 0.3 , error 49.20:\n",
            "Instane: 8831 Learning rate: 0.3 , error 49.20:\n",
            "Instane: 8832 Learning rate: 0.3 , error 49.20:\n",
            "Instane: 8833 Learning rate: 0.3 , error 49.20:\n",
            "Instane: 8834 Learning rate: 0.3 , error 49.20:\n",
            "Instane: 8835 Learning rate: 0.3 , error 49.20:\n",
            "Instane: 8836 Learning rate: 0.3 , error 49.20:\n",
            "Instane: 8837 Learning rate: 0.3 , error 49.20:\n",
            "Instane: 8838 Learning rate: 0.3 , error 49.20:\n",
            "Instane: 8839 Learning rate: 0.3 , error 49.20:\n",
            "Instane: 8840 Learning rate: 0.3 , error 49.20:\n",
            "Instane: 8841 Learning rate: 0.3 , error 49.20:\n",
            "Instane: 8842 Learning rate: 0.3 , error 49.21:\n",
            "Instane: 8843 Learning rate: 0.3 , error 49.21:\n",
            "Instane: 8844 Learning rate: 0.3 , error 49.21:\n",
            "Instane: 8845 Learning rate: 0.3 , error 49.21:\n",
            "Instane: 8846 Learning rate: 0.3 , error 49.21:\n",
            "Instane: 8847 Learning rate: 0.3 , error 49.21:\n",
            "Instane: 8848 Learning rate: 0.3 , error 49.21:\n",
            "Instane: 8849 Learning rate: 0.3 , error 49.21:\n",
            "Instane: 8850 Learning rate: 0.3 , error 49.21:\n",
            "Instane: 8851 Learning rate: 0.3 , error 49.21:\n",
            "Instane: 8852 Learning rate: 0.3 , error 49.21:\n",
            "Instane: 8853 Learning rate: 0.3 , error 49.21:\n",
            "Instane: 8854 Learning rate: 0.3 , error 49.21:\n",
            "Instane: 8855 Learning rate: 0.3 , error 49.21:\n",
            "Instane: 8856 Learning rate: 0.3 , error 49.21:\n",
            "Instane: 8857 Learning rate: 0.3 , error 49.21:\n",
            "Instane: 8858 Learning rate: 0.3 , error 49.21:\n",
            "Instane: 8859 Learning rate: 0.3 , error 49.21:\n",
            "Instane: 8860 Learning rate: 0.3 , error 49.21:\n",
            "Instane: 8861 Learning rate: 0.3 , error 49.21:\n",
            "Instane: 8862 Learning rate: 0.3 , error 49.22:\n",
            "Instane: 8863 Learning rate: 0.3 , error 49.22:\n",
            "Instane: 8864 Learning rate: 0.3 , error 49.22:\n",
            "Instane: 8865 Learning rate: 0.3 , error 49.22:\n",
            "Instane: 8866 Learning rate: 0.3 , error 49.22:\n",
            "Instane: 8867 Learning rate: 0.3 , error 49.22:\n",
            "Instane: 8868 Learning rate: 0.3 , error 49.22:\n",
            "Instane: 8869 Learning rate: 0.3 , error 49.22:\n",
            "Instane: 8870 Learning rate: 0.3 , error 49.22:\n",
            "Instane: 8871 Learning rate: 0.3 , error 49.22:\n",
            "Instane: 8872 Learning rate: 0.3 , error 49.22:\n",
            "Instane: 8873 Learning rate: 0.3 , error 49.22:\n",
            "Instane: 8874 Learning rate: 0.3 , error 49.22:\n",
            "Instane: 8875 Learning rate: 0.3 , error 49.22:\n",
            "Instane: 8876 Learning rate: 0.3 , error 49.22:\n",
            "Instane: 8877 Learning rate: 0.3 , error 49.22:\n",
            "Instane: 8878 Learning rate: 0.3 , error 49.22:\n",
            "Instane: 8879 Learning rate: 0.3 , error 49.22:\n",
            "Instane: 8880 Learning rate: 0.3 , error 49.22:\n",
            "Instane: 8881 Learning rate: 0.3 , error 49.23:\n",
            "Instane: 8882 Learning rate: 0.3 , error 49.23:\n",
            "Instane: 8883 Learning rate: 0.3 , error 49.23:\n",
            "Instane: 8884 Learning rate: 0.3 , error 49.23:\n",
            "Instane: 8885 Learning rate: 0.3 , error 49.23:\n",
            "Instane: 8886 Learning rate: 0.3 , error 49.23:\n",
            "Instane: 8887 Learning rate: 0.3 , error 49.23:\n",
            "Instane: 8888 Learning rate: 0.3 , error 49.23:\n",
            "Instane: 8889 Learning rate: 0.3 , error 49.23:\n",
            "Instane: 8890 Learning rate: 0.3 , error 49.23:\n",
            "Instane: 8891 Learning rate: 0.3 , error 49.23:\n",
            "Instane: 8892 Learning rate: 0.3 , error 49.23:\n",
            "Instane: 8893 Learning rate: 0.3 , error 49.23:\n",
            "Instane: 8894 Learning rate: 0.3 , error 49.23:\n",
            "Instane: 8895 Learning rate: 0.3 , error 49.23:\n",
            "Instane: 8896 Learning rate: 0.3 , error 49.23:\n",
            "Instane: 8897 Learning rate: 0.3 , error 49.23:\n",
            "Instane: 8898 Learning rate: 0.3 , error 49.23:\n",
            "Instane: 8899 Learning rate: 0.3 , error 49.23:\n",
            "Instane: 8900 Learning rate: 0.3 , error 49.24:\n",
            "Instane: 8901 Learning rate: 0.3 , error 49.24:\n",
            "Instane: 8902 Learning rate: 0.3 , error 49.24:\n",
            "Instane: 8903 Learning rate: 0.3 , error 49.24:\n",
            "Instane: 8904 Learning rate: 0.3 , error 49.24:\n",
            "Instane: 8905 Learning rate: 0.3 , error 49.24:\n",
            "Instane: 8906 Learning rate: 0.3 , error 49.24:\n",
            "Instane: 8907 Learning rate: 0.3 , error 49.24:\n",
            "Instane: 8908 Learning rate: 0.3 , error 49.24:\n",
            "Instane: 8909 Learning rate: 0.3 , error 49.24:\n",
            "Instane: 8910 Learning rate: 0.3 , error 49.24:\n",
            "Instane: 8911 Learning rate: 0.3 , error 49.24:\n",
            "Instane: 8912 Learning rate: 0.3 , error 49.24:\n",
            "Instane: 8913 Learning rate: 0.3 , error 49.24:\n",
            "Instane: 8914 Learning rate: 0.3 , error 49.24:\n",
            "Instane: 8915 Learning rate: 0.3 , error 49.24:\n",
            "Instane: 8916 Learning rate: 0.3 , error 49.24:\n",
            "Instane: 8917 Learning rate: 0.3 , error 49.24:\n",
            "Instane: 8918 Learning rate: 0.3 , error 49.25:\n",
            "Instane: 8919 Learning rate: 0.3 , error 49.25:\n",
            "Instane: 8920 Learning rate: 0.3 , error 49.25:\n",
            "Instane: 8921 Learning rate: 0.3 , error 49.25:\n",
            "Instane: 8922 Learning rate: 0.3 , error 49.25:\n",
            "Instane: 8923 Learning rate: 0.3 , error 49.25:\n",
            "Instane: 8924 Learning rate: 0.3 , error 49.25:\n",
            "Instane: 8925 Learning rate: 0.3 , error 49.25:\n",
            "Instane: 8926 Learning rate: 0.3 , error 49.25:\n",
            "Instane: 8927 Learning rate: 0.3 , error 49.25:\n",
            "Instane: 8928 Learning rate: 0.3 , error 49.25:\n",
            "Instane: 8929 Learning rate: 0.3 , error 49.25:\n",
            "Instane: 8930 Learning rate: 0.3 , error 49.25:\n",
            "Instane: 8931 Learning rate: 0.3 , error 49.25:\n",
            "Instane: 8932 Learning rate: 0.3 , error 49.25:\n",
            "Instane: 8933 Learning rate: 0.3 , error 49.25:\n",
            "Instane: 8934 Learning rate: 0.3 , error 49.25:\n",
            "Instane: 8935 Learning rate: 0.3 , error 49.25:\n",
            "Instane: 8936 Learning rate: 0.3 , error 49.26:\n",
            "Instane: 8937 Learning rate: 0.3 , error 49.26:\n",
            "Instane: 8938 Learning rate: 0.3 , error 49.26:\n",
            "Instane: 8939 Learning rate: 0.3 , error 49.26:\n",
            "Instane: 8940 Learning rate: 0.3 , error 49.26:\n",
            "Instane: 8941 Learning rate: 0.3 , error 49.26:\n",
            "Instane: 8942 Learning rate: 0.3 , error 49.26:\n",
            "Instane: 8943 Learning rate: 0.3 , error 49.26:\n",
            "Instane: 8944 Learning rate: 0.3 , error 49.26:\n",
            "Instane: 8945 Learning rate: 0.3 , error 49.26:\n",
            "Instane: 8946 Learning rate: 0.3 , error 49.26:\n",
            "Instane: 8947 Learning rate: 0.3 , error 49.26:\n",
            "Instane: 8948 Learning rate: 0.3 , error 49.26:\n",
            "Instane: 8949 Learning rate: 0.3 , error 49.26:\n",
            "Instane: 8950 Learning rate: 0.3 , error 49.26:\n",
            "Instane: 8951 Learning rate: 0.3 , error 49.26:\n",
            "Instane: 8952 Learning rate: 0.3 , error 49.26:\n",
            "Instane: 8953 Learning rate: 0.3 , error 49.27:\n",
            "Instane: 8954 Learning rate: 0.3 , error 49.27:\n",
            "Instane: 8955 Learning rate: 0.3 , error 49.27:\n",
            "Instane: 8956 Learning rate: 0.3 , error 49.27:\n",
            "Instane: 8957 Learning rate: 0.3 , error 49.27:\n",
            "Instane: 8958 Learning rate: 0.3 , error 49.27:\n",
            "Instane: 8959 Learning rate: 0.3 , error 49.27:\n",
            "Instane: 8960 Learning rate: 0.3 , error 49.27:\n",
            "Instane: 8961 Learning rate: 0.3 , error 49.27:\n",
            "Instane: 8962 Learning rate: 0.3 , error 49.27:\n",
            "Instane: 8963 Learning rate: 0.3 , error 49.27:\n",
            "Instane: 8964 Learning rate: 0.3 , error 49.27:\n",
            "Instane: 8965 Learning rate: 0.3 , error 49.27:\n",
            "Instane: 8966 Learning rate: 0.3 , error 49.27:\n",
            "Instane: 8967 Learning rate: 0.3 , error 49.27:\n",
            "Instane: 8968 Learning rate: 0.3 , error 49.27:\n",
            "Instane: 8969 Learning rate: 0.3 , error 49.27:\n",
            "Instane: 8970 Learning rate: 0.3 , error 49.28:\n",
            "Instane: 8971 Learning rate: 0.3 , error 49.28:\n",
            "Instane: 8972 Learning rate: 0.3 , error 49.28:\n",
            "Instane: 8973 Learning rate: 0.3 , error 49.28:\n",
            "Instane: 8974 Learning rate: 0.3 , error 49.28:\n",
            "Instane: 8975 Learning rate: 0.3 , error 49.28:\n",
            "Instane: 8976 Learning rate: 0.3 , error 49.28:\n",
            "Instane: 8977 Learning rate: 0.3 , error 49.28:\n",
            "Instane: 8978 Learning rate: 0.3 , error 49.28:\n",
            "Instane: 8979 Learning rate: 0.3 , error 49.28:\n",
            "Instane: 8980 Learning rate: 0.3 , error 49.28:\n",
            "Instane: 8981 Learning rate: 0.3 , error 49.28:\n",
            "Instane: 8982 Learning rate: 0.3 , error 49.28:\n",
            "Instane: 8983 Learning rate: 0.3 , error 49.28:\n",
            "Instane: 8984 Learning rate: 0.3 , error 49.28:\n",
            "Instane: 8985 Learning rate: 0.3 , error 49.28:\n",
            "Instane: 8986 Learning rate: 0.3 , error 49.28:\n",
            "Instane: 8987 Learning rate: 0.3 , error 49.29:\n",
            "Instane: 8988 Learning rate: 0.3 , error 49.29:\n",
            "Instane: 8989 Learning rate: 0.3 , error 49.29:\n",
            "Instane: 8990 Learning rate: 0.3 , error 49.29:\n",
            "Instane: 8991 Learning rate: 0.3 , error 49.29:\n",
            "Instane: 8992 Learning rate: 0.3 , error 49.29:\n",
            "Instane: 8993 Learning rate: 0.3 , error 49.29:\n",
            "Instane: 8994 Learning rate: 0.3 , error 49.29:\n",
            "Instane: 8995 Learning rate: 0.3 , error 49.29:\n",
            "Instane: 8996 Learning rate: 0.3 , error 49.29:\n",
            "Instane: 8997 Learning rate: 0.3 , error 49.29:\n",
            "Instane: 8998 Learning rate: 0.3 , error 49.29:\n",
            "Instane: 8999 Learning rate: 0.3 , error 49.29:\n",
            "Instane: 9000 Learning rate: 0.3 , error 49.29:\n",
            "Instane: 9001 Learning rate: 0.3 , error 49.29:\n",
            "Instane: 9002 Learning rate: 0.3 , error 49.29:\n",
            "Instane: 9003 Learning rate: 0.3 , error 49.30:\n",
            "Instane: 9004 Learning rate: 0.3 , error 49.30:\n",
            "Instane: 9005 Learning rate: 0.3 , error 49.30:\n",
            "Instane: 9006 Learning rate: 0.3 , error 49.30:\n",
            "Instane: 9007 Learning rate: 0.3 , error 49.30:\n",
            "Instane: 9008 Learning rate: 0.3 , error 49.30:\n",
            "Instane: 9009 Learning rate: 0.3 , error 49.30:\n",
            "Instane: 9010 Learning rate: 0.3 , error 49.30:\n",
            "Instane: 9011 Learning rate: 0.3 , error 49.30:\n",
            "Instane: 9012 Learning rate: 0.3 , error 49.30:\n",
            "Instane: 9013 Learning rate: 0.3 , error 49.30:\n",
            "Instane: 9014 Learning rate: 0.3 , error 49.30:\n",
            "Instane: 9015 Learning rate: 0.3 , error 49.30:\n",
            "Instane: 9016 Learning rate: 0.3 , error 49.30:\n",
            "Instane: 9017 Learning rate: 0.3 , error 49.30:\n",
            "Instane: 9018 Learning rate: 0.3 , error 49.30:\n",
            "Instane: 9019 Learning rate: 0.3 , error 49.31:\n",
            "Instane: 9020 Learning rate: 0.3 , error 49.31:\n",
            "Instane: 9021 Learning rate: 0.3 , error 49.31:\n",
            "Instane: 9022 Learning rate: 0.3 , error 49.31:\n",
            "Instane: 9023 Learning rate: 0.3 , error 49.31:\n",
            "Instane: 9024 Learning rate: 0.3 , error 49.31:\n",
            "Instane: 9025 Learning rate: 0.3 , error 49.31:\n",
            "Instane: 9026 Learning rate: 0.3 , error 49.31:\n",
            "Instane: 9027 Learning rate: 0.3 , error 49.31:\n",
            "Instane: 9028 Learning rate: 0.3 , error 49.31:\n",
            "Instane: 9029 Learning rate: 0.3 , error 49.31:\n",
            "Instane: 9030 Learning rate: 0.3 , error 49.31:\n",
            "Instane: 9031 Learning rate: 0.3 , error 49.31:\n",
            "Instane: 9032 Learning rate: 0.3 , error 49.31:\n",
            "Instane: 9033 Learning rate: 0.3 , error 49.31:\n",
            "Instane: 9034 Learning rate: 0.3 , error 49.32:\n",
            "Instane: 9035 Learning rate: 0.3 , error 49.32:\n",
            "Instane: 9036 Learning rate: 0.3 , error 49.32:\n",
            "Instane: 9037 Learning rate: 0.3 , error 49.32:\n",
            "Instane: 9038 Learning rate: 0.3 , error 49.32:\n",
            "Instane: 9039 Learning rate: 0.3 , error 49.32:\n",
            "Instane: 9040 Learning rate: 0.3 , error 49.32:\n",
            "Instane: 9041 Learning rate: 0.3 , error 49.32:\n",
            "Instane: 9042 Learning rate: 0.3 , error 49.32:\n",
            "Instane: 9043 Learning rate: 0.3 , error 49.32:\n",
            "Instane: 9044 Learning rate: 0.3 , error 49.32:\n",
            "Instane: 9045 Learning rate: 0.3 , error 49.32:\n",
            "Instane: 9046 Learning rate: 0.3 , error 49.32:\n",
            "Instane: 9047 Learning rate: 0.3 , error 49.32:\n",
            "Instane: 9048 Learning rate: 0.3 , error 49.32:\n",
            "Instane: 9049 Learning rate: 0.3 , error 49.33:\n",
            "Instane: 9050 Learning rate: 0.3 , error 49.33:\n",
            "Instane: 9051 Learning rate: 0.3 , error 49.33:\n",
            "Instane: 9052 Learning rate: 0.3 , error 49.33:\n",
            "Instane: 9053 Learning rate: 0.3 , error 49.33:\n",
            "Instane: 9054 Learning rate: 0.3 , error 49.33:\n",
            "Instane: 9055 Learning rate: 0.3 , error 49.33:\n",
            "Instane: 9056 Learning rate: 0.3 , error 49.33:\n",
            "Instane: 9057 Learning rate: 0.3 , error 49.33:\n",
            "Instane: 9058 Learning rate: 0.3 , error 49.33:\n",
            "Instane: 9059 Learning rate: 0.3 , error 49.33:\n",
            "Instane: 9060 Learning rate: 0.3 , error 49.33:\n",
            "Instane: 9061 Learning rate: 0.3 , error 49.33:\n",
            "Instane: 9062 Learning rate: 0.3 , error 49.33:\n",
            "Instane: 9063 Learning rate: 0.3 , error 49.33:\n",
            "Instane: 9064 Learning rate: 0.3 , error 49.34:\n",
            "Instane: 9065 Learning rate: 0.3 , error 49.34:\n",
            "Instane: 9066 Learning rate: 0.3 , error 49.34:\n",
            "Instane: 9067 Learning rate: 0.3 , error 49.34:\n",
            "Instane: 9068 Learning rate: 0.3 , error 49.34:\n",
            "Instane: 9069 Learning rate: 0.3 , error 49.34:\n",
            "Instane: 9070 Learning rate: 0.3 , error 49.34:\n",
            "Instane: 9071 Learning rate: 0.3 , error 49.34:\n",
            "Instane: 9072 Learning rate: 0.3 , error 49.34:\n",
            "Instane: 9073 Learning rate: 0.3 , error 49.34:\n",
            "Instane: 9074 Learning rate: 0.3 , error 49.34:\n",
            "Instane: 9075 Learning rate: 0.3 , error 49.34:\n",
            "Instane: 9076 Learning rate: 0.3 , error 49.34:\n",
            "Instane: 9077 Learning rate: 0.3 , error 49.34:\n",
            "Instane: 9078 Learning rate: 0.3 , error 49.34:\n",
            "Instane: 9079 Learning rate: 0.3 , error 49.35:\n",
            "Instane: 9080 Learning rate: 0.3 , error 49.35:\n",
            "Instane: 9081 Learning rate: 0.3 , error 49.35:\n",
            "Instane: 9082 Learning rate: 0.3 , error 49.35:\n",
            "Instane: 9083 Learning rate: 0.3 , error 49.35:\n",
            "Instane: 9084 Learning rate: 0.3 , error 49.35:\n",
            "Instane: 9085 Learning rate: 0.3 , error 49.35:\n",
            "Instane: 9086 Learning rate: 0.3 , error 49.35:\n",
            "Instane: 9087 Learning rate: 0.3 , error 49.35:\n",
            "Instane: 9088 Learning rate: 0.3 , error 49.35:\n",
            "Instane: 9089 Learning rate: 0.3 , error 49.35:\n",
            "Instane: 9090 Learning rate: 0.3 , error 49.35:\n",
            "Instane: 9091 Learning rate: 0.3 , error 49.35:\n",
            "Instane: 9092 Learning rate: 0.3 , error 49.35:\n",
            "Instane: 9093 Learning rate: 0.3 , error 49.36:\n",
            "Instane: 9094 Learning rate: 0.3 , error 49.36:\n",
            "Instane: 9095 Learning rate: 0.3 , error 49.36:\n",
            "Instane: 9096 Learning rate: 0.3 , error 49.36:\n",
            "Instane: 9097 Learning rate: 0.3 , error 49.36:\n",
            "Instane: 9098 Learning rate: 0.3 , error 49.36:\n",
            "Instane: 9099 Learning rate: 0.3 , error 49.36:\n",
            "Instane: 9100 Learning rate: 0.3 , error 49.36:\n",
            "Instane: 9101 Learning rate: 0.3 , error 49.36:\n",
            "Instane: 9102 Learning rate: 0.3 , error 49.36:\n",
            "Instane: 9103 Learning rate: 0.3 , error 49.36:\n",
            "Instane: 9104 Learning rate: 0.3 , error 49.36:\n",
            "Instane: 9105 Learning rate: 0.3 , error 49.36:\n",
            "Instane: 9106 Learning rate: 0.3 , error 49.36:\n",
            "Instane: 9107 Learning rate: 0.3 , error 49.37:\n",
            "Instane: 9108 Learning rate: 0.3 , error 49.37:\n",
            "Instane: 9109 Learning rate: 0.3 , error 49.37:\n",
            "Instane: 9110 Learning rate: 0.3 , error 49.37:\n",
            "Instane: 9111 Learning rate: 0.3 , error 49.37:\n",
            "Instane: 9112 Learning rate: 0.3 , error 49.37:\n",
            "Instane: 9113 Learning rate: 0.3 , error 49.37:\n",
            "Instane: 9114 Learning rate: 0.3 , error 49.37:\n",
            "Instane: 9115 Learning rate: 0.3 , error 49.37:\n",
            "Instane: 9116 Learning rate: 0.3 , error 49.37:\n",
            "Instane: 9117 Learning rate: 0.3 , error 49.37:\n",
            "Instane: 9118 Learning rate: 0.3 , error 49.37:\n",
            "Instane: 9119 Learning rate: 0.3 , error 49.37:\n",
            "Instane: 9120 Learning rate: 0.3 , error 49.37:\n",
            "Instane: 9121 Learning rate: 0.3 , error 49.38:\n",
            "Instane: 9122 Learning rate: 0.3 , error 49.38:\n",
            "Instane: 9123 Learning rate: 0.3 , error 49.38:\n",
            "Instane: 9124 Learning rate: 0.3 , error 49.38:\n",
            "Instane: 9125 Learning rate: 0.3 , error 49.38:\n",
            "Instane: 9126 Learning rate: 0.3 , error 49.38:\n",
            "Instane: 9127 Learning rate: 0.3 , error 49.38:\n",
            "Instane: 9128 Learning rate: 0.3 , error 49.38:\n",
            "Instane: 9129 Learning rate: 0.3 , error 49.38:\n",
            "Instane: 9130 Learning rate: 0.3 , error 49.38:\n",
            "Instane: 9131 Learning rate: 0.3 , error 49.38:\n",
            "Instane: 9132 Learning rate: 0.3 , error 49.38:\n",
            "Instane: 9133 Learning rate: 0.3 , error 49.38:\n",
            "Instane: 9134 Learning rate: 0.3 , error 49.39:\n",
            "Instane: 9135 Learning rate: 0.3 , error 49.39:\n",
            "Instane: 9136 Learning rate: 0.3 , error 49.39:\n",
            "Instane: 9137 Learning rate: 0.3 , error 49.39:\n",
            "Instane: 9138 Learning rate: 0.3 , error 49.39:\n",
            "Instane: 9139 Learning rate: 0.3 , error 49.39:\n",
            "Instane: 9140 Learning rate: 0.3 , error 49.39:\n",
            "Instane: 9141 Learning rate: 0.3 , error 49.39:\n",
            "Instane: 9142 Learning rate: 0.3 , error 49.39:\n",
            "Instane: 9143 Learning rate: 0.3 , error 49.39:\n",
            "Instane: 9144 Learning rate: 0.3 , error 49.39:\n",
            "Instane: 9145 Learning rate: 0.3 , error 49.39:\n",
            "Instane: 9146 Learning rate: 0.3 , error 49.39:\n",
            "Instane: 9147 Learning rate: 0.3 , error 49.40:\n",
            "Instane: 9148 Learning rate: 0.3 , error 49.40:\n",
            "Instane: 9149 Learning rate: 0.3 , error 49.40:\n",
            "Instane: 9150 Learning rate: 0.3 , error 49.40:\n",
            "Instane: 9151 Learning rate: 0.3 , error 49.40:\n",
            "Instane: 9152 Learning rate: 0.3 , error 49.40:\n",
            "Instane: 9153 Learning rate: 0.3 , error 49.40:\n",
            "Instane: 9154 Learning rate: 0.3 , error 49.40:\n",
            "Instane: 9155 Learning rate: 0.3 , error 49.40:\n",
            "Instane: 9156 Learning rate: 0.3 , error 49.40:\n",
            "Instane: 9157 Learning rate: 0.3 , error 49.40:\n",
            "Instane: 9158 Learning rate: 0.3 , error 49.40:\n",
            "Instane: 9159 Learning rate: 0.3 , error 49.40:\n",
            "Instane: 9160 Learning rate: 0.3 , error 49.41:\n",
            "Instane: 9161 Learning rate: 0.3 , error 49.41:\n",
            "Instane: 9162 Learning rate: 0.3 , error 49.41:\n",
            "Instane: 9163 Learning rate: 0.3 , error 49.41:\n",
            "Instane: 9164 Learning rate: 0.3 , error 49.41:\n",
            "Instane: 9165 Learning rate: 0.3 , error 49.41:\n",
            "Instane: 9166 Learning rate: 0.3 , error 49.41:\n",
            "Instane: 9167 Learning rate: 0.3 , error 49.41:\n",
            "Instane: 9168 Learning rate: 0.3 , error 49.41:\n",
            "Instane: 9169 Learning rate: 0.3 , error 49.41:\n",
            "Instane: 9170 Learning rate: 0.3 , error 49.41:\n",
            "Instane: 9171 Learning rate: 0.3 , error 49.41:\n",
            "Instane: 9172 Learning rate: 0.3 , error 49.41:\n",
            "Instane: 9173 Learning rate: 0.3 , error 49.42:\n",
            "Instane: 9174 Learning rate: 0.3 , error 49.42:\n",
            "Instane: 9175 Learning rate: 0.3 , error 49.42:\n",
            "Instane: 9176 Learning rate: 0.3 , error 49.42:\n",
            "Instane: 9177 Learning rate: 0.3 , error 49.42:\n",
            "Instane: 9178 Learning rate: 0.3 , error 49.42:\n",
            "Instane: 9179 Learning rate: 0.3 , error 49.42:\n",
            "Instane: 9180 Learning rate: 0.3 , error 49.42:\n",
            "Instane: 9181 Learning rate: 0.3 , error 49.42:\n",
            "Instane: 9182 Learning rate: 0.3 , error 49.42:\n",
            "Instane: 9183 Learning rate: 0.3 , error 49.42:\n",
            "Instane: 9184 Learning rate: 0.3 , error 49.42:\n",
            "Instane: 9185 Learning rate: 0.3 , error 49.43:\n",
            "Instane: 9186 Learning rate: 0.3 , error 49.43:\n",
            "Instane: 9187 Learning rate: 0.3 , error 49.43:\n",
            "Instane: 9188 Learning rate: 0.3 , error 49.43:\n",
            "Instane: 9189 Learning rate: 0.3 , error 49.43:\n",
            "Instane: 9190 Learning rate: 0.3 , error 49.43:\n",
            "Instane: 9191 Learning rate: 0.3 , error 49.43:\n",
            "Instane: 9192 Learning rate: 0.3 , error 49.43:\n",
            "Instane: 9193 Learning rate: 0.3 , error 49.43:\n",
            "Instane: 9194 Learning rate: 0.3 , error 49.43:\n",
            "Instane: 9195 Learning rate: 0.3 , error 49.43:\n",
            "Instane: 9196 Learning rate: 0.3 , error 49.43:\n",
            "Instane: 9197 Learning rate: 0.3 , error 49.43:\n",
            "Instane: 9198 Learning rate: 0.3 , error 49.44:\n",
            "Instane: 9199 Learning rate: 0.3 , error 49.44:\n",
            "Instane: 9200 Learning rate: 0.3 , error 49.44:\n",
            "Instane: 9201 Learning rate: 0.3 , error 49.44:\n",
            "Instane: 9202 Learning rate: 0.3 , error 49.44:\n",
            "Instane: 9203 Learning rate: 0.3 , error 49.44:\n",
            "Instane: 9204 Learning rate: 0.3 , error 49.44:\n",
            "Instane: 9205 Learning rate: 0.3 , error 49.44:\n",
            "Instane: 9206 Learning rate: 0.3 , error 49.44:\n",
            "Instane: 9207 Learning rate: 0.3 , error 49.44:\n",
            "Instane: 9208 Learning rate: 0.3 , error 49.44:\n",
            "Instane: 9209 Learning rate: 0.3 , error 49.44:\n",
            "Instane: 9210 Learning rate: 0.3 , error 49.45:\n",
            "Instane: 9211 Learning rate: 0.3 , error 49.45:\n",
            "Instane: 9212 Learning rate: 0.3 , error 49.45:\n",
            "Instane: 9213 Learning rate: 0.3 , error 49.45:\n",
            "Instane: 9214 Learning rate: 0.3 , error 49.45:\n",
            "Instane: 9215 Learning rate: 0.3 , error 49.45:\n",
            "Instane: 9216 Learning rate: 0.3 , error 49.45:\n",
            "Instane: 9217 Learning rate: 0.3 , error 49.45:\n",
            "Instane: 9218 Learning rate: 0.3 , error 49.45:\n",
            "Instane: 9219 Learning rate: 0.3 , error 49.45:\n",
            "Instane: 9220 Learning rate: 0.3 , error 49.45:\n",
            "Instane: 9221 Learning rate: 0.3 , error 49.45:\n",
            "Instane: 9222 Learning rate: 0.3 , error 49.46:\n",
            "Instane: 9223 Learning rate: 0.3 , error 49.46:\n",
            "Instane: 9224 Learning rate: 0.3 , error 49.46:\n",
            "Instane: 9225 Learning rate: 0.3 , error 49.46:\n",
            "Instane: 9226 Learning rate: 0.3 , error 49.46:\n",
            "Instane: 9227 Learning rate: 0.3 , error 49.46:\n",
            "Instane: 9228 Learning rate: 0.3 , error 49.46:\n",
            "Instane: 9229 Learning rate: 0.3 , error 49.46:\n",
            "Instane: 9230 Learning rate: 0.3 , error 49.46:\n",
            "Instane: 9231 Learning rate: 0.3 , error 49.46:\n",
            "Instane: 9232 Learning rate: 0.3 , error 49.46:\n",
            "Instane: 9233 Learning rate: 0.3 , error 49.47:\n",
            "Instane: 9234 Learning rate: 0.3 , error 49.47:\n",
            "Instane: 9235 Learning rate: 0.3 , error 49.47:\n",
            "Instane: 9236 Learning rate: 0.3 , error 49.47:\n",
            "Instane: 9237 Learning rate: 0.3 , error 49.47:\n",
            "Instane: 9238 Learning rate: 0.3 , error 49.47:\n",
            "Instane: 9239 Learning rate: 0.3 , error 49.47:\n",
            "Instane: 9240 Learning rate: 0.3 , error 49.47:\n",
            "Instane: 9241 Learning rate: 0.3 , error 49.47:\n",
            "Instane: 9242 Learning rate: 0.3 , error 49.47:\n",
            "Instane: 9243 Learning rate: 0.3 , error 49.47:\n",
            "Instane: 9244 Learning rate: 0.3 , error 49.47:\n",
            "Instane: 9245 Learning rate: 0.3 , error 49.48:\n",
            "Instane: 9246 Learning rate: 0.3 , error 49.48:\n",
            "Instane: 9247 Learning rate: 0.3 , error 49.48:\n",
            "Instane: 9248 Learning rate: 0.3 , error 49.48:\n",
            "Instane: 9249 Learning rate: 0.3 , error 49.48:\n",
            "Instane: 9250 Learning rate: 0.3 , error 49.48:\n",
            "Instane: 9251 Learning rate: 0.3 , error 49.48:\n",
            "Instane: 9252 Learning rate: 0.3 , error 49.48:\n",
            "Instane: 9253 Learning rate: 0.3 , error 49.48:\n",
            "Instane: 9254 Learning rate: 0.3 , error 49.48:\n",
            "Instane: 9255 Learning rate: 0.3 , error 49.48:\n",
            "Instane: 9256 Learning rate: 0.3 , error 49.49:\n",
            "Instane: 9257 Learning rate: 0.3 , error 49.49:\n",
            "Instane: 9258 Learning rate: 0.3 , error 49.49:\n",
            "Instane: 9259 Learning rate: 0.3 , error 49.49:\n",
            "Instane: 9260 Learning rate: 0.3 , error 49.49:\n",
            "Instane: 9261 Learning rate: 0.3 , error 49.49:\n",
            "Instane: 9262 Learning rate: 0.3 , error 49.49:\n",
            "Instane: 9263 Learning rate: 0.3 , error 49.49:\n",
            "Instane: 9264 Learning rate: 0.3 , error 49.49:\n",
            "Instane: 9265 Learning rate: 0.3 , error 49.49:\n",
            "Instane: 9266 Learning rate: 0.3 , error 49.49:\n",
            "Instane: 9267 Learning rate: 0.3 , error 49.50:\n",
            "Instane: 9268 Learning rate: 0.3 , error 49.50:\n",
            "Instane: 9269 Learning rate: 0.3 , error 49.50:\n",
            "Instane: 9270 Learning rate: 0.3 , error 49.50:\n",
            "Instane: 9271 Learning rate: 0.3 , error 49.50:\n",
            "Instane: 9272 Learning rate: 0.3 , error 49.50:\n",
            "Instane: 9273 Learning rate: 0.3 , error 49.50:\n",
            "Instane: 9274 Learning rate: 0.3 , error 49.50:\n",
            "Instane: 9275 Learning rate: 0.3 , error 49.50:\n",
            "Instane: 9276 Learning rate: 0.3 , error 49.50:\n",
            "Instane: 9277 Learning rate: 0.3 , error 49.50:\n",
            "Instane: 9278 Learning rate: 0.3 , error 49.51:\n",
            "Instane: 9279 Learning rate: 0.3 , error 49.51:\n",
            "Instane: 9280 Learning rate: 0.3 , error 49.51:\n",
            "Instane: 9281 Learning rate: 0.3 , error 49.51:\n",
            "Instane: 9282 Learning rate: 0.3 , error 49.51:\n",
            "Instane: 9283 Learning rate: 0.3 , error 49.51:\n",
            "Instane: 9284 Learning rate: 0.3 , error 49.51:\n",
            "Instane: 9285 Learning rate: 0.3 , error 49.51:\n",
            "Instane: 9286 Learning rate: 0.3 , error 49.51:\n",
            "Instane: 9287 Learning rate: 0.3 , error 49.51:\n",
            "Instane: 9288 Learning rate: 0.3 , error 49.51:\n",
            "Instane: 9289 Learning rate: 0.3 , error 49.52:\n",
            "Instane: 9290 Learning rate: 0.3 , error 49.52:\n",
            "Instane: 9291 Learning rate: 0.3 , error 49.52:\n",
            "Instane: 9292 Learning rate: 0.3 , error 49.52:\n",
            "Instane: 9293 Learning rate: 0.3 , error 49.52:\n",
            "Instane: 9294 Learning rate: 0.3 , error 49.52:\n",
            "Instane: 9295 Learning rate: 0.3 , error 49.52:\n",
            "Instane: 9296 Learning rate: 0.3 , error 49.52:\n",
            "Instane: 9297 Learning rate: 0.3 , error 49.52:\n",
            "Instane: 9298 Learning rate: 0.3 , error 49.52:\n",
            "Instane: 9299 Learning rate: 0.3 , error 49.52:\n",
            "Instane: 9300 Learning rate: 0.3 , error 49.53:\n",
            "Instane: 9301 Learning rate: 0.3 , error 49.53:\n",
            "Instane: 9302 Learning rate: 0.3 , error 49.53:\n",
            "Instane: 9303 Learning rate: 0.3 , error 49.53:\n",
            "Instane: 9304 Learning rate: 0.3 , error 49.53:\n",
            "Instane: 9305 Learning rate: 0.3 , error 49.53:\n",
            "Instane: 9306 Learning rate: 0.3 , error 49.53:\n",
            "Instane: 9307 Learning rate: 0.3 , error 49.53:\n",
            "Instane: 9308 Learning rate: 0.3 , error 49.53:\n",
            "Instane: 9309 Learning rate: 0.3 , error 49.53:\n",
            "Instane: 9310 Learning rate: 0.3 , error 49.54:\n",
            "Instane: 9311 Learning rate: 0.3 , error 49.54:\n",
            "Instane: 9312 Learning rate: 0.3 , error 49.54:\n",
            "Instane: 9313 Learning rate: 0.3 , error 49.54:\n",
            "Instane: 9314 Learning rate: 0.3 , error 49.54:\n",
            "Instane: 9315 Learning rate: 0.3 , error 49.54:\n",
            "Instane: 9316 Learning rate: 0.3 , error 49.54:\n",
            "Instane: 9317 Learning rate: 0.3 , error 49.54:\n",
            "Instane: 9318 Learning rate: 0.3 , error 49.54:\n",
            "Instane: 9319 Learning rate: 0.3 , error 49.54:\n",
            "Instane: 9320 Learning rate: 0.3 , error 49.55:\n",
            "Instane: 9321 Learning rate: 0.3 , error 49.55:\n",
            "Instane: 9322 Learning rate: 0.3 , error 49.55:\n",
            "Instane: 9323 Learning rate: 0.3 , error 49.55:\n",
            "Instane: 9324 Learning rate: 0.3 , error 49.55:\n",
            "Instane: 9325 Learning rate: 0.3 , error 49.55:\n",
            "Instane: 9326 Learning rate: 0.3 , error 49.55:\n",
            "Instane: 9327 Learning rate: 0.3 , error 49.55:\n",
            "Instane: 9328 Learning rate: 0.3 , error 49.55:\n",
            "Instane: 9329 Learning rate: 0.3 , error 49.55:\n",
            "Instane: 9330 Learning rate: 0.3 , error 49.55:\n",
            "Instane: 9331 Learning rate: 0.3 , error 49.56:\n",
            "Instane: 9332 Learning rate: 0.3 , error 49.56:\n",
            "Instane: 9333 Learning rate: 0.3 , error 49.56:\n",
            "Instane: 9334 Learning rate: 0.3 , error 49.56:\n",
            "Instane: 9335 Learning rate: 0.3 , error 49.56:\n",
            "Instane: 9336 Learning rate: 0.3 , error 49.56:\n",
            "Instane: 9337 Learning rate: 0.3 , error 49.56:\n",
            "Instane: 9338 Learning rate: 0.3 , error 49.56:\n",
            "Instane: 9339 Learning rate: 0.3 , error 49.56:\n",
            "Instane: 9340 Learning rate: 0.3 , error 49.56:\n",
            "Instane: 9341 Learning rate: 0.3 , error 49.57:\n",
            "Instane: 9342 Learning rate: 0.3 , error 49.57:\n",
            "Instane: 9343 Learning rate: 0.3 , error 49.57:\n",
            "Instane: 9344 Learning rate: 0.3 , error 49.57:\n",
            "Instane: 9345 Learning rate: 0.3 , error 49.57:\n",
            "Instane: 9346 Learning rate: 0.3 , error 49.57:\n",
            "Instane: 9347 Learning rate: 0.3 , error 49.57:\n",
            "Instane: 9348 Learning rate: 0.3 , error 49.57:\n",
            "Instane: 9349 Learning rate: 0.3 , error 49.57:\n",
            "Instane: 9350 Learning rate: 0.3 , error 49.58:\n",
            "Instane: 9351 Learning rate: 0.3 , error 49.58:\n",
            "Instane: 9352 Learning rate: 0.3 , error 49.58:\n",
            "Instane: 9353 Learning rate: 0.3 , error 49.58:\n",
            "Instane: 9354 Learning rate: 0.3 , error 49.58:\n",
            "Instane: 9355 Learning rate: 0.3 , error 49.58:\n",
            "Instane: 9356 Learning rate: 0.3 , error 49.58:\n",
            "Instane: 9357 Learning rate: 0.3 , error 49.58:\n",
            "Instane: 9358 Learning rate: 0.3 , error 49.58:\n",
            "Instane: 9359 Learning rate: 0.3 , error 49.58:\n",
            "Instane: 9360 Learning rate: 0.3 , error 49.59:\n",
            "Instane: 9361 Learning rate: 0.3 , error 49.59:\n",
            "Instane: 9362 Learning rate: 0.3 , error 49.59:\n",
            "Instane: 9363 Learning rate: 0.3 , error 49.59:\n",
            "Instane: 9364 Learning rate: 0.3 , error 49.59:\n",
            "Instane: 9365 Learning rate: 0.3 , error 49.59:\n",
            "Instane: 9366 Learning rate: 0.3 , error 49.59:\n",
            "Instane: 9367 Learning rate: 0.3 , error 49.59:\n",
            "Instane: 9368 Learning rate: 0.3 , error 49.59:\n",
            "Instane: 9369 Learning rate: 0.3 , error 49.59:\n",
            "Instane: 9370 Learning rate: 0.3 , error 49.60:\n",
            "Instane: 9371 Learning rate: 0.3 , error 49.60:\n",
            "Instane: 9372 Learning rate: 0.3 , error 49.60:\n",
            "Instane: 9373 Learning rate: 0.3 , error 49.60:\n",
            "Instane: 9374 Learning rate: 0.3 , error 49.60:\n",
            "Instane: 9375 Learning rate: 0.3 , error 49.60:\n",
            "Instane: 9376 Learning rate: 0.3 , error 49.60:\n",
            "Instane: 9377 Learning rate: 0.3 , error 49.60:\n",
            "Instane: 9378 Learning rate: 0.3 , error 49.60:\n",
            "Instane: 9379 Learning rate: 0.3 , error 49.61:\n",
            "Instane: 9380 Learning rate: 0.3 , error 49.61:\n",
            "Instane: 9381 Learning rate: 0.3 , error 49.61:\n",
            "Instane: 9382 Learning rate: 0.3 , error 49.61:\n",
            "Instane: 9383 Learning rate: 0.3 , error 49.61:\n",
            "Instane: 9384 Learning rate: 0.3 , error 49.61:\n",
            "Instane: 9385 Learning rate: 0.3 , error 49.61:\n",
            "Instane: 9386 Learning rate: 0.3 , error 49.61:\n",
            "Instane: 9387 Learning rate: 0.3 , error 49.61:\n",
            "Instane: 9388 Learning rate: 0.3 , error 49.62:\n",
            "Instane: 9389 Learning rate: 0.3 , error 49.62:\n",
            "Instane: 9390 Learning rate: 0.3 , error 49.62:\n",
            "Instane: 9391 Learning rate: 0.3 , error 49.62:\n",
            "Instane: 9392 Learning rate: 0.3 , error 49.62:\n",
            "Instane: 9393 Learning rate: 0.3 , error 49.62:\n",
            "Instane: 9394 Learning rate: 0.3 , error 49.62:\n",
            "Instane: 9395 Learning rate: 0.3 , error 49.62:\n",
            "Instane: 9396 Learning rate: 0.3 , error 49.62:\n",
            "Instane: 9397 Learning rate: 0.3 , error 49.63:\n",
            "Instane: 9398 Learning rate: 0.3 , error 49.63:\n",
            "Instane: 9399 Learning rate: 0.3 , error 49.63:\n",
            "Instane: 9400 Learning rate: 0.3 , error 49.63:\n",
            "Instane: 9401 Learning rate: 0.3 , error 49.63:\n",
            "Instane: 9402 Learning rate: 0.3 , error 49.63:\n",
            "Instane: 9403 Learning rate: 0.3 , error 49.63:\n",
            "Instane: 9404 Learning rate: 0.3 , error 49.63:\n",
            "Instane: 9405 Learning rate: 0.3 , error 49.63:\n",
            "Instane: 9406 Learning rate: 0.3 , error 49.64:\n",
            "Instane: 9407 Learning rate: 0.3 , error 49.64:\n",
            "Instane: 9408 Learning rate: 0.3 , error 49.64:\n",
            "Instane: 9409 Learning rate: 0.3 , error 49.64:\n",
            "Instane: 9410 Learning rate: 0.3 , error 49.64:\n",
            "Instane: 9411 Learning rate: 0.3 , error 49.64:\n",
            "Instane: 9412 Learning rate: 0.3 , error 49.64:\n",
            "Instane: 9413 Learning rate: 0.3 , error 49.64:\n",
            "Instane: 9414 Learning rate: 0.3 , error 49.64:\n",
            "Instane: 9415 Learning rate: 0.3 , error 49.65:\n",
            "Instane: 9416 Learning rate: 0.3 , error 49.65:\n",
            "Instane: 9417 Learning rate: 0.3 , error 49.65:\n",
            "Instane: 9418 Learning rate: 0.3 , error 49.65:\n",
            "Instane: 9419 Learning rate: 0.3 , error 49.65:\n",
            "Instane: 9420 Learning rate: 0.3 , error 49.65:\n",
            "Instane: 9421 Learning rate: 0.3 , error 49.65:\n",
            "Instane: 9422 Learning rate: 0.3 , error 49.65:\n",
            "Instane: 9423 Learning rate: 0.3 , error 49.65:\n",
            "Instane: 9424 Learning rate: 0.3 , error 49.66:\n",
            "Instane: 9425 Learning rate: 0.3 , error 49.66:\n",
            "Instane: 9426 Learning rate: 0.3 , error 49.66:\n",
            "Instane: 9427 Learning rate: 0.3 , error 49.66:\n",
            "Instane: 9428 Learning rate: 0.3 , error 49.66:\n",
            "Instane: 9429 Learning rate: 0.3 , error 49.66:\n",
            "Instane: 9430 Learning rate: 0.3 , error 49.66:\n",
            "Instane: 9431 Learning rate: 0.3 , error 49.66:\n",
            "Instane: 9432 Learning rate: 0.3 , error 49.66:\n",
            "Instane: 9433 Learning rate: 0.3 , error 49.67:\n",
            "Instane: 9434 Learning rate: 0.3 , error 49.67:\n",
            "Instane: 9435 Learning rate: 0.3 , error 49.67:\n",
            "Instane: 9436 Learning rate: 0.3 , error 49.67:\n",
            "Instane: 9437 Learning rate: 0.3 , error 49.67:\n",
            "Instane: 9438 Learning rate: 0.3 , error 49.67:\n",
            "Instane: 9439 Learning rate: 0.3 , error 49.67:\n",
            "Instane: 9440 Learning rate: 0.3 , error 49.67:\n",
            "Instane: 9441 Learning rate: 0.3 , error 49.68:\n",
            "Instane: 9442 Learning rate: 0.3 , error 49.68:\n",
            "Instane: 9443 Learning rate: 0.3 , error 49.68:\n",
            "Instane: 9444 Learning rate: 0.3 , error 49.68:\n",
            "Instane: 9445 Learning rate: 0.3 , error 49.68:\n",
            "Instane: 9446 Learning rate: 0.3 , error 49.68:\n",
            "Instane: 9447 Learning rate: 0.3 , error 49.68:\n",
            "Instane: 9448 Learning rate: 0.3 , error 49.68:\n",
            "Instane: 9449 Learning rate: 0.3 , error 49.68:\n",
            "Instane: 9450 Learning rate: 0.3 , error 49.69:\n",
            "Instane: 9451 Learning rate: 0.3 , error 49.69:\n",
            "Instane: 9452 Learning rate: 0.3 , error 49.69:\n",
            "Instane: 9453 Learning rate: 0.3 , error 49.69:\n",
            "Instane: 9454 Learning rate: 0.3 , error 49.69:\n",
            "Instane: 9455 Learning rate: 0.3 , error 49.69:\n",
            "Instane: 9456 Learning rate: 0.3 , error 49.69:\n",
            "Instane: 9457 Learning rate: 0.3 , error 49.69:\n",
            "Instane: 9458 Learning rate: 0.3 , error 49.70:\n",
            "Instane: 9459 Learning rate: 0.3 , error 49.70:\n",
            "Instane: 9460 Learning rate: 0.3 , error 49.70:\n",
            "Instane: 9461 Learning rate: 0.3 , error 49.70:\n",
            "Instane: 9462 Learning rate: 0.3 , error 49.70:\n",
            "Instane: 9463 Learning rate: 0.3 , error 49.70:\n",
            "Instane: 9464 Learning rate: 0.3 , error 49.70:\n",
            "Instane: 9465 Learning rate: 0.3 , error 49.70:\n",
            "Instane: 9466 Learning rate: 0.3 , error 49.71:\n",
            "Instane: 9467 Learning rate: 0.3 , error 49.71:\n",
            "Instane: 9468 Learning rate: 0.3 , error 49.71:\n",
            "Instane: 9469 Learning rate: 0.3 , error 49.71:\n",
            "Instane: 9470 Learning rate: 0.3 , error 49.71:\n",
            "Instane: 9471 Learning rate: 0.3 , error 49.71:\n",
            "Instane: 9472 Learning rate: 0.3 , error 49.71:\n",
            "Instane: 9473 Learning rate: 0.3 , error 49.71:\n",
            "Instane: 9474 Learning rate: 0.3 , error 49.72:\n",
            "Instane: 9475 Learning rate: 0.3 , error 49.72:\n",
            "Instane: 9476 Learning rate: 0.3 , error 49.72:\n",
            "Instane: 9477 Learning rate: 0.3 , error 49.72:\n",
            "Instane: 9478 Learning rate: 0.3 , error 49.72:\n",
            "Instane: 9479 Learning rate: 0.3 , error 49.72:\n",
            "Instane: 9480 Learning rate: 0.3 , error 49.72:\n",
            "Instane: 9481 Learning rate: 0.3 , error 49.72:\n",
            "Instane: 9482 Learning rate: 0.3 , error 49.73:\n",
            "Instane: 9483 Learning rate: 0.3 , error 49.73:\n",
            "Instane: 9484 Learning rate: 0.3 , error 49.73:\n",
            "Instane: 9485 Learning rate: 0.3 , error 49.73:\n",
            "Instane: 9486 Learning rate: 0.3 , error 49.73:\n",
            "Instane: 9487 Learning rate: 0.3 , error 49.73:\n",
            "Instane: 9488 Learning rate: 0.3 , error 49.73:\n",
            "Instane: 9489 Learning rate: 0.3 , error 49.73:\n",
            "Instane: 9490 Learning rate: 0.3 , error 49.74:\n",
            "Instane: 9491 Learning rate: 0.3 , error 49.74:\n",
            "Instane: 9492 Learning rate: 0.3 , error 49.74:\n",
            "Instane: 9493 Learning rate: 0.3 , error 49.74:\n",
            "Instane: 9494 Learning rate: 0.3 , error 49.74:\n",
            "Instane: 9495 Learning rate: 0.3 , error 49.74:\n",
            "Instane: 9496 Learning rate: 0.3 , error 49.74:\n",
            "Instane: 9497 Learning rate: 0.3 , error 49.74:\n",
            "Instane: 9498 Learning rate: 0.3 , error 49.75:\n",
            "Instane: 9499 Learning rate: 0.3 , error 49.75:\n",
            "Instane: 9500 Learning rate: 0.3 , error 49.75:\n",
            "Instane: 9501 Learning rate: 0.3 , error 49.75:\n",
            "Instane: 9502 Learning rate: 0.3 , error 49.75:\n",
            "Instane: 9503 Learning rate: 0.3 , error 49.75:\n",
            "Instane: 9504 Learning rate: 0.3 , error 49.75:\n",
            "Instane: 9505 Learning rate: 0.3 , error 49.76:\n",
            "Instane: 9506 Learning rate: 0.3 , error 49.76:\n",
            "Instane: 9507 Learning rate: 0.3 , error 49.76:\n",
            "Instane: 9508 Learning rate: 0.3 , error 49.76:\n",
            "Instane: 9509 Learning rate: 0.3 , error 49.76:\n",
            "Instane: 9510 Learning rate: 0.3 , error 49.76:\n",
            "Instane: 9511 Learning rate: 0.3 , error 49.76:\n",
            "Instane: 9512 Learning rate: 0.3 , error 49.76:\n",
            "Instane: 9513 Learning rate: 0.3 , error 49.77:\n",
            "Instane: 9514 Learning rate: 0.3 , error 49.77:\n",
            "Instane: 9515 Learning rate: 0.3 , error 49.77:\n",
            "Instane: 9516 Learning rate: 0.3 , error 49.77:\n",
            "Instane: 9517 Learning rate: 0.3 , error 49.77:\n",
            "Instane: 9518 Learning rate: 0.3 , error 49.77:\n",
            "Instane: 9519 Learning rate: 0.3 , error 49.77:\n",
            "Instane: 9520 Learning rate: 0.3 , error 49.78:\n",
            "Instane: 9521 Learning rate: 0.3 , error 49.78:\n",
            "Instane: 9522 Learning rate: 0.3 , error 49.78:\n",
            "Instane: 9523 Learning rate: 0.3 , error 49.78:\n",
            "Instane: 9524 Learning rate: 0.3 , error 49.78:\n",
            "Instane: 9525 Learning rate: 0.3 , error 49.78:\n",
            "Instane: 9526 Learning rate: 0.3 , error 49.78:\n",
            "Instane: 9527 Learning rate: 0.3 , error 49.78:\n",
            "Instane: 9528 Learning rate: 0.3 , error 49.79:\n",
            "Instane: 9529 Learning rate: 0.3 , error 49.79:\n",
            "Instane: 9530 Learning rate: 0.3 , error 49.79:\n",
            "Instane: 9531 Learning rate: 0.3 , error 49.79:\n",
            "Instane: 9532 Learning rate: 0.3 , error 49.79:\n",
            "Instane: 9533 Learning rate: 0.3 , error 49.79:\n",
            "Instane: 9534 Learning rate: 0.3 , error 49.79:\n",
            "Instane: 9535 Learning rate: 0.3 , error 49.80:\n",
            "Instane: 9536 Learning rate: 0.3 , error 49.80:\n",
            "Instane: 9537 Learning rate: 0.3 , error 49.80:\n",
            "Instane: 9538 Learning rate: 0.3 , error 49.80:\n",
            "Instane: 9539 Learning rate: 0.3 , error 49.80:\n",
            "Instane: 9540 Learning rate: 0.3 , error 49.80:\n",
            "Instane: 9541 Learning rate: 0.3 , error 49.80:\n",
            "Instane: 9542 Learning rate: 0.3 , error 49.81:\n",
            "Instane: 9543 Learning rate: 0.3 , error 49.81:\n",
            "Instane: 9544 Learning rate: 0.3 , error 49.81:\n",
            "Instane: 9545 Learning rate: 0.3 , error 49.81:\n",
            "Instane: 9546 Learning rate: 0.3 , error 49.81:\n",
            "Instane: 9547 Learning rate: 0.3 , error 49.81:\n",
            "Instane: 9548 Learning rate: 0.3 , error 49.81:\n",
            "Instane: 9549 Learning rate: 0.3 , error 49.82:\n",
            "Instane: 9550 Learning rate: 0.3 , error 49.82:\n",
            "Instane: 9551 Learning rate: 0.3 , error 49.82:\n",
            "Instane: 9552 Learning rate: 0.3 , error 49.82:\n",
            "Instane: 9553 Learning rate: 0.3 , error 49.82:\n",
            "Instane: 9554 Learning rate: 0.3 , error 49.82:\n",
            "Instane: 9555 Learning rate: 0.3 , error 49.82:\n",
            "Instane: 9556 Learning rate: 0.3 , error 49.83:\n",
            "Instane: 9557 Learning rate: 0.3 , error 49.83:\n",
            "Instane: 9558 Learning rate: 0.3 , error 49.83:\n",
            "Instane: 9559 Learning rate: 0.3 , error 49.83:\n",
            "Instane: 9560 Learning rate: 0.3 , error 49.83:\n",
            "Instane: 9561 Learning rate: 0.3 , error 49.83:\n",
            "Instane: 9562 Learning rate: 0.3 , error 49.83:\n",
            "Instane: 9563 Learning rate: 0.3 , error 49.84:\n",
            "Instane: 9564 Learning rate: 0.3 , error 49.84:\n",
            "Instane: 9565 Learning rate: 0.3 , error 49.84:\n",
            "Instane: 9566 Learning rate: 0.3 , error 49.84:\n",
            "Instane: 9567 Learning rate: 0.3 , error 49.84:\n",
            "Instane: 9568 Learning rate: 0.3 , error 49.84:\n",
            "Instane: 9569 Learning rate: 0.3 , error 49.84:\n",
            "Instane: 9570 Learning rate: 0.3 , error 49.85:\n",
            "Instane: 9571 Learning rate: 0.3 , error 49.85:\n",
            "Instane: 9572 Learning rate: 0.3 , error 49.85:\n",
            "Instane: 9573 Learning rate: 0.3 , error 49.85:\n",
            "Instane: 9574 Learning rate: 0.3 , error 49.85:\n",
            "Instane: 9575 Learning rate: 0.3 , error 49.85:\n",
            "Instane: 9576 Learning rate: 0.3 , error 49.86:\n",
            "Instane: 9577 Learning rate: 0.3 , error 49.86:\n",
            "Instane: 9578 Learning rate: 0.3 , error 49.86:\n",
            "Instane: 9579 Learning rate: 0.3 , error 49.86:\n",
            "Instane: 9580 Learning rate: 0.3 , error 49.86:\n",
            "Instane: 9581 Learning rate: 0.3 , error 49.86:\n",
            "Instane: 9582 Learning rate: 0.3 , error 49.86:\n",
            "Instane: 9583 Learning rate: 0.3 , error 49.87:\n",
            "Instane: 9584 Learning rate: 0.3 , error 49.87:\n",
            "Instane: 9585 Learning rate: 0.3 , error 49.87:\n",
            "Instane: 9586 Learning rate: 0.3 , error 49.87:\n",
            "Instane: 9587 Learning rate: 0.3 , error 49.87:\n",
            "Instane: 9588 Learning rate: 0.3 , error 49.87:\n",
            "Instane: 9589 Learning rate: 0.3 , error 49.87:\n",
            "Instane: 9590 Learning rate: 0.3 , error 49.88:\n",
            "Instane: 9591 Learning rate: 0.3 , error 49.88:\n",
            "Instane: 9592 Learning rate: 0.3 , error 49.88:\n",
            "Instane: 9593 Learning rate: 0.3 , error 49.88:\n",
            "Instane: 9594 Learning rate: 0.3 , error 49.88:\n",
            "Instane: 9595 Learning rate: 0.3 , error 49.88:\n",
            "Instane: 9596 Learning rate: 0.3 , error 49.89:\n",
            "Instane: 9597 Learning rate: 0.3 , error 49.89:\n",
            "Instane: 9598 Learning rate: 0.3 , error 49.89:\n",
            "Instane: 9599 Learning rate: 0.3 , error 49.89:\n",
            "Instane: 9600 Learning rate: 0.3 , error 49.89:\n",
            "Instane: 9601 Learning rate: 0.3 , error 49.89:\n",
            "Instane: 9602 Learning rate: 0.3 , error 49.90:\n",
            "Instane: 9603 Learning rate: 0.3 , error 49.90:\n",
            "Instane: 9604 Learning rate: 0.3 , error 49.90:\n",
            "Instane: 9605 Learning rate: 0.3 , error 49.90:\n",
            "Instane: 9606 Learning rate: 0.3 , error 49.90:\n",
            "Instane: 9607 Learning rate: 0.3 , error 49.90:\n",
            "Instane: 9608 Learning rate: 0.3 , error 49.90:\n",
            "Instane: 9609 Learning rate: 0.3 , error 49.91:\n",
            "Instane: 9610 Learning rate: 0.3 , error 49.91:\n",
            "Instane: 9611 Learning rate: 0.3 , error 49.91:\n",
            "Instane: 9612 Learning rate: 0.3 , error 49.91:\n",
            "Instane: 9613 Learning rate: 0.3 , error 49.91:\n",
            "Instane: 9614 Learning rate: 0.3 , error 49.91:\n",
            "Instane: 9615 Learning rate: 0.3 , error 49.92:\n",
            "Instane: 9616 Learning rate: 0.3 , error 49.92:\n",
            "Instane: 9617 Learning rate: 0.3 , error 49.92:\n",
            "Instane: 9618 Learning rate: 0.3 , error 49.92:\n",
            "Instane: 9619 Learning rate: 0.3 , error 49.92:\n",
            "Instane: 9620 Learning rate: 0.3 , error 49.92:\n",
            "Instane: 9621 Learning rate: 0.3 , error 49.93:\n",
            "Instane: 9622 Learning rate: 0.3 , error 49.93:\n",
            "Instane: 9623 Learning rate: 0.3 , error 49.93:\n",
            "Instane: 9624 Learning rate: 0.3 , error 49.93:\n",
            "Instane: 9625 Learning rate: 0.3 , error 49.93:\n",
            "Instane: 9626 Learning rate: 0.3 , error 49.93:\n",
            "Instane: 9627 Learning rate: 0.3 , error 49.94:\n",
            "Instane: 9628 Learning rate: 0.3 , error 49.94:\n",
            "Instane: 9629 Learning rate: 0.3 , error 49.94:\n",
            "Instane: 9630 Learning rate: 0.3 , error 49.94:\n",
            "Instane: 9631 Learning rate: 0.3 , error 49.94:\n",
            "Instane: 9632 Learning rate: 0.3 , error 49.94:\n",
            "Instane: 9633 Learning rate: 0.3 , error 49.95:\n",
            "Instane: 9634 Learning rate: 0.3 , error 49.95:\n",
            "Instane: 9635 Learning rate: 0.3 , error 49.95:\n",
            "Instane: 9636 Learning rate: 0.3 , error 49.95:\n",
            "Instane: 9637 Learning rate: 0.3 , error 49.95:\n",
            "Instane: 9638 Learning rate: 0.3 , error 49.95:\n",
            "Instane: 9639 Learning rate: 0.3 , error 49.96:\n",
            "Instane: 9640 Learning rate: 0.3 , error 49.96:\n",
            "Instane: 9641 Learning rate: 0.3 , error 49.96:\n",
            "Instane: 9642 Learning rate: 0.3 , error 49.96:\n",
            "Instane: 9643 Learning rate: 0.3 , error 49.96:\n",
            "Instane: 9644 Learning rate: 0.3 , error 49.96:\n",
            "Instane: 9645 Learning rate: 0.3 , error 49.97:\n",
            "Instane: 9646 Learning rate: 0.3 , error 49.97:\n",
            "Instane: 9647 Learning rate: 0.3 , error 49.97:\n",
            "Instane: 9648 Learning rate: 0.3 , error 49.97:\n",
            "Instane: 9649 Learning rate: 0.3 , error 49.97:\n",
            "Instane: 9650 Learning rate: 0.3 , error 49.98:\n",
            "Instane: 9651 Learning rate: 0.3 , error 49.98:\n",
            "Instane: 9652 Learning rate: 0.3 , error 49.98:\n",
            "Instane: 9653 Learning rate: 0.3 , error 49.98:\n",
            "Instane: 9654 Learning rate: 0.3 , error 49.98:\n",
            "Instane: 9655 Learning rate: 0.3 , error 49.98:\n",
            "Instane: 9656 Learning rate: 0.3 , error 49.99:\n",
            "Instane: 9657 Learning rate: 0.3 , error 49.99:\n",
            "Instane: 9658 Learning rate: 0.3 , error 49.99:\n",
            "Instane: 9659 Learning rate: 0.3 , error 49.99:\n",
            "Instane: 9660 Learning rate: 0.3 , error 49.99:\n",
            "Instane: 9661 Learning rate: 0.3 , error 49.99:\n",
            "Instane: 9662 Learning rate: 0.3 , error 50.00:\n",
            "Instane: 9663 Learning rate: 0.3 , error 50.00:\n",
            "Instane: 9664 Learning rate: 0.3 , error 50.00:\n",
            "Instane: 9665 Learning rate: 0.3 , error 50.00:\n",
            "Instane: 9666 Learning rate: 0.3 , error 50.00:\n",
            "Instane: 9667 Learning rate: 0.3 , error 50.01:\n",
            "Instane: 9668 Learning rate: 0.3 , error 50.01:\n",
            "Instane: 9669 Learning rate: 0.3 , error 50.01:\n",
            "Instane: 9670 Learning rate: 0.3 , error 50.01:\n",
            "Instane: 9671 Learning rate: 0.3 , error 50.01:\n",
            "Instane: 9672 Learning rate: 0.3 , error 50.01:\n",
            "Instane: 9673 Learning rate: 0.3 , error 50.02:\n",
            "Instane: 9674 Learning rate: 0.3 , error 50.02:\n",
            "Instane: 9675 Learning rate: 0.3 , error 50.02:\n",
            "Instane: 9676 Learning rate: 0.3 , error 50.02:\n",
            "Instane: 9677 Learning rate: 0.3 , error 50.02:\n",
            "Instane: 9678 Learning rate: 0.3 , error 50.03:\n",
            "Instane: 9679 Learning rate: 0.3 , error 50.03:\n",
            "Instane: 9680 Learning rate: 0.3 , error 50.03:\n",
            "Instane: 9681 Learning rate: 0.3 , error 50.03:\n",
            "Instane: 9682 Learning rate: 0.3 , error 50.03:\n",
            "Instane: 9683 Learning rate: 0.3 , error 50.04:\n",
            "Instane: 9684 Learning rate: 0.3 , error 50.04:\n",
            "Instane: 9685 Learning rate: 0.3 , error 50.04:\n",
            "Instane: 9686 Learning rate: 0.3 , error 50.04:\n",
            "Instane: 9687 Learning rate: 0.3 , error 50.04:\n",
            "Instane: 9688 Learning rate: 0.3 , error 50.04:\n",
            "Instane: 9689 Learning rate: 0.3 , error 50.05:\n",
            "Instane: 9690 Learning rate: 0.3 , error 50.05:\n",
            "Instane: 9691 Learning rate: 0.3 , error 50.05:\n",
            "Instane: 9692 Learning rate: 0.3 , error 50.05:\n",
            "Instane: 9693 Learning rate: 0.3 , error 50.05:\n",
            "Instane: 9694 Learning rate: 0.3 , error 50.06:\n",
            "Instane: 9695 Learning rate: 0.3 , error 50.06:\n",
            "Instane: 9696 Learning rate: 0.3 , error 50.06:\n",
            "Instane: 9697 Learning rate: 0.3 , error 50.06:\n",
            "Instane: 9698 Learning rate: 0.3 , error 50.06:\n",
            "Instane: 9699 Learning rate: 0.3 , error 50.07:\n",
            "Instane: 9700 Learning rate: 0.3 , error 50.07:\n",
            "Instane: 9701 Learning rate: 0.3 , error 50.07:\n",
            "Instane: 9702 Learning rate: 0.3 , error 50.07:\n",
            "Instane: 9703 Learning rate: 0.3 , error 50.07:\n",
            "Instane: 9704 Learning rate: 0.3 , error 50.08:\n",
            "Instane: 9705 Learning rate: 0.3 , error 50.08:\n",
            "Instane: 9706 Learning rate: 0.3 , error 50.08:\n",
            "Instane: 9707 Learning rate: 0.3 , error 50.08:\n",
            "Instane: 9708 Learning rate: 0.3 , error 50.08:\n",
            "Instane: 9709 Learning rate: 0.3 , error 50.09:\n",
            "Instane: 9710 Learning rate: 0.3 , error 50.09:\n",
            "Instane: 9711 Learning rate: 0.3 , error 50.09:\n",
            "Instane: 9712 Learning rate: 0.3 , error 50.09:\n",
            "Instane: 9713 Learning rate: 0.3 , error 50.09:\n",
            "Instane: 9714 Learning rate: 0.3 , error 50.10:\n",
            "Instane: 9715 Learning rate: 0.3 , error 50.10:\n",
            "Instane: 9716 Learning rate: 0.3 , error 50.10:\n",
            "Instane: 9717 Learning rate: 0.3 , error 50.10:\n",
            "Instane: 9718 Learning rate: 0.3 , error 50.10:\n",
            "Instane: 9719 Learning rate: 0.3 , error 50.11:\n",
            "Instane: 9720 Learning rate: 0.3 , error 50.11:\n",
            "Instane: 9721 Learning rate: 0.3 , error 50.11:\n",
            "Instane: 9722 Learning rate: 0.3 , error 50.11:\n",
            "Instane: 9723 Learning rate: 0.3 , error 50.11:\n",
            "Instane: 9724 Learning rate: 0.3 , error 50.12:\n",
            "Instane: 9725 Learning rate: 0.3 , error 50.12:\n",
            "Instane: 9726 Learning rate: 0.3 , error 50.12:\n",
            "Instane: 9727 Learning rate: 0.3 , error 50.12:\n",
            "Instane: 9728 Learning rate: 0.3 , error 50.13:\n",
            "Instane: 9729 Learning rate: 0.3 , error 50.13:\n",
            "Instane: 9730 Learning rate: 0.3 , error 50.13:\n",
            "Instane: 9731 Learning rate: 0.3 , error 50.13:\n",
            "Instane: 9732 Learning rate: 0.3 , error 50.13:\n",
            "Instane: 9733 Learning rate: 0.3 , error 50.14:\n",
            "Instane: 9734 Learning rate: 0.3 , error 50.14:\n",
            "Instane: 9735 Learning rate: 0.3 , error 50.14:\n",
            "Instane: 9736 Learning rate: 0.3 , error 50.14:\n",
            "Instane: 9737 Learning rate: 0.3 , error 50.14:\n",
            "Instane: 9738 Learning rate: 0.3 , error 50.15:\n",
            "Instane: 9739 Learning rate: 0.3 , error 50.15:\n",
            "Instane: 9740 Learning rate: 0.3 , error 50.15:\n",
            "Instane: 9741 Learning rate: 0.3 , error 50.15:\n",
            "Instane: 9742 Learning rate: 0.3 , error 50.16:\n",
            "Instane: 9743 Learning rate: 0.3 , error 50.16:\n",
            "Instane: 9744 Learning rate: 0.3 , error 50.16:\n",
            "Instane: 9745 Learning rate: 0.3 , error 50.16:\n",
            "Instane: 9746 Learning rate: 0.3 , error 50.16:\n",
            "Instane: 9747 Learning rate: 0.3 , error 50.17:\n",
            "Instane: 9748 Learning rate: 0.3 , error 50.17:\n",
            "Instane: 9749 Learning rate: 0.3 , error 50.17:\n",
            "Instane: 9750 Learning rate: 0.3 , error 50.17:\n",
            "Instane: 9751 Learning rate: 0.3 , error 50.18:\n",
            "Instane: 9752 Learning rate: 0.3 , error 50.18:\n",
            "Instane: 9753 Learning rate: 0.3 , error 50.18:\n",
            "Instane: 9754 Learning rate: 0.3 , error 50.18:\n",
            "Instane: 9755 Learning rate: 0.3 , error 50.19:\n",
            "Instane: 9756 Learning rate: 0.3 , error 50.19:\n",
            "Instane: 9757 Learning rate: 0.3 , error 50.19:\n",
            "Instane: 9758 Learning rate: 0.3 , error 50.19:\n",
            "Instane: 9759 Learning rate: 0.3 , error 50.19:\n",
            "Instane: 9760 Learning rate: 0.3 , error 50.20:\n",
            "Instane: 9761 Learning rate: 0.3 , error 50.20:\n",
            "Instane: 9762 Learning rate: 0.3 , error 50.20:\n",
            "Instane: 9763 Learning rate: 0.3 , error 50.20:\n",
            "Instane: 9764 Learning rate: 0.3 , error 50.21:\n",
            "Instane: 9765 Learning rate: 0.3 , error 50.21:\n",
            "Instane: 9766 Learning rate: 0.3 , error 50.21:\n",
            "Instane: 9767 Learning rate: 0.3 , error 50.21:\n",
            "Instane: 9768 Learning rate: 0.3 , error 50.22:\n",
            "Instane: 9769 Learning rate: 0.3 , error 50.22:\n",
            "Instane: 9770 Learning rate: 0.3 , error 50.22:\n",
            "Instane: 9771 Learning rate: 0.3 , error 50.22:\n",
            "Instane: 9772 Learning rate: 0.3 , error 50.23:\n",
            "Instane: 9773 Learning rate: 0.3 , error 50.23:\n",
            "Instane: 9774 Learning rate: 0.3 , error 50.23:\n",
            "Instane: 9775 Learning rate: 0.3 , error 50.23:\n",
            "Instane: 9776 Learning rate: 0.3 , error 50.23:\n",
            "Instane: 9777 Learning rate: 0.3 , error 50.24:\n",
            "Instane: 9778 Learning rate: 0.3 , error 50.24:\n",
            "Instane: 9779 Learning rate: 0.3 , error 50.24:\n",
            "Instane: 9780 Learning rate: 0.3 , error 50.24:\n",
            "Instane: 9781 Learning rate: 0.3 , error 50.25:\n",
            "Instane: 9782 Learning rate: 0.3 , error 50.25:\n",
            "Instane: 9783 Learning rate: 0.3 , error 50.25:\n",
            "Instane: 9784 Learning rate: 0.3 , error 50.25:\n",
            "Instane: 9785 Learning rate: 0.3 , error 50.26:\n",
            "Instane: 9786 Learning rate: 0.3 , error 50.26:\n",
            "Instane: 9787 Learning rate: 0.3 , error 50.26:\n",
            "Instane: 9788 Learning rate: 0.3 , error 50.26:\n",
            "Instane: 9789 Learning rate: 0.3 , error 50.27:\n",
            "Instane: 9790 Learning rate: 0.3 , error 50.27:\n",
            "Instane: 9791 Learning rate: 0.3 , error 50.27:\n",
            "Instane: 9792 Learning rate: 0.3 , error 50.28:\n",
            "Instane: 9793 Learning rate: 0.3 , error 50.28:\n",
            "Instane: 9794 Learning rate: 0.3 , error 50.28:\n",
            "Instane: 9795 Learning rate: 0.3 , error 50.28:\n",
            "Instane: 9796 Learning rate: 0.3 , error 50.29:\n",
            "Instane: 9797 Learning rate: 0.3 , error 50.29:\n",
            "Instane: 9798 Learning rate: 0.3 , error 50.29:\n",
            "Instane: 9799 Learning rate: 0.3 , error 50.29:\n",
            "Instane: 9800 Learning rate: 0.3 , error 50.30:\n",
            "Instane: 9801 Learning rate: 0.3 , error 50.30:\n",
            "Instane: 9802 Learning rate: 0.3 , error 50.30:\n",
            "Instane: 9803 Learning rate: 0.3 , error 50.30:\n",
            "Instane: 9804 Learning rate: 0.3 , error 50.31:\n",
            "Instane: 9805 Learning rate: 0.3 , error 50.31:\n",
            "Instane: 9806 Learning rate: 0.3 , error 50.31:\n",
            "Instane: 9807 Learning rate: 0.3 , error 50.31:\n",
            "Instane: 9808 Learning rate: 0.3 , error 50.32:\n",
            "Instane: 9809 Learning rate: 0.3 , error 50.32:\n",
            "Instane: 9810 Learning rate: 0.3 , error 50.32:\n",
            "Instane: 9811 Learning rate: 0.3 , error 50.33:\n",
            "Instane: 9812 Learning rate: 0.3 , error 50.33:\n",
            "Instane: 9813 Learning rate: 0.3 , error 50.33:\n",
            "Instane: 9814 Learning rate: 0.3 , error 50.33:\n",
            "Instane: 9815 Learning rate: 0.3 , error 50.34:\n",
            "Instane: 9816 Learning rate: 0.3 , error 50.34:\n",
            "Instane: 9817 Learning rate: 0.3 , error 50.34:\n",
            "Instane: 9818 Learning rate: 0.3 , error 50.35:\n",
            "Instane: 9819 Learning rate: 0.3 , error 50.35:\n",
            "Instane: 9820 Learning rate: 0.3 , error 50.35:\n",
            "Instane: 9821 Learning rate: 0.3 , error 50.35:\n",
            "Instane: 9822 Learning rate: 0.3 , error 50.36:\n",
            "Instane: 9823 Learning rate: 0.3 , error 50.36:\n",
            "Instane: 9824 Learning rate: 0.3 , error 50.36:\n",
            "Instane: 9825 Learning rate: 0.3 , error 50.37:\n",
            "Instane: 9826 Learning rate: 0.3 , error 50.37:\n",
            "Instane: 9827 Learning rate: 0.3 , error 50.37:\n",
            "Instane: 9828 Learning rate: 0.3 , error 50.37:\n",
            "Instane: 9829 Learning rate: 0.3 , error 50.38:\n",
            "Instane: 9830 Learning rate: 0.3 , error 50.38:\n",
            "Instane: 9831 Learning rate: 0.3 , error 50.38:\n",
            "Instane: 9832 Learning rate: 0.3 , error 50.39:\n",
            "Instane: 9833 Learning rate: 0.3 , error 50.39:\n",
            "Instane: 9834 Learning rate: 0.3 , error 50.39:\n",
            "Instane: 9835 Learning rate: 0.3 , error 50.39:\n",
            "Instane: 9836 Learning rate: 0.3 , error 50.40:\n",
            "Instane: 9837 Learning rate: 0.3 , error 50.40:\n",
            "Instane: 9838 Learning rate: 0.3 , error 50.40:\n",
            "Instane: 9839 Learning rate: 0.3 , error 50.41:\n",
            "Instane: 9840 Learning rate: 0.3 , error 50.41:\n",
            "Instane: 9841 Learning rate: 0.3 , error 50.41:\n",
            "Instane: 9842 Learning rate: 0.3 , error 50.42:\n",
            "Instane: 9843 Learning rate: 0.3 , error 50.42:\n",
            "Instane: 9844 Learning rate: 0.3 , error 50.42:\n",
            "Instane: 9845 Learning rate: 0.3 , error 50.43:\n",
            "Instane: 9846 Learning rate: 0.3 , error 50.43:\n",
            "Instane: 9847 Learning rate: 0.3 , error 50.43:\n",
            "Instane: 9848 Learning rate: 0.3 , error 50.44:\n",
            "Instane: 9849 Learning rate: 0.3 , error 50.44:\n",
            "Instane: 9850 Learning rate: 0.3 , error 50.44:\n",
            "Instane: 9851 Learning rate: 0.3 , error 50.44:\n",
            "Instane: 9852 Learning rate: 0.3 , error 50.45:\n",
            "Instane: 9853 Learning rate: 0.3 , error 50.45:\n",
            "Instane: 9854 Learning rate: 0.3 , error 50.45:\n",
            "Instane: 9855 Learning rate: 0.3 , error 50.46:\n",
            "Instane: 9856 Learning rate: 0.3 , error 50.46:\n",
            "Instane: 9857 Learning rate: 0.3 , error 50.46:\n",
            "Instane: 9858 Learning rate: 0.3 , error 50.47:\n",
            "Instane: 9859 Learning rate: 0.3 , error 50.47:\n",
            "Instane: 9860 Learning rate: 0.3 , error 50.47:\n",
            "Instane: 9861 Learning rate: 0.3 , error 50.48:\n",
            "Instane: 9862 Learning rate: 0.3 , error 50.48:\n",
            "Instane: 9863 Learning rate: 0.3 , error 50.48:\n",
            "Instane: 9864 Learning rate: 0.3 , error 50.49:\n",
            "Instane: 9865 Learning rate: 0.3 , error 50.49:\n",
            "Instane: 9866 Learning rate: 0.3 , error 50.49:\n",
            "Instane: 9867 Learning rate: 0.3 , error 50.50:\n",
            "Instane: 9868 Learning rate: 0.3 , error 50.50:\n",
            "Instane: 9869 Learning rate: 0.3 , error 50.51:\n",
            "Instane: 9870 Learning rate: 0.3 , error 50.51:\n",
            "Instane: 9871 Learning rate: 0.3 , error 50.51:\n",
            "Instane: 9872 Learning rate: 0.3 , error 50.52:\n",
            "Instane: 9873 Learning rate: 0.3 , error 50.52:\n",
            "Instane: 9874 Learning rate: 0.3 , error 50.52:\n",
            "Instane: 9875 Learning rate: 0.3 , error 50.53:\n",
            "Instane: 9876 Learning rate: 0.3 , error 50.53:\n",
            "Instane: 9877 Learning rate: 0.3 , error 50.53:\n",
            "Instane: 9878 Learning rate: 0.3 , error 50.54:\n",
            "Instane: 9879 Learning rate: 0.3 , error 50.54:\n",
            "Instane: 9880 Learning rate: 0.3 , error 50.54:\n",
            "Instane: 9881 Learning rate: 0.3 , error 50.55:\n",
            "Instane: 9882 Learning rate: 0.3 , error 50.55:\n",
            "Instane: 9883 Learning rate: 0.3 , error 50.56:\n",
            "Instane: 9884 Learning rate: 0.3 , error 50.56:\n",
            "Instane: 9885 Learning rate: 0.3 , error 50.56:\n",
            "Instane: 9886 Learning rate: 0.3 , error 50.57:\n",
            "Instane: 9887 Learning rate: 0.3 , error 50.57:\n",
            "Instane: 9888 Learning rate: 0.3 , error 50.57:\n",
            "Instane: 9889 Learning rate: 0.3 , error 50.58:\n",
            "Instane: 9890 Learning rate: 0.3 , error 50.58:\n",
            "Instane: 9891 Learning rate: 0.3 , error 50.59:\n",
            "Instane: 9892 Learning rate: 0.3 , error 50.59:\n",
            "Instane: 9893 Learning rate: 0.3 , error 50.59:\n",
            "Instane: 9894 Learning rate: 0.3 , error 50.60:\n",
            "Instane: 9895 Learning rate: 0.3 , error 50.60:\n",
            "Instane: 9896 Learning rate: 0.3 , error 50.61:\n",
            "Instane: 9897 Learning rate: 0.3 , error 50.61:\n",
            "Instane: 9898 Learning rate: 0.3 , error 50.61:\n",
            "Instane: 9899 Learning rate: 0.3 , error 50.62:\n",
            "Instane: 9900 Learning rate: 0.3 , error 50.62:\n",
            "Instane: 9901 Learning rate: 0.3 , error 50.63:\n",
            "Instane: 9902 Learning rate: 0.3 , error 50.63:\n",
            "Instane: 9903 Learning rate: 0.3 , error 50.63:\n",
            "Instane: 9904 Learning rate: 0.3 , error 50.64:\n",
            "Instane: 9905 Learning rate: 0.3 , error 50.64:\n",
            "Instane: 9906 Learning rate: 0.3 , error 50.65:\n",
            "Instane: 9907 Learning rate: 0.3 , error 50.65:\n",
            "Instane: 9908 Learning rate: 0.3 , error 50.65:\n",
            "Instane: 9909 Learning rate: 0.3 , error 50.66:\n",
            "Instane: 9910 Learning rate: 0.3 , error 50.66:\n",
            "Instane: 9911 Learning rate: 0.3 , error 50.67:\n",
            "Instane: 9912 Learning rate: 0.3 , error 50.67:\n",
            "Instane: 9913 Learning rate: 0.3 , error 50.68:\n",
            "Instane: 9914 Learning rate: 0.3 , error 50.68:\n",
            "Instane: 9915 Learning rate: 0.3 , error 50.68:\n",
            "Instane: 9916 Learning rate: 0.3 , error 50.69:\n",
            "Instane: 9917 Learning rate: 0.3 , error 50.69:\n",
            "Instane: 9918 Learning rate: 0.3 , error 50.70:\n",
            "Instane: 9919 Learning rate: 0.3 , error 50.70:\n",
            "Instane: 9920 Learning rate: 0.3 , error 50.71:\n",
            "Instane: 9921 Learning rate: 0.3 , error 50.71:\n",
            "Instane: 9922 Learning rate: 0.3 , error 50.72:\n",
            "Instane: 9923 Learning rate: 0.3 , error 50.72:\n",
            "Instane: 9924 Learning rate: 0.3 , error 50.73:\n",
            "Instane: 9925 Learning rate: 0.3 , error 50.73:\n",
            "Instane: 9926 Learning rate: 0.3 , error 50.73:\n",
            "Instane: 9927 Learning rate: 0.3 , error 50.74:\n",
            "Instane: 9928 Learning rate: 0.3 , error 50.74:\n",
            "Instane: 9929 Learning rate: 0.3 , error 50.75:\n",
            "Instane: 9930 Learning rate: 0.3 , error 50.75:\n",
            "Instane: 9931 Learning rate: 0.3 , error 50.76:\n",
            "Instane: 9932 Learning rate: 0.3 , error 50.76:\n",
            "Instane: 9933 Learning rate: 0.3 , error 50.77:\n",
            "Instane: 9934 Learning rate: 0.3 , error 50.77:\n",
            "Instane: 9935 Learning rate: 0.3 , error 50.78:\n",
            "Instane: 9936 Learning rate: 0.3 , error 50.78:\n",
            "Instane: 9937 Learning rate: 0.3 , error 50.79:\n",
            "Instane: 9938 Learning rate: 0.3 , error 50.79:\n",
            "Instane: 9939 Learning rate: 0.3 , error 50.80:\n",
            "Instane: 9940 Learning rate: 0.3 , error 50.80:\n",
            "Instane: 9941 Learning rate: 0.3 , error 50.81:\n",
            "Instane: 9942 Learning rate: 0.3 , error 50.81:\n",
            "Instane: 9943 Learning rate: 0.3 , error 50.82:\n",
            "Instane: 9944 Learning rate: 0.3 , error 50.82:\n",
            "Instane: 9945 Learning rate: 0.3 , error 50.83:\n",
            "Instane: 9946 Learning rate: 0.3 , error 50.83:\n",
            "Instane: 9947 Learning rate: 0.3 , error 50.84:\n",
            "Instane: 9948 Learning rate: 0.3 , error 50.85:\n",
            "Instane: 9949 Learning rate: 0.3 , error 50.85:\n",
            "Instane: 9950 Learning rate: 0.3 , error 50.86:\n",
            "Instane: 9951 Learning rate: 0.3 , error 50.86:\n",
            "Instane: 9952 Learning rate: 0.3 , error 50.87:\n",
            "Instane: 9953 Learning rate: 0.3 , error 50.87:\n",
            "Instane: 9954 Learning rate: 0.3 , error 50.88:\n",
            "Instane: 9955 Learning rate: 0.3 , error 50.88:\n",
            "Instane: 9956 Learning rate: 0.3 , error 50.89:\n",
            "Instane: 9957 Learning rate: 0.3 , error 50.89:\n",
            "Instane: 9958 Learning rate: 0.3 , error 50.90:\n",
            "Instane: 9959 Learning rate: 0.3 , error 50.91:\n",
            "Instane: 9960 Learning rate: 0.3 , error 50.91:\n",
            "Instane: 9961 Learning rate: 0.3 , error 50.92:\n",
            "Instane: 9962 Learning rate: 0.3 , error 50.92:\n",
            "Instane: 9963 Learning rate: 0.3 , error 50.93:\n",
            "Instane: 9964 Learning rate: 0.3 , error 50.94:\n",
            "Instane: 9965 Learning rate: 0.3 , error 50.94:\n",
            "Instane: 9966 Learning rate: 0.3 , error 50.95:\n",
            "Instane: 9967 Learning rate: 0.3 , error 50.95:\n",
            "Instane: 9968 Learning rate: 0.3 , error 50.96:\n",
            "Instane: 9969 Learning rate: 0.3 , error 50.97:\n",
            "Instane: 9970 Learning rate: 0.3 , error 50.97:\n",
            "Instane: 9971 Learning rate: 0.3 , error 50.98:\n",
            "Instane: 9972 Learning rate: 0.3 , error 50.99:\n",
            "Instane: 9973 Learning rate: 0.3 , error 50.99:\n",
            "Instane: 9974 Learning rate: 0.3 , error 51.00:\n",
            "Instane: 9975 Learning rate: 0.3 , error 51.00:\n",
            "Instane: 9976 Learning rate: 0.3 , error 51.01:\n",
            "Instane: 9977 Learning rate: 0.3 , error 51.02:\n",
            "Instane: 9978 Learning rate: 0.3 , error 51.02:\n",
            "Instane: 9979 Learning rate: 0.3 , error 51.03:\n",
            "Instane: 9980 Learning rate: 0.3 , error 51.04:\n",
            "Instane: 9981 Learning rate: 0.3 , error 51.04:\n",
            "Instane: 9982 Learning rate: 0.3 , error 51.05:\n",
            "Instane: 9983 Learning rate: 0.3 , error 51.06:\n",
            "Instane: 9984 Learning rate: 0.3 , error 51.07:\n",
            "Instane: 9985 Learning rate: 0.3 , error 51.07:\n",
            "Instane: 9986 Learning rate: 0.3 , error 51.08:\n",
            "Instane: 9987 Learning rate: 0.3 , error 51.09:\n",
            "Instane: 9988 Learning rate: 0.3 , error 51.09:\n",
            "Instane: 9989 Learning rate: 0.3 , error 51.10:\n",
            "Instane: 9990 Learning rate: 0.3 , error 51.11:\n",
            "Instane: 9991 Learning rate: 0.3 , error 51.12:\n",
            "Instane: 9992 Learning rate: 0.3 , error 51.12:\n",
            "Instane: 9993 Learning rate: 0.3 , error 51.13:\n",
            "Instane: 9994 Learning rate: 0.3 , error 51.14:\n",
            "Instane: 9995 Learning rate: 0.3 , error 51.15:\n",
            "Instane: 9996 Learning rate: 0.3 , error 51.15:\n",
            "Instane: 9997 Learning rate: 0.3 , error 51.16:\n",
            "Instane: 9998 Learning rate: 0.3 , error 51.17:\n",
            "Instane: 9999 Learning rate: 0.3 , error 51.18:\n",
            "[{'weights': [0.932179374775759, 0.6352416911174138, 1.0650911609861888, -3.9338136949329305, 7.080086027692415, 1.6525847022312077, 3.1603733029631726, 0.6240986988927566, 0.8015127312155063, -2.2627799401029858, 1.120477713746045, 2.2257091275037957, 14.190969813072375, -4.947157012452465], 'output': 0.8805112686768793, 'delta': -0.05546606214225371}, {'weights': [1.742677552861347, 1.7915722111149812, 0.6263549584013689, -1.3504826796834501, 12.237981266033696, 0.5648313949151927, 1.1435945515064536, 0.43852966742047317, 1.1844388553894647, 1.465007354304553, 0.14937007846846528, 0.9721168165307902, 16.03867269070583, -6.0922046657016535], 'output': 0.8838268004874128, 'delta': -0.05375501039175442}, {'weights': [1.4921570297938411, -0.702968876085896, 0.5024174199300318, -7.401930030221741, -5.603214771720165, 1.8781096728664666, 3.498061535026872, -0.17273866290746487, 1.4770010931282016, -3.095755456024008, 1.1164241072906274, 2.5214758643678827, 16.31766316995613, -12.373142969759192], 'output': 0.005632439307205069, 'delta': -0.0009636462813217073}]\n",
            "[{'weights': [5.49187379896181, 9.271689162991077, 13.672743792955604, -13.591778133063988], 'output': 0.3986105827651187, 'delta': -0.09555500307102999}, {'weights': [-0.2737796734715943, -4.6332401746933485, -4.775836175172018, 2.399729498907048], 'output': 0.12424291242813601, 'delta': -0.013518450259408456}, {'weights': [3.1767148827863476, -0.6222858083550508, -42.2264143356584, -1.7271824942717733], 'output': 0.5489597795294059, 'delta': 0.11167888464154964}]\n"
          ],
          "name": "stdout"
        }
      ]
    },
    {
      "cell_type": "code",
      "metadata": {
        "colab": {
          "base_uri": "https://localhost:8080/"
        },
        "id": "4mwu2nz141ir",
        "outputId": "d6faf1fa-252b-4165-d6f8-ab29245c25e9"
      },
      "source": [
        "for sample in testDataset:\r\n",
        "  prediction=predict(network,sample)\r\n",
        "  print(int(sample[-1]), prediction)"
      ],
      "execution_count": null,
      "outputs": [
        {
          "output_type": "stream",
          "text": [
            "2 2\n",
            "0 0\n",
            "0 0\n",
            "1 1\n",
            "0 0\n",
            "1 1\n",
            "1 2\n",
            "2 1\n",
            "2 2\n",
            "1 2\n",
            "2 2\n",
            "0 0\n",
            "2 2\n",
            "1 1\n",
            "2 1\n",
            "1 2\n",
            "1 1\n",
            "1 1\n",
            "1 1\n",
            "1 0\n",
            "2 1\n",
            "1 1\n",
            "0 0\n",
            "2 2\n",
            "1 1\n",
            "1 2\n",
            "1 2\n"
          ],
          "name": "stdout"
        }
      ]
    },
    {
      "cell_type": "markdown",
      "metadata": {
        "id": "LHIpDKVk6rGc"
      },
      "source": [
        "#Kmeans"
      ]
    },
    {
      "cell_type": "code",
      "metadata": {
        "id": "rhhlehqJyAzF"
      },
      "source": [
        "wine = load_wine()\r\n",
        "X=wine.data\r\n",
        "y=wine.target"
      ],
      "execution_count": 27,
      "outputs": []
    },
    {
      "cell_type": "code",
      "metadata": {
        "colab": {
          "base_uri": "https://localhost:8080/"
        },
        "id": "s-Si_f_V4DSB",
        "outputId": "2c1c4c94-a8a2-4ea5-e256-31da60750a10"
      },
      "source": [
        "X"
      ],
      "execution_count": 28,
      "outputs": [
        {
          "output_type": "execute_result",
          "data": {
            "text/plain": [
              "array([[1.423e+01, 1.710e+00, 2.430e+00, ..., 1.040e+00, 3.920e+00,\n",
              "        1.065e+03],\n",
              "       [1.320e+01, 1.780e+00, 2.140e+00, ..., 1.050e+00, 3.400e+00,\n",
              "        1.050e+03],\n",
              "       [1.316e+01, 2.360e+00, 2.670e+00, ..., 1.030e+00, 3.170e+00,\n",
              "        1.185e+03],\n",
              "       ...,\n",
              "       [1.327e+01, 4.280e+00, 2.260e+00, ..., 5.900e-01, 1.560e+00,\n",
              "        8.350e+02],\n",
              "       [1.317e+01, 2.590e+00, 2.370e+00, ..., 6.000e-01, 1.620e+00,\n",
              "        8.400e+02],\n",
              "       [1.413e+01, 4.100e+00, 2.740e+00, ..., 6.100e-01, 1.600e+00,\n",
              "        5.600e+02]])"
            ]
          },
          "metadata": {
            "tags": []
          },
          "execution_count": 28
        }
      ]
    },
    {
      "cell_type": "code",
      "metadata": {
        "colab": {
          "base_uri": "https://localhost:8080/"
        },
        "id": "jqkM8Nrw3bq2",
        "outputId": "c83f8d0d-ef5b-4522-8e54-ac94f0107745"
      },
      "source": [
        "X.shape"
      ],
      "execution_count": 29,
      "outputs": [
        {
          "output_type": "execute_result",
          "data": {
            "text/plain": [
              "(178, 13)"
            ]
          },
          "metadata": {
            "tags": []
          },
          "execution_count": 29
        }
      ]
    },
    {
      "cell_type": "code",
      "metadata": {
        "id": "RHWlh2up6RBn"
      },
      "source": [
        "X = X[:, [1, 3]]"
      ],
      "execution_count": 30,
      "outputs": []
    },
    {
      "cell_type": "code",
      "metadata": {
        "id": "1v3uZxJt9q-8"
      },
      "source": [
        "m=X.shape[0] #setting the number of examples\r\n",
        "n=X.shape[1] #setting the number of features"
      ],
      "execution_count": 31,
      "outputs": []
    },
    {
      "cell_type": "code",
      "metadata": {
        "colab": {
          "base_uri": "https://localhost:8080/"
        },
        "id": "n6bDLyf99xW0",
        "outputId": "8461133c-56fe-4218-89cd-9279c55eab3b"
      },
      "source": [
        "n #'malic_acid', 'ash'"
      ],
      "execution_count": 32,
      "outputs": [
        {
          "output_type": "execute_result",
          "data": {
            "text/plain": [
              "2"
            ]
          },
          "metadata": {
            "tags": []
          },
          "execution_count": 32
        }
      ]
    },
    {
      "cell_type": "code",
      "metadata": {
        "colab": {
          "base_uri": "https://localhost:8080/"
        },
        "id": "oS9_9agb9ypE",
        "outputId": "5cfecad3-2b2b-4b98-ee97-ef4cf848c853"
      },
      "source": [
        "m"
      ],
      "execution_count": 33,
      "outputs": [
        {
          "output_type": "execute_result",
          "data": {
            "text/plain": [
              "178"
            ]
          },
          "metadata": {
            "tags": []
          },
          "execution_count": 33
        }
      ]
    },
    {
      "cell_type": "code",
      "metadata": {
        "colab": {
          "base_uri": "https://localhost:8080/",
          "height": 312
        },
        "id": "XwMfgFddAaug",
        "outputId": "de7965b6-844f-4108-a323-9d28649aa275"
      },
      "source": [
        "#Using the elbow method to find the optimal number of clusters \r\n",
        "from sklearn.cluster import KMeans\r\n",
        "cost=[]\r\n",
        "for k in range (1,11):\r\n",
        "    kmeans = KMeans (n_clusters= k, init= 'k-means++',random_state= 42)\r\n",
        "    kmeans.fit(X)\r\n",
        "    cost.append(kmeans.inertia_)\r\n",
        "plt.plot(range(1,11),cost)\r\n",
        "plt.title('The Elbow method')\r\n",
        "plt.xlabel('Number of clusters')\r\n",
        "plt.ylabel('cost')\r\n",
        "plt.show"
      ],
      "execution_count": 34,
      "outputs": [
        {
          "output_type": "execute_result",
          "data": {
            "text/plain": [
              "<function matplotlib.pyplot.show>"
            ]
          },
          "metadata": {
            "tags": []
          },
          "execution_count": 34
        },
        {
          "output_type": "display_data",
          "data": {
            "image/png": "[encoded data removed]",
            "text/plain": [
              "<Figure size 432x288 with 1 Axes>"
            ]
          },
          "metadata": {
            "tags": [],
            "needs_background": "light"
          }
        }
      ]
    },
    {
      "cell_type": "code",
      "metadata": {
        "id": "rmKxFnhM-ZJ9"
      },
      "source": [
        "K=3 #number of clusters \r\n",
        "iterations=10000 #number of iterations"
      ],
      "execution_count": 35,
      "outputs": []
    },
    {
      "cell_type": "code",
      "metadata": {
        "id": "RtjVc9_Y-zsG"
      },
      "source": [
        "centroids=np.zeros([n*K]) \r\n",
        "centroids=centroids.reshape(n,K)"
      ],
      "execution_count": 36,
      "outputs": []
    },
    {
      "cell_type": "code",
      "metadata": {
        "colab": {
          "base_uri": "https://localhost:8080/"
        },
        "id": "go_XEImc-09f",
        "outputId": "d958b939-6385-4092-a9ec-33766c14e407"
      },
      "source": [
        "np.shape(centroids)"
      ],
      "execution_count": 37,
      "outputs": [
        {
          "output_type": "execute_result",
          "data": {
            "text/plain": [
              "(2, 3)"
            ]
          },
          "metadata": {
            "tags": []
          },
          "execution_count": 37
        }
      ]
    },
    {
      "cell_type": "code",
      "metadata": {
        "id": "MgcGqI07-2Ro"
      },
      "source": [
        "import random\r\n",
        "for k in range(K): \r\n",
        "    rand=random.randint(0,m-1) \r\n",
        "    #data index is randomly generated,\r\n",
        "    # but limited by the lower bound of 0 \r\n",
        "    #and the upper bound of the indexes of m (examples)\r\n",
        "    centroids[:,k]=X[rand]"
      ],
      "execution_count": 38,
      "outputs": []
    },
    {
      "cell_type": "code",
      "metadata": {
        "colab": {
          "base_uri": "https://localhost:8080/"
        },
        "id": "w87zgadO-3tN",
        "outputId": "5a3bc3a8-e88c-46fc-cf7d-4a445c4de3fe"
      },
      "source": [
        "centroids"
      ],
      "execution_count": 39,
      "outputs": [
        {
          "output_type": "execute_result",
          "data": {
            "text/plain": [
              "array([[ 1.35,  1.72,  4.1 ],\n",
              "       [16.  , 17.  , 24.5 ]])"
            ]
          },
          "metadata": {
            "tags": []
          },
          "execution_count": 39
        }
      ]
    },
    {
      "cell_type": "code",
      "metadata": {
        "colab": {
          "base_uri": "https://localhost:8080/",
          "height": 282
        },
        "id": "CxQsGE3f_gwt",
        "outputId": "2a8e7ac6-8dc1-4551-c0b4-3307ed404171"
      },
      "source": [
        "plt.scatter(X[:,0],X[:,1])\r\n",
        "plt.scatter(centroids[0,:],centroids[1,:]) #showing the first position of the centroids"
      ],
      "execution_count": 40,
      "outputs": [
        {
          "output_type": "execute_result",
          "data": {
            "text/plain": [
              "<matplotlib.collections.PathCollection at 0x7f0cc80d3240>"
            ]
          },
          "metadata": {
            "tags": []
          },
          "execution_count": 40
        },
        {
          "output_type": "display_data",
          "data": {
            "image/png": "[encoded data removed]",
            "text/plain": [
              "<Figure size 432x288 with 1 Axes>"
            ]
          },
          "metadata": {
            "tags": [],
            "needs_background": "light"
          }
        }
      ]
    },
    {
      "cell_type": "code",
      "metadata": {
        "colab": {
          "base_uri": "https://localhost:8080/"
        },
        "id": "yj1vOrgC_iV9",
        "outputId": "2eab0e15-5725-4f87-dab3-e9480736e155"
      },
      "source": [
        "EuclidianDistance=np.zeros([m*K])\r\n",
        "EuclidianDistance=EuclidianDistance.reshape(m,K)\r\n",
        "EuclidianDistance"
      ],
      "execution_count": 41,
      "outputs": [
        {
          "output_type": "execute_result",
          "data": {
            "text/plain": [
              "array([[0., 0., 0.],\n",
              "       [0., 0., 0.],\n",
              "       [0., 0., 0.],\n",
              "       [0., 0., 0.],\n",
              "       [0., 0., 0.],\n",
              "       [0., 0., 0.],\n",
              "       [0., 0., 0.],\n",
              "       [0., 0., 0.],\n",
              "       [0., 0., 0.],\n",
              "       [0., 0., 0.],\n",
              "       [0., 0., 0.],\n",
              "       [0., 0., 0.],\n",
              "       [0., 0., 0.],\n",
              "       [0., 0., 0.],\n",
              "       [0., 0., 0.],\n",
              "       [0., 0., 0.],\n",
              "       [0., 0., 0.],\n",
              "       [0., 0., 0.],\n",
              "       [0., 0., 0.],\n",
              "       [0., 0., 0.],\n",
              "       [0., 0., 0.],\n",
              "       [0., 0., 0.],\n",
              "       [0., 0., 0.],\n",
              "       [0., 0., 0.],\n",
              "       [0., 0., 0.],\n",
              "       [0., 0., 0.],\n",
              "       [0., 0., 0.],\n",
              "       [0., 0., 0.],\n",
              "       [0., 0., 0.],\n",
              "       [0., 0., 0.],\n",
              "       [0., 0., 0.],\n",
              "       [0., 0., 0.],\n",
              "       [0., 0., 0.],\n",
              "       [0., 0., 0.],\n",
              "       [0., 0., 0.],\n",
              "       [0., 0., 0.],\n",
              "       [0., 0., 0.],\n",
              "       [0., 0., 0.],\n",
              "       [0., 0., 0.],\n",
              "       [0., 0., 0.],\n",
              "       [0., 0., 0.],\n",
              "       [0., 0., 0.],\n",
              "       [0., 0., 0.],\n",
              "       [0., 0., 0.],\n",
              "       [0., 0., 0.],\n",
              "       [0., 0., 0.],\n",
              "       [0., 0., 0.],\n",
              "       [0., 0., 0.],\n",
              "       [0., 0., 0.],\n",
              "       [0., 0., 0.],\n",
              "       [0., 0., 0.],\n",
              "       [0., 0., 0.],\n",
              "       [0., 0., 0.],\n",
              "       [0., 0., 0.],\n",
              "       [0., 0., 0.],\n",
              "       [0., 0., 0.],\n",
              "       [0., 0., 0.],\n",
              "       [0., 0., 0.],\n",
              "       [0., 0., 0.],\n",
              "       [0., 0., 0.],\n",
              "       [0., 0., 0.],\n",
              "       [0., 0., 0.],\n",
              "       [0., 0., 0.],\n",
              "       [0., 0., 0.],\n",
              "       [0., 0., 0.],\n",
              "       [0., 0., 0.],\n",
              "       [0., 0., 0.],\n",
              "       [0., 0., 0.],\n",
              "       [0., 0., 0.],\n",
              "       [0., 0., 0.],\n",
              "       [0., 0., 0.],\n",
              "       [0., 0., 0.],\n",
              "       [0., 0., 0.],\n",
              "       [0., 0., 0.],\n",
              "       [0., 0., 0.],\n",
              "       [0., 0., 0.],\n",
              "       [0., 0., 0.],\n",
              "       [0., 0., 0.],\n",
              "       [0., 0., 0.],\n",
              "       [0., 0., 0.],\n",
              "       [0., 0., 0.],\n",
              "       [0., 0., 0.],\n",
              "       [0., 0., 0.],\n",
              "       [0., 0., 0.],\n",
              "       [0., 0., 0.],\n",
              "       [0., 0., 0.],\n",
              "       [0., 0., 0.],\n",
              "       [0., 0., 0.],\n",
              "       [0., 0., 0.],\n",
              "       [0., 0., 0.],\n",
              "       [0., 0., 0.],\n",
              "       [0., 0., 0.],\n",
              "       [0., 0., 0.],\n",
              "       [0., 0., 0.],\n",
              "       [0., 0., 0.],\n",
              "       [0., 0., 0.],\n",
              "       [0., 0., 0.],\n",
              "       [0., 0., 0.],\n",
              "       [0., 0., 0.],\n",
              "       [0., 0., 0.],\n",
              "       [0., 0., 0.],\n",
              "       [0., 0., 0.],\n",
              "       [0., 0., 0.],\n",
              "       [0., 0., 0.],\n",
              "       [0., 0., 0.],\n",
              "       [0., 0., 0.],\n",
              "       [0., 0., 0.],\n",
              "       [0., 0., 0.],\n",
              "       [0., 0., 0.],\n",
              "       [0., 0., 0.],\n",
              "       [0., 0., 0.],\n",
              "       [0., 0., 0.],\n",
              "       [0., 0., 0.],\n",
              "       [0., 0., 0.],\n",
              "       [0., 0., 0.],\n",
              "       [0., 0., 0.],\n",
              "       [0., 0., 0.],\n",
              "       [0., 0., 0.],\n",
              "       [0., 0., 0.],\n",
              "       [0., 0., 0.],\n",
              "       [0., 0., 0.],\n",
              "       [0., 0., 0.],\n",
              "       [0., 0., 0.],\n",
              "       [0., 0., 0.],\n",
              "       [0., 0., 0.],\n",
              "       [0., 0., 0.],\n",
              "       [0., 0., 0.],\n",
              "       [0., 0., 0.],\n",
              "       [0., 0., 0.],\n",
              "       [0., 0., 0.],\n",
              "       [0., 0., 0.],\n",
              "       [0., 0., 0.],\n",
              "       [0., 0., 0.],\n",
              "       [0., 0., 0.],\n",
              "       [0., 0., 0.],\n",
              "       [0., 0., 0.],\n",
              "       [0., 0., 0.],\n",
              "       [0., 0., 0.],\n",
              "       [0., 0., 0.],\n",
              "       [0., 0., 0.],\n",
              "       [0., 0., 0.],\n",
              "       [0., 0., 0.],\n",
              "       [0., 0., 0.],\n",
              "       [0., 0., 0.],\n",
              "       [0., 0., 0.],\n",
              "       [0., 0., 0.],\n",
              "       [0., 0., 0.],\n",
              "       [0., 0., 0.],\n",
              "       [0., 0., 0.],\n",
              "       [0., 0., 0.],\n",
              "       [0., 0., 0.],\n",
              "       [0., 0., 0.],\n",
              "       [0., 0., 0.],\n",
              "       [0., 0., 0.],\n",
              "       [0., 0., 0.],\n",
              "       [0., 0., 0.],\n",
              "       [0., 0., 0.],\n",
              "       [0., 0., 0.],\n",
              "       [0., 0., 0.],\n",
              "       [0., 0., 0.],\n",
              "       [0., 0., 0.],\n",
              "       [0., 0., 0.],\n",
              "       [0., 0., 0.],\n",
              "       [0., 0., 0.],\n",
              "       [0., 0., 0.],\n",
              "       [0., 0., 0.],\n",
              "       [0., 0., 0.],\n",
              "       [0., 0., 0.],\n",
              "       [0., 0., 0.],\n",
              "       [0., 0., 0.],\n",
              "       [0., 0., 0.],\n",
              "       [0., 0., 0.],\n",
              "       [0., 0., 0.],\n",
              "       [0., 0., 0.],\n",
              "       [0., 0., 0.],\n",
              "       [0., 0., 0.],\n",
              "       [0., 0., 0.],\n",
              "       [0., 0., 0.]])"
            ]
          },
          "metadata": {
            "tags": []
          },
          "execution_count": 41
        }
      ]
    },
    {
      "cell_type": "code",
      "metadata": {
        "colab": {
          "base_uri": "https://localhost:8080/"
        },
        "id": "GAH7xZo__kM9",
        "outputId": "513fad1e-4a40-41b9-d9fb-0201667be048"
      },
      "source": [
        "for i in range (iterations):\r\n",
        "   for k in range(K):\r\n",
        "       tempDist=np.sum((X-centroids[:,k])**2,axis=1) #distance between each sample and each cluster\r\n",
        "       EuclidianDistance[:,k]=tempDist\r\n",
        "EuclidianDistance"
      ],
      "execution_count": 42,
      "outputs": [
        {
          "output_type": "execute_result",
          "data": {
            "text/plain": [
              "array([[2.896000e-01, 1.960100e+00, 8.492210e+01],\n",
              "       [2.322490e+01, 3.364360e+01, 1.822724e+02],\n",
              "       [7.780100e+00, 2.969600e+00, 3.783760e+01],\n",
              "       [1.000000e+00, 9.290000e-02, 6.391250e+01],\n",
              "       [2.653760e+01, 1.675690e+01, 1.453010e+01],\n",
              "       [8.081000e-01, 3.241600e+00, 9.196560e+01],\n",
              "       [2.230400e+00, 5.782500e+00, 1.029829e+02],\n",
              "       [3.200000e+00, 5.449000e-01, 5.141250e+01],\n",
              "       [4.084100e+00, 9.006400e+00, 1.163016e+02],\n",
              "       [0.000000e+00, 1.136900e+00, 7.981250e+01],\n",
              "       [4.656100e+00, 1.193600e+00, 4.601360e+01],\n",
              "       [6.569000e-01, 9.760000e-02, 6.615440e+01],\n",
              "       [1.444000e-01, 1.000100e+00, 7.786690e+01],\n",
              "       [2.130440e+01, 3.136010e+01, 1.772269e+02],\n",
              "       [1.627040e+01, 2.502250e+01, 1.612229e+02],\n",
              "       [1.651600e+00, 4.810000e-02, 5.853410e+01],\n",
              "       [1.632490e+01, 9.040000e+00, 2.500240e+01],\n",
              "       [1.604840e+01, 9.022500e+00, 2.665090e+01],\n",
              "       [3.076000e-01, 2.669000e-01, 7.030010e+01],\n",
              "       [3.702500e+00, 5.144400e+00, 8.749000e+01],\n",
              "       [7.840000e-02, 1.008100e+00, 7.835090e+01],\n",
              "       [1.276250e+01, 6.886400e+00, 3.490000e+01],\n",
              "       [6.201000e-01, 1.796000e-01, 6.742760e+01],\n",
              "       [3.302500e+00, 6.544000e-01, 5.114000e+01],\n",
              "       [1.621160e+01, 9.008100e+00, 2.549410e+01],\n",
              "       [8.149000e+01, 6.410890e+01, 4.452500e+00],\n",
              "       [1.864000e-01, 8.125000e-01, 7.598890e+01],\n",
              "       [1.136900e+00, 0.000000e+00, 6.191440e+01],\n",
              "       [1.186250e+01, 5.792400e+00, 3.085000e+01],\n",
              "       [1.089000e-01, 1.001600e+00, 7.810640e+01],\n",
              "       [4.227250e+01, 3.029840e+01, 1.076000e+01],\n",
              "       [9.706100e+00, 4.413600e+00, 3.511360e+01],\n",
              "       [1.670400e+00, 5.210000e-02, 5.844290e+01],\n",
              "       [1.228240e+01, 6.286100e+00, 3.160490e+01],\n",
              "       [9.202500e+00, 4.006400e+00, 3.554000e+01],\n",
              "       [2.046160e+01, 1.225810e+01, 2.124410e+01],\n",
              "       [3.341000e-01, 2.256400e+00, 8.705160e+01],\n",
              "       [4.090000e+00, 1.004900e+00, 4.825250e+01],\n",
              "       [2.725000e-01, 2.298400e+00, 8.776000e+01],\n",
              "       [1.480960e+01, 1.959290e+01, 1.277021e+02],\n",
              "       [1.696000e-01, 6.401000e-01, 7.460210e+01],\n",
              "       [1.404010e+01, 7.734400e+00, 3.255760e+01],\n",
              "       [1.291600e+00, 4.028900e+00, 9.513410e+01],\n",
              "       [9.166900e+00, 5.357600e+00, 4.901440e+01],\n",
              "       [1.176400e+00, 2.500000e-03, 6.167890e+01],\n",
              "       [1.564610e+01, 8.992400e+00, 3.136360e+01],\n",
              "       [5.017600e+00, 4.496900e+00, 7.251010e+01],\n",
              "       [1.089000e-01, 1.001600e+00, 7.810640e+01],\n",
              "       [8.288900e+00, 3.330000e+00, 3.681640e+01],\n",
              "       [2.104400e+00, 1.601000e-01, 5.602690e+01],\n",
              "       [1.310440e+01, 2.116010e+01, 1.520269e+02],\n",
              "       [1.530000e+00, 4.490000e-02, 5.929250e+01],\n",
              "       [4.160000e+00, 9.000900e+00, 1.157725e+02],\n",
              "       [1.512500e+00, 4.240000e-02, 5.960000e+01],\n",
              "       [2.624000e-01, 3.625000e-01, 7.151490e+01],\n",
              "       [2.039440e+01, 1.225010e+01, 2.161690e+01],\n",
              "       [2.125000e-01, 4.904000e-01, 7.300000e+01],\n",
              "       [1.024400e+00, 1.025000e-01, 6.382690e+01],\n",
              "       [4.964000e-01, 1.741000e-01, 6.796890e+01],\n",
              "       [2.932810e+01, 4.156840e+01, 2.031956e+02],\n",
              "       [6.250000e-02, 1.384400e+00, 8.125000e+01],\n",
              "       [6.401000e-01, 1.696000e-01, 6.679760e+01],\n",
              "       [4.010000e+00, 1.220900e+00, 5.037250e+01],\n",
              "       [9.048400e+00, 4.348100e+00, 3.907090e+01],\n",
              "       [9.010000e+00, 4.072900e+00, 3.727250e+01],\n",
              "       [4.429600e+00, 1.470100e+00, 4.931210e+01],\n",
              "       [1.115600e+00, 4.504100e+00, 9.979810e+01],\n",
              "       [1.299240e+01, 7.062500e+00, 3.259490e+01],\n",
              "       [1.168100e+00, 6.084000e-01, 6.623560e+01],\n",
              "       [6.656000e-01, 3.209000e-01, 6.775810e+01],\n",
              "       [1.942760e+01, 1.157210e+01, 2.301010e+01],\n",
              "       [8.102560e+01, 6.404410e+01, 6.958100e+00],\n",
              "       [6.409610e+01, 4.900360e+01, 6.203600e+00],\n",
              "       [1.961024e+02, 1.690025e+02, 3.615490e+01],\n",
              "       [2.506760e+01, 1.639690e+01, 2.131010e+01],\n",
              "       [2.809000e-01, 1.025600e+00, 7.717840e+01],\n",
              "       [2.025000e-01, 1.672400e+00, 8.249000e+01],\n",
              "       [6.371600e+00, 2.368900e+00, 4.371410e+01],\n",
              "       [1.569600e+00, 5.372900e+00, 1.037621e+02],\n",
              "       [5.535040e+01, 4.062250e+01, 2.302900e+00],\n",
              "       [9.184900e+00, 4.640000e+00, 4.036240e+01],\n",
              "       [8.051600e+00, 3.248100e+00, 3.773410e+01],\n",
              "       [6.404840e+01, 4.934810e+01, 9.070900e+00],\n",
              "       [4.855010e+01, 3.482960e+01, 4.057600e+00],\n",
              "       [4.211600e+00, 1.688900e+00, 5.255410e+01],\n",
              "       [4.136900e+00, 1.547600e+00, 5.198440e+01],\n",
              "       [4.630760e+01, 3.365210e+01, 9.090100e+00],\n",
              "       [1.001024e+02, 8.100250e+01, 8.154900e+00],\n",
              "       [3.186410e+01, 2.127560e+01, 1.257160e+01],\n",
              "       [5.776040e+01, 4.371210e+01, 8.482900e+00],\n",
              "       [6.480400e+00, 2.262100e+00, 4.115290e+01],\n",
              "       [3.602560e+01, 2.504410e+01, 1.295810e+01],\n",
              "       [2.212240e+01, 1.372610e+01, 2.104490e+01],\n",
              "       [6.190400e+00, 2.232100e+00, 4.386290e+01],\n",
              "       [4.409600e+00, 1.072900e+00, 4.670210e+01],\n",
              "       [9.028900e+00, 4.040000e+00, 3.690640e+01],\n",
              "       [3.084290e+01, 2.041000e+01, 1.292040e+01],\n",
              "       [3.600000e-03, 1.096100e+00, 7.948610e+01],\n",
              "       [6.328400e+00, 2.672500e+00, 4.518090e+01],\n",
              "       [7.312400e+00, 3.102500e+00, 4.311490e+01],\n",
              "       [2.782900e+00, 3.796000e-01, 5.308040e+01],\n",
              "       [6.250100e+00, 2.394400e+00, 4.361760e+01],\n",
              "       [2.621000e+01, 1.653290e+01, 1.497250e+01],\n",
              "       [1.238690e+01, 6.250000e+00, 3.066440e+01],\n",
              "       [2.039440e+01, 1.225010e+01, 2.161690e+01],\n",
              "       [3.744000e+01, 2.568890e+01, 8.652500e+00],\n",
              "       [9.144400e+00, 4.000100e+00, 3.586690e+01],\n",
              "       [4.241000e+01, 3.025090e+01, 9.522500e+00],\n",
              "       [9.003600e+00, 4.184900e+00, 3.814610e+01],\n",
              "       [1.600000e+01, 9.136900e+00, 2.781250e+01],\n",
              "       [1.796210e+01, 1.033040e+01, 2.512960e+01],\n",
              "       [2.616640e+01, 1.650410e+01, 1.503890e+01],\n",
              "       [1.776890e+01, 9.921600e+00, 2.226640e+01],\n",
              "       [2.537210e+01, 1.696040e+01, 2.353960e+01],\n",
              "       [4.225160e+01, 3.035890e+01, 1.134410e+01],\n",
              "       [3.027560e+01, 2.029410e+01, 1.570810e+01],\n",
              "       [2.305440e+01, 1.450250e+01, 2.060690e+01],\n",
              "       [4.231760e+01, 3.026210e+01, 1.020010e+01],\n",
              "       [4.326400e+00, 3.924100e+00, 7.269890e+01],\n",
              "       [1.332640e+01, 6.924100e+00, 3.069890e+01],\n",
              "       [1.710250e+01, 9.462400e+00, 2.314000e+01],\n",
              "       [1.567400e+02, 1.323589e+02, 2.020250e+01],\n",
              "       [1.197364e+02, 9.759410e+01, 4.108900e+00],\n",
              "       [5.005250e+01, 3.689640e+01, 1.189000e+01],\n",
              "       [3.376160e+01, 2.270810e+01, 1.229410e+01],\n",
              "       [2.565610e+01, 1.619360e+01, 1.601360e+01],\n",
              "       [3.028240e+01, 2.028610e+01, 1.560490e+01],\n",
              "       [1.568584e+02, 1.324181e+02, 1.988090e+01],\n",
              "       [7.232840e+01, 5.625810e+01, 6.100900e+00],\n",
              "       [4.470250e+01, 3.165640e+01, 6.290000e+00],\n",
              "       [4.000000e+00, 1.136900e+00, 4.981250e+01],\n",
              "       [1.868960e+01, 1.061290e+01, 2.148210e+01],\n",
              "       [6.492160e+01, 4.934810e+01, 3.454100e+00],\n",
              "       [3.509000e+01, 2.359890e+01, 9.302500e+00],\n",
              "       [2.262100e+00, 4.804000e-01, 5.717960e+01],\n",
              "       [7.482100e+00, 2.797600e+00, 3.868960e+01],\n",
              "       [3.635690e+01, 2.500000e+01, 1.263440e+01],\n",
              "       [9.830560e+01, 7.836410e+01, 2.238100e+00],\n",
              "       [1.726760e+01, 9.746900e+00, 2.526010e+01],\n",
              "       [6.659210e+01, 5.053760e+01, 1.549600e+00],\n",
              "       [2.713160e+01, 1.718810e+01, 1.391410e+01],\n",
              "       [1.746410e+01, 9.705600e+00, 2.262160e+01],\n",
              "       [5.956240e+01, 4.435250e+01, 1.864900e+00],\n",
              "       [2.896000e+01, 1.943290e+01, 2.097250e+01],\n",
              "       [1.265090e+01, 6.915600e+00, 3.604840e+01],\n",
              "       [2.992840e+01, 1.942250e+01, 1.253090e+01],\n",
              "       [2.961610e+01, 2.002240e+01, 2.113360e+01],\n",
              "       [4.087760e+01, 2.860210e+01, 9.260100e+00],\n",
              "       [3.382210e+01, 2.256040e+01, 9.739600e+00],\n",
              "       [3.675250e+01, 2.500240e+01, 9.040000e+00],\n",
              "       [6.713290e+01, 5.096000e+01, 1.210400e+00],\n",
              "       [3.774240e+01, 2.590250e+01, 8.294900e+00],\n",
              "       [9.055250e+01, 7.228240e+01, 5.840000e+00],\n",
              "       [1.005250e+01, 4.746400e+00, 3.664000e+01],\n",
              "       [1.600360e+01, 9.184900e+00, 2.814610e+01],\n",
              "       [5.074560e+01, 3.704090e+01, 7.438100e+00],\n",
              "       [1.992290e+01, 1.201000e+01, 2.500040e+01],\n",
              "       [1.238224e+02, 1.017161e+02, 7.394900e+00],\n",
              "       [8.110890e+01, 6.400160e+01, 6.106400e+00],\n",
              "       [4.235240e+01, 3.025250e+01, 9.904900e+00],\n",
              "       [3.115040e+01, 2.045210e+01, 1.232290e+01],\n",
              "       [1.964810e+01, 1.137160e+01, 2.095560e+01],\n",
              "       [3.968640e+01, 2.740250e+01, 6.938900e+00],\n",
              "       [1.066000e+01, 5.242900e+00, 3.642250e+01],\n",
              "       [3.798810e+01, 2.608160e+01, 8.045600e+00],\n",
              "       [5.131010e+01, 3.721960e+01, 4.067600e+00],\n",
              "       [5.452250e+01, 3.992040e+01, 2.410000e+00],\n",
              "       [1.633040e+01, 8.972500e+00, 2.553290e+01],\n",
              "       [7.376290e+01, 5.698960e+01, 2.310400e+00],\n",
              "       [9.156250e+01, 7.229440e+01, 5.000000e-01],\n",
              "       [1.182240e+01, 5.716100e+00, 3.139490e+01],\n",
              "       [1.333160e+01, 6.698900e+00, 2.792410e+01],\n",
              "       [1.734560e+01, 9.624100e+00, 2.277810e+01],\n",
              "       [3.874000e+01, 2.769490e+01, 1.840250e+01],\n",
              "       [5.555360e+01, 4.079610e+01, 2.286100e+00],\n",
              "       [2.458490e+01, 1.555360e+01, 2.028240e+01],\n",
              "       [1.753760e+01, 9.756900e+00, 2.253010e+01],\n",
              "       [7.981250e+01, 6.191440e+01, 0.000000e+00]])"
            ]
          },
          "metadata": {
            "tags": []
          },
          "execution_count": 42
        }
      ]
    },
    {
      "cell_type": "code",
      "metadata": {
        "id": "ShSuWjNA_oX1"
      },
      "source": [
        "C=np.argmin(EuclidianDistance,axis=1)+1 \r\n",
        "#for each sample return the cluster number (columns) for which we have minimum distance"
      ],
      "execution_count": 43,
      "outputs": []
    },
    {
      "cell_type": "code",
      "metadata": {
        "colab": {
          "base_uri": "https://localhost:8080/"
        },
        "id": "U02d9b7W_qM9",
        "outputId": "195a31fc-6c2b-4fe5-eda3-ded0aa079524"
      },
      "source": [
        "C"
      ],
      "execution_count": 44,
      "outputs": [
        {
          "output_type": "execute_result",
          "data": {
            "text/plain": [
              "array([1, 1, 2, 2, 3, 1, 1, 2, 1, 1, 2, 2, 1, 1, 1, 2, 2, 2, 2, 1, 1, 2,\n",
              "       2, 2, 2, 3, 1, 2, 2, 1, 3, 2, 2, 2, 2, 2, 1, 2, 1, 1, 1, 2, 1, 2,\n",
              "       2, 2, 2, 1, 2, 2, 1, 2, 1, 2, 1, 2, 1, 2, 2, 1, 1, 2, 2, 2, 2, 2,\n",
              "       1, 2, 2, 2, 2, 3, 3, 3, 2, 1, 1, 2, 1, 3, 2, 2, 3, 3, 2, 2, 3, 3,\n",
              "       3, 3, 2, 3, 2, 2, 2, 2, 3, 1, 2, 2, 2, 2, 3, 2, 2, 3, 2, 3, 2, 2,\n",
              "       2, 3, 2, 2, 3, 3, 2, 3, 2, 2, 2, 3, 3, 3, 3, 3, 3, 3, 3, 3, 2, 2,\n",
              "       3, 3, 2, 2, 3, 3, 2, 3, 3, 2, 3, 2, 2, 3, 2, 3, 3, 3, 3, 3, 3, 2,\n",
              "       2, 3, 2, 3, 3, 3, 3, 2, 3, 2, 3, 3, 3, 2, 3, 3, 2, 2, 2, 3, 3, 2,\n",
              "       2, 3])"
            ]
          },
          "metadata": {
            "tags": []
          },
          "execution_count": 44
        }
      ]
    },
    {
      "cell_type": "code",
      "metadata": {
        "id": "chnx8Nrr_rEN"
      },
      "source": [
        "#indexes of all the samples in each cluster\r\n",
        "C1indexes=np.where(C==1)\r\n",
        "C2indexes=np.where(C==2)\r\n",
        "C3indexes=np.where(C==3)"
      ],
      "execution_count": 45,
      "outputs": []
    },
    {
      "cell_type": "code",
      "metadata": {
        "colab": {
          "base_uri": "https://localhost:8080/"
        },
        "id": "ncGteyTT_smd",
        "outputId": "0161895e-26d9-4989-f402-a58a27bceb12"
      },
      "source": [
        "C3indexes #listing the indexes in the cluster number 3"
      ],
      "execution_count": 46,
      "outputs": [
        {
          "output_type": "execute_result",
          "data": {
            "text/plain": [
              "(array([  4,  25,  30,  71,  72,  73,  79,  82,  83,  86,  87,  88,  89,\n",
              "         91,  96, 102, 105, 107, 111, 114, 115, 117, 121, 122, 123, 124,\n",
              "        125, 126, 127, 128, 129, 132, 133, 136, 137, 139, 140, 142, 145,\n",
              "        147, 148, 149, 150, 151, 152, 155, 157, 158, 159, 160, 162, 164,\n",
              "        165, 166, 168, 169, 173, 174, 177]),)"
            ]
          },
          "metadata": {
            "tags": []
          },
          "execution_count": 46
        }
      ]
    },
    {
      "cell_type": "code",
      "metadata": {
        "id": "_dUa1Be-Rj58"
      },
      "source": [
        "#Grouping of the samples based on the cluster they were assigned to \r\n",
        "Cluster1=X[C1indexes]\r\n",
        "Cluster2=X[C2indexes]\r\n",
        "Cluster3=X[C3indexes]"
      ],
      "execution_count": 49,
      "outputs": []
    },
    {
      "cell_type": "code",
      "metadata": {
        "id": "Gujes9Oy_uod"
      },
      "source": [
        "#finding the mean value for each cluster \r\n",
        "C1mean=Cluster1.mean(axis=0)\r\n",
        "C2mean=Cluster2.mean(axis=0)\r\n",
        "C3mean=Cluster3.mean(axis=0)"
      ],
      "execution_count": 50,
      "outputs": []
    },
    {
      "cell_type": "code",
      "metadata": {
        "colab": {
          "base_uri": "https://localhost:8080/"
        },
        "id": "gmtUOreFALjD",
        "outputId": "3880690a-6f2f-4422-94ee-fcd284683e85"
      },
      "source": [
        "C3mean"
      ],
      "execution_count": 51,
      "outputs": [
        {
          "output_type": "execute_result",
          "data": {
            "text/plain": [
              "array([ 2.89050847, 23.11864407])"
            ]
          },
          "metadata": {
            "tags": []
          },
          "execution_count": 51
        }
      ]
    },
    {
      "cell_type": "code",
      "metadata": {
        "colab": {
          "base_uri": "https://localhost:8080/",
          "height": 282
        },
        "id": "aYzDsQAaANNV",
        "outputId": "54c7a3a8-e58f-4c96-da6f-99102edacc7c"
      },
      "source": [
        "color=['skyblue','salmon','greenyellow','gold']\r\n",
        "labels=['cluster1','cluster2','cluster3','cluster4','cluster5']\r\n",
        "plt.scatter(Cluster1[:,0],Cluster1[:,1],c=color[0],label=labels[0])\r\n",
        "plt.scatter(Cluster2[:,0],Cluster2[:,1],c=color[1],label=labels[1])\r\n",
        "plt.scatter(Cluster3[:,0],Cluster3[:,1],c=color[2],label=labels[2])\r\n",
        "\r\n",
        "plt.scatter(C1mean[0],C1mean[1],s=100,c='gray',label='Centroid1')\r\n",
        "plt.scatter(C2mean[0],C2mean[1],s=100,c='gray',label='Centroid2')\r\n",
        "plt.scatter(C3mean[0],C3mean[1],s=100,c='gray',label='Centroid3')\r\n",
        "\r\n",
        "\r\n",
        "plt.legend()\r\n",
        "#printed for one feature"
      ],
      "execution_count": 52,
      "outputs": [
        {
          "output_type": "execute_result",
          "data": {
            "text/plain": [
              "<matplotlib.legend.Legend at 0x7f0cc805b198>"
            ]
          },
          "metadata": {
            "tags": []
          },
          "execution_count": 52
        },
        {
          "output_type": "display_data",
          "data": {
            "image/png": "[encoded data removed]",
            "text/plain": [
              "<Figure size 432x288 with 1 Axes>"
            ]
          },
          "metadata": {
            "tags": [],
            "needs_background": "light"
          }
        }
      ]
    },
    {
      "cell_type": "code",
      "metadata": {
        "id": "ocEoNugR7AgY"
      },
      "source": [
        ""
      ],
      "execution_count": null,
      "outputs": []
    }
  ]
}